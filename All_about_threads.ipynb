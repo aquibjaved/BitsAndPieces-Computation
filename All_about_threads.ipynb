{
  "nbformat": 4,
  "nbformat_minor": 0,
  "metadata": {
    "colab": {
      "provenance": [],
      "authorship_tag": "ABX9TyMZxCVg9Y+Q3XVO9anthlCF",
      "include_colab_link": true
    },
    "kernelspec": {
      "name": "python3",
      "display_name": "Python 3"
    },
    "language_info": {
      "name": "python"
    }
  },
  "cells": [
    {
      "cell_type": "markdown",
      "metadata": {
        "id": "view-in-github",
        "colab_type": "text"
      },
      "source": [
        "<a href=\"https://colab.research.google.com/github/aquibjaved/Bits_and_Pieces_DL/blob/main/All_about_threads.ipynb\" target=\"_parent\"><img src=\"https://colab.research.google.com/assets/colab-badge.svg\" alt=\"Open In Colab\"/></a>"
      ]
    },
    {
      "cell_type": "code",
      "execution_count": 1,
      "metadata": {
        "id": "Mer9EyX4r4bk"
      },
      "outputs": [],
      "source": [
        "import threading\n",
        "import time\n"
      ]
    },
    {
      "cell_type": "code",
      "source": [
        "# Define the worker task\n",
        "def worker_task(done_event):\n",
        "    print(\"Worker: Starting task\")\n",
        "    time.sleep(5)  # Simulate a task taking some time to complete\n",
        "    print(\"Worker: Task completed\")\n",
        "    done_event.set()  # Signal that the task is done\n",
        "\n",
        "# Create an Event object to signal completion\n",
        "done_event = threading.Event()\n"
      ],
      "metadata": {
        "id": "kCDXicIFr8ov"
      },
      "execution_count": 6,
      "outputs": []
    },
    {
      "cell_type": "code",
      "source": [
        "\n",
        "# Create and start the worker thread\n",
        "worker_thread = threading.Thread(target=worker_task, args=(done_event,))\n",
        "worker_thread.start()\n",
        "\n",
        "# Wait for the worker thread to signal completion\n",
        "print(\"Main: Waiting for worker thread to complete\")\n",
        "done_event.wait()  # Block until the event is set by the worker thread\n",
        "print(\"Main: Worker thread has completed\")\n"
      ],
      "metadata": {
        "colab": {
          "base_uri": "https://localhost:8080/"
        },
        "id": "ILdr21w_sCTr",
        "outputId": "7d5bc580-aca7-4b48-e676-81155f41e7e4"
      },
      "execution_count": 7,
      "outputs": [
        {
          "output_type": "stream",
          "name": "stdout",
          "text": [
            "Worker: Starting taskMain: Waiting for worker thread to complete\n",
            "\n",
            "Worker: Task completed\n",
            "Main: Worker thread has completed\n"
          ]
        }
      ]
    },
    {
      "cell_type": "code",
      "source": [
        "import concurrent.futures\n",
        "import time"
      ],
      "metadata": {
        "id": "J7KL_zrPskZI"
      },
      "execution_count": 8,
      "outputs": []
    },
    {
      "cell_type": "code",
      "source": [
        "# Define two worker tasks, each doing something different\n",
        "def task1():\n",
        "    time.sleep(2)  # Simulate a task taking some time\n",
        "    return \"Task 1 completed\"\n",
        "\n",
        "def task2():\n",
        "    time.sleep(3)  # Simulate a task taking slightly longer\n",
        "    return \"Task 2 completed\""
      ],
      "metadata": {
        "id": "zZhYtWNBstg0"
      },
      "execution_count": 10,
      "outputs": []
    },
    {
      "cell_type": "code",
      "source": [
        "# Use ThreadPoolExecutor to manage worker threads\n",
        "with concurrent.futures.ThreadPoolExecutor(max_workers=2) as executor:\n",
        "    # Submit both tasks to the executor\n",
        "    future_to_task = {executor.submit(task): task.__name__ for task in [task1, task2]}\n",
        "\n",
        "    # Wait for the first task to complete\n",
        "    done, not_done = concurrent.futures.wait(future_to_task.keys(), return_when=concurrent.futures.FIRST_COMPLETED)\n",
        "\n",
        "    # Process completed task\n",
        "    for future in done:\n",
        "        task_name = future_to_task[future]\n",
        "        result = future.result()\n",
        "        print(f\"{task_name} finished with result: {result}\")\n",
        "\n",
        "    # Optionally, cancel all other tasks that are not done\n",
        "    for future in not_done:\n",
        "        future.cancel()\n"
      ],
      "metadata": {
        "colab": {
          "base_uri": "https://localhost:8080/"
        },
        "id": "kTATNi_XsF7r",
        "outputId": "21073d2a-0784-4850-b072-98fb6daa54b9"
      },
      "execution_count": 11,
      "outputs": [
        {
          "output_type": "stream",
          "name": "stdout",
          "text": [
            "task1 finished with result: Task 1 completed\n"
          ]
        }
      ]
    },
    {
      "cell_type": "code",
      "source": [],
      "metadata": {
        "id": "sDqOAZvKslQ4"
      },
      "execution_count": null,
      "outputs": []
    }
  ]
}