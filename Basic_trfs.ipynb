{
  "nbformat": 4,
  "nbformat_minor": 0,
  "metadata": {
    "colab": {
      "provenance": [],
      "machine_shape": "hm",
      "authorship_tag": "ABX9TyPWiMrh9n5AfEgx6AqQVQHk",
      "include_colab_link": true
    },
    "kernelspec": {
      "name": "python3",
      "display_name": "Python 3"
    },
    "language_info": {
      "name": "python"
    }
  },
  "cells": [
    {
      "cell_type": "markdown",
      "metadata": {
        "id": "view-in-github",
        "colab_type": "text"
      },
      "source": [
        "<a href=\"https://colab.research.google.com/github/aquibjaved/Bits_and_Pieces_DL/blob/tinytransformer/Basic_trfs.ipynb\" target=\"_parent\"><img src=\"https://colab.research.google.com/assets/colab-badge.svg\" alt=\"Open In Colab\"/></a>"
      ]
    },
    {
      "cell_type": "code",
      "source": [
        "!pip install transformers datasets tokenizers"
      ],
      "metadata": {
        "colab": {
          "base_uri": "https://localhost:8080/"
        },
        "id": "y1w1B9d2OLyX",
        "outputId": "920059a0-a7c0-45d7-f9df-3a92379cef3c"
      },
      "execution_count": 46,
      "outputs": [
        {
          "output_type": "stream",
          "name": "stdout",
          "text": [
            "Requirement already satisfied: transformers in /usr/local/lib/python3.10/dist-packages (4.35.0)\n",
            "Requirement already satisfied: datasets in /usr/local/lib/python3.10/dist-packages (2.14.6)\n",
            "Requirement already satisfied: tokenizers in /usr/local/lib/python3.10/dist-packages (0.14.1)\n",
            "Requirement already satisfied: filelock in /usr/local/lib/python3.10/dist-packages (from transformers) (3.12.4)\n",
            "Requirement already satisfied: huggingface-hub<1.0,>=0.16.4 in /usr/local/lib/python3.10/dist-packages (from transformers) (0.17.3)\n",
            "Requirement already satisfied: numpy>=1.17 in /usr/local/lib/python3.10/dist-packages (from transformers) (1.23.5)\n",
            "Requirement already satisfied: packaging>=20.0 in /usr/local/lib/python3.10/dist-packages (from transformers) (23.2)\n",
            "Requirement already satisfied: pyyaml>=5.1 in /usr/local/lib/python3.10/dist-packages (from transformers) (6.0.1)\n",
            "Requirement already satisfied: regex!=2019.12.17 in /usr/local/lib/python3.10/dist-packages (from transformers) (2023.6.3)\n",
            "Requirement already satisfied: requests in /usr/local/lib/python3.10/dist-packages (from transformers) (2.31.0)\n",
            "Requirement already satisfied: safetensors>=0.3.1 in /usr/local/lib/python3.10/dist-packages (from transformers) (0.4.0)\n",
            "Requirement already satisfied: tqdm>=4.27 in /usr/local/lib/python3.10/dist-packages (from transformers) (4.66.1)\n",
            "Requirement already satisfied: pyarrow>=8.0.0 in /usr/local/lib/python3.10/dist-packages (from datasets) (9.0.0)\n",
            "Requirement already satisfied: dill<0.3.8,>=0.3.0 in /usr/local/lib/python3.10/dist-packages (from datasets) (0.3.7)\n",
            "Requirement already satisfied: pandas in /usr/local/lib/python3.10/dist-packages (from datasets) (1.5.3)\n",
            "Requirement already satisfied: xxhash in /usr/local/lib/python3.10/dist-packages (from datasets) (3.4.1)\n",
            "Requirement already satisfied: multiprocess in /usr/local/lib/python3.10/dist-packages (from datasets) (0.70.15)\n",
            "Requirement already satisfied: fsspec[http]<=2023.10.0,>=2023.1.0 in /usr/local/lib/python3.10/dist-packages (from datasets) (2023.6.0)\n",
            "Requirement already satisfied: aiohttp in /usr/local/lib/python3.10/dist-packages (from datasets) (3.8.6)\n",
            "Requirement already satisfied: attrs>=17.3.0 in /usr/local/lib/python3.10/dist-packages (from aiohttp->datasets) (23.1.0)\n",
            "Requirement already satisfied: charset-normalizer<4.0,>=2.0 in /usr/local/lib/python3.10/dist-packages (from aiohttp->datasets) (3.3.1)\n",
            "Requirement already satisfied: multidict<7.0,>=4.5 in /usr/local/lib/python3.10/dist-packages (from aiohttp->datasets) (6.0.4)\n",
            "Requirement already satisfied: async-timeout<5.0,>=4.0.0a3 in /usr/local/lib/python3.10/dist-packages (from aiohttp->datasets) (4.0.3)\n",
            "Requirement already satisfied: yarl<2.0,>=1.0 in /usr/local/lib/python3.10/dist-packages (from aiohttp->datasets) (1.9.2)\n",
            "Requirement already satisfied: frozenlist>=1.1.1 in /usr/local/lib/python3.10/dist-packages (from aiohttp->datasets) (1.4.0)\n",
            "Requirement already satisfied: aiosignal>=1.1.2 in /usr/local/lib/python3.10/dist-packages (from aiohttp->datasets) (1.3.1)\n",
            "Requirement already satisfied: typing-extensions>=3.7.4.3 in /usr/local/lib/python3.10/dist-packages (from huggingface-hub<1.0,>=0.16.4->transformers) (4.5.0)\n",
            "Requirement already satisfied: idna<4,>=2.5 in /usr/local/lib/python3.10/dist-packages (from requests->transformers) (3.4)\n",
            "Requirement already satisfied: urllib3<3,>=1.21.1 in /usr/local/lib/python3.10/dist-packages (from requests->transformers) (2.0.7)\n",
            "Requirement already satisfied: certifi>=2017.4.17 in /usr/local/lib/python3.10/dist-packages (from requests->transformers) (2023.7.22)\n",
            "Requirement already satisfied: python-dateutil>=2.8.1 in /usr/local/lib/python3.10/dist-packages (from pandas->datasets) (2.8.2)\n",
            "Requirement already satisfied: pytz>=2020.1 in /usr/local/lib/python3.10/dist-packages (from pandas->datasets) (2023.3.post1)\n",
            "Requirement already satisfied: six>=1.5 in /usr/local/lib/python3.10/dist-packages (from python-dateutil>=2.8.1->pandas->datasets) (1.16.0)\n"
          ]
        }
      ]
    },
    {
      "cell_type": "code",
      "execution_count": 3,
      "metadata": {
        "id": "qeKuGzoe6vaj"
      },
      "outputs": [],
      "source": [
        "import torch\n",
        "import torch.nn as nn\n",
        "import math\n",
        "\n",
        "from datasets import load_dataset\n",
        "from transformers import AutoTokenizer\n",
        "from torch.utils.data import DataLoader"
      ]
    },
    {
      "cell_type": "code",
      "source": [
        "class InputEmbeddings(nn.Module):\n",
        "  def __init__(self, model_dim:int=512, vocab_size:int=30000):\n",
        "    super().__init__()\n",
        "\n",
        "    self.model_dim = model_dim\n",
        "    self.vocab_size = vocab_size\n",
        "\n",
        "    self.embedding = nn.Embedding(num_embeddings=self.vocab_size, embedding_dim=self.model_dim)\n",
        "\n",
        "  def forward(self, x):\n",
        "    return self.embedding(x) * math.sqrt(self.model_dim)\n"
      ],
      "metadata": {
        "id": "4RHJChIB6--C"
      },
      "execution_count": 4,
      "outputs": []
    },
    {
      "cell_type": "code",
      "source": [
        "class PositionalEncoding(nn.Module):\n",
        "  def __init__(self, model_dim:int, seq_len:int, dropout:float):\n",
        "    super().__init__()\n",
        "\n",
        "    self.model_dim = model_dim\n",
        "    self.seq_len= seq_len # max len of doc\n",
        "    self.dropout = nn.Dropout(dropout)\n",
        "\n",
        "    # create matrix of shape (seq, model_dim) => (512, 512)\n",
        "    pe = torch.zeros(seq_len, model_dim)\n",
        "\n",
        "    # create a vector for seq_len\n",
        "    position = torch.arange(0, self.seq_len, dtype=torch.float).unsqueeze(1)\n",
        "    div_term = torch.exp(torch.arange(0, model_dim, 2).float() * (-math.log(10000.0)/self.model_dim))\n",
        "    pe[:, 0::2] = torch.sin(position * div_term)\n",
        "    pe[:, 1::2] = torch.cos(position * div_term)\n",
        "\n",
        "    pe = pe.unsqueeze(0)\n",
        "\n",
        "    self.register_buffer('pe', pe)\n",
        "\n",
        "  def forward(self, x):\n",
        "    x = x + (self.pe[:, :x.shape[1], :]).requires_grad_(False)\n",
        "    return self.dropout(x)"
      ],
      "metadata": {
        "id": "I3NuF9ev9E8G"
      },
      "execution_count": 5,
      "outputs": []
    },
    {
      "cell_type": "code",
      "source": [
        "PE = PositionalEncoding(model_dim=512, seq_len=512, dropout=0.0)"
      ],
      "metadata": {
        "id": "xXels8NBCFTy"
      },
      "execution_count": 6,
      "outputs": []
    },
    {
      "cell_type": "code",
      "source": [
        "class LayerNormalization(nn.Module):\n",
        "  def __init__(self, eps: float=10**-6):\n",
        "    super().__init__()\n",
        "    self.eps = eps\n",
        "    self.alpha = nn.Parameter(torch.ones(1))\n",
        "    self.bias = nn.Parameter(torch.zeros(1))\n",
        "\n",
        "  def forward(self, x):\n",
        "    mean = x.mean(dim = -1, keepdim=True)\n",
        "    std = x.std(dim = -1, keepdim=True)\n",
        "\n",
        "    return self.alpha * (x-mean)/(std+self.eps) + self.bias\n"
      ],
      "metadata": {
        "id": "95IlOfprDuYA"
      },
      "execution_count": 11,
      "outputs": []
    },
    {
      "cell_type": "code",
      "source": [
        "torch.zeros(1)"
      ],
      "metadata": {
        "colab": {
          "base_uri": "https://localhost:8080/"
        },
        "id": "qt5xI_9-HfrG",
        "outputId": "8b879eb4-ceb0-4459-e1da-f14579cef2c1"
      },
      "execution_count": 12,
      "outputs": [
        {
          "output_type": "execute_result",
          "data": {
            "text/plain": [
              "tensor([0.])"
            ]
          },
          "metadata": {},
          "execution_count": 12
        }
      ]
    },
    {
      "cell_type": "code",
      "source": [
        "class FeedForwardBlock(nn.Module):\n",
        "  def __init__(self, model_dim:int, d_ff:int, dropout:float):\n",
        "    super().__init__()\n",
        "\n",
        "    self.d_ff = d_ff\n",
        "    self.linear_one = nn.Linear(model_dim, self.d_ff)\n",
        "    self.dropout = nn.Dropout(dropout)\n",
        "    self.linear_out = nn.Linear(self.d_ff, model_dim)\n",
        "\n",
        "\n",
        "  def forward(self, x):\n",
        "    # (batch_size, max_seq_len, model_dim)\n",
        "\n",
        "    return self.linear_out(self.dropout(torch.relu(self.linear_one(x))))\n"
      ],
      "metadata": {
        "id": "vGkl1stsHf-d"
      },
      "execution_count": 226,
      "outputs": []
    },
    {
      "cell_type": "code",
      "source": [
        "class ResidualConnection(nn.Module):\n",
        "\n",
        "        def __init__(self, features: int, dropout: float) -> None:\n",
        "            super().__init__()\n",
        "            self.dropout = nn.Dropout(dropout)\n",
        "            self.norm = LayerNormalization(features)\n",
        "\n",
        "        def forward(self, x, sublayer):\n",
        "            return x + self.dropout(sublayer(self.norm(x)))"
      ],
      "metadata": {
        "id": "_3yFI-DnaxPy"
      },
      "execution_count": 227,
      "outputs": []
    },
    {
      "cell_type": "code",
      "source": [
        "class MultiHeadAttentionBlock(nn.Module):\n",
        "  def __init__(self, h:int=8, model_dim:int=512, dropout:float=0.1):\n",
        "    super().__init__()\n",
        "\n",
        "    self.model_dim = model_dim\n",
        "    self.h = h\n",
        "    self.dropout = nn.Dropout(dropout)\n",
        "\n",
        "    assert model_dim % h == 0\n",
        "    self.d_k = model_dim//h\n",
        "\n",
        "    # now get the weights of query, key, value\n",
        "    self.w_q = nn.Linear(model_dim, model_dim)\n",
        "    self.w_k = nn.Linear(model_dim, model_dim)\n",
        "    self.w_v = nn.Linear(model_dim, model_dim)\n",
        "\n",
        "    self.w_o = nn.Linear(model_dim, model_dim)\n",
        "\n",
        "    self.dropout = nn.Dropout(dropout)\n",
        "\n",
        "  @staticmethod\n",
        "  def attention(query, key, value, mask, dropout: nn.Dropout):\n",
        "    d_k = query.shape[-1]\n",
        "    # Just apply the formula from the paper\n",
        "    # (batch, h, seq_len, d_k) --> (batch, h, seq_len, seq_len)\n",
        "    attention_scores = (query @ key.transpose(-2, -1)) / math.sqrt(d_k)\n",
        "    if mask is not None:\n",
        "        # Write a very low value (indicating -inf) to the positions where mask == 0\n",
        "        attention_scores.masked_fill_(mask == 0, -1e9)\n",
        "\n",
        "    attention_scores = attention_scores.softmax(dim=-1) # (batch, h, seq_len, seq_len) # Apply softmax\n",
        "\n",
        "    if dropout is not None:\n",
        "        attention_scores = dropout(attention_scores)\n",
        "    # (batch, h, seq_len, seq_len) --> (batch, h, seq_len, d_k)\n",
        "    # return attention scores which can be used for visualization\n",
        "    return (attention_scores @ value), attention_scores\n",
        "\n",
        "  def forward(self, q, k, v, mask):\n",
        "\n",
        "    query = self.w_q(q)\n",
        "    key = self.w_k(k)\n",
        "    value = self.w_v(v)\n",
        "\n",
        "    query = query.view(query.shape[0], query.shape[1], self.h, self.d_k).transpose(1,2)\n",
        "    key = value.view(key.shape[0], key.shape[1], self.h, self.d_k).transpose(1,2)\n",
        "    value = value.view(value.shape[0], value.shape[1], self.h, self.d_k).transpose(1,2)\n",
        "\n",
        "    # calculate attention\n",
        "    x, self.attention_score = MultiHeadAttentionBlock.attention(query, key, value, mask, self.dropout)\n",
        "\n",
        "    # (batch, h, seq_len, d_k) --> (batch, seq_len, h, d_k) --> (batch, seq_len, model_dim)\n",
        "    x = x.transpose(1, 2).contiguous().view(x.shape[0], -1, self.h * self.d_k)\n",
        "\n",
        "    # Multiply by Wo\n",
        "    # (batch, seq_len, model_dim) --> (batch, seq_len, model_dim)\n",
        "    return self.w_o(x)"
      ],
      "metadata": {
        "id": "_OQrbkBIRoyo"
      },
      "execution_count": 228,
      "outputs": []
    },
    {
      "cell_type": "code",
      "source": [],
      "metadata": {
        "id": "WpNhTdUbIMbR"
      },
      "execution_count": 228,
      "outputs": []
    },
    {
      "cell_type": "code",
      "source": [
        "class EncoderBlock(nn.Module):\n",
        "\n",
        "    def __init__(self, features: int, self_attention_block: MultiHeadAttentionBlock, feed_forward_block: FeedForwardBlock, dropout: float) -> None:\n",
        "        super().__init__()\n",
        "        self.self_attention_block = self_attention_block\n",
        "        self.feed_forward_block = feed_forward_block\n",
        "        self.residual_connections = nn.ModuleList([ResidualConnection(features, dropout) for _ in range(2)])\n",
        "\n",
        "    def forward(self, x, src_mask):\n",
        "        x = self.residual_connections[0](x, lambda x: self.self_attention_block(x, x, x, src_mask))\n",
        "        x = self.residual_connections[1](x, self.feed_forward_block)\n",
        "        return x"
      ],
      "metadata": {
        "id": "ZCKpNaLCayku"
      },
      "execution_count": 229,
      "outputs": []
    },
    {
      "cell_type": "code",
      "source": [
        "class Encoder(nn.Module):\n",
        "  def __init__(self, features:int, layers:nn.ModuleList):\n",
        "    super().__init__()\n",
        "    self.layers = layers\n",
        "    self.norm = LayerNormalization(features)\n",
        "\n",
        "  def forward(self, x, mask):\n",
        "    for layer in self.layers:\n",
        "      x = layer(x, mask)\n",
        "    return self.norm(x)"
      ],
      "metadata": {
        "id": "txK9eucEcduJ"
      },
      "execution_count": 250,
      "outputs": []
    },
    {
      "cell_type": "code",
      "source": [
        "class DecoderBlock(nn.Module):\n",
        "\n",
        "    def __init__(self, features: int, self_attention_block: MultiHeadAttentionBlock, cross_attention_block: MultiHeadAttentionBlock, feed_forward_block: FeedForwardBlock, dropout: float) -> None:\n",
        "        super().__init__()\n",
        "        self.self_attention_block = self_attention_block\n",
        "        self.cross_attention_block = cross_attention_block\n",
        "        self.feed_forward_block = feed_forward_block\n",
        "        self.residual_connections = nn.ModuleList([ResidualConnection(features, dropout) for _ in range(3)])\n",
        "\n",
        "    def forward(self, x, encoder_output, src_mask, tgt_mask):\n",
        "        x = self.residual_connections[0](x, lambda x: self.self_attention_block(x, x, x, tgt_mask))\n",
        "        x = self.residual_connections[1](x, lambda x: self.cross_attention_block(x, encoder_output, encoder_output, src_mask))\n",
        "        x = self.residual_connections[2](x, self.feed_forward_block)\n",
        "        return x"
      ],
      "metadata": {
        "id": "kOwUcpp4eAV4"
      },
      "execution_count": 251,
      "outputs": []
    },
    {
      "cell_type": "code",
      "source": [
        "class Decoder(nn.Module):\n",
        "\n",
        "    def __init__(self, features: int, layers: nn.ModuleList) -> None:\n",
        "        super().__init__()\n",
        "        self.layers = layers\n",
        "        self.norm = LayerNormalization(features)\n",
        "\n",
        "    def forward(self, x, encoder_output, src_mask, tgt_mask):\n",
        "        for layer in self.layers:\n",
        "            x = layer(x, encoder_output, src_mask, tgt_mask)\n",
        "        return self.norm(x)"
      ],
      "metadata": {
        "id": "sh3ikEXbfsfC"
      },
      "execution_count": 252,
      "outputs": []
    },
    {
      "cell_type": "code",
      "source": [
        "class ProjectionLayer(nn.Module):\n",
        "  def __init__(self, model_dims:int, vocab_size:int):\n",
        "    super().__init__()\n",
        "\n",
        "    self.model_dims = model_dims\n",
        "    self.vocab_size = vocab_size\n",
        "\n",
        "    self.proj = nn.Linear(self.model_dims, self.vocab_size)\n",
        "\n",
        "  def forward(self, x):\n",
        "    return torch.log_softmax(self.proj(x), dim =-1)"
      ],
      "metadata": {
        "id": "sQm7UbNmetPd"
      },
      "execution_count": 253,
      "outputs": []
    },
    {
      "cell_type": "code",
      "source": [
        "class Transformer(nn.Module):\n",
        "\n",
        "    def __init__(self, encoder: Encoder, decoder: Decoder, src_embed: InputEmbeddings, tgt_embed: InputEmbeddings, src_pos: PositionalEncoding, tgt_pos: PositionalEncoding, projection_layer: ProjectionLayer) -> None:\n",
        "        super().__init__()\n",
        "        self.encoder = encoder\n",
        "        self.decoder = decoder\n",
        "        self.src_embed = src_embed\n",
        "        self.tgt_embed = tgt_embed\n",
        "        self.src_pos = src_pos\n",
        "        self.tgt_pos = tgt_pos\n",
        "        self.projection_layer = projection_layer\n",
        "\n",
        "    def encode(self, src, src_mask):\n",
        "        # (batch, seq_len, model_dim)\n",
        "        src = self.src_embed(src)\n",
        "        src = self.src_pos(src)\n",
        "        return self.encoder(src, src_mask)\n",
        "\n",
        "    def decode(self, encoder_output: torch.Tensor, src_mask: torch.Tensor, tgt: torch.Tensor, tgt_mask: torch.Tensor):\n",
        "        # (batch, seq_len, model_dim)\n",
        "        tgt = self.tgt_embed(tgt)\n",
        "        tgt = self.tgt_pos(tgt)\n",
        "        return self.decoder(tgt, encoder_output, src_mask, tgt_mask)\n",
        "\n",
        "    def project(self, x):\n",
        "        # (batch, seq_len, vocab_size)\n",
        "        return self.projection_layer(x)\n",
        "\n",
        "\n"
      ],
      "metadata": {
        "id": "dQcmOUZqfaAO"
      },
      "execution_count": 254,
      "outputs": []
    },
    {
      "cell_type": "code",
      "source": [],
      "metadata": {
        "id": "UFF--94bIJ5J"
      },
      "execution_count": 254,
      "outputs": []
    },
    {
      "cell_type": "code",
      "source": [
        "def build_transformer(src_vocab_size: int, tgt_vocab_size: int, src_seq_len: int, tgt_seq_len: int, model_dim: int=512, N: int=6, h: int=8, dropout: float=0.1, d_ff: int=2048) -> Transformer:\n",
        "    # Create the embedding layers\n",
        "    src_embed = InputEmbeddings(model_dim, src_vocab_size)\n",
        "    tgt_embed = InputEmbeddings(model_dim, tgt_vocab_size)\n",
        "\n",
        "    # Create the positional encoding layers\n",
        "    src_pos = PositionalEncoding(model_dim, src_seq_len, dropout)\n",
        "    tgt_pos = PositionalEncoding(model_dim, tgt_seq_len, dropout)\n",
        "\n",
        "    # Create the encoder blocks\n",
        "    encoder_blocks = []\n",
        "    for _ in range(N):\n",
        "        encoder_self_attention_block = MultiHeadAttentionBlock(model_dim, h, dropout)\n",
        "        feed_forward_block = FeedForwardBlock(model_dim, d_ff, dropout)\n",
        "        encoder_block = EncoderBlock(model_dim, encoder_self_attention_block, feed_forward_block, dropout)\n",
        "        encoder_blocks.append(encoder_block)\n",
        "\n",
        "    # Create the decoder blocks\n",
        "    decoder_blocks = []\n",
        "    for _ in range(N):\n",
        "        decoder_self_attention_block = MultiHeadAttentionBlock(model_dim, h, dropout)\n",
        "        decoder_cross_attention_block = MultiHeadAttentionBlock(model_dim, h, dropout)\n",
        "        feed_forward_block = FeedForwardBlock(model_dim, d_ff, dropout)\n",
        "        decoder_block = DecoderBlock(model_dim, decoder_self_attention_block, decoder_cross_attention_block, feed_forward_block, dropout)\n",
        "        decoder_blocks.append(decoder_block)\n",
        "\n",
        "    # Create the encoder and decoder\n",
        "    encoder = Encoder(model_dim, nn.ModuleList(encoder_blocks))\n",
        "    decoder = Decoder(model_dim, nn.ModuleList(decoder_blocks))\n",
        "\n",
        "    # Create the projection layer\n",
        "    projection_layer = ProjectionLayer(model_dim, tgt_vocab_size)\n",
        "\n",
        "    # Create the transformer\n",
        "    transformer = Transformer(encoder, decoder, src_embed, tgt_embed, src_pos, tgt_pos, projection_layer)\n",
        "\n",
        "    # Initialize the parameters\n",
        "    for p in transformer.parameters():\n",
        "        if p.dim() > 1:\n",
        "            nn.init.xavier_uniform_(p)\n",
        "\n",
        "    return transformer"
      ],
      "metadata": {
        "id": "W-zJiDD5fuwz"
      },
      "execution_count": 255,
      "outputs": []
    },
    {
      "cell_type": "code",
      "source": [
        "model_dim = 512\n",
        "src_vocab_size = 30522\n",
        "tgt_vocab_size = 30522\n",
        "src_seq_len = 512\n",
        "tgt_seq_len = 512\n",
        "dropout = 0.1\n",
        "h = 8\n",
        "N = 6\n",
        "d_ff = 2048"
      ],
      "metadata": {
        "id": "76QK4s4XGmu0"
      },
      "execution_count": 256,
      "outputs": []
    },
    {
      "cell_type": "code",
      "source": [
        "\n",
        "\n",
        "src_embed = InputEmbeddings(model_dim, src_vocab_size)\n",
        "tgt_embed = InputEmbeddings(model_dim, tgt_vocab_size)\n",
        "\n",
        "# Create the positional encoding layers\n",
        "src_pos = PositionalEncoding(model_dim, src_seq_len, dropout)\n",
        "tgt_pos = PositionalEncoding(model_dim, tgt_seq_len, dropout)\n",
        "\n",
        "\n",
        "# Create the encoder blocks\n",
        "encoder_blocks = []\n",
        "for _ in range(N):\n",
        "    encoder_self_attention_block = MultiHeadAttentionBlock(h, model_dim, dropout)\n",
        "    feed_forward_block = FeedForwardBlock(model_dim, d_ff, dropout)\n",
        "    encoder_block = EncoderBlock(model_dim, encoder_self_attention_block, feed_forward_block, dropout)\n",
        "    encoder_blocks.append(encoder_block)\n",
        "\n",
        "\n",
        "# Create the decoder blocks\n",
        "decoder_blocks = []\n",
        "for _ in range(N):\n",
        "    decoder_self_attention_block = MultiHeadAttentionBlock(h, model_dim, dropout)\n",
        "    decoder_cross_attention_block = MultiHeadAttentionBlock(h, model_dim, dropout)\n",
        "    feed_forward_block = FeedForwardBlock(model_dim, d_ff, dropout)\n",
        "    decoder_block = DecoderBlock(model_dim, decoder_self_attention_block, decoder_cross_attention_block, feed_forward_block, dropout)\n",
        "    decoder_blocks.append(decoder_block)\n",
        "\n",
        "\n",
        "# Create the encoder and decoder\n",
        "encoder = Encoder(model_dim, nn.ModuleList(encoder_blocks))\n",
        "decoder = Decoder(model_dim, nn.ModuleList(decoder_blocks))\n",
        "\n",
        "\n",
        "\n",
        "# Create the projection layer\n",
        "projection_layer = ProjectionLayer(model_dim, tgt_vocab_size)\n",
        "\n",
        "# Create the transformer\n",
        "transformer = Transformer(encoder, decoder, src_embed, tgt_embed, src_pos, tgt_pos, projection_layer)\n"
      ],
      "metadata": {
        "id": "dFSgeS2cE3pX"
      },
      "execution_count": 257,
      "outputs": []
    },
    {
      "cell_type": "code",
      "source": [
        "from datasets import load_dataset\n",
        "\n",
        "dataset = load_dataset(\"findnitai/english-to-hinglish\", split=\"train\")"
      ],
      "metadata": {
        "id": "vM6IAto6IRdm"
      },
      "execution_count": 258,
      "outputs": []
    },
    {
      "cell_type": "code",
      "source": [
        "dataset['translation'][0]"
      ],
      "metadata": {
        "colab": {
          "base_uri": "https://localhost:8080/"
        },
        "id": "7bnHFXrZlr57",
        "outputId": "33015f83-6a70-44fb-e24a-905b0ea5fbc2"
      },
      "execution_count": 259,
      "outputs": [
        {
          "output_type": "execute_result",
          "data": {
            "text/plain": [
              "{'en': \"What's the name of the movie\",\n",
              " 'hi_ng': 'film ka kya naam hai',\n",
              " 'source': 1}"
            ]
          },
          "metadata": {},
          "execution_count": 259
        }
      ]
    },
    {
      "cell_type": "code",
      "source": [
        "import torch\n",
        "from torch.utils.data import Dataset\n",
        "from transformers import AutoTokenizer\n",
        "\n",
        "class BilingualDataset(Dataset):\n",
        "\n",
        "    def __init__(self, ds, model_name_src, model_name_tgt, src_lang, tgt_lang, seq_len):\n",
        "        super().__init__()\n",
        "        self.seq_len = seq_len\n",
        "\n",
        "        self.ds = ds\n",
        "        # Load the tokenizers\n",
        "        self.tokenizer_src = AutoTokenizer.from_pretrained(model_name_src)\n",
        "        self.tokenizer_tgt = AutoTokenizer.from_pretrained(model_name_tgt)\n",
        "        self.src_lang = src_lang\n",
        "        self.tgt_lang = tgt_lang\n",
        "\n",
        "        # Assuming that [SOS] and [EOS] tokens are already in the tokenizer's vocabulary\n",
        "        self.sos_token_id = self.tokenizer_tgt.convert_tokens_to_ids('[SOS]')\n",
        "        self.eos_token_id = self.tokenizer_tgt.convert_tokens_to_ids('[EOS]')\n",
        "        self.pad_token_id = self.tokenizer_tgt.pad_token_id\n",
        "\n",
        "    def __len__(self):\n",
        "        return len(self.ds)\n",
        "\n",
        "    def __getitem__(self, idx):\n",
        "        src_target_pair = self.ds[idx]\n",
        "        src_text = src_target_pair['translation'][self.src_lang]\n",
        "        tgt_text = src_target_pair['translation'][self.tgt_lang]\n",
        "\n",
        "        # Encode the texts\n",
        "        encoder_input = self.tokenizer_src.encode(src_text, max_length=self.seq_len, padding='max_length', truncation=True)\n",
        "        decoder_input = [self.sos_token_id] + self.tokenizer_tgt.encode(tgt_text, max_length=self.seq_len - 1, truncation=True)\n",
        "\n",
        "        # Create the label by shifting the decoder_input and adding [EOS] token\n",
        "        label = decoder_input[1:] + [self.eos_token_id]\n",
        "\n",
        "        # Ensure the length is seq_len\n",
        "        decoder_input = decoder_input + [self.pad_token_id] * (self.seq_len - len(decoder_input))\n",
        "        label = label + [self.pad_token_id] * (self.seq_len - len(label))\n",
        "\n",
        "        encoder_input = torch.tensor(encoder_input, dtype=torch.long)\n",
        "        decoder_input = torch.tensor(decoder_input, dtype=torch.long)\n",
        "        label = torch.tensor(label, dtype=torch.long)\n",
        "\n",
        "        return {\n",
        "            \"encoder_input\": encoder_input,\n",
        "            \"encoder_mask\": (encoder_input != self.pad_token_id).unsqueeze(0).unsqueeze(0).int(),\n",
        "\n",
        "            \"decoder_input\": decoder_input,\n",
        "            \"decoder_mask\": (decoder_input != self.pad_token_id).unsqueeze(0).int() & causal_mask(decoder_input.size(0)), # (1, seq_len) & (1, seq_len, seq_len),\n",
        "\n",
        "            \"label\": label,\n",
        "            \"src_text\": src_text,\n",
        "            \"tgt_text\": tgt_text,\n",
        "        }\n",
        "\n",
        "# Function to create the causal mask for the decoder\n",
        "def causal_mask(size):\n",
        "    mask = torch.triu(torch.ones((1, size, size)), diagonal=1).bool()\n",
        "    return ~mask\n"
      ],
      "metadata": {
        "id": "KCLvUz_PPbdm"
      },
      "execution_count": 260,
      "outputs": []
    },
    {
      "cell_type": "code",
      "source": [
        "from transformers import AutoTokenizer\n",
        "\n",
        "# Load the pre-trained tokenizer\n",
        "tokenizer = AutoTokenizer.from_pretrained(\"bert-base-uncased\")"
      ],
      "metadata": {
        "id": "GUyDZE0LnapB"
      },
      "execution_count": 261,
      "outputs": []
    },
    {
      "cell_type": "code",
      "source": [
        "hinglish_ds = BilingualDataset(ds=dataset, model_name_src=\"bert-base-uncased\", model_name_tgt=\"bert-base-uncased\", src_lang=\"en\", tgt_lang=\"hi_ng\", seq_len=512)"
      ],
      "metadata": {
        "id": "iPmd-73oOkih"
      },
      "execution_count": 262,
      "outputs": []
    },
    {
      "cell_type": "code",
      "source": [
        "hinglish_dataloader = DataLoader(hinglish_ds, batch_size=4)"
      ],
      "metadata": {
        "id": "85flFFK6nE3j"
      },
      "execution_count": 263,
      "outputs": []
    },
    {
      "cell_type": "code",
      "source": [
        "data = {}\n",
        "for batch in hinglish_dataloader:\n",
        "  data = batch\n",
        "  break"
      ],
      "metadata": {
        "id": "PFkFyVitpfw4"
      },
      "execution_count": 264,
      "outputs": []
    },
    {
      "cell_type": "code",
      "source": [
        "data.get('encoder_input')[0]"
      ],
      "metadata": {
        "colab": {
          "base_uri": "https://localhost:8080/"
        },
        "id": "2evzxjPwAkXJ",
        "outputId": "cdb193bc-11fe-45f9-ce94-a7aee41831fb"
      },
      "execution_count": 265,
      "outputs": [
        {
          "output_type": "execute_result",
          "data": {
            "text/plain": [
              "tensor([ 101, 2054, 1005, 1055, 1996, 2171, 1997, 1996, 3185,  102,    0,    0,\n",
              "           0,    0,    0,    0,    0,    0,    0,    0,    0,    0,    0,    0,\n",
              "           0,    0,    0,    0,    0,    0,    0,    0,    0,    0,    0,    0,\n",
              "           0,    0,    0,    0,    0,    0,    0,    0,    0,    0,    0,    0,\n",
              "           0,    0,    0,    0,    0,    0,    0,    0,    0,    0,    0,    0,\n",
              "           0,    0,    0,    0,    0,    0,    0,    0,    0,    0,    0,    0,\n",
              "           0,    0,    0,    0,    0,    0,    0,    0,    0,    0,    0,    0,\n",
              "           0,    0,    0,    0,    0,    0,    0,    0,    0,    0,    0,    0,\n",
              "           0,    0,    0,    0,    0,    0,    0,    0,    0,    0,    0,    0,\n",
              "           0,    0,    0,    0,    0,    0,    0,    0,    0,    0,    0,    0,\n",
              "           0,    0,    0,    0,    0,    0,    0,    0,    0,    0,    0,    0,\n",
              "           0,    0,    0,    0,    0,    0,    0,    0,    0,    0,    0,    0,\n",
              "           0,    0,    0,    0,    0,    0,    0,    0,    0,    0,    0,    0,\n",
              "           0,    0,    0,    0,    0,    0,    0,    0,    0,    0,    0,    0,\n",
              "           0,    0,    0,    0,    0,    0,    0,    0,    0,    0,    0,    0,\n",
              "           0,    0,    0,    0,    0,    0,    0,    0,    0,    0,    0,    0,\n",
              "           0,    0,    0,    0,    0,    0,    0,    0,    0,    0,    0,    0,\n",
              "           0,    0,    0,    0,    0,    0,    0,    0,    0,    0,    0,    0,\n",
              "           0,    0,    0,    0,    0,    0,    0,    0,    0,    0,    0,    0,\n",
              "           0,    0,    0,    0,    0,    0,    0,    0,    0,    0,    0,    0,\n",
              "           0,    0,    0,    0,    0,    0,    0,    0,    0,    0,    0,    0,\n",
              "           0,    0,    0,    0,    0,    0,    0,    0,    0,    0,    0,    0,\n",
              "           0,    0,    0,    0,    0,    0,    0,    0,    0,    0,    0,    0,\n",
              "           0,    0,    0,    0,    0,    0,    0,    0,    0,    0,    0,    0,\n",
              "           0,    0,    0,    0,    0,    0,    0,    0,    0,    0,    0,    0,\n",
              "           0,    0,    0,    0,    0,    0,    0,    0,    0,    0,    0,    0,\n",
              "           0,    0,    0,    0,    0,    0,    0,    0,    0,    0,    0,    0,\n",
              "           0,    0,    0,    0,    0,    0,    0,    0,    0,    0,    0,    0,\n",
              "           0,    0,    0,    0,    0,    0,    0,    0,    0,    0,    0,    0,\n",
              "           0,    0,    0,    0,    0,    0,    0,    0,    0,    0,    0,    0,\n",
              "           0,    0,    0,    0,    0,    0,    0,    0,    0,    0,    0,    0,\n",
              "           0,    0,    0,    0,    0,    0,    0,    0,    0,    0,    0,    0,\n",
              "           0,    0,    0,    0,    0,    0,    0,    0,    0,    0,    0,    0,\n",
              "           0,    0,    0,    0,    0,    0,    0,    0,    0,    0,    0,    0,\n",
              "           0,    0,    0,    0,    0,    0,    0,    0,    0,    0,    0,    0,\n",
              "           0,    0,    0,    0,    0,    0,    0,    0,    0,    0,    0,    0,\n",
              "           0,    0,    0,    0,    0,    0,    0,    0,    0,    0,    0,    0,\n",
              "           0,    0,    0,    0,    0,    0,    0,    0,    0,    0,    0,    0,\n",
              "           0,    0,    0,    0,    0,    0,    0,    0,    0,    0,    0,    0,\n",
              "           0,    0,    0,    0,    0,    0,    0,    0,    0,    0,    0,    0,\n",
              "           0,    0,    0,    0,    0,    0,    0,    0,    0,    0,    0,    0,\n",
              "           0,    0,    0,    0,    0,    0,    0,    0,    0,    0,    0,    0,\n",
              "           0,    0,    0,    0,    0,    0,    0,    0])"
            ]
          },
          "metadata": {},
          "execution_count": 265
        }
      ]
    },
    {
      "cell_type": "code",
      "source": [
        "data.get('encoder_mask')[0]"
      ],
      "metadata": {
        "colab": {
          "base_uri": "https://localhost:8080/"
        },
        "id": "zxeVHNyeplT2",
        "outputId": "9e040178-3776-4332-b855-df899936b3a9"
      },
      "execution_count": 266,
      "outputs": [
        {
          "output_type": "execute_result",
          "data": {
            "text/plain": [
              "tensor([[[1, 1, 1, 1, 1, 1, 1, 1, 1, 1, 0, 0, 0, 0, 0, 0, 0, 0, 0, 0, 0, 0, 0,\n",
              "          0, 0, 0, 0, 0, 0, 0, 0, 0, 0, 0, 0, 0, 0, 0, 0, 0, 0, 0, 0, 0, 0, 0,\n",
              "          0, 0, 0, 0, 0, 0, 0, 0, 0, 0, 0, 0, 0, 0, 0, 0, 0, 0, 0, 0, 0, 0, 0,\n",
              "          0, 0, 0, 0, 0, 0, 0, 0, 0, 0, 0, 0, 0, 0, 0, 0, 0, 0, 0, 0, 0, 0, 0,\n",
              "          0, 0, 0, 0, 0, 0, 0, 0, 0, 0, 0, 0, 0, 0, 0, 0, 0, 0, 0, 0, 0, 0, 0,\n",
              "          0, 0, 0, 0, 0, 0, 0, 0, 0, 0, 0, 0, 0, 0, 0, 0, 0, 0, 0, 0, 0, 0, 0,\n",
              "          0, 0, 0, 0, 0, 0, 0, 0, 0, 0, 0, 0, 0, 0, 0, 0, 0, 0, 0, 0, 0, 0, 0,\n",
              "          0, 0, 0, 0, 0, 0, 0, 0, 0, 0, 0, 0, 0, 0, 0, 0, 0, 0, 0, 0, 0, 0, 0,\n",
              "          0, 0, 0, 0, 0, 0, 0, 0, 0, 0, 0, 0, 0, 0, 0, 0, 0, 0, 0, 0, 0, 0, 0,\n",
              "          0, 0, 0, 0, 0, 0, 0, 0, 0, 0, 0, 0, 0, 0, 0, 0, 0, 0, 0, 0, 0, 0, 0,\n",
              "          0, 0, 0, 0, 0, 0, 0, 0, 0, 0, 0, 0, 0, 0, 0, 0, 0, 0, 0, 0, 0, 0, 0,\n",
              "          0, 0, 0, 0, 0, 0, 0, 0, 0, 0, 0, 0, 0, 0, 0, 0, 0, 0, 0, 0, 0, 0, 0,\n",
              "          0, 0, 0, 0, 0, 0, 0, 0, 0, 0, 0, 0, 0, 0, 0, 0, 0, 0, 0, 0, 0, 0, 0,\n",
              "          0, 0, 0, 0, 0, 0, 0, 0, 0, 0, 0, 0, 0, 0, 0, 0, 0, 0, 0, 0, 0, 0, 0,\n",
              "          0, 0, 0, 0, 0, 0, 0, 0, 0, 0, 0, 0, 0, 0, 0, 0, 0, 0, 0, 0, 0, 0, 0,\n",
              "          0, 0, 0, 0, 0, 0, 0, 0, 0, 0, 0, 0, 0, 0, 0, 0, 0, 0, 0, 0, 0, 0, 0,\n",
              "          0, 0, 0, 0, 0, 0, 0, 0, 0, 0, 0, 0, 0, 0, 0, 0, 0, 0, 0, 0, 0, 0, 0,\n",
              "          0, 0, 0, 0, 0, 0, 0, 0, 0, 0, 0, 0, 0, 0, 0, 0, 0, 0, 0, 0, 0, 0, 0,\n",
              "          0, 0, 0, 0, 0, 0, 0, 0, 0, 0, 0, 0, 0, 0, 0, 0, 0, 0, 0, 0, 0, 0, 0,\n",
              "          0, 0, 0, 0, 0, 0, 0, 0, 0, 0, 0, 0, 0, 0, 0, 0, 0, 0, 0, 0, 0, 0, 0,\n",
              "          0, 0, 0, 0, 0, 0, 0, 0, 0, 0, 0, 0, 0, 0, 0, 0, 0, 0, 0, 0, 0, 0, 0,\n",
              "          0, 0, 0, 0, 0, 0, 0, 0, 0, 0, 0, 0, 0, 0, 0, 0, 0, 0, 0, 0, 0, 0, 0,\n",
              "          0, 0, 0, 0, 0, 0]]], dtype=torch.int32)"
            ]
          },
          "metadata": {},
          "execution_count": 266
        }
      ]
    },
    {
      "cell_type": "code",
      "source": [
        "tokenizer = AutoTokenizer.from_pretrained('bert-base-uncased')\n",
        "optimizer = torch.optim.Adam(transformer.parameters(), lr =0.0001, eps=1e-9)\n",
        "loss_fn = torch.nn.CrossEntropyLoss(ignore_index=tokenizer.convert_tokens_to_ids(['[PAD]']), label_smoothing=0.1)\n",
        "\n",
        "transformer.train()\n",
        "for batch in hinglish_dataloader:\n",
        "\n",
        "  encoder_input = batch['encoder_input']\n",
        "  encoder_mask = batch['encoder_mask']\n",
        "  decoder_input = batch['decoder_input']\n",
        "  decoder_mask = batch['decoder_mask']\n",
        "\n",
        "  enocder_output = transformer.encode(encoder_input, encoder_mask)\n",
        "  print(enocder_output)\n",
        "\n",
        "\n",
        "  break\n"
      ],
      "metadata": {
        "colab": {
          "base_uri": "https://localhost:8080/"
        },
        "id": "-8JrLQAr3tq8",
        "outputId": "52c52b57-6370-4617-94d3-b6babb7e68a4"
      },
      "execution_count": 268,
      "outputs": [
        {
          "output_type": "stream",
          "name": "stdout",
          "text": [
            "tensor([[[ 0.0400,  0.0965,  0.0899,  ..., -0.0014, -0.0197,  0.0332],\n",
            "         [-0.0368, -0.0552,  0.0361,  ...,  0.0917, -0.0147, -0.0035],\n",
            "         [-0.0758, -0.0183,  0.0037,  ...,  0.0688, -0.0022,  0.0049],\n",
            "         ...,\n",
            "         [-0.0453, -0.0034,  0.0420,  ...,  0.0318, -0.0764, -0.0036],\n",
            "         [-0.0422,  0.0275,  0.0437,  ...,  0.0333, -0.0750, -0.0520],\n",
            "         [-0.0028,  0.0244,  0.0412,  ...,  0.0323, -0.0761, -0.0530]],\n",
            "\n",
            "        [[ 0.0398,  0.0967,  0.0900,  ...,  0.0207, -0.0196,  0.0334],\n",
            "         [ 0.0489, -0.0008, -0.0026,  ..., -0.0079,  0.0439, -0.0785],\n",
            "         [-0.0428, -0.0130,  0.0975,  ...,  0.1170, -0.0022, -0.0051],\n",
            "         ...,\n",
            "         [-0.0447,  0.0277, -0.0029,  ...,  0.0324, -0.0756, -0.0030],\n",
            "         [-0.0435,  0.0263,  0.0426,  ...,  0.0321, -0.0760, -0.0531],\n",
            "         [-0.0441,  0.0235,  0.0403,  ...,  0.0313, -0.0767, -0.0538]],\n",
            "\n",
            "        [[ 0.0408,  0.0975,  0.0910,  ...,  0.0214, -0.0187, -0.0006],\n",
            "         [ 0.0219, -0.0042, -0.0461,  ...,  0.0452,  0.0509, -0.0512],\n",
            "         [-0.0014, -0.0426,  0.0229,  ..., -0.0273, -0.0024,  0.0084],\n",
            "         ...,\n",
            "         [-0.0441,  0.0284,  0.0432,  ...,  0.0332, -0.0023, -0.0521],\n",
            "         [-0.0421,  0.0276,  0.0437,  ...,  0.0334, -0.0748, -0.0518],\n",
            "         [-0.0425,  0.0253,  0.0421,  ...,  0.0330, -0.0752, -0.0024]],\n",
            "\n",
            "        [[ 0.0402,  0.0968,  0.0901,  ...,  0.0209, -0.0194,  0.0335],\n",
            "         [-0.0376, -0.0557,  0.0354,  ...,  0.0911, -0.0155, -0.0041],\n",
            "         [-0.0252, -0.0070, -0.0252,  ...,  0.0535,  0.0381, -0.0742],\n",
            "         ...,\n",
            "         [-0.0448,  0.0276,  0.0425,  ...,  0.0325, -0.0030, -0.0528],\n",
            "         [-0.0028,  0.0264, -0.0033,  ...,  0.0323, -0.0759, -0.0530],\n",
            "         [-0.0432,  0.0244,  0.0413,  ...,  0.0324, -0.0758, -0.0530]]],\n",
            "       grad_fn=<AddBackward0>)\n"
          ]
        }
      ]
    },
    {
      "cell_type": "code",
      "source": [],
      "metadata": {
        "id": "SI31oCmC7y7g"
      },
      "execution_count": null,
      "outputs": []
    },
    {
      "cell_type": "code",
      "source": [],
      "metadata": {
        "id": "6IoGsZSH9Yi2"
      },
      "execution_count": null,
      "outputs": []
    }
  ]
}