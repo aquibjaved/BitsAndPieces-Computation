{
  "nbformat": 4,
  "nbformat_minor": 0,
  "metadata": {
    "colab": {
      "provenance": [],
      "authorship_tag": "ABX9TyP91AbEMlVONDlsF+kfQ35Q",
      "include_colab_link": true
    },
    "kernelspec": {
      "name": "python3",
      "display_name": "Python 3"
    },
    "language_info": {
      "name": "python"
    }
  },
  "cells": [
    {
      "cell_type": "markdown",
      "metadata": {
        "id": "view-in-github",
        "colab_type": "text"
      },
      "source": [
        "<a href=\"https://colab.research.google.com/github/aquibjaved/Bits_and_Pieces_DL/blob/tinytransformer/Basic_trfs.ipynb\" target=\"_parent\"><img src=\"https://colab.research.google.com/assets/colab-badge.svg\" alt=\"Open In Colab\"/></a>"
      ]
    },
    {
      "cell_type": "code",
      "execution_count": 35,
      "metadata": {
        "id": "qeKuGzoe6vaj"
      },
      "outputs": [],
      "source": [
        "import torch\n",
        "import torch.nn as nn\n",
        "import math"
      ]
    },
    {
      "cell_type": "code",
      "source": [
        "class InputEmbeddings(nn.Module):\n",
        "  def __init__(self, model_dim:int=512, vocab_size:int=30000):\n",
        "    super().__init__()\n",
        "\n",
        "    self.model_dim = model_dim\n",
        "    self.vocab_size = vocab_size\n",
        "\n",
        "    self.embedding = nn.Embedding(num_embeddings=self.vocab_size, embedding_dim=self.model_dim)\n",
        "\n",
        "  def forward(self, x):\n",
        "    return self.embedding(x) * math.sqrt(self.model_dim)\n"
      ],
      "metadata": {
        "id": "4RHJChIB6--C"
      },
      "execution_count": 36,
      "outputs": []
    },
    {
      "cell_type": "code",
      "source": [
        "emb = InputEmbeddings()"
      ],
      "metadata": {
        "id": "odgve1aE830L"
      },
      "execution_count": 37,
      "outputs": []
    },
    {
      "cell_type": "code",
      "source": [],
      "metadata": {
        "id": "tjaYkmV88_rA"
      },
      "execution_count": 37,
      "outputs": []
    },
    {
      "cell_type": "code",
      "source": [
        "class PositionalEncoding(nn.Module):\n",
        "  def __init__(self, model_dim:int, seq_len:int, dropout:float):\n",
        "    super().__init__()\n",
        "\n",
        "    self.model_dim = model_dim\n",
        "    self.seq_len= seq_len # max len of doc\n",
        "    self.dropout = nn.Dropout(dropout)\n",
        "\n",
        "    # create matrix of shape (seq, model_dim) => (512, 512)\n",
        "    pe = torch.zeros(seq_len, model_dim)\n",
        "\n",
        "    # create a vector for seq_len\n",
        "    position = torch.arange(0, self.seq_len, dtype=torch.float).unsqueeze(1)\n",
        "    div_term = torch.exp(torch.arange(0, model_dim, 2).float() * (-math.log(10000.0)/self.model_dim))\n",
        "    pe[:, 0::2] = torch.sin(position * div_term)\n",
        "    pe[:, 1::2] = torch.cos(position * div_term)\n",
        "\n",
        "    pe = pe.unsqueeze(0)\n",
        "\n",
        "    self.register_buffer('pe', pe)\n",
        "\n",
        "  def forward(self, x):\n",
        "    x = x + (self.pe[:, :x.shape[1], :]).requires_grad_(False)\n",
        "    return self.dropout(x)"
      ],
      "metadata": {
        "id": "I3NuF9ev9E8G"
      },
      "execution_count": 38,
      "outputs": []
    },
    {
      "cell_type": "code",
      "source": [
        "PE = PositionalEncoding(model_dim=512, seq_len=512, dropout=0.0)"
      ],
      "metadata": {
        "id": "xXels8NBCFTy"
      },
      "execution_count": 39,
      "outputs": []
    },
    {
      "cell_type": "code",
      "source": [
        "embd = [emb(torch.tensor(1)), emb(torch.tensor(2))]"
      ],
      "metadata": {
        "id": "F2lLZ5T8CtYv"
      },
      "execution_count": 40,
      "outputs": []
    },
    {
      "cell_type": "code",
      "source": [
        "embeddings = []\n",
        "for i in range(512):\n",
        "  embeddings.append(emb(torch.tensor(i)))"
      ],
      "metadata": {
        "id": "d9sOdk7cC3At"
      },
      "execution_count": 41,
      "outputs": []
    },
    {
      "cell_type": "code",
      "source": [
        "PE(torch.stack(embeddings))"
      ],
      "metadata": {
        "colab": {
          "base_uri": "https://localhost:8080/"
        },
        "id": "C8whWkzcDfnk",
        "outputId": "f5febc9e-d0bf-4a46-ddd0-5ba73411db5b"
      },
      "execution_count": 42,
      "outputs": [
        {
          "output_type": "execute_result",
          "data": {
            "text/plain": [
              "tensor([[[ 23.1488, -35.2160, -19.2966,  ...,  -2.1994, -15.8838,  10.7293],\n",
              "         [-31.3705,  12.1757, -12.5593,  ..., -10.3747,   3.0499, -13.4172],\n",
              "         [-23.1213,   1.6491,  -8.7383,  ...,  -9.1392, -58.9997,  19.0662],\n",
              "         ...,\n",
              "         [-27.2389, -14.0184,  10.7781,  ..., -15.0174,  26.1910, -32.5847],\n",
              "         [-13.7161,   1.3399,  30.5056,  ...,  27.8849, -29.8017, -22.1115],\n",
              "         [-17.0881, -56.9917,  11.9372,  ...,  34.6626, -57.6644, -50.7851]]],\n",
              "       grad_fn=<AddBackward0>)"
            ]
          },
          "metadata": {},
          "execution_count": 42
        }
      ]
    },
    {
      "cell_type": "code",
      "source": [
        "class LayerNormalization(nn.Module):\n",
        "  def __init__(self, eps: float=10**-6):\n",
        "    super().__init__()\n",
        "    self.eps = eps\n",
        "    self.alpha = nn.Parameter(torch.ones(1))\n",
        "    self.bias = nn.Parameter(torch.zeros(1))\n",
        "\n",
        "  def forward(self, x):\n",
        "    mean = x.mean(dim = -1, keepdim=True)\n",
        "    std = x.std(dim = -1, keepdim=True)\n",
        "\n",
        "    return self.alpha * (x-mean)/(std+self.eps) + self.bias\n"
      ],
      "metadata": {
        "id": "95IlOfprDuYA"
      },
      "execution_count": 43,
      "outputs": []
    },
    {
      "cell_type": "code",
      "source": [
        "torch.zeros(1)"
      ],
      "metadata": {
        "colab": {
          "base_uri": "https://localhost:8080/"
        },
        "id": "qt5xI_9-HfrG",
        "outputId": "1718716d-2259-4274-a8fa-ac7902f714ec"
      },
      "execution_count": 44,
      "outputs": [
        {
          "output_type": "execute_result",
          "data": {
            "text/plain": [
              "tensor([0.])"
            ]
          },
          "metadata": {},
          "execution_count": 44
        }
      ]
    },
    {
      "cell_type": "code",
      "source": [
        "class FeedForwardBlock(nn.Module):\n",
        "  def __init__(self, model_dim:int, d_ff:int, dropout:float):\n",
        "    super().__init__()\n",
        "\n",
        "    self.d_ff = d_ff\n",
        "    self.linear_one = nn.Linear(model_dim, self.d_ff)\n",
        "    self.dropout = nn.Dropout(dropout)\n",
        "    self.linear_out = nn.Linear(self.d_ff, model_dim)\n",
        "\n",
        "\n",
        "  def forward(self, x):\n",
        "    # (batch_size, max_seq_len, model_dim)\n",
        "\n",
        "    return self.linear_two(self.dropout(torch.relu(self.linear_one(x))))\n"
      ],
      "metadata": {
        "id": "vGkl1stsHf-d"
      },
      "execution_count": 45,
      "outputs": []
    },
    {
      "cell_type": "code",
      "source": [
        "class ResidualConnection(nn.Module):\n",
        "\n",
        "        def __init__(self, features: int, dropout: float) -> None:\n",
        "            super().__init__()\n",
        "            self.dropout = nn.Dropout(dropout)\n",
        "            self.norm = LayerNormalization(features)\n",
        "\n",
        "        def forward(self, x, sublayer):\n",
        "            return x + self.dropout(sublayer(self.norm(x)))"
      ],
      "metadata": {
        "id": "_3yFI-DnaxPy"
      },
      "execution_count": 46,
      "outputs": []
    },
    {
      "cell_type": "code",
      "source": [
        "class MultiHeadAttentionBlock(nn.Module):\n",
        "  def __init__(self, h:int, model_dim:int, dropout:float):\n",
        "    super().__init__()\n",
        "\n",
        "    self.model_dim = model_dim\n",
        "    self.h = h\n",
        "    self.dropout = nn.Dropout(dropout)\n",
        "\n",
        "    # assert model_dim % h == 0\n",
        "    self.d_k = model_dim//h\n",
        "\n",
        "    # now get the weights of query, key, value\n",
        "    self.w_q = nn.Linear(model_dim, model_dim)\n",
        "    self.w_k = nn.Linear(model_dim, model_dim)\n",
        "    self.w_v = nn.Linear(model_dim, model_dim)\n",
        "\n",
        "    self.w_o = nn.Linear(model_dim, model_dim)\n",
        "\n",
        "    self.dropout = nn.Dropout(dropout)\n",
        "\n",
        "  @staticmethod\n",
        "  def attention(query, key, value, mask, dropout: nn.Dropout):\n",
        "    d_k = query.shape[-1]\n",
        "    # Just apply the formula from the paper\n",
        "    # (batch, h, seq_len, d_k) --> (batch, h, seq_len, seq_len)\n",
        "    attention_scores = (query @ key.transpose(-2, -1)) / math.sqrt(d_k)\n",
        "    if mask is not None:\n",
        "        # Write a very low value (indicating -inf) to the positions where mask == 0\n",
        "        attention_scores.masked_fill_(mask == 0, -1e9)\n",
        "\n",
        "    attention_scores = attention_scores.softmax(dim=-1) # (batch, h, seq_len, seq_len) # Apply softmax\n",
        "\n",
        "    if dropout is not None:\n",
        "        attention_scores = dropout(attention_scores)\n",
        "    # (batch, h, seq_len, seq_len) --> (batch, h, seq_len, d_k)\n",
        "    # return attention scores which can be used for visualization\n",
        "    return (attention_scores @ value), attention_scores\n",
        "\n",
        "  def forward(self, q, k, v, mask):\n",
        "\n",
        "    query = self.w_q(q)\n",
        "    key = self.w_k(k)\n",
        "    value = self.w_v(v)\n",
        "\n",
        "    query = query.view(query.shape[0], query[1], self.h, self.d_k).transpose(1,2)\n",
        "    key = value.view(key.shape[0], key[1], self.h, self.d_k).transpose(1,2)\n",
        "    value = value.view(value.shape[0], value[1], self.h, self.d_k).transpose(1,2)\n",
        "\n",
        "    # calculate attention\n",
        "    x, self.attention_score = MultiHeadAttentionBlock.attention(query, key, value, mask, self.dropout)\n",
        "\n",
        "    # (batch, h, seq_len, d_k) --> (batch, seq_len, h, d_k) --> (batch, seq_len, model_dim)\n",
        "    x = x.transpose(1, 2).contiguous().view(x.shape[0], -1, self.h * self.d_k)\n",
        "\n",
        "    # Multiply by Wo\n",
        "    # (batch, seq_len, model_dim) --> (batch, seq_len, model_dim)\n",
        "    return self.w_o(x)"
      ],
      "metadata": {
        "id": "_OQrbkBIRoyo"
      },
      "execution_count": 82,
      "outputs": []
    },
    {
      "cell_type": "code",
      "source": [
        "class EncoderBlock(nn.Module):\n",
        "\n",
        "    def __init__(self, features: int, self_attention_block: MultiHeadAttentionBlock, feed_forward_block: FeedForwardBlock, dropout: float) -> None:\n",
        "        super().__init__()\n",
        "        self.self_attention_block = self_attention_block\n",
        "        self.feed_forward_block = feed_forward_block\n",
        "        self.residual_connections = nn.ModuleList([ResidualConnection(features, dropout) for _ in range(2)])\n",
        "\n",
        "    def forward(self, x, src_mask):\n",
        "        x = self.residual_connections[0](x, lambda x: self.self_attention_block(x, x, x, src_mask))\n",
        "        x = self.residual_connections[1](x, self.feed_forward_block)\n",
        "        return x"
      ],
      "metadata": {
        "id": "ZCKpNaLCayku"
      },
      "execution_count": 66,
      "outputs": []
    },
    {
      "cell_type": "code",
      "source": [
        "class Encoder(nn.Module):\n",
        "  def __init__(self, features:int, layers:nn.ModuleList):\n",
        "    super().__init__()\n",
        "    self.layers = layers\n",
        "    self.norm = LayerNormalization(features)\n",
        "\n",
        "  def forward(self, x):\n",
        "    for layer in self.layers:\n",
        "      x = layer(x)\n",
        "    return self.norm"
      ],
      "metadata": {
        "id": "txK9eucEcduJ"
      },
      "execution_count": 98,
      "outputs": []
    },
    {
      "cell_type": "code",
      "source": [
        "class DecoderBlock(nn.Module):\n",
        "\n",
        "    def __init__(self, features: int, self_attention_block: MultiHeadAttentionBlock, cross_attention_block: MultiHeadAttentionBlock, feed_forward_block: FeedForwardBlock, dropout: float) -> None:\n",
        "        super().__init__()\n",
        "        self.self_attention_block = self_attention_block\n",
        "        self.cross_attention_block = cross_attention_block\n",
        "        self.feed_forward_block = feed_forward_block\n",
        "        self.residual_connections = nn.ModuleList([ResidualConnection(features, dropout) for _ in range(3)])\n",
        "\n",
        "    def forward(self, x, encoder_output, src_mask, tgt_mask):\n",
        "        x = self.residual_connections[0](x, lambda x: self.self_attention_block(x, x, x, tgt_mask))\n",
        "        x = self.residual_connections[1](x, lambda x: self.cross_attention_block(x, encoder_output, encoder_output, src_mask))\n",
        "        x = self.residual_connections[2](x, self.feed_forward_block)\n",
        "        return x"
      ],
      "metadata": {
        "id": "kOwUcpp4eAV4"
      },
      "execution_count": 68,
      "outputs": []
    },
    {
      "cell_type": "code",
      "source": [
        "class Decoder(nn.Module):\n",
        "\n",
        "    def __init__(self, features: int, layers: nn.ModuleList) -> None:\n",
        "        super().__init__()\n",
        "        self.layers = layers\n",
        "        self.norm = LayerNormalization(features)\n",
        "\n",
        "    def forward(self, x, encoder_output, src_mask, tgt_mask):\n",
        "        for layer in self.layers:\n",
        "            x = layer(x, encoder_output, src_mask, tgt_mask)\n",
        "        return self.norm(x)"
      ],
      "metadata": {
        "id": "sh3ikEXbfsfC"
      },
      "execution_count": 69,
      "outputs": []
    },
    {
      "cell_type": "code",
      "source": [
        "class ProjectionLayer(nn.Module):\n",
        "  def __init__(self, model_dims:int, vocab_size:int):\n",
        "    super().__init__()\n",
        "\n",
        "    self.model_dims = model_dims\n",
        "    self.vocab_size = vocab_size\n",
        "\n",
        "    self.proj = nn.Linear(self.model_dims, self.vocab_size)\n",
        "\n",
        "  def forward(self, x):\n",
        "    return torch.log_softmax(self.proj(x), dim =-1)"
      ],
      "metadata": {
        "id": "sQm7UbNmetPd"
      },
      "execution_count": 70,
      "outputs": []
    },
    {
      "cell_type": "code",
      "source": [
        "class Transformer(nn.Module):\n",
        "\n",
        "    def __init__(self, encoder: Encoder, decoder: Decoder, src_embed: InputEmbeddings, tgt_embed: InputEmbeddings, src_pos: PositionalEncoding, tgt_pos: PositionalEncoding, projection_layer: ProjectionLayer) -> None:\n",
        "        super().__init__()\n",
        "        self.encoder = encoder\n",
        "        self.decoder = decoder\n",
        "        self.src_embed = src_embed\n",
        "        self.tgt_embed = tgt_embed\n",
        "        self.src_pos = src_pos\n",
        "        self.tgt_pos = tgt_pos\n",
        "        self.projection_layer = projection_layer\n",
        "\n",
        "    def encode(self, src, src_mask):\n",
        "        # (batch, seq_len, model_dim)\n",
        "        src = self.src_embed(src)\n",
        "        src = self.src_pos(src)\n",
        "        return self.encoder(src, src_mask)\n",
        "\n",
        "    def decode(self, encoder_output: torch.Tensor, src_mask: torch.Tensor, tgt: torch.Tensor, tgt_mask: torch.Tensor):\n",
        "        # (batch, seq_len, model_dim)\n",
        "        tgt = self.tgt_embed(tgt)\n",
        "        tgt = self.tgt_pos(tgt)\n",
        "        return self.decoder(tgt, encoder_output, src_mask, tgt_mask)\n",
        "\n",
        "    def project(self, x):\n",
        "        # (batch, seq_len, vocab_size)\n",
        "        return self.projection_layer(x)\n",
        "\n",
        "\n"
      ],
      "metadata": {
        "id": "dQcmOUZqfaAO"
      },
      "execution_count": 71,
      "outputs": []
    },
    {
      "cell_type": "code",
      "source": [
        "def build_transformer(src_vocab_size: int, tgt_vocab_size: int, src_seq_len: int, tgt_seq_len: int, model_dim: int=512, N: int=6, h: int=8, dropout: float=0.1, d_ff: int=2048) -> Transformer:\n",
        "    # Create the embedding layers\n",
        "    src_embed = InputEmbeddings(model_dim, src_vocab_size)\n",
        "    tgt_embed = InputEmbeddings(model_dim, tgt_vocab_size)\n",
        "\n",
        "    # Create the positional encoding layers\n",
        "    src_pos = PositionalEncoding(model_dim, src_seq_len, dropout)\n",
        "    tgt_pos = PositionalEncoding(model_dim, tgt_seq_len, dropout)\n",
        "\n",
        "    # Create the encoder blocks\n",
        "    encoder_blocks = []\n",
        "    for _ in range(N):\n",
        "        encoder_self_attention_block = MultiHeadAttentionBlock(model_dim, h, dropout)\n",
        "        feed_forward_block = FeedForwardBlock(model_dim, d_ff, dropout)\n",
        "        encoder_block = EncoderBlock(model_dim, encoder_self_attention_block, feed_forward_block, dropout)\n",
        "        encoder_blocks.append(encoder_block)\n",
        "\n",
        "    # Create the decoder blocks\n",
        "    decoder_blocks = []\n",
        "    for _ in range(N):\n",
        "        decoder_self_attention_block = MultiHeadAttentionBlock(model_dim, h, dropout)\n",
        "        decoder_cross_attention_block = MultiHeadAttentionBlock(model_dim, h, dropout)\n",
        "        feed_forward_block = FeedForwardBlock(model_dim, d_ff, dropout)\n",
        "        decoder_block = DecoderBlock(model_dim, decoder_self_attention_block, decoder_cross_attention_block, feed_forward_block, dropout)\n",
        "        decoder_blocks.append(decoder_block)\n",
        "\n",
        "    # Create the encoder and decoder\n",
        "    encoder = Encoder(model_dim, nn.ModuleList(encoder_blocks))\n",
        "    decoder = Decoder(model_dim, nn.ModuleList(decoder_blocks))\n",
        "\n",
        "    # Create the projection layer\n",
        "    projection_layer = ProjectionLayer(model_dim, tgt_vocab_size)\n",
        "\n",
        "    # Create the transformer\n",
        "    transformer = Transformer(encoder, decoder, src_embed, tgt_embed, src_pos, tgt_pos, projection_layer)\n",
        "\n",
        "    # Initialize the parameters\n",
        "    for p in transformer.parameters():\n",
        "        if p.dim() > 1:\n",
        "            nn.init.xavier_uniform_(p)\n",
        "\n",
        "    return transformer"
      ],
      "metadata": {
        "id": "W-zJiDD5fuwz"
      },
      "execution_count": 72,
      "outputs": []
    },
    {
      "cell_type": "code",
      "source": [
        "model_dim = 512\n",
        "src_vocab_size = 30000\n",
        "tgt_vocab_size = 30000\n",
        "src_seq_len = 512\n",
        "tgt_seq_len = 512\n",
        "dropout = 0.1\n",
        "h = 8\n",
        "N = 6\n",
        "d_ff = 2048"
      ],
      "metadata": {
        "id": "76QK4s4XGmu0"
      },
      "execution_count": 94,
      "outputs": []
    },
    {
      "cell_type": "code",
      "source": [
        "\n",
        "\n",
        "src_embed = InputEmbeddings(model_dim, src_vocab_size)\n",
        "tgt_embed = InputEmbeddings(model_dim, tgt_vocab_size)\n",
        "\n",
        "# Create the positional encoding layers\n",
        "src_pos = PositionalEncoding(model_dim, src_seq_len, dropout)\n",
        "tgt_pos = PositionalEncoding(model_dim, tgt_seq_len, dropout)"
      ],
      "metadata": {
        "id": "dFSgeS2cE3pX"
      },
      "execution_count": 89,
      "outputs": []
    },
    {
      "cell_type": "code",
      "source": [
        "# Create the encoder blocks\n",
        "encoder_blocks = []\n",
        "for _ in range(N):\n",
        "    encoder_self_attention_block = MultiHeadAttentionBlock(model_dim, h, dropout)\n",
        "    feed_forward_block = FeedForwardBlock(model_dim, d_ff, dropout)\n",
        "    encoder_block = EncoderBlock(model_dim, encoder_self_attention_block, feed_forward_block, dropout)\n",
        "    encoder_blocks.append(encoder_block)\n"
      ],
      "metadata": {
        "id": "pL56TdBFG1pC"
      },
      "execution_count": 95,
      "outputs": []
    },
    {
      "cell_type": "code",
      "source": [
        "# Create the decoder blocks\n",
        "decoder_blocks = []\n",
        "for _ in range(N):\n",
        "    decoder_self_attention_block = MultiHeadAttentionBlock(model_dim, h, dropout)\n",
        "    decoder_cross_attention_block = MultiHeadAttentionBlock(model_dim, h, dropout)\n",
        "    feed_forward_block = FeedForwardBlock(model_dim, d_ff, dropout)\n",
        "    decoder_block = DecoderBlock(model_dim, decoder_self_attention_block, decoder_cross_attention_block, feed_forward_block, dropout)\n",
        "    decoder_blocks.append(decoder_block)\n"
      ],
      "metadata": {
        "id": "fzFQPzKyHEnC"
      },
      "execution_count": 96,
      "outputs": []
    },
    {
      "cell_type": "code",
      "source": [
        "# Create the encoder and decoder\n",
        "encoder = Encoder(model_dim, nn.ModuleList(encoder_blocks))\n",
        "decoder = Decoder(model_dim, nn.ModuleList(decoder_blocks))"
      ],
      "metadata": {
        "id": "a32zdgOtHHyF"
      },
      "execution_count": 99,
      "outputs": []
    },
    {
      "cell_type": "code",
      "source": [
        "# Create the projection layer\n",
        "projection_layer = ProjectionLayer(model_dim, tgt_vocab_size)\n",
        "\n",
        "# Create the transformer\n",
        "transformer = Transformer(encoder, decoder, src_embed, tgt_embed, src_pos, tgt_pos, projection_layer)\n"
      ],
      "metadata": {
        "id": "Z5A4Q3rOHjqt"
      },
      "execution_count": 100,
      "outputs": []
    },
    {
      "cell_type": "code",
      "source": [
        "transformer"
      ],
      "metadata": {
        "colab": {
          "base_uri": "https://localhost:8080/"
        },
        "id": "jV8VoYz6IPaB",
        "outputId": "c6a82ce1-9bff-4a67-8eed-ac8b34fb7339"
      },
      "execution_count": 101,
      "outputs": [
        {
          "output_type": "execute_result",
          "data": {
            "text/plain": [
              "Transformer(\n",
              "  (encoder): Encoder(\n",
              "    (layers): ModuleList(\n",
              "      (0-5): 6 x EncoderBlock(\n",
              "        (self_attention_block): MultiHeadAttentionBlock(\n",
              "          (dropout): Dropout(p=0.1, inplace=False)\n",
              "          (w_q): Linear(in_features=8, out_features=8, bias=True)\n",
              "          (w_k): Linear(in_features=8, out_features=8, bias=True)\n",
              "          (w_v): Linear(in_features=8, out_features=8, bias=True)\n",
              "          (w_o): Linear(in_features=8, out_features=8, bias=True)\n",
              "        )\n",
              "        (feed_forward_block): FeedForwardBlock(\n",
              "          (linear_one): Linear(in_features=512, out_features=2048, bias=True)\n",
              "          (dropout): Dropout(p=0.1, inplace=False)\n",
              "          (linear_out): Linear(in_features=2048, out_features=512, bias=True)\n",
              "        )\n",
              "        (residual_connections): ModuleList(\n",
              "          (0-1): 2 x ResidualConnection(\n",
              "            (dropout): Dropout(p=0.1, inplace=False)\n",
              "            (norm): LayerNormalization()\n",
              "          )\n",
              "        )\n",
              "      )\n",
              "    )\n",
              "    (norm): LayerNormalization()\n",
              "  )\n",
              "  (decoder): Decoder(\n",
              "    (layers): ModuleList(\n",
              "      (0-5): 6 x DecoderBlock(\n",
              "        (self_attention_block): MultiHeadAttentionBlock(\n",
              "          (dropout): Dropout(p=0.1, inplace=False)\n",
              "          (w_q): Linear(in_features=8, out_features=8, bias=True)\n",
              "          (w_k): Linear(in_features=8, out_features=8, bias=True)\n",
              "          (w_v): Linear(in_features=8, out_features=8, bias=True)\n",
              "          (w_o): Linear(in_features=8, out_features=8, bias=True)\n",
              "        )\n",
              "        (cross_attention_block): MultiHeadAttentionBlock(\n",
              "          (dropout): Dropout(p=0.1, inplace=False)\n",
              "          (w_q): Linear(in_features=8, out_features=8, bias=True)\n",
              "          (w_k): Linear(in_features=8, out_features=8, bias=True)\n",
              "          (w_v): Linear(in_features=8, out_features=8, bias=True)\n",
              "          (w_o): Linear(in_features=8, out_features=8, bias=True)\n",
              "        )\n",
              "        (feed_forward_block): FeedForwardBlock(\n",
              "          (linear_one): Linear(in_features=512, out_features=2048, bias=True)\n",
              "          (dropout): Dropout(p=0.1, inplace=False)\n",
              "          (linear_out): Linear(in_features=2048, out_features=512, bias=True)\n",
              "        )\n",
              "        (residual_connections): ModuleList(\n",
              "          (0-2): 3 x ResidualConnection(\n",
              "            (dropout): Dropout(p=0.1, inplace=False)\n",
              "            (norm): LayerNormalization()\n",
              "          )\n",
              "        )\n",
              "      )\n",
              "    )\n",
              "    (norm): LayerNormalization()\n",
              "  )\n",
              "  (src_embed): InputEmbeddings(\n",
              "    (embedding): Embedding(30000, 512)\n",
              "  )\n",
              "  (tgt_embed): InputEmbeddings(\n",
              "    (embedding): Embedding(30000, 512)\n",
              "  )\n",
              "  (src_pos): PositionalEncoding(\n",
              "    (dropout): Dropout(p=0.1, inplace=False)\n",
              "  )\n",
              "  (tgt_pos): PositionalEncoding(\n",
              "    (dropout): Dropout(p=0.1, inplace=False)\n",
              "  )\n",
              "  (projection_layer): ProjectionLayer(\n",
              "    (proj): Linear(in_features=512, out_features=30000, bias=True)\n",
              "  )\n",
              ")"
            ]
          },
          "metadata": {},
          "execution_count": 101
        }
      ]
    },
    {
      "cell_type": "code",
      "source": [],
      "metadata": {
        "id": "vM6IAto6IRdm"
      },
      "execution_count": null,
      "outputs": []
    }
  ]
}