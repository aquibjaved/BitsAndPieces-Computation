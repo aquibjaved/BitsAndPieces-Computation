{
 "cells": [
  {
   "cell_type": "code",
   "execution_count": 1,
   "id": "2509aa6a",
   "metadata": {},
   "outputs": [],
   "source": [
    "path = \"/Users/aquibkhan/Desktop/GoogleNews-vectors-negative300.bin\""
   ]
  },
  {
   "cell_type": "code",
   "execution_count": 2,
   "id": "a81a66f6",
   "metadata": {},
   "outputs": [],
   "source": [
    "import gensim.models.keyedvectors as word2vec\n",
    "import math"
   ]
  },
  {
   "cell_type": "code",
   "execution_count": 3,
   "id": "5dc1a5f4",
   "metadata": {},
   "outputs": [],
   "source": [
    "model = word2vec.KeyedVectors.load_word2vec_format(path, binary=True)"
   ]
  },
  {
   "cell_type": "code",
   "execution_count": 4,
   "id": "e7fd9ecb",
   "metadata": {},
   "outputs": [],
   "source": [
    "vector_king = model.get_vector('king')\n",
    "vector_queen = model.get_vector('queen')"
   ]
  },
  {
   "cell_type": "code",
   "execution_count": 5,
   "id": "89cf29c5",
   "metadata": {
    "scrolled": true
   },
   "outputs": [],
   "source": [
    "from sklearn.metrics.pairwise import cosine_similarity"
   ]
  },
  {
   "cell_type": "code",
   "execution_count": 7,
   "id": "8279c68f",
   "metadata": {},
   "outputs": [
    {
     "data": {
      "text/plain": [
       "array([[0.6510957]], dtype=float32)"
      ]
     },
     "execution_count": 7,
     "metadata": {},
     "output_type": "execute_result"
    }
   ],
   "source": [
    "cosine_similarity([vector_king], [vector_queen])"
   ]
  },
  {
   "cell_type": "code",
   "execution_count": 8,
   "id": "fef0f799",
   "metadata": {},
   "outputs": [],
   "source": [
    "def get_positional_encoding(pos):\n",
    "    pos_emb = []\n",
    "    d = 300\n",
    "    for i in range(300):\n",
    "        if i % 2 ==0:\n",
    "            pos_emb.append(math.sin(pos/(10000**((2*i)/d))))\n",
    "        else:\n",
    "            pos_emb.append(math.cos(pos/(10000**((2*i)/d))))\n",
    "    return pos_emb"
   ]
  },
  {
   "cell_type": "code",
   "execution_count": 15,
   "id": "c97abf59",
   "metadata": {},
   "outputs": [],
   "source": [
    "pos_emb1 = get_positional_encoding(pos=0)\n",
    "pos_emb2 = get_positional_encoding(pos=1)\n",
    "\n",
    "pos_emb10 = get_positional_encoding(pos=10)\n",
    "pos_emb50 = get_positional_encoding(pos=50)"
   ]
  },
  {
   "cell_type": "code",
   "execution_count": 16,
   "id": "35c8aada",
   "metadata": {},
   "outputs": [],
   "source": [
    "word_embed_king_pos_emd = vector_king+pos_emb1\n",
    "word_embed_queen_pos_emd = vector_queen+pos_emb2"
   ]
  },
  {
   "cell_type": "code",
   "execution_count": 17,
   "id": "7137771d",
   "metadata": {},
   "outputs": [
    {
     "data": {
      "text/plain": [
       "array([[0.96720828]])"
      ]
     },
     "execution_count": 17,
     "metadata": {},
     "output_type": "execute_result"
    }
   ],
   "source": [
    "cosine_similarity([word_embed_king_pos_emd], [word_embed_queen_pos_emd])"
   ]
  },
  {
   "cell_type": "code",
   "execution_count": 18,
   "id": "0077ceeb",
   "metadata": {},
   "outputs": [],
   "source": [
    "word_embed_king_pos_emd = vector_king+pos_emb10\n",
    "word_embed_queen_pos_emd = vector_queen+pos_emb50"
   ]
  },
  {
   "cell_type": "code",
   "execution_count": 19,
   "id": "b4c44bae",
   "metadata": {},
   "outputs": [
    {
     "data": {
      "text/plain": [
       "array([[0.76123647]])"
      ]
     },
     "execution_count": 19,
     "metadata": {},
     "output_type": "execute_result"
    }
   ],
   "source": [
    "cosine_similarity([word_embed_king_pos_emd], [word_embed_queen_pos_emd])"
   ]
  },
  {
   "cell_type": "code",
   "execution_count": null,
   "id": "5550128a",
   "metadata": {},
   "outputs": [],
   "source": []
  }
 ],
 "metadata": {
  "kernelspec": {
   "display_name": "smr",
   "language": "python",
   "name": "smr"
  },
  "language_info": {
   "codemirror_mode": {
    "name": "ipython",
    "version": 3
   },
   "file_extension": ".py",
   "mimetype": "text/x-python",
   "name": "python",
   "nbconvert_exporter": "python",
   "pygments_lexer": "ipython3",
   "version": "3.8.12"
  }
 },
 "nbformat": 4,
 "nbformat_minor": 5
}
