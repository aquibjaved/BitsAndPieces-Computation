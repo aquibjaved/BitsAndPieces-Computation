{
  "nbformat": 4,
  "nbformat_minor": 0,
  "metadata": {
    "colab": {
      "name": "positional_embedding.ipynb",
      "provenance": [],
      "authorship_tag": "ABX9TyNXg8X0TZYh2LTh9stZzER6",
      "include_colab_link": true
    },
    "kernelspec": {
      "name": "python3",
      "display_name": "Python 3"
    },
    "language_info": {
      "name": "python"
    }
  },
  "cells": [
    {
      "cell_type": "markdown",
      "metadata": {
        "id": "view-in-github",
        "colab_type": "text"
      },
      "source": [
        "<a href=\"https://colab.research.google.com/github/aquibjaved/Bits_and_Pieces_DL/blob/main/positional_embedding.ipynb\" target=\"_parent\"><img src=\"https://colab.research.google.com/assets/colab-badge.svg\" alt=\"Open In Colab\"/></a>"
      ]
    },
    {
      "cell_type": "code",
      "execution_count": 1,
      "metadata": {
        "id": "ytc3NLeYae1h",
        "outputId": "96776c6f-f090-402f-f6c4-e6cdbf59444d",
        "colab": {
          "base_uri": "https://localhost:8080/"
        }
      },
      "outputs": [
        {
          "output_type": "stream",
          "name": "stdout",
          "text": [
            "--2022-01-24 17:54:00--  https://s3.amazonaws.com/dl4j-distribution/GoogleNews-vectors-negative300.bin.gz\n",
            "Resolving s3.amazonaws.com (s3.amazonaws.com)... 54.231.134.136\n",
            "Connecting to s3.amazonaws.com (s3.amazonaws.com)|54.231.134.136|:443... connected.\n",
            "HTTP request sent, awaiting response... 200 OK\n",
            "Length: 1647046227 (1.5G) [application/x-gzip]\n",
            "Saving to: ‘GoogleNews-vectors-negative300.bin.gz’\n",
            "\n",
            "GoogleNews-vectors- 100%[===================>]   1.53G  54.6MB/s    in 38s     \n",
            "\n",
            "2022-01-24 17:54:39 (41.2 MB/s) - ‘GoogleNews-vectors-negative300.bin.gz’ saved [1647046227/1647046227]\n",
            "\n"
          ]
        }
      ],
      "source": [
        "!wget https://s3.amazonaws.com/dl4j-distribution/GoogleNews-vectors-negative300.bin.gz "
      ]
    },
    {
      "cell_type": "code",
      "source": [
        "!gunzip /content/GoogleNews-vectors-negative300.bin.gz"
      ],
      "metadata": {
        "id": "FvACt9RCmYMZ"
      },
      "execution_count": 2,
      "outputs": []
    },
    {
      "cell_type": "code",
      "source": [
        "import gensim.models.keyedvectors as word2vec\n",
        "from sklearn.metrics.pairwise import cosine_similarity\n",
        "import math\n",
        "import numpy as np"
      ],
      "metadata": {
        "id": "EcJKj9r6nl1C"
      },
      "execution_count": 3,
      "outputs": []
    },
    {
      "cell_type": "code",
      "source": [
        "path=\"/content/GoogleNews-vectors-negative300.bin\"\n",
        "model = word2vec.KeyedVectors.load_word2vec_format(path, binary=True)"
      ],
      "metadata": {
        "id": "Up-Do3fUn3sG"
      },
      "execution_count": 4,
      "outputs": []
    },
    {
      "cell_type": "code",
      "source": [
        "def _get_sent_vector(sent: str):\n",
        "  sent_tok = sent.split()\n",
        "  vector = []\n",
        "  for token in sent_tok:\n",
        "    vector.append(model.get_vector(token))\n",
        "\n",
        "  return np.mean(np.array(vector), axis=0)"
      ],
      "metadata": {
        "id": "mJTnN-m-ZaS5"
      },
      "execution_count": 5,
      "outputs": []
    },
    {
      "cell_type": "code",
      "source": [
        "sent_1 = _get_sent_vector(\"this is cat\") # removed 'a' because 'a' isn't \n",
        "sent_2 = _get_sent_vector(\"this is dog\") # removed 'a' "
      ],
      "metadata": {
        "id": "EqxgwSFNacbJ"
      },
      "execution_count": 6,
      "outputs": []
    },
    {
      "cell_type": "code",
      "source": [
        "print(f\"The similarity score {cosine_similarity([sent_1], [sent_2])[0][0]}\")"
      ],
      "metadata": {
        "id": "ghBOjvqSoZLw",
        "outputId": "a8f10d36-f6ca-4060-cab6-ac13605f51af",
        "colab": {
          "base_uri": "https://localhost:8080/"
        }
      },
      "execution_count": 12,
      "outputs": [
        {
          "output_type": "stream",
          "name": "stdout",
          "text": [
            "The similarity score 0.8870273232460022\n"
          ]
        }
      ]
    },
    {
      "cell_type": "code",
      "source": [
        "def get_positional_encoding(pos):\n",
        "    pos_emb = []\n",
        "    d = 300\n",
        "    for i in range(300):\n",
        "        if i % 2 ==0:\n",
        "            pos_emb.append(math.sin(pos/(10000**((2*i)/d))))\n",
        "        else:\n",
        "            pos_emb.append(math.cos(pos/(10000**((2*i)/d))))\n",
        "    return pos_emb"
      ],
      "metadata": {
        "id": "DLmFh6vyq1W_"
      },
      "execution_count": 13,
      "outputs": []
    },
    {
      "cell_type": "code",
      "source": [
        "def _get_sent_vector_with_encoding(sent: str):\n",
        "  sent_tok = sent.split()\n",
        "  vector = []\n",
        "  for idx, token in enumerate(sent_tok):\n",
        "    encoding_vector = get_positional_encoding(idx)\n",
        "    word_vector = model.get_vector(token)\n",
        "    vector.append(np.array(encoding_vector)+ word_vector)\n",
        "  return np.mean(np.array(vector), axis=0)"
      ],
      "metadata": {
        "id": "SsfEQBn6q5UL"
      },
      "execution_count": 18,
      "outputs": []
    },
    {
      "cell_type": "code",
      "source": [
        "sent_vec1 = _get_sent_vector_with_encoding(sent=\"this cat is black color\")\n",
        "sent_vec2 = _get_sent_vector_with_encoding(sent=\"this dog jumps over the mat\")"
      ],
      "metadata": {
        "id": "2_ULZPW6RUwa"
      },
      "execution_count": 28,
      "outputs": []
    },
    {
      "cell_type": "code",
      "source": [
        "cosine_similarity([sent_vec1], [sent_vec2])"
      ],
      "metadata": {
        "id": "Lqafxi6_q_1d",
        "outputId": "6b404b5c-e18c-4223-c5b1-e06724a28017",
        "colab": {
          "base_uri": "https://localhost:8080/"
        }
      },
      "execution_count": 29,
      "outputs": [
        {
          "output_type": "execute_result",
          "data": {
            "text/plain": [
              "array([[0.99195351]])"
            ]
          },
          "metadata": {},
          "execution_count": 29
        }
      ]
    },
    {
      "cell_type": "code",
      "source": [
        ""
      ],
      "metadata": {
        "id": "3WiwiUtPYgeC"
      },
      "execution_count": null,
      "outputs": []
    }
  ]
}