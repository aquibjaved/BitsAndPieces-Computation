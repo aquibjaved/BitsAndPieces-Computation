{
  "nbformat": 4,
  "nbformat_minor": 0,
  "metadata": {
    "colab": {
      "provenance": [],
      "authorship_tag": "ABX9TyNwYETiW9VVQ7sxh33X0wJM",
      "include_colab_link": true
    },
    "kernelspec": {
      "name": "python3",
      "display_name": "Python 3"
    },
    "language_info": {
      "name": "python"
    }
  },
  "cells": [
    {
      "cell_type": "markdown",
      "metadata": {
        "id": "view-in-github",
        "colab_type": "text"
      },
      "source": [
        "<a href=\"https://colab.research.google.com/github/aquibjaved/Bits_and_Pieces_DL/blob/main/Basics_of_lora_implementation-part-1.ipynb\" target=\"_parent\"><img src=\"https://colab.research.google.com/assets/colab-badge.svg\" alt=\"Open In Colab\"/></a>"
      ]
    },
    {
      "cell_type": "code",
      "source": [
        "!apt install graphviz\n",
        "!pip install torchviz"
      ],
      "metadata": {
        "colab": {
          "base_uri": "https://localhost:8080/"
        },
        "id": "XdNsW-BVN1GX",
        "outputId": "37a551f5-7262-46dd-9047-dbce3b6fb865"
      },
      "execution_count": null,
      "outputs": [
        {
          "output_type": "stream",
          "name": "stdout",
          "text": [
            "Reading package lists... Done\n",
            "Building dependency tree... Done\n",
            "Reading state information... Done\n",
            "graphviz is already the newest version (2.42.2-6).\n",
            "0 upgraded, 0 newly installed, 0 to remove and 18 not upgraded.\n",
            "Collecting torchviz\n",
            "  Downloading torchviz-0.0.2.tar.gz (4.9 kB)\n",
            "  Preparing metadata (setup.py) ... \u001b[?25l\u001b[?25hdone\n",
            "Requirement already satisfied: torch in /usr/local/lib/python3.10/dist-packages (from torchviz) (2.1.0+cu118)\n",
            "Requirement already satisfied: graphviz in /usr/local/lib/python3.10/dist-packages (from torchviz) (0.20.1)\n",
            "Requirement already satisfied: filelock in /usr/local/lib/python3.10/dist-packages (from torch->torchviz) (3.12.4)\n",
            "Requirement already satisfied: typing-extensions in /usr/local/lib/python3.10/dist-packages (from torch->torchviz) (4.5.0)\n",
            "Requirement already satisfied: sympy in /usr/local/lib/python3.10/dist-packages (from torch->torchviz) (1.12)\n",
            "Requirement already satisfied: networkx in /usr/local/lib/python3.10/dist-packages (from torch->torchviz) (3.2)\n",
            "Requirement already satisfied: jinja2 in /usr/local/lib/python3.10/dist-packages (from torch->torchviz) (3.1.2)\n",
            "Requirement already satisfied: fsspec in /usr/local/lib/python3.10/dist-packages (from torch->torchviz) (2023.6.0)\n",
            "Requirement already satisfied: triton==2.1.0 in /usr/local/lib/python3.10/dist-packages (from torch->torchviz) (2.1.0)\n",
            "Requirement already satisfied: MarkupSafe>=2.0 in /usr/local/lib/python3.10/dist-packages (from jinja2->torch->torchviz) (2.1.3)\n",
            "Requirement already satisfied: mpmath>=0.19 in /usr/local/lib/python3.10/dist-packages (from sympy->torch->torchviz) (1.3.0)\n",
            "Building wheels for collected packages: torchviz\n",
            "  Building wheel for torchviz (setup.py) ... \u001b[?25l\u001b[?25hdone\n",
            "  Created wheel for torchviz: filename=torchviz-0.0.2-py3-none-any.whl size=4130 sha256=d2e75ddd6631d73c259809e4992b50bf273bfaae12cfb7314470d07781a677e3\n",
            "  Stored in directory: /root/.cache/pip/wheels/4c/97/88/a02973217949e0db0c9f4346d154085f4725f99c4f15a87094\n",
            "Successfully built torchviz\n",
            "Installing collected packages: torchviz\n",
            "Successfully installed torchviz-0.0.2\n"
          ]
        }
      ]
    },
    {
      "cell_type": "code",
      "execution_count": null,
      "metadata": {
        "id": "zt0_bgbJiDqR"
      },
      "outputs": [],
      "source": [
        "import torch\n",
        "from torch import nn, optim\n",
        "import torch.nn.functional as F\n",
        "import torch.nn.utils.parametrize as P\n",
        "from sklearn.datasets import load_iris\n",
        "from torch.utils.data import TensorDataset, DataLoader\n",
        "from sklearn.model_selection import train_test_split\n",
        "import matplotlib.pyplot as plt\n",
        "\n",
        "from sklearn.preprocessing import StandardScaler\n",
        "\n",
        "import matplotlib.pyplot as plt\n",
        "import numpy as np\n",
        "import math\n",
        "from torchviz import make_dot"
      ]
    },
    {
      "cell_type": "code",
      "source": [
        "def prepare_dataset(data, target):\n",
        "  X_train, X_test, y_train, y_test = train_test_split(data, target, test_size=0.2, shuffle=True, stratify=target)\n",
        "  # Convert the data and target to torch tensors\n",
        "  X_train_tensor = torch.tensor(X_train, dtype=torch.float32)\n",
        "  y_train_tensor = torch.tensor(y_train, dtype=torch.long)\n",
        "\n",
        "  X_test_tensor = torch.tensor(X_test, dtype=torch.float32)\n",
        "  y_test_tensor = torch.tensor(y_test, dtype=torch.long)\n",
        "\n",
        "\n",
        "  # Create a TensorDataset and DataLoader\n",
        "  dataset_train = TensorDataset(X_train_tensor, y_train_tensor)\n",
        "  loader_train = DataLoader(dataset_train, batch_size=4, shuffle=True)\n",
        "\n",
        "  dataset_test = TensorDataset(X_test_tensor, y_test_tensor)\n",
        "  loader_test = DataLoader(dataset_test, batch_size=4, shuffle=True)\n",
        "\n",
        "  return loader_train, loader_test\n",
        "\n",
        "\n",
        "def plot_loss(smoothed_train_loss, smoothed_test_loss):\n",
        "\n",
        "  # Now plot the smoothed data\n",
        "  plt.figure(figsize=(5, 5))\n",
        "  plt.plot(smoothed_train_loss, label='Smoothed Training Loss')\n",
        "  plt.plot(smoothed_test_loss, label='Smoothed Validation Loss')\n",
        "  # Adjust the x-axis labels to account for the reduced size of the smoothed data\n",
        "  plt.xlabel('Epochs (adjusted)')\n",
        "  plt.ylabel('Loss')\n",
        "  plt.legend()\n",
        "  plt.show()\n",
        "\n",
        "\n",
        "\n",
        "def compute_accuracy(model, data_loader):\n",
        "    model.eval()  # Set the model to evaluation mode\n",
        "    correct_preds = 0\n",
        "    total_preds = 0\n",
        "    labels = []\n",
        "    with torch.no_grad():  # Disable gradient computation\n",
        "        for data_batch, target_batch in data_loader:\n",
        "            # Pass the data through the model\n",
        "            outputs = model(data_batch)\n",
        "            # Get the predicted class labels\n",
        "            _, predicted_labels = torch.max(outputs, dim=1)\n",
        "            # Update the counts of correct and total predictions\n",
        "            correct_preds += (predicted_labels == target_batch).sum().item()\n",
        "            total_preds += target_batch.size(0)\n",
        "\n",
        "    # Compute the accuracy\n",
        "    accuracy = correct_preds / total_preds\n",
        "    return accuracy\n",
        "\n",
        "def moving_average(data, window_size):\n",
        "    \"\"\"Compute a moving average over the data with the specified window size.\"\"\"\n",
        "    return np.convolve(data, np.ones(window_size)/window_size, mode='valid')"
      ],
      "metadata": {
        "id": "8kxIMM5XJFdM"
      },
      "execution_count": null,
      "outputs": []
    },
    {
      "cell_type": "code",
      "source": [
        "\n",
        "class MyBiGNet(nn.Module):\n",
        "  def __init__(self, input_dims, num_class):\n",
        "    super().__init__()\n",
        "    self.input_dims = input_dims\n",
        "    self.num_class = num_class\n",
        "    self.input_layer = nn.Linear(in_features=self.input_dims, out_features=16)\n",
        "    self.hidden_layer = nn.Linear(in_features=16, out_features=8)\n",
        "    self.fc = nn.Linear(in_features=8, out_features=self.num_class)\n",
        "\n",
        "  def forward(self, x):\n",
        "    out = F.relu(self.input_layer(x))\n",
        "    out = F.relu(self.hidden_layer(out))\n",
        "    out = self.fc(out)\n",
        "    return out\n"
      ],
      "metadata": {
        "id": "gJ2xSELaSi16"
      },
      "execution_count": null,
      "outputs": []
    },
    {
      "cell_type": "code",
      "source": [],
      "metadata": {
        "id": "ce6xq3rZYNrC"
      },
      "execution_count": null,
      "outputs": []
    },
    {
      "cell_type": "code",
      "source": [
        "def train_model(epochs:int, train_loader, test_loader, model, optimizer, criterion):\n",
        "  train_loss_per_epoch = []\n",
        "  test_loss_per_epoch = []\n",
        "\n",
        "  for epoch in range(epochs):\n",
        "    model.train()\n",
        "    running_loss_train = 0.0\n",
        "\n",
        "    for data_batch, target_batch in train_loader:\n",
        "        optimizer.zero_grad()\n",
        "        output = model(data_batch)\n",
        "        loss_train = criterion(output, target_batch)\n",
        "        loss_train.backward()\n",
        "        optimizer.step()\n",
        "        running_loss_train += loss_train.item()\n",
        "\n",
        "    epcoh_loss_train = running_loss_train / len(train_loader)\n",
        "\n",
        "    train_loss_per_epoch.append(epcoh_loss_train)\n",
        "\n",
        "    model.eval()\n",
        "    running_loss_test = 0.0\n",
        "\n",
        "    with torch.no_grad():\n",
        "        for data_batch, target_batch in test_loader:\n",
        "\n",
        "            output = model(data_batch)\n",
        "            loss_test = criterion(output, target_batch)\n",
        "            running_loss_test += loss_test.item()\n",
        "\n",
        "    epoch_loss_val = running_loss_test / len(test_loader)\n",
        "\n",
        "    if epoch % 20 == 0:\n",
        "      print(f'Epoch {epoch} Train loss {epcoh_loss_train}: Test loss {epoch_loss_val}')\n",
        "\n",
        "    test_loss_per_epoch.append(epoch_loss_val)\n",
        "\n",
        "  return train_loss_per_epoch, test_loss_per_epoch\n"
      ],
      "metadata": {
        "id": "zVpGo0qci1Fg"
      },
      "execution_count": null,
      "outputs": []
    },
    {
      "cell_type": "code",
      "source": [
        "\n",
        "# PENGUIN DATA\n",
        "import pandas as pd\n",
        "\n",
        "penguins_df = pd.read_csv(\"/content/penguins-clean-all.csv.1\")\n",
        "\n",
        "#change string value to numeric\n",
        "penguins_df.loc[penguins_df['species']=='Adelie', 'species']=0\n",
        "penguins_df.loc[penguins_df['species']=='Gentoo', 'species']=1\n",
        "penguins_df.loc[penguins_df['species']=='Chinstrap', 'species']=2\n",
        "penguins_df = penguins_df.apply(pd.to_numeric)\n",
        "\n",
        "#change dataframe to array\n",
        "datatrain_array = penguins_df.values\n",
        "\n",
        "#split x and y (feature and target)\n",
        "features = datatrain_array[:,1:]\n",
        "target = datatrain_array[:,0]\n"
      ],
      "metadata": {
        "id": "rjo_7TKSYamd"
      },
      "execution_count": null,
      "outputs": []
    },
    {
      "cell_type": "code",
      "source": [
        "penguins_df.shape"
      ],
      "metadata": {
        "colab": {
          "base_uri": "https://localhost:8080/"
        },
        "id": "p3jy9i1sZ0Sl",
        "outputId": "de498016-8901-4370-87c5-5533fb72a700"
      },
      "execution_count": null,
      "outputs": [
        {
          "output_type": "execute_result",
          "data": {
            "text/plain": [
              "(342, 5)"
            ]
          },
          "metadata": {},
          "execution_count": 64
        }
      ]
    },
    {
      "cell_type": "code",
      "source": [
        "BigGeneralModel = MyBiGNet(input_dims=4, num_class=3)\n",
        "\n",
        "optimizer = optim.SGD(BigGeneralModel.parameters(), lr=0.011, momentum=0.9)\n",
        "criterion = nn.CrossEntropyLoss()\n",
        "\n",
        "trainable_params = sum(p.numel() for p in BigGeneralModel.parameters() if p.requires_grad)\n",
        "print(f'Number of trainable (tunable) parameters: {trainable_params}')\n"
      ],
      "metadata": {
        "colab": {
          "base_uri": "https://localhost:8080/"
        },
        "id": "CsMfLuchZezD",
        "outputId": "27adb879-abf9-4038-c151-06e56d519f69"
      },
      "execution_count": null,
      "outputs": [
        {
          "output_type": "stream",
          "name": "stdout",
          "text": [
            "Number of trainable (tunable) parameters: 243\n"
          ]
        }
      ]
    },
    {
      "cell_type": "code",
      "source": [
        "\n",
        "#standardize\n",
        "#palmer-penguin dataset has varying scales\n",
        "scaler = StandardScaler()\n",
        "data = scaler.fit_transform(features)\n",
        "\n",
        "# Train model\n",
        "loader_train, loader_test = prepare_dataset(data, target)\n",
        "trainLoss, test_loss = train_model(epochs=200, train_loader=loader_train, test_loader=loader_test, optimizer = optimizer, criterion=criterion,  model=BigGeneralModel)\n",
        "\n",
        "window_size = 15 # for moving avg\n",
        "\n",
        "smoothed_train_loss = moving_average(trainLoss, window_size)\n",
        "smoothed_test_loss = moving_average(test_loss, window_size)\n",
        "\n",
        "plot_loss(smoothed_train_loss, smoothed_test_loss)\n",
        "\n",
        "# Assume model and test_loader are defined as in your previous code\n",
        "accuracy = compute_accuracy(BigGeneralModel, loader_test)\n",
        "print(f'Accuracy: {accuracy * 100:.2f}%')\n"
      ],
      "metadata": {
        "colab": {
          "base_uri": "https://localhost:8080/",
          "height": 661
        },
        "id": "HdEYvF9yYUoy",
        "outputId": "e83fe425-c34e-4876-f83d-944b886e9492"
      },
      "execution_count": null,
      "outputs": [
        {
          "output_type": "stream",
          "name": "stdout",
          "text": [
            "Epoch 0 Train loss 0.9284091319726862: Test loss 0.48663923889398575\n",
            "Epoch 20 Train loss 0.08762071850280856: Test loss 0.08061399994080097\n",
            "Epoch 40 Train loss 0.012530672362819805: Test loss 0.01295209955873765\n",
            "Epoch 60 Train loss 0.008706768730221533: Test loss 0.011782954028401744\n",
            "Epoch 80 Train loss 0.011320791806350693: Test loss 0.0023859001992434514\n",
            "Epoch 100 Train loss 0.006711883271849676: Test loss 0.012419585072174123\n",
            "Epoch 120 Train loss 0.005368891779587152: Test loss 0.015733223665834198\n",
            "Epoch 140 Train loss 0.006000980733262223: Test loss 0.004074318012980329\n",
            "Epoch 160 Train loss 0.005111489021214853: Test loss 0.011654428608075109\n",
            "Epoch 180 Train loss 0.005629426652986177: Test loss 0.021163266110105796\n"
          ]
        },
        {
          "output_type": "display_data",
          "data": {
            "text/plain": [
              "<Figure size 500x500 with 1 Axes>"
            ],
            "image/png": "[encoded data removed]"
          },
          "metadata": {}
        },
        {
          "output_type": "stream",
          "name": "stdout",
          "text": [
            "Accuracy: 98.55%\n"
          ]
        }
      ]
    },
    {
      "cell_type": "code",
      "source": [
        "torch.zeros(2, 5)"
      ],
      "metadata": {
        "colab": {
          "base_uri": "https://localhost:8080/"
        },
        "id": "clGcp1M9vmX7",
        "outputId": "97cf7843-0f36-4c8a-b66d-9501eb05e5b3"
      },
      "execution_count": null,
      "outputs": [
        {
          "output_type": "execute_result",
          "data": {
            "text/plain": [
              "tensor([[0., 0., 0., 0., 0.],\n",
              "        [0., 0., 0., 0., 0.]])"
            ]
          },
          "metadata": {},
          "execution_count": 29
        }
      ]
    },
    {
      "cell_type": "code",
      "source": [
        "total_parameters_original = 0\n",
        "for index, layer in enumerate([BigGeneralModel.input_layer, BigGeneralModel.hidden_layer, BigGeneralModel.fc]):\n",
        "    total_parameters_original += layer.weight.nelement() + layer.bias.nelement()\n",
        "    print(f'Layer {index+1}: W: {layer.weight.shape} + B: {layer.bias.shape}')\n",
        "print(f'Total number of parameters: {total_parameters_original:,}')"
      ],
      "metadata": {
        "colab": {
          "base_uri": "https://localhost:8080/"
        },
        "id": "DvLBPg4u8UNT",
        "outputId": "b1ee3e2c-350a-4717-ac2d-3c203157a9ef"
      },
      "execution_count": null,
      "outputs": [
        {
          "output_type": "stream",
          "name": "stdout",
          "text": [
            "Layer 1: W: torch.Size([16, 4]) + B: torch.Size([16])\n",
            "Layer 2: W: torch.Size([8, 16]) + B: torch.Size([8])\n",
            "Layer 3: W: torch.Size([3, 8]) + B: torch.Size([3])\n",
            "Total number of parameters: 243\n"
          ]
        }
      ]
    },
    {
      "cell_type": "code",
      "source": [
        "# saving the original model weights\n",
        "\n",
        "original_weights = {}\n",
        "for name, parm in BigGeneralModel.named_parameters():\n",
        "  original_weights[name] = parm.clone()"
      ],
      "metadata": {
        "id": "bHPFGzTKr4l9"
      },
      "execution_count": null,
      "outputs": []
    },
    {
      "cell_type": "code",
      "source": [
        "original_weights"
      ],
      "metadata": {
        "id": "Ts3GUTac-3Jg"
      },
      "execution_count": null,
      "outputs": []
    },
    {
      "cell_type": "code",
      "source": [
        "class LoRaParametarization(nn.Module):\n",
        "\n",
        "    def __init__(self, r: int, lora_alpha: int, feature_in: int, feature_out:int):\n",
        "        super().__init__()\n",
        "        self.r = r\n",
        "        self.lora_alpha = lora_alpha\n",
        "\n",
        "        self.lora_A = nn.Parameter(torch.zeros(r, feature_out))\n",
        "        self.lora_B = nn.Parameter(torch.zeros(feature_in, r))\n",
        "        nn.init.normal_(self.lora_A, mean=0, std=1)\n",
        "\n",
        "        self.scale = self.lora_alpha / self.r\n",
        "        self.lora_enabled = True\n",
        "\n",
        "    def forward(self, original_weights):\n",
        "\n",
        "      if self.lora_enabled:\n",
        "        return original_weights + torch.matmul(self.lora_B , self.lora_A).view(original_weights.shape) * self.scale\n",
        "\n",
        "      return original_weights\n",
        "\n",
        "\n",
        "def linear_layer_parameterization(layer, r:int=1, lora_alpha:int=1):\n",
        "\n",
        "  feature_in, feature_out = layer.weight.shape\n",
        "\n",
        "  return LoRaParametarization(r=r, lora_alpha=lora_alpha, feature_in=feature_in, feature_out=feature_out)\n",
        "\n",
        "P.register_parametrization(BigGeneralModel.input_layer, \"weight\", linear_layer_parameterization(BigGeneralModel.input_layer))\n",
        "P.register_parametrization(BigGeneralModel.hidden_layer, \"weight\", linear_layer_parameterization(BigGeneralModel.hidden_layer))\n",
        "P.register_parametrization(BigGeneralModel.fc, \"weight\", linear_layer_parameterization(BigGeneralModel.fc))\n",
        "\n",
        "def enable_disable_lora(enabled=True):\n",
        "  for layer in [BigGeneralModel.input_layer, BigGeneralModel.hidden_layer, BigGeneralModel.fc]:\n",
        "    layer.parametrizations[\"weight\"][0].enabled = enabled"
      ],
      "metadata": {
        "id": "gcP02pDcuNfL"
      },
      "execution_count": null,
      "outputs": []
    },
    {
      "cell_type": "code",
      "source": [
        "total_parameters_lora = 0\n",
        "total_parameters_non_lora = 0\n",
        "for index, layer in enumerate([BigGeneralModel.input_layer, BigGeneralModel.hidden_layer, BigGeneralModel.fc]):\n",
        "    total_parameters_lora += layer.parametrizations[\"weight\"][0].lora_A.nelement() + layer.parametrizations[\"weight\"][0].lora_B.nelement()\n",
        "    total_parameters_non_lora += layer.weight.nelement() + layer.bias.nelement()\n",
        "    print(\n",
        "        f'Layer {index+1}: W: {layer.weight.shape} + B: {layer.bias.shape} + Lora_A: {layer.parametrizations[\"weight\"][0].lora_A.shape} + Lora_B: {layer.parametrizations[\"weight\"][0].lora_B.shape}'\n",
        "    )\n",
        "# The non-LoRA parameters count must match the original network\n",
        "assert total_parameters_non_lora == total_parameters_original\n",
        "print(f'Total number of parameters (original): {total_parameters_non_lora:,}')\n",
        "print(f'Total number of parameters (original + LoRA): {total_parameters_lora + total_parameters_non_lora:,}')\n",
        "print(f'Parameters introduced by LoRA: {total_parameters_lora:,}')\n",
        "parameters_incremment = (total_parameters_lora / total_parameters_non_lora) * 100\n",
        "print(f'Parameters incremment: {parameters_incremment:.3f}%')"
      ],
      "metadata": {
        "colab": {
          "base_uri": "https://localhost:8080/"
        },
        "id": "MKVorzEYuF8y",
        "outputId": "c9157872-3941-44ec-ce77-ebb9156dcf15"
      },
      "execution_count": null,
      "outputs": [
        {
          "output_type": "stream",
          "name": "stdout",
          "text": [
            "Layer 1: W: torch.Size([16, 4]) + B: torch.Size([16]) + Lora_A: torch.Size([1, 4]) + Lora_B: torch.Size([16, 1])\n",
            "Layer 2: W: torch.Size([8, 16]) + B: torch.Size([8]) + Lora_A: torch.Size([1, 16]) + Lora_B: torch.Size([8, 1])\n",
            "Layer 3: W: torch.Size([3, 8]) + B: torch.Size([3]) + Lora_A: torch.Size([1, 8]) + Lora_B: torch.Size([3, 1])\n",
            "Total number of parameters (original): 243\n",
            "Total number of parameters (original + LoRA): 298\n",
            "Parameters introduced by LoRA: 55\n",
            "Parameters incremment: 22.634%\n"
          ]
        }
      ]
    },
    {
      "cell_type": "code",
      "source": [],
      "metadata": {
        "id": "LIByl1UL-EuC"
      },
      "execution_count": null,
      "outputs": []
    },
    {
      "cell_type": "code",
      "source": [
        "enable_disable_lora(enabled=True)"
      ],
      "metadata": {
        "id": "TvMznK-D-Bpi"
      },
      "execution_count": null,
      "outputs": []
    },
    {
      "cell_type": "code",
      "source": [],
      "metadata": {
        "id": "JpDEdQoC_YVW"
      },
      "execution_count": null,
      "outputs": []
    },
    {
      "cell_type": "code",
      "source": [
        "# Check that the frozen parameters are still unchanged by the finetuning\n",
        "assert torch.all(BigGeneralModel.input_layer.parametrizations.weight.original == original_weights['input_layer.weight'])\n",
        "assert torch.all(BigGeneralModel.hidden_layer.parametrizations.weight.original == original_weights['hidden_layer.weight'])\n",
        "assert torch.all(BigGeneralModel.fc.parametrizations.weight.original == original_weights['fc.weight'])\n",
        "\n",
        "enable_disable_lora(enabled=True)\n",
        "# The new linear1.weight is obtained by the \"forward\" function of our LoRA parametrization\n",
        "# The original weights have been moved to net.linear1.parametrizations.weight.original\n",
        "# More info here: https://pytorch.org/tutorials/intermediate/parametrizations.html#inspecting-a-parametrized-module\n",
        "# assert torch.equal(BigGeneralModel.input_layer.weight, BigGeneralModel.input_layer.parametrizations.weight.original + (BigGeneralModel.input_layer.parametrizations.weight[0].lora_B @ BigGeneralModel.hidden_layer.parametrizations.weight[0].lora_A) * BigGeneralModel.hidden_layer.parametrizations.weight[0].scale)\n",
        "\n",
        "enable_disable_lora(enabled=False)\n",
        "# If we disable LoRA, the linear1.weight is the original one\n",
        "assert torch.equal(BigGeneralModel.hidden_layer.weight, original_weights['hidden_layer.weight'])\n"
      ],
      "metadata": {
        "id": "l8vatj-W8sVZ"
      },
      "execution_count": null,
      "outputs": []
    },
    {
      "cell_type": "code",
      "source": [
        "enable_disable_lora(enabled=True)\n"
      ],
      "metadata": {
        "id": "Nly_RYDEAKto"
      },
      "execution_count": null,
      "outputs": []
    },
    {
      "cell_type": "code",
      "source": [],
      "metadata": {
        "colab": {
          "base_uri": "https://localhost:8080/"
        },
        "id": "hfXuJgl4Afps",
        "outputId": "33aa8460-f732-4e1e-8ef7-4a267b92ff5b"
      },
      "execution_count": null,
      "outputs": [
        {
          "output_type": "execute_result",
          "data": {
            "text/plain": [
              "MyBiGNet(\n",
              "  (input_layer): ParametrizedLinear(\n",
              "    in_features=4, out_features=16, bias=True\n",
              "    (parametrizations): ModuleDict(\n",
              "      (weight): ParametrizationList(\n",
              "        (0-1): 2 x LoRaParametarization()\n",
              "      )\n",
              "    )\n",
              "  )\n",
              "  (hidden_layer): ParametrizedLinear(\n",
              "    in_features=16, out_features=8, bias=True\n",
              "    (parametrizations): ModuleDict(\n",
              "      (weight): ParametrizationList(\n",
              "        (0-1): 2 x LoRaParametarization()\n",
              "      )\n",
              "    )\n",
              "  )\n",
              "  (fc): ParametrizedLinear(\n",
              "    in_features=8, out_features=3, bias=True\n",
              "    (parametrizations): ModuleDict(\n",
              "      (weight): ParametrizationList(\n",
              "        (0-1): 2 x LoRaParametarization()\n",
              "      )\n",
              "    )\n",
              "  )\n",
              ")"
            ]
          },
          "metadata": {},
          "execution_count": 85
        }
      ]
    },
    {
      "cell_type": "code",
      "source": [
        "# Freeze the non-Lora parameters\n",
        "for name, param in BigGeneralModel.named_parameters():\n",
        "    if 'lora' not in name:\n",
        "        print(f'Freezing non-LoRA parameter {name}')\n",
        "        param.requires_grad = False\n",
        "\n",
        "\n",
        "\n",
        "# Train the network with LoRA only on the digit 9 and only for 100 batches (hoping that it would improve the performance on the digit 9)\n",
        "# train(train_loader, net, epochs=1, total_iterations_limit=100)"
      ],
      "metadata": {
        "colab": {
          "base_uri": "https://localhost:8080/"
        },
        "id": "doWZkkwEA3yU",
        "outputId": "7afee9d9-292a-4ab3-facc-4167cad46cf8"
      },
      "execution_count": null,
      "outputs": [
        {
          "output_type": "stream",
          "name": "stdout",
          "text": [
            "Freezing non-LoRA parameter input_layer.bias\n",
            "Freezing non-LoRA parameter input_layer.parametrizations.weight.original\n",
            "Freezing non-LoRA parameter hidden_layer.bias\n",
            "Freezing non-LoRA parameter hidden_layer.parametrizations.weight.original\n",
            "Freezing non-LoRA parameter fc.bias\n",
            "Freezing non-LoRA parameter fc.parametrizations.weight.original\n"
          ]
        }
      ]
    },
    {
      "cell_type": "code",
      "source": [
        "# Load the Iris dataset\n",
        "iris = load_iris()\n",
        "data, target = iris.data, iris.target\n",
        "\n",
        "# Train model\n",
        "loader_train, loader_test = prepare_dataset(data, target)\n",
        "trainLoss, test_loss = train_model(epochs=200, train_loader=loader_train, test_loader=loader_test, optimizer = optimizer, criterion=criterion,  model=BigGeneralModel)\n",
        "\n",
        "window_size = 15 # for moving avg\n",
        "\n",
        "smoothed_train_loss = moving_average(trainLoss, window_size)\n",
        "smoothed_test_loss = moving_average(test_loss, window_size)\n",
        "\n",
        "plot_loss(smoothed_train_loss, smoothed_test_loss)\n",
        "\n",
        "# Assume model and test_loader are defined as in your previous code\n",
        "accuracy = compute_accuracy(BigGeneralModel, loader_test)\n",
        "print(f'Accuracy: {accuracy * 100:.2f}%')\n"
      ],
      "metadata": {
        "colab": {
          "base_uri": "https://localhost:8080/",
          "height": 661
        },
        "id": "tchh4ygQkD6H",
        "outputId": "f74828fd-ff60-45b9-e3d7-ab501713836b"
      },
      "execution_count": null,
      "outputs": [
        {
          "output_type": "stream",
          "name": "stdout",
          "text": [
            "Epoch 0 Train loss 18.80442433357239: Test loss 18.300975441932678\n",
            "Epoch 20 Train loss 18.80442433357239: Test loss 18.300976037979126\n",
            "Epoch 40 Train loss 18.804424174626668: Test loss 17.240384832024574\n",
            "Epoch 60 Train loss 18.804424341519674: Test loss 17.855796366930008\n",
            "Epoch 80 Train loss 18.80442419052124: Test loss 18.33697783946991\n",
            "Epoch 100 Train loss 18.804424319263976: Test loss 17.836857110261917\n",
            "Epoch 120 Train loss 18.804424397150676: Test loss 19.05339753627777\n",
            "Epoch 140 Train loss 18.804424254099526: Test loss 18.916388034820557\n",
            "Epoch 160 Train loss 18.80442429141452: Test loss 18.377208828926086\n",
            "Epoch 180 Train loss 18.80442452430725: Test loss 17.6412273645401\n"
          ]
        },
        {
          "output_type": "display_data",
          "data": {
            "text/plain": [
              "<Figure size 500x500 with 1 Axes>"
            ],
            "image/png": "[encoded data removed]"
          },
          "metadata": {}
        },
        {
          "output_type": "stream",
          "name": "stdout",
          "text": [
            "Accuracy: 33.33%\n"
          ]
        }
      ]
    },
    {
      "cell_type": "code",
      "source": [],
      "metadata": {
        "id": "aeKuZ65ygtQe"
      },
      "execution_count": null,
      "outputs": []
    },
    {
      "cell_type": "code",
      "source": [
        "penguins_df"
      ],
      "metadata": {
        "colab": {
          "base_uri": "https://localhost:8080/",
          "height": 424
        },
        "id": "A4jT34YezJmx",
        "outputId": "8141c5c4-c9db-4405-8562-a22d5b27c7ff"
      },
      "execution_count": null,
      "outputs": [
        {
          "output_type": "execute_result",
          "data": {
            "text/plain": [
              "       species  bill_length_mm  bill_depth_mm  flipper_length_mm  body_mass_g\n",
              "0       Adelie            39.1           18.7                181         3750\n",
              "1       Adelie            39.5           17.4                186         3800\n",
              "2       Adelie            40.3           18.0                195         3250\n",
              "3       Adelie            36.7           19.3                193         3450\n",
              "4       Adelie            39.3           20.6                190         3650\n",
              "..         ...             ...            ...                ...          ...\n",
              "337  Chinstrap            55.8           19.8                207         4000\n",
              "338  Chinstrap            43.5           18.1                202         3400\n",
              "339  Chinstrap            49.6           18.2                193         3775\n",
              "340  Chinstrap            50.8           19.0                210         4100\n",
              "341  Chinstrap            50.2           18.7                198         3775\n",
              "\n",
              "[342 rows x 5 columns]"
            ],
            "text/html": [
              "\n",
              "  <div id=\"df-cedd4021-26fc-4af2-a1ea-6dfaadc3dad4\" class=\"colab-df-container\">\n",
              "    <div>\n",
              "<style scoped>\n",
              "    .dataframe tbody tr th:only-of-type {\n",
              "        vertical-align: middle;\n",
              "    }\n",
              "\n",
              "    .dataframe tbody tr th {\n",
              "        vertical-align: top;\n",
              "    }\n",
              "\n",
              "    .dataframe thead th {\n",
              "        text-align: right;\n",
              "    }\n",
              "</style>\n",
              "<table border=\"1\" class=\"dataframe\">\n",
              "  <thead>\n",
              "    <tr style=\"text-align: right;\">\n",
              "      <th></th>\n",
              "      <th>species</th>\n",
              "      <th>bill_length_mm</th>\n",
              "      <th>bill_depth_mm</th>\n",
              "      <th>flipper_length_mm</th>\n",
              "      <th>body_mass_g</th>\n",
              "    </tr>\n",
              "  </thead>\n",
              "  <tbody>\n",
              "    <tr>\n",
              "      <th>0</th>\n",
              "      <td>Adelie</td>\n",
              "      <td>39.1</td>\n",
              "      <td>18.7</td>\n",
              "      <td>181</td>\n",
              "      <td>3750</td>\n",
              "    </tr>\n",
              "    <tr>\n",
              "      <th>1</th>\n",
              "      <td>Adelie</td>\n",
              "      <td>39.5</td>\n",
              "      <td>17.4</td>\n",
              "      <td>186</td>\n",
              "      <td>3800</td>\n",
              "    </tr>\n",
              "    <tr>\n",
              "      <th>2</th>\n",
              "      <td>Adelie</td>\n",
              "      <td>40.3</td>\n",
              "      <td>18.0</td>\n",
              "      <td>195</td>\n",
              "      <td>3250</td>\n",
              "    </tr>\n",
              "    <tr>\n",
              "      <th>3</th>\n",
              "      <td>Adelie</td>\n",
              "      <td>36.7</td>\n",
              "      <td>19.3</td>\n",
              "      <td>193</td>\n",
              "      <td>3450</td>\n",
              "    </tr>\n",
              "    <tr>\n",
              "      <th>4</th>\n",
              "      <td>Adelie</td>\n",
              "      <td>39.3</td>\n",
              "      <td>20.6</td>\n",
              "      <td>190</td>\n",
              "      <td>3650</td>\n",
              "    </tr>\n",
              "    <tr>\n",
              "      <th>...</th>\n",
              "      <td>...</td>\n",
              "      <td>...</td>\n",
              "      <td>...</td>\n",
              "      <td>...</td>\n",
              "      <td>...</td>\n",
              "    </tr>\n",
              "    <tr>\n",
              "      <th>337</th>\n",
              "      <td>Chinstrap</td>\n",
              "      <td>55.8</td>\n",
              "      <td>19.8</td>\n",
              "      <td>207</td>\n",
              "      <td>4000</td>\n",
              "    </tr>\n",
              "    <tr>\n",
              "      <th>338</th>\n",
              "      <td>Chinstrap</td>\n",
              "      <td>43.5</td>\n",
              "      <td>18.1</td>\n",
              "      <td>202</td>\n",
              "      <td>3400</td>\n",
              "    </tr>\n",
              "    <tr>\n",
              "      <th>339</th>\n",
              "      <td>Chinstrap</td>\n",
              "      <td>49.6</td>\n",
              "      <td>18.2</td>\n",
              "      <td>193</td>\n",
              "      <td>3775</td>\n",
              "    </tr>\n",
              "    <tr>\n",
              "      <th>340</th>\n",
              "      <td>Chinstrap</td>\n",
              "      <td>50.8</td>\n",
              "      <td>19.0</td>\n",
              "      <td>210</td>\n",
              "      <td>4100</td>\n",
              "    </tr>\n",
              "    <tr>\n",
              "      <th>341</th>\n",
              "      <td>Chinstrap</td>\n",
              "      <td>50.2</td>\n",
              "      <td>18.7</td>\n",
              "      <td>198</td>\n",
              "      <td>3775</td>\n",
              "    </tr>\n",
              "  </tbody>\n",
              "</table>\n",
              "<p>342 rows × 5 columns</p>\n",
              "</div>\n",
              "    <div class=\"colab-df-buttons\">\n",
              "\n",
              "  <div class=\"colab-df-container\">\n",
              "    <button class=\"colab-df-convert\" onclick=\"convertToInteractive('df-cedd4021-26fc-4af2-a1ea-6dfaadc3dad4')\"\n",
              "            title=\"Convert this dataframe to an interactive table.\"\n",
              "            style=\"display:none;\">\n",
              "\n",
              "  <svg xmlns=\"http://www.w3.org/2000/svg\" height=\"24px\" viewBox=\"0 -960 960 960\">\n",
              "    <path d=\"M120-120v-720h720v720H120Zm60-500h600v-160H180v160Zm220 220h160v-160H400v160Zm0 220h160v-160H400v160ZM180-400h160v-160H180v160Zm440 0h160v-160H620v160ZM180-180h160v-160H180v160Zm440 0h160v-160H620v160Z\"/>\n",
              "  </svg>\n",
              "    </button>\n",
              "\n",
              "  <style>\n",
              "    .colab-df-container {\n",
              "      display:flex;\n",
              "      gap: 12px;\n",
              "    }\n",
              "\n",
              "    .colab-df-convert {\n",
              "      background-color: #E8F0FE;\n",
              "      border: none;\n",
              "      border-radius: 50%;\n",
              "      cursor: pointer;\n",
              "      display: none;\n",
              "      fill: #1967D2;\n",
              "      height: 32px;\n",
              "      padding: 0 0 0 0;\n",
              "      width: 32px;\n",
              "    }\n",
              "\n",
              "    .colab-df-convert:hover {\n",
              "      background-color: #E2EBFA;\n",
              "      box-shadow: 0px 1px 2px rgba(60, 64, 67, 0.3), 0px 1px 3px 1px rgba(60, 64, 67, 0.15);\n",
              "      fill: #174EA6;\n",
              "    }\n",
              "\n",
              "    .colab-df-buttons div {\n",
              "      margin-bottom: 4px;\n",
              "    }\n",
              "\n",
              "    [theme=dark] .colab-df-convert {\n",
              "      background-color: #3B4455;\n",
              "      fill: #D2E3FC;\n",
              "    }\n",
              "\n",
              "    [theme=dark] .colab-df-convert:hover {\n",
              "      background-color: #434B5C;\n",
              "      box-shadow: 0px 1px 3px 1px rgba(0, 0, 0, 0.15);\n",
              "      filter: drop-shadow(0px 1px 2px rgba(0, 0, 0, 0.3));\n",
              "      fill: #FFFFFF;\n",
              "    }\n",
              "  </style>\n",
              "\n",
              "    <script>\n",
              "      const buttonEl =\n",
              "        document.querySelector('#df-cedd4021-26fc-4af2-a1ea-6dfaadc3dad4 button.colab-df-convert');\n",
              "      buttonEl.style.display =\n",
              "        google.colab.kernel.accessAllowed ? 'block' : 'none';\n",
              "\n",
              "      async function convertToInteractive(key) {\n",
              "        const element = document.querySelector('#df-cedd4021-26fc-4af2-a1ea-6dfaadc3dad4');\n",
              "        const dataTable =\n",
              "          await google.colab.kernel.invokeFunction('convertToInteractive',\n",
              "                                                    [key], {});\n",
              "        if (!dataTable) return;\n",
              "\n",
              "        const docLinkHtml = 'Like what you see? Visit the ' +\n",
              "          '<a target=\"_blank\" href=https://colab.research.google.com/notebooks/data_table.ipynb>data table notebook</a>'\n",
              "          + ' to learn more about interactive tables.';\n",
              "        element.innerHTML = '';\n",
              "        dataTable['output_type'] = 'display_data';\n",
              "        await google.colab.output.renderOutput(dataTable, element);\n",
              "        const docLink = document.createElement('div');\n",
              "        docLink.innerHTML = docLinkHtml;\n",
              "        element.appendChild(docLink);\n",
              "      }\n",
              "    </script>\n",
              "  </div>\n",
              "\n",
              "\n",
              "<div id=\"df-2a196769-c792-43ca-ba9b-139693ce913d\">\n",
              "  <button class=\"colab-df-quickchart\" onclick=\"quickchart('df-2a196769-c792-43ca-ba9b-139693ce913d')\"\n",
              "            title=\"Suggest charts.\"\n",
              "            style=\"display:none;\">\n",
              "\n",
              "<svg xmlns=\"http://www.w3.org/2000/svg\" height=\"24px\"viewBox=\"0 0 24 24\"\n",
              "     width=\"24px\">\n",
              "    <g>\n",
              "        <path d=\"M19 3H5c-1.1 0-2 .9-2 2v14c0 1.1.9 2 2 2h14c1.1 0 2-.9 2-2V5c0-1.1-.9-2-2-2zM9 17H7v-7h2v7zm4 0h-2V7h2v10zm4 0h-2v-4h2v4z\"/>\n",
              "    </g>\n",
              "</svg>\n",
              "  </button>\n",
              "\n",
              "<style>\n",
              "  .colab-df-quickchart {\n",
              "      --bg-color: #E8F0FE;\n",
              "      --fill-color: #1967D2;\n",
              "      --hover-bg-color: #E2EBFA;\n",
              "      --hover-fill-color: #174EA6;\n",
              "      --disabled-fill-color: #AAA;\n",
              "      --disabled-bg-color: #DDD;\n",
              "  }\n",
              "\n",
              "  [theme=dark] .colab-df-quickchart {\n",
              "      --bg-color: #3B4455;\n",
              "      --fill-color: #D2E3FC;\n",
              "      --hover-bg-color: #434B5C;\n",
              "      --hover-fill-color: #FFFFFF;\n",
              "      --disabled-bg-color: #3B4455;\n",
              "      --disabled-fill-color: #666;\n",
              "  }\n",
              "\n",
              "  .colab-df-quickchart {\n",
              "    background-color: var(--bg-color);\n",
              "    border: none;\n",
              "    border-radius: 50%;\n",
              "    cursor: pointer;\n",
              "    display: none;\n",
              "    fill: var(--fill-color);\n",
              "    height: 32px;\n",
              "    padding: 0;\n",
              "    width: 32px;\n",
              "  }\n",
              "\n",
              "  .colab-df-quickchart:hover {\n",
              "    background-color: var(--hover-bg-color);\n",
              "    box-shadow: 0 1px 2px rgba(60, 64, 67, 0.3), 0 1px 3px 1px rgba(60, 64, 67, 0.15);\n",
              "    fill: var(--button-hover-fill-color);\n",
              "  }\n",
              "\n",
              "  .colab-df-quickchart-complete:disabled,\n",
              "  .colab-df-quickchart-complete:disabled:hover {\n",
              "    background-color: var(--disabled-bg-color);\n",
              "    fill: var(--disabled-fill-color);\n",
              "    box-shadow: none;\n",
              "  }\n",
              "\n",
              "  .colab-df-spinner {\n",
              "    border: 2px solid var(--fill-color);\n",
              "    border-color: transparent;\n",
              "    border-bottom-color: var(--fill-color);\n",
              "    animation:\n",
              "      spin 1s steps(1) infinite;\n",
              "  }\n",
              "\n",
              "  @keyframes spin {\n",
              "    0% {\n",
              "      border-color: transparent;\n",
              "      border-bottom-color: var(--fill-color);\n",
              "      border-left-color: var(--fill-color);\n",
              "    }\n",
              "    20% {\n",
              "      border-color: transparent;\n",
              "      border-left-color: var(--fill-color);\n",
              "      border-top-color: var(--fill-color);\n",
              "    }\n",
              "    30% {\n",
              "      border-color: transparent;\n",
              "      border-left-color: var(--fill-color);\n",
              "      border-top-color: var(--fill-color);\n",
              "      border-right-color: var(--fill-color);\n",
              "    }\n",
              "    40% {\n",
              "      border-color: transparent;\n",
              "      border-right-color: var(--fill-color);\n",
              "      border-top-color: var(--fill-color);\n",
              "    }\n",
              "    60% {\n",
              "      border-color: transparent;\n",
              "      border-right-color: var(--fill-color);\n",
              "    }\n",
              "    80% {\n",
              "      border-color: transparent;\n",
              "      border-right-color: var(--fill-color);\n",
              "      border-bottom-color: var(--fill-color);\n",
              "    }\n",
              "    90% {\n",
              "      border-color: transparent;\n",
              "      border-bottom-color: var(--fill-color);\n",
              "    }\n",
              "  }\n",
              "</style>\n",
              "\n",
              "  <script>\n",
              "    async function quickchart(key) {\n",
              "      const quickchartButtonEl =\n",
              "        document.querySelector('#' + key + ' button');\n",
              "      quickchartButtonEl.disabled = true;  // To prevent multiple clicks.\n",
              "      quickchartButtonEl.classList.add('colab-df-spinner');\n",
              "      try {\n",
              "        const charts = await google.colab.kernel.invokeFunction(\n",
              "            'suggestCharts', [key], {});\n",
              "      } catch (error) {\n",
              "        console.error('Error during call to suggestCharts:', error);\n",
              "      }\n",
              "      quickchartButtonEl.classList.remove('colab-df-spinner');\n",
              "      quickchartButtonEl.classList.add('colab-df-quickchart-complete');\n",
              "    }\n",
              "    (() => {\n",
              "      let quickchartButtonEl =\n",
              "        document.querySelector('#df-2a196769-c792-43ca-ba9b-139693ce913d button');\n",
              "      quickchartButtonEl.style.display =\n",
              "        google.colab.kernel.accessAllowed ? 'block' : 'none';\n",
              "    })();\n",
              "  </script>\n",
              "</div>\n",
              "    </div>\n",
              "  </div>\n"
            ]
          },
          "metadata": {},
          "execution_count": 178
        }
      ]
    },
    {
      "cell_type": "code",
      "source": [],
      "metadata": {
        "id": "PREbObX3_Lz5"
      },
      "execution_count": null,
      "outputs": []
    }
  ]
}