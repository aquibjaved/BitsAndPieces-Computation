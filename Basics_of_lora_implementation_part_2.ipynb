{
  "nbformat": 4,
  "nbformat_minor": 0,
  "metadata": {
    "colab": {
      "provenance": [],
      "authorship_tag": "ABX9TyMtJ3jR0Q8ULYRSzEwGqUQ1",
      "include_colab_link": true
    },
    "kernelspec": {
      "name": "python3",
      "display_name": "Python 3"
    },
    "language_info": {
      "name": "python"
    }
  },
  "cells": [
    {
      "cell_type": "markdown",
      "metadata": {
        "id": "view-in-github",
        "colab_type": "text"
      },
      "source": [
        "<a href=\"https://colab.research.google.com/github/aquibjaved/Bits_and_Pieces_DL/blob/main/Basics_of_lora_implementation_part_2.ipynb\" target=\"_parent\"><img src=\"https://colab.research.google.com/assets/colab-badge.svg\" alt=\"Open In Colab\"/></a>"
      ]
    },
    {
      "cell_type": "code",
      "execution_count": 2,
      "metadata": {
        "id": "GUF9hrLcTNy2"
      },
      "outputs": [],
      "source": [
        "import torch\n",
        "from torch import nn, optim\n",
        "import torch.nn.functional as F\n",
        "import torch.nn.utils.parametrize as P\n",
        "from sklearn.datasets import load_iris\n",
        "from torch.utils.data import TensorDataset, DataLoader\n",
        "from sklearn.model_selection import train_test_split\n",
        "import matplotlib.pyplot as plt\n",
        "from torchvision import datasets, transforms\n",
        "from sklearn.preprocessing import StandardScaler\n",
        "\n",
        "import matplotlib.pyplot as plt\n",
        "import numpy as np\n",
        "import math"
      ]
    },
    {
      "cell_type": "code",
      "source": [
        "# Define a transform to normalize the data and flatten each image into a 1D array\n",
        "transform = transforms.Compose([\n",
        "    transforms.ToTensor(),\n",
        "    transforms.Normalize((0.5,), (0.5,)),\n",
        "    transforms.Lambda(lambda x: x.view(-1))\n",
        "])\n",
        "\n",
        "def collate_fn(batch):\n",
        "    data, target = zip(*batch)\n",
        "    data = torch.stack(data)\n",
        "    target = torch.tensor(target)\n",
        "    return data.cuda(), target.cuda()"
      ],
      "metadata": {
        "id": "VOJ4GViMUdmr"
      },
      "execution_count": 3,
      "outputs": []
    },
    {
      "cell_type": "code",
      "source": [
        "def plot_flattened_images(flattened_images, labels, img_shape, class_names, num_images=5):\n",
        "    \"\"\"\n",
        "    Plots images that have been flattened.\n",
        "\n",
        "    Parameters:\n",
        "        flattened_images (torch.Tensor): The flattened images tensor.\n",
        "        labels (torch.Tensor): The labels tensor.\n",
        "        img_shape (tuple): The original shape of the images (e.g., (28, 28) for Fashion MNIST).\n",
        "        class_names (list): List of class names.\n",
        "        num_images (int): Number of images to plot.\n",
        "    \"\"\"\n",
        "    # Reshape the flattened images back to their original shape\n",
        "    reshaped_images = flattened_images.view(-1, *img_shape).numpy()\n",
        "\n",
        "    # Create a figure and axes\n",
        "    fig, axes = plt.subplots(1, num_images, figsize=(10, 5))\n",
        "\n",
        "    for i, ax in enumerate(axes):\n",
        "        img = reshaped_images[i]\n",
        "        label = class_names[labels[i].item()]\n",
        "        ax.imshow(img, cmap='gray')\n",
        "        ax.set_title(label)\n",
        "        ax.axis('off')\n",
        "\n",
        "    plt.tight_layout()\n",
        "    plt.show()"
      ],
      "metadata": {
        "id": "vg49lNwSX5hQ"
      },
      "execution_count": 4,
      "outputs": []
    },
    {
      "cell_type": "code",
      "source": [
        "train_dataset = datasets.FashionMNIST('~/.data', download=True, train=True, transform=transform)\n",
        "test_dataset = datasets.FashionMNIST('~/.data', download=True, train=False, transform=transform)"
      ],
      "metadata": {
        "id": "7dOEaY1us2bB",
        "colab": {
          "base_uri": "https://localhost:8080/"
        },
        "outputId": "1ed0a017-95dc-443b-e28f-adad06fa397b"
      },
      "execution_count": 5,
      "outputs": [
        {
          "output_type": "stream",
          "name": "stdout",
          "text": [
            "Downloading http://fashion-mnist.s3-website.eu-central-1.amazonaws.com/train-images-idx3-ubyte.gz\n",
            "Downloading http://fashion-mnist.s3-website.eu-central-1.amazonaws.com/train-images-idx3-ubyte.gz to /root/.data/FashionMNIST/raw/train-images-idx3-ubyte.gz\n"
          ]
        },
        {
          "output_type": "stream",
          "name": "stderr",
          "text": [
            "100%|██████████| 26421880/26421880 [00:02<00:00, 12678312.63it/s]\n"
          ]
        },
        {
          "output_type": "stream",
          "name": "stdout",
          "text": [
            "Extracting /root/.data/FashionMNIST/raw/train-images-idx3-ubyte.gz to /root/.data/FashionMNIST/raw\n",
            "\n",
            "Downloading http://fashion-mnist.s3-website.eu-central-1.amazonaws.com/train-labels-idx1-ubyte.gz\n",
            "Downloading http://fashion-mnist.s3-website.eu-central-1.amazonaws.com/train-labels-idx1-ubyte.gz to /root/.data/FashionMNIST/raw/train-labels-idx1-ubyte.gz\n"
          ]
        },
        {
          "output_type": "stream",
          "name": "stderr",
          "text": [
            "100%|██████████| 29515/29515 [00:00<00:00, 202108.81it/s]\n"
          ]
        },
        {
          "output_type": "stream",
          "name": "stdout",
          "text": [
            "Extracting /root/.data/FashionMNIST/raw/train-labels-idx1-ubyte.gz to /root/.data/FashionMNIST/raw\n",
            "\n",
            "Downloading http://fashion-mnist.s3-website.eu-central-1.amazonaws.com/t10k-images-idx3-ubyte.gz\n",
            "Downloading http://fashion-mnist.s3-website.eu-central-1.amazonaws.com/t10k-images-idx3-ubyte.gz to /root/.data/FashionMNIST/raw/t10k-images-idx3-ubyte.gz\n"
          ]
        },
        {
          "output_type": "stream",
          "name": "stderr",
          "text": [
            "100%|██████████| 4422102/4422102 [00:01<00:00, 3731782.88it/s]\n"
          ]
        },
        {
          "output_type": "stream",
          "name": "stdout",
          "text": [
            "Extracting /root/.data/FashionMNIST/raw/t10k-images-idx3-ubyte.gz to /root/.data/FashionMNIST/raw\n",
            "\n",
            "Downloading http://fashion-mnist.s3-website.eu-central-1.amazonaws.com/t10k-labels-idx1-ubyte.gz\n",
            "Downloading http://fashion-mnist.s3-website.eu-central-1.amazonaws.com/t10k-labels-idx1-ubyte.gz to /root/.data/FashionMNIST/raw/t10k-labels-idx1-ubyte.gz\n"
          ]
        },
        {
          "output_type": "stream",
          "name": "stderr",
          "text": [
            "100%|██████████| 5148/5148 [00:00<00:00, 10553410.06it/s]"
          ]
        },
        {
          "output_type": "stream",
          "name": "stdout",
          "text": [
            "Extracting /root/.data/FashionMNIST/raw/t10k-labels-idx1-ubyte.gz to /root/.data/FashionMNIST/raw\n",
            "\n"
          ]
        },
        {
          "output_type": "stream",
          "name": "stderr",
          "text": [
            "\n"
          ]
        }
      ]
    },
    {
      "cell_type": "code",
      "source": [
        "def split_dataset(dataset, labels):\n",
        "    indices = [i for i, (data, label) in enumerate(dataset) if label in labels]\n",
        "    return torch.utils.data.Subset(dataset, indices)\n",
        "\n",
        "labels_1 = [0, 1, 2, 3, 4]\n",
        "labels_2 = [5, 6, 7, 8, 9]\n",
        "\n",
        "train_dataset_04 = split_dataset(train_dataset, labels_1)\n",
        "train_dataset_59 = split_dataset(train_dataset, labels_2)\n",
        "\n",
        "batch_size = 64\n",
        "\n",
        "train_loader_1 = torch.utils.data.DataLoader(train_dataset_04, batch_size=batch_size, shuffle=True)\n",
        "train_loader_2 = torch.utils.data.DataLoader(train_dataset_59, batch_size=batch_size, shuffle=True)\n",
        "test_loader = torch.utils.data.DataLoader(test_dataset, batch_size=batch_size, shuffle=False)"
      ],
      "metadata": {
        "id": "1qTV5X0lhI63"
      },
      "execution_count": 6,
      "outputs": []
    },
    {
      "cell_type": "code",
      "source": [
        "# Get one batch of images and labels\n",
        "dataiter = iter(train_loader_1)\n",
        "images, labels = next(dataiter)\n",
        "\n",
        "# Define the class names for Fashion MNIST\n",
        "class_names = ['T-shirt/top', 'Trouser', 'Pullover', 'Dress', 'Coat',\n",
        "               'Sandal', 'Shirt', 'Sneaker', 'Bag', 'Ankle boot']\n",
        "\n",
        "plot_flattened_images(flattened_images=images, labels=labels, img_shape=(28,28), num_images=10, class_names=class_names)"
      ],
      "metadata": {
        "colab": {
          "base_uri": "https://localhost:8080/",
          "height": 142
        },
        "id": "p3UdRE46U0Zw",
        "outputId": "236a23cb-f2fe-4998-ed2a-06b8e3b8f967"
      },
      "execution_count": 7,
      "outputs": [
        {
          "output_type": "display_data",
          "data": {
            "text/plain": [
              "<Figure size 1000x500 with 10 Axes>"
            ],
            "image/png": "[encoded data removed]"
          },
          "metadata": {}
        }
      ]
    },
    {
      "cell_type": "code",
      "source": [
        "class FashionNet(nn.Module):\n",
        "  def __init__(self, input_dims, num_class, input_hidden_size, hidden_layer_size):\n",
        "\n",
        "    super().__init__()\n",
        "    self.input_dims = input_dims\n",
        "    self.num_class = num_class\n",
        "    self.input_hidden_size = input_hidden_size\n",
        "    self.hidden_layer_size=hidden_layer_size\n",
        "\n",
        "\n",
        "    self.input_layer = nn.Linear(in_features=self.input_dims, out_features=self.input_hidden_size)\n",
        "    self.hidden_layer = nn.Linear(in_features=self.input_hidden_size, out_features=self.hidden_layer_size)\n",
        "    self.output_layer = nn.Linear(in_features=self.hidden_layer_size, out_features=self.num_class)\n",
        "\n",
        "  def forward(self, x):\n",
        "    out = F.relu(self.input_layer(x))\n",
        "    out = F.relu(self.hidden_layer(out))\n",
        "    out = self.output_layer(out)\n",
        "    return out"
      ],
      "metadata": {
        "id": "hp0DV2XLU55K"
      },
      "execution_count": 69,
      "outputs": []
    },
    {
      "cell_type": "code",
      "source": [
        "# Check for GPU availability\n",
        "cuda_available = torch.cuda.is_available()"
      ],
      "metadata": {
        "id": "7g-tqvDgb8bG"
      },
      "execution_count": 70,
      "outputs": []
    },
    {
      "cell_type": "code",
      "source": [
        "import torch\n",
        "device='cpu'\n",
        "\n",
        "\n",
        "def train_model(epochs:int, train_loader, model, optimizer, criterion):\n",
        "  model.train()\n",
        "  train_loss_per_epoch = []\n",
        "\n",
        "  for epoch in range(epochs):\n",
        "\n",
        "    running_loss_train = 0.0\n",
        "\n",
        "    for data_batch, target_batch in train_loader:\n",
        "\n",
        "        data_batch = data_batch.to(device)\n",
        "        target_batch = target_batch.to(device)\n",
        "\n",
        "        optimizer.zero_grad()\n",
        "        output = model(data_batch)\n",
        "        loss_train = criterion(output, target_batch)\n",
        "        loss_train.backward()\n",
        "        optimizer.step()\n",
        "        running_loss_train += loss_train.item()\n",
        "\n",
        "    epcoh_loss_train = running_loss_train / len(train_loader)\n",
        "\n",
        "    train_loss_per_epoch.append(epcoh_loss_train)\n",
        "\n",
        "\n",
        "    if epoch %2 == 0:\n",
        "      print(f'Epoch {epoch} Train loss {epcoh_loss_train}')\n",
        "  return train_loss_per_epoch\n",
        "\n",
        "\n",
        "import torch\n",
        "from sklearn.metrics import confusion_matrix\n",
        "import numpy as np\n",
        "\n",
        "def test(test_loader, net):\n",
        "    correct = 0\n",
        "    total = 0\n",
        "\n",
        "    wrong_counts = [0 for i in range(10)]\n",
        "\n",
        "    with torch.no_grad():\n",
        "        for data in test_loader:\n",
        "            x, y = data\n",
        "            x = x.to(device)\n",
        "            y = y.to(device)\n",
        "            output = net(x)\n",
        "            for idx, i in enumerate(output):\n",
        "                if torch.argmax(i) == y[idx]:\n",
        "                    correct +=1\n",
        "                else:\n",
        "                    wrong_counts[y[idx]] +=1\n",
        "                total +=1\n",
        "    print(f'Accuracy: {round(correct/total, 3)}')\n",
        "    for i in range(len(wrong_counts)):\n",
        "        print(f'wrong counts for the Label {i}: {wrong_counts[i]}')\n",
        "\n"
      ],
      "metadata": {
        "id": "TX26hnzGZF5T"
      },
      "execution_count": 144,
      "outputs": []
    },
    {
      "cell_type": "code",
      "source": [
        "BigNet = FashionNet(input_dims=784, num_class=len(class_names), input_hidden_size=1000, hidden_layer_size=2000)\n",
        "optimizer = optim.SGD(BigNet.parameters(), lr=0.0001, momentum=0.9)\n",
        "criterion = nn.CrossEntropyLoss()\n",
        "\n",
        "device = 'cpu'\n",
        "# Assume `model` is your model\n",
        "if cuda_available:\n",
        "    BigNet = BigNet.to(device)\n",
        "    optimizer = optim.SGD(BigNet.parameters(), lr=0.011, momentum=0.9)\n",
        "    criterion = nn.CrossEntropyLoss().to(device)\n",
        "\n",
        "is_on_gpu = next(BigNet.parameters()).is_cuda\n",
        "print(f'Model is on GPU: {is_on_gpu}')\n",
        "\n",
        "trainable_params = sum(p.numel() for p in BigNet.parameters() if p.requires_grad)\n",
        "print(f'Number of trainable (tunable) parameters: {trainable_params}')"
      ],
      "metadata": {
        "colab": {
          "base_uri": "https://localhost:8080/"
        },
        "id": "ze1qj70ckHdA",
        "outputId": "28c3214b-58d2-48cd-b4a6-4883ab22b911"
      },
      "execution_count": 72,
      "outputs": [
        {
          "output_type": "stream",
          "name": "stdout",
          "text": [
            "Model is on GPU: False\n",
            "Number of trainable (tunable) parameters: 2807010\n"
          ]
        }
      ]
    },
    {
      "cell_type": "code",
      "source": [
        "trainLoss = train_model(epochs=2,\n",
        "                        train_loader=train_loader_1,\n",
        "                        optimizer = optimizer,\n",
        "                        criterion=criterion,\n",
        "                        model=BigNet,\n",
        "                        )"
      ],
      "metadata": {
        "id": "zVpGo0qci1Fg",
        "colab": {
          "base_uri": "https://localhost:8080/"
        },
        "outputId": "d01e8b65-19a0-4e2c-fdaa-d0ea6a2a9b00"
      },
      "execution_count": 73,
      "outputs": [
        {
          "output_type": "stream",
          "name": "stdout",
          "text": [
            "Epoch 0 Train loss 1.6040056033937662\n"
          ]
        }
      ]
    },
    {
      "cell_type": "code",
      "source": [
        "torch.save(BigNet.state_dict(), 'model.pt')"
      ],
      "metadata": {
        "id": "0GD7246q4-Ua"
      },
      "execution_count": 74,
      "outputs": []
    },
    {
      "cell_type": "code",
      "source": [
        "test(\n",
        "      test_loader=test_loader,\n",
        "      net=BigNet,\n",
        ")\n",
        "\n",
        "original_weights = {}\n",
        "for name, param in BigNet.named_parameters():\n",
        "    original_weights[name] = param.clone().detach()"
      ],
      "metadata": {
        "id": "PbLB-ECJqcht",
        "colab": {
          "base_uri": "https://localhost:8080/"
        },
        "outputId": "ed976701-3560-4260-f08a-c1241e72c14e"
      },
      "execution_count": 75,
      "outputs": [
        {
          "output_type": "stream",
          "name": "stdout",
          "text": [
            "Accuracy: 0.392\n",
            "wrong counts for the Label 0: 190\n",
            "wrong counts for the Label 1: 102\n",
            "wrong counts for the Label 2: 307\n",
            "wrong counts for the Label 3: 174\n",
            "wrong counts for the Label 4: 307\n",
            "wrong counts for the Label 5: 1000\n",
            "wrong counts for the Label 6: 1000\n",
            "wrong counts for the Label 7: 1000\n",
            "wrong counts for the Label 8: 1000\n",
            "wrong counts for the Label 9: 1000\n"
          ]
        }
      ]
    },
    {
      "cell_type": "code",
      "source": [
        "# Load the model and test it\n",
        "model = FashionNet(input_dims=784, num_class=len(class_names), input_hidden_size=1000, hidden_layer_size=2000)\n",
        "model.load_state_dict(torch.load('model.pt'))\n",
        "model.to('cpu')\n",
        "# Call the function\n",
        "test(\n",
        "      test_loader=test_loader,\n",
        "      net=model,\n",
        ")"
      ],
      "metadata": {
        "colab": {
          "base_uri": "https://localhost:8080/"
        },
        "id": "13Vw1kve5KBC",
        "outputId": "c79ded92-c38a-4cbc-987e-e44ac7b2d2c9"
      },
      "execution_count": 76,
      "outputs": [
        {
          "output_type": "stream",
          "name": "stdout",
          "text": [
            "Accuracy: 0.392\n",
            "wrong counts for the Label 0: 190\n",
            "wrong counts for the Label 1: 102\n",
            "wrong counts for the Label 2: 307\n",
            "wrong counts for the Label 3: 174\n",
            "wrong counts for the Label 4: 307\n",
            "wrong counts for the Label 5: 1000\n",
            "wrong counts for the Label 6: 1000\n",
            "wrong counts for the Label 7: 1000\n",
            "wrong counts for the Label 8: 1000\n",
            "wrong counts for the Label 9: 1000\n"
          ]
        }
      ]
    },
    {
      "cell_type": "code",
      "source": [
        "total_parameters_original = 0\n",
        "for index, layer in enumerate([BigNet.input_layer, BigNet.hidden_layer, BigNet.output_layer]):\n",
        "    total_parameters_original += layer.weight.nelement() + layer.bias.nelement()\n",
        "    print(f'Layer {index+1}: W: {layer.weight.shape} + B: {layer.bias.shape}')\n",
        "print(f'Total number of parameters: {total_parameters_original:,}')"
      ],
      "metadata": {
        "colab": {
          "base_uri": "https://localhost:8080/"
        },
        "id": "F7sDiWvnEDcx",
        "outputId": "b923e956-057f-4557-d901-b51973c356f2"
      },
      "execution_count": 77,
      "outputs": [
        {
          "output_type": "stream",
          "name": "stdout",
          "text": [
            "Layer 1: W: torch.Size([1000, 784]) + B: torch.Size([1000])\n",
            "Layer 2: W: torch.Size([2000, 1000]) + B: torch.Size([2000])\n",
            "Layer 3: W: torch.Size([10, 2000]) + B: torch.Size([10])\n",
            "Total number of parameters: 2,807,010\n"
          ]
        }
      ]
    },
    {
      "cell_type": "code",
      "source": [
        "# Get one batch of images and labels\n",
        "dataiter = iter(train_loader_2)\n",
        "images, labels = next(dataiter)\n",
        "\n",
        "# Define the class names for Fashion MNIST\n",
        "class_names = ['T-shirt/top', 'Trouser', 'Pullover', 'Dress', 'Coat',\n",
        "               'Sandal', 'Shirt', 'Sneaker', 'Bag', 'Ankle boot']\n",
        "\n",
        "plot_flattened_images(flattened_images=images, labels=labels, img_shape=(28,28), num_images=10, class_names=class_names)"
      ],
      "metadata": {
        "colab": {
          "base_uri": "https://localhost:8080/",
          "height": 142
        },
        "id": "SsrsAkex1Z0i",
        "outputId": "39bba846-e86d-45ca-8e09-e9ec68511538"
      },
      "execution_count": 78,
      "outputs": [
        {
          "output_type": "display_data",
          "data": {
            "text/plain": [
              "<Figure size 1000x500 with 10 Axes>"
            ],
            "image/png": "[encoded data removed]"
          },
          "metadata": {}
        }
      ]
    },
    {
      "cell_type": "code",
      "source": [
        "class LoraLinear(nn.Module):\n",
        "  def __init__(self, r, in_features, out_features):\n",
        "    super().__init__()\n",
        "    self.r = r\n",
        "    self.in_features = in_features\n",
        "    self.out_features = out_features\n",
        "    self.lora_A = nn.Parameter(torch.empty(self.in_features, self.r), requires_grad=True)\n",
        "    self.lora_B = nn.Parameter(torch.empty(self.r, self.out_features), requires_grad=True)\n",
        "    nn.init.kaiming_uniform_(self.lora_A, a=math.sqrt(5))\n",
        "    nn.init.zeros_(self.lora_B)\n",
        "\n",
        "  def forward(self, x):\n",
        "    return x@(self.lora_A @self.lora_B)\n",
        "\n"
      ],
      "metadata": {
        "id": "cet1GUsUnA0c"
      },
      "execution_count": 95,
      "outputs": []
    },
    {
      "cell_type": "code",
      "source": [
        "for r in BigNet.named_parameters():\n",
        "  print(r)\n",
        "\n",
        "# BigNet = FashionNet(input_dims=784, num_class=len(class_names), input_hidden_size=1000, hidden_layer_size=2000)\n"
      ],
      "metadata": {
        "id": "-eMX9oxZ0XgS"
      },
      "execution_count": null,
      "outputs": []
    },
    {
      "cell_type": "code",
      "source": [
        "class LoraModel2(FashionNet):\n",
        "  def __init__(self, r, alpha, input_dims=784, num_class=len(class_names), input_hidden_size=1000, hidden_layer_size=2000):\n",
        "\n",
        "    super().__init__(input_dims=input_dims, num_class=num_class, input_hidden_size=input_hidden_size ,hidden_layer_size=hidden_layer_size)\n",
        "\n",
        "    self.r = r\n",
        "    self.alpha = alpha\n",
        "\n",
        "    self.input_layer_lora = LoraLinear(r=self.r, in_features=self.input_dims, out_features=self.input_hidden_size)\n",
        "    self.hidden_layer_lora = LoraLinear(r=self.r, in_features=self.input_hidden_size, out_features=self.hidden_layer_size)\n",
        "    self.out_layer_lora = LoraLinear(r=self.r, in_features=self.hidden_layer_size, out_features=self.num_class)\n",
        "\n",
        "    for n,p in self.named_parameters():\n",
        "      if 'lora' not in n:\n",
        "          p.requires_grad = False\n",
        "      else:\n",
        "          print(p)\n",
        "          p.requires_grad = True\n",
        "\n",
        "\n",
        "    def forward(self, x):\n",
        "\n",
        "        x = F.relu(self.input_layer(x) + self.alpha * self.input_layer_lora(x))\n",
        "        x = F.relu(self.hidden_layer(x) + self.alpha * self.hidden_layer_lora(x))\n",
        "        x = self.output_layer(x) + self.alpha * self.out_layer_lora(x)\n",
        "        print(x)\n",
        "        return x\n"
      ],
      "metadata": {
        "id": "bomSEYUDnLW8"
      },
      "execution_count": 113,
      "outputs": []
    },
    {
      "cell_type": "code",
      "source": [
        "lora_model = LoraModel(2, 1)\n",
        "lora_model.load_state_dict(torch.load('model.pt'), strict=False)\n",
        "\n"
      ],
      "metadata": {
        "colab": {
          "base_uri": "https://localhost:8080/"
        },
        "id": "d7bEtHSdxr2-",
        "outputId": "813fd969-2c8f-4674-df4b-2e22907c232f"
      },
      "execution_count": 114,
      "outputs": [
        {
          "output_type": "stream",
          "name": "stdout",
          "text": [
            "Parameter containing:\n",
            "tensor([[ 0.2823, -0.6988],\n",
            "        [ 0.3310,  0.3846],\n",
            "        [ 0.5859, -0.4092],\n",
            "        ...,\n",
            "        [ 0.6307, -0.5712],\n",
            "        [-0.3430, -0.1913],\n",
            "        [-0.2615, -0.4071]], requires_grad=True)\n",
            "Parameter containing:\n",
            "tensor([[0., 0., 0.,  ..., 0., 0., 0.],\n",
            "        [0., 0., 0.,  ..., 0., 0., 0.]], requires_grad=True)\n",
            "Parameter containing:\n",
            "tensor([[ 0.1499,  0.4590],\n",
            "        [ 0.6188,  0.3011],\n",
            "        [ 0.0380, -0.1274],\n",
            "        ...,\n",
            "        [ 0.6419,  0.5672],\n",
            "        [-0.4917,  0.1807],\n",
            "        [-0.6207,  0.1932]], requires_grad=True)\n",
            "Parameter containing:\n",
            "tensor([[0., 0., 0.,  ..., 0., 0., 0.],\n",
            "        [0., 0., 0.,  ..., 0., 0., 0.]], requires_grad=True)\n",
            "Parameter containing:\n",
            "tensor([[ 0.2908, -0.2321],\n",
            "        [-0.6663,  0.0638],\n",
            "        [-0.3079,  0.0482],\n",
            "        ...,\n",
            "        [ 0.1496, -0.5766],\n",
            "        [ 0.5670, -0.6285],\n",
            "        [-0.3445, -0.1085]], requires_grad=True)\n",
            "Parameter containing:\n",
            "tensor([[0., 0., 0., 0., 0., 0., 0., 0., 0., 0.],\n",
            "        [0., 0., 0., 0., 0., 0., 0., 0., 0., 0.]], requires_grad=True)\n"
          ]
        },
        {
          "output_type": "execute_result",
          "data": {
            "text/plain": [
              "_IncompatibleKeys(missing_keys=['input_layer_lora.lora_A', 'input_layer_lora.lora_B', 'hidden_layer_lora.lora_A', 'hidden_layer_lora.lora_B', 'out_layer_lora.lora_A', 'out_layer_lora.lora_B'], unexpected_keys=[])"
            ]
          },
          "metadata": {},
          "execution_count": 114
        }
      ]
    },
    {
      "cell_type": "code",
      "source": [
        "trainLoss = train_model(epochs=8,\n",
        "                        train_loader=train_loader_2,\n",
        "                        optimizer = optimizer,\n",
        "                        criterion=criterion,\n",
        "                        model=lora_model,\n",
        "                        )\n",
        "\n",
        "# lora_model.load_state_dict(torch.load('model.pt'), strict=False)\n",
        "\n",
        "test(\n",
        "      test_loader=test_loader,\n",
        "      net=lora_model,\n",
        ")"
      ],
      "metadata": {
        "colab": {
          "base_uri": "https://localhost:8080/",
          "height": 425
        },
        "id": "7_adE1Gd5We7",
        "outputId": "eaf4f3e0-5cf7-49f4-e61d-920d24efc435"
      },
      "execution_count": 115,
      "outputs": [
        {
          "output_type": "stream",
          "name": "stdout",
          "text": [
            "Epoch 0 Train loss 5.128262169071352\n",
            "Epoch 2 Train loss 5.128284933216282\n"
          ]
        },
        {
          "output_type": "error",
          "ename": "KeyboardInterrupt",
          "evalue": "ignored",
          "traceback": [
            "\u001b[0;31m---------------------------------------------------------------------------\u001b[0m",
            "\u001b[0;31mKeyboardInterrupt\u001b[0m                         Traceback (most recent call last)",
            "\u001b[0;32m<ipython-input-115-e8fc00a22f20>\u001b[0m in \u001b[0;36m<cell line: 1>\u001b[0;34m()\u001b[0m\n\u001b[0;32m----> 1\u001b[0;31m trainLoss = train_model(epochs=8,\n\u001b[0m\u001b[1;32m      2\u001b[0m                         \u001b[0mtrain_loader\u001b[0m\u001b[0;34m=\u001b[0m\u001b[0mtrain_loader_2\u001b[0m\u001b[0;34m,\u001b[0m\u001b[0;34m\u001b[0m\u001b[0;34m\u001b[0m\u001b[0m\n\u001b[1;32m      3\u001b[0m                         \u001b[0moptimizer\u001b[0m \u001b[0;34m=\u001b[0m \u001b[0moptimizer\u001b[0m\u001b[0;34m,\u001b[0m\u001b[0;34m\u001b[0m\u001b[0;34m\u001b[0m\u001b[0m\n\u001b[1;32m      4\u001b[0m                         \u001b[0mcriterion\u001b[0m\u001b[0;34m=\u001b[0m\u001b[0mcriterion\u001b[0m\u001b[0;34m,\u001b[0m\u001b[0;34m\u001b[0m\u001b[0;34m\u001b[0m\u001b[0m\n\u001b[1;32m      5\u001b[0m                         \u001b[0mmodel\u001b[0m\u001b[0;34m=\u001b[0m\u001b[0mlora_model\u001b[0m\u001b[0;34m,\u001b[0m\u001b[0;34m\u001b[0m\u001b[0;34m\u001b[0m\u001b[0m\n",
            "\u001b[0;32m<ipython-input-89-a4a253432489>\u001b[0m in \u001b[0;36mtrain_model\u001b[0;34m(epochs, train_loader, model, optimizer, criterion)\u001b[0m\n\u001b[1;32m     17\u001b[0m \u001b[0;34m\u001b[0m\u001b[0m\n\u001b[1;32m     18\u001b[0m         \u001b[0moptimizer\u001b[0m\u001b[0;34m.\u001b[0m\u001b[0mzero_grad\u001b[0m\u001b[0;34m(\u001b[0m\u001b[0;34m)\u001b[0m\u001b[0;34m\u001b[0m\u001b[0;34m\u001b[0m\u001b[0m\n\u001b[0;32m---> 19\u001b[0;31m         \u001b[0moutput\u001b[0m \u001b[0;34m=\u001b[0m \u001b[0mmodel\u001b[0m\u001b[0;34m(\u001b[0m\u001b[0mdata_batch\u001b[0m\u001b[0;34m)\u001b[0m\u001b[0;34m\u001b[0m\u001b[0;34m\u001b[0m\u001b[0m\n\u001b[0m\u001b[1;32m     20\u001b[0m         \u001b[0mloss_train\u001b[0m \u001b[0;34m=\u001b[0m \u001b[0mcriterion\u001b[0m\u001b[0;34m(\u001b[0m\u001b[0moutput\u001b[0m\u001b[0;34m,\u001b[0m \u001b[0mtarget_batch\u001b[0m\u001b[0;34m)\u001b[0m\u001b[0;34m\u001b[0m\u001b[0;34m\u001b[0m\u001b[0m\n\u001b[1;32m     21\u001b[0m         \u001b[0mloss_train\u001b[0m\u001b[0;34m.\u001b[0m\u001b[0mrequires_grad\u001b[0m \u001b[0;34m=\u001b[0m \u001b[0;32mTrue\u001b[0m\u001b[0;34m\u001b[0m\u001b[0;34m\u001b[0m\u001b[0m\n",
            "\u001b[0;32m/usr/local/lib/python3.10/dist-packages/torch/nn/modules/module.py\u001b[0m in \u001b[0;36m_wrapped_call_impl\u001b[0;34m(self, *args, **kwargs)\u001b[0m\n\u001b[1;32m   1516\u001b[0m             \u001b[0;32mreturn\u001b[0m \u001b[0mself\u001b[0m\u001b[0;34m.\u001b[0m\u001b[0m_compiled_call_impl\u001b[0m\u001b[0;34m(\u001b[0m\u001b[0;34m*\u001b[0m\u001b[0margs\u001b[0m\u001b[0;34m,\u001b[0m \u001b[0;34m**\u001b[0m\u001b[0mkwargs\u001b[0m\u001b[0;34m)\u001b[0m  \u001b[0;31m# type: ignore[misc]\u001b[0m\u001b[0;34m\u001b[0m\u001b[0;34m\u001b[0m\u001b[0m\n\u001b[1;32m   1517\u001b[0m         \u001b[0;32melse\u001b[0m\u001b[0;34m:\u001b[0m\u001b[0;34m\u001b[0m\u001b[0;34m\u001b[0m\u001b[0m\n\u001b[0;32m-> 1518\u001b[0;31m             \u001b[0;32mreturn\u001b[0m \u001b[0mself\u001b[0m\u001b[0;34m.\u001b[0m\u001b[0m_call_impl\u001b[0m\u001b[0;34m(\u001b[0m\u001b[0;34m*\u001b[0m\u001b[0margs\u001b[0m\u001b[0;34m,\u001b[0m \u001b[0;34m**\u001b[0m\u001b[0mkwargs\u001b[0m\u001b[0;34m)\u001b[0m\u001b[0;34m\u001b[0m\u001b[0;34m\u001b[0m\u001b[0m\n\u001b[0m\u001b[1;32m   1519\u001b[0m \u001b[0;34m\u001b[0m\u001b[0m\n\u001b[1;32m   1520\u001b[0m     \u001b[0;32mdef\u001b[0m \u001b[0m_call_impl\u001b[0m\u001b[0;34m(\u001b[0m\u001b[0mself\u001b[0m\u001b[0;34m,\u001b[0m \u001b[0;34m*\u001b[0m\u001b[0margs\u001b[0m\u001b[0;34m,\u001b[0m \u001b[0;34m**\u001b[0m\u001b[0mkwargs\u001b[0m\u001b[0;34m)\u001b[0m\u001b[0;34m:\u001b[0m\u001b[0;34m\u001b[0m\u001b[0;34m\u001b[0m\u001b[0m\n",
            "\u001b[0;32m/usr/local/lib/python3.10/dist-packages/torch/nn/modules/module.py\u001b[0m in \u001b[0;36m_call_impl\u001b[0;34m(self, *args, **kwargs)\u001b[0m\n\u001b[1;32m   1525\u001b[0m                 \u001b[0;32mor\u001b[0m \u001b[0m_global_backward_pre_hooks\u001b[0m \u001b[0;32mor\u001b[0m \u001b[0m_global_backward_hooks\u001b[0m\u001b[0;34m\u001b[0m\u001b[0;34m\u001b[0m\u001b[0m\n\u001b[1;32m   1526\u001b[0m                 or _global_forward_hooks or _global_forward_pre_hooks):\n\u001b[0;32m-> 1527\u001b[0;31m             \u001b[0;32mreturn\u001b[0m \u001b[0mforward_call\u001b[0m\u001b[0;34m(\u001b[0m\u001b[0;34m*\u001b[0m\u001b[0margs\u001b[0m\u001b[0;34m,\u001b[0m \u001b[0;34m**\u001b[0m\u001b[0mkwargs\u001b[0m\u001b[0;34m)\u001b[0m\u001b[0;34m\u001b[0m\u001b[0;34m\u001b[0m\u001b[0m\n\u001b[0m\u001b[1;32m   1528\u001b[0m \u001b[0;34m\u001b[0m\u001b[0m\n\u001b[1;32m   1529\u001b[0m         \u001b[0;32mtry\u001b[0m\u001b[0;34m:\u001b[0m\u001b[0;34m\u001b[0m\u001b[0;34m\u001b[0m\u001b[0m\n",
            "\u001b[0;32m<ipython-input-69-7f160d70f65c>\u001b[0m in \u001b[0;36mforward\u001b[0;34m(self, x)\u001b[0m\n\u001b[1;32m     14\u001b[0m \u001b[0;34m\u001b[0m\u001b[0m\n\u001b[1;32m     15\u001b[0m   \u001b[0;32mdef\u001b[0m \u001b[0mforward\u001b[0m\u001b[0;34m(\u001b[0m\u001b[0mself\u001b[0m\u001b[0;34m,\u001b[0m \u001b[0mx\u001b[0m\u001b[0;34m)\u001b[0m\u001b[0;34m:\u001b[0m\u001b[0;34m\u001b[0m\u001b[0;34m\u001b[0m\u001b[0m\n\u001b[0;32m---> 16\u001b[0;31m     \u001b[0mout\u001b[0m \u001b[0;34m=\u001b[0m \u001b[0mF\u001b[0m\u001b[0;34m.\u001b[0m\u001b[0mrelu\u001b[0m\u001b[0;34m(\u001b[0m\u001b[0mself\u001b[0m\u001b[0;34m.\u001b[0m\u001b[0minput_layer\u001b[0m\u001b[0;34m(\u001b[0m\u001b[0mx\u001b[0m\u001b[0;34m)\u001b[0m\u001b[0;34m)\u001b[0m\u001b[0;34m\u001b[0m\u001b[0;34m\u001b[0m\u001b[0m\n\u001b[0m\u001b[1;32m     17\u001b[0m     \u001b[0mout\u001b[0m \u001b[0;34m=\u001b[0m \u001b[0mF\u001b[0m\u001b[0;34m.\u001b[0m\u001b[0mrelu\u001b[0m\u001b[0;34m(\u001b[0m\u001b[0mself\u001b[0m\u001b[0;34m.\u001b[0m\u001b[0mhidden_layer\u001b[0m\u001b[0;34m(\u001b[0m\u001b[0mout\u001b[0m\u001b[0;34m)\u001b[0m\u001b[0;34m)\u001b[0m\u001b[0;34m\u001b[0m\u001b[0;34m\u001b[0m\u001b[0m\n\u001b[1;32m     18\u001b[0m     \u001b[0mout\u001b[0m \u001b[0;34m=\u001b[0m \u001b[0mself\u001b[0m\u001b[0;34m.\u001b[0m\u001b[0moutput_layer\u001b[0m\u001b[0;34m(\u001b[0m\u001b[0mout\u001b[0m\u001b[0;34m)\u001b[0m\u001b[0;34m\u001b[0m\u001b[0;34m\u001b[0m\u001b[0m\n",
            "\u001b[0;32m/usr/local/lib/python3.10/dist-packages/torch/nn/modules/module.py\u001b[0m in \u001b[0;36m_wrapped_call_impl\u001b[0;34m(self, *args, **kwargs)\u001b[0m\n\u001b[1;32m   1516\u001b[0m             \u001b[0;32mreturn\u001b[0m \u001b[0mself\u001b[0m\u001b[0;34m.\u001b[0m\u001b[0m_compiled_call_impl\u001b[0m\u001b[0;34m(\u001b[0m\u001b[0;34m*\u001b[0m\u001b[0margs\u001b[0m\u001b[0;34m,\u001b[0m \u001b[0;34m**\u001b[0m\u001b[0mkwargs\u001b[0m\u001b[0;34m)\u001b[0m  \u001b[0;31m# type: ignore[misc]\u001b[0m\u001b[0;34m\u001b[0m\u001b[0;34m\u001b[0m\u001b[0m\n\u001b[1;32m   1517\u001b[0m         \u001b[0;32melse\u001b[0m\u001b[0;34m:\u001b[0m\u001b[0;34m\u001b[0m\u001b[0;34m\u001b[0m\u001b[0m\n\u001b[0;32m-> 1518\u001b[0;31m             \u001b[0;32mreturn\u001b[0m \u001b[0mself\u001b[0m\u001b[0;34m.\u001b[0m\u001b[0m_call_impl\u001b[0m\u001b[0;34m(\u001b[0m\u001b[0;34m*\u001b[0m\u001b[0margs\u001b[0m\u001b[0;34m,\u001b[0m \u001b[0;34m**\u001b[0m\u001b[0mkwargs\u001b[0m\u001b[0;34m)\u001b[0m\u001b[0;34m\u001b[0m\u001b[0;34m\u001b[0m\u001b[0m\n\u001b[0m\u001b[1;32m   1519\u001b[0m \u001b[0;34m\u001b[0m\u001b[0m\n\u001b[1;32m   1520\u001b[0m     \u001b[0;32mdef\u001b[0m \u001b[0m_call_impl\u001b[0m\u001b[0;34m(\u001b[0m\u001b[0mself\u001b[0m\u001b[0;34m,\u001b[0m \u001b[0;34m*\u001b[0m\u001b[0margs\u001b[0m\u001b[0;34m,\u001b[0m \u001b[0;34m**\u001b[0m\u001b[0mkwargs\u001b[0m\u001b[0;34m)\u001b[0m\u001b[0;34m:\u001b[0m\u001b[0;34m\u001b[0m\u001b[0;34m\u001b[0m\u001b[0m\n",
            "\u001b[0;32m/usr/local/lib/python3.10/dist-packages/torch/nn/modules/module.py\u001b[0m in \u001b[0;36m_call_impl\u001b[0;34m(self, *args, **kwargs)\u001b[0m\n\u001b[1;32m   1525\u001b[0m                 \u001b[0;32mor\u001b[0m \u001b[0m_global_backward_pre_hooks\u001b[0m \u001b[0;32mor\u001b[0m \u001b[0m_global_backward_hooks\u001b[0m\u001b[0;34m\u001b[0m\u001b[0;34m\u001b[0m\u001b[0m\n\u001b[1;32m   1526\u001b[0m                 or _global_forward_hooks or _global_forward_pre_hooks):\n\u001b[0;32m-> 1527\u001b[0;31m             \u001b[0;32mreturn\u001b[0m \u001b[0mforward_call\u001b[0m\u001b[0;34m(\u001b[0m\u001b[0;34m*\u001b[0m\u001b[0margs\u001b[0m\u001b[0;34m,\u001b[0m \u001b[0;34m**\u001b[0m\u001b[0mkwargs\u001b[0m\u001b[0;34m)\u001b[0m\u001b[0;34m\u001b[0m\u001b[0;34m\u001b[0m\u001b[0m\n\u001b[0m\u001b[1;32m   1528\u001b[0m \u001b[0;34m\u001b[0m\u001b[0m\n\u001b[1;32m   1529\u001b[0m         \u001b[0;32mtry\u001b[0m\u001b[0;34m:\u001b[0m\u001b[0;34m\u001b[0m\u001b[0;34m\u001b[0m\u001b[0m\n",
            "\u001b[0;32m/usr/local/lib/python3.10/dist-packages/torch/nn/modules/linear.py\u001b[0m in \u001b[0;36mforward\u001b[0;34m(self, input)\u001b[0m\n\u001b[1;32m    112\u001b[0m \u001b[0;34m\u001b[0m\u001b[0m\n\u001b[1;32m    113\u001b[0m     \u001b[0;32mdef\u001b[0m \u001b[0mforward\u001b[0m\u001b[0;34m(\u001b[0m\u001b[0mself\u001b[0m\u001b[0;34m,\u001b[0m \u001b[0minput\u001b[0m\u001b[0;34m:\u001b[0m \u001b[0mTensor\u001b[0m\u001b[0;34m)\u001b[0m \u001b[0;34m->\u001b[0m \u001b[0mTensor\u001b[0m\u001b[0;34m:\u001b[0m\u001b[0;34m\u001b[0m\u001b[0;34m\u001b[0m\u001b[0m\n\u001b[0;32m--> 114\u001b[0;31m         \u001b[0;32mreturn\u001b[0m \u001b[0mF\u001b[0m\u001b[0;34m.\u001b[0m\u001b[0mlinear\u001b[0m\u001b[0;34m(\u001b[0m\u001b[0minput\u001b[0m\u001b[0;34m,\u001b[0m \u001b[0mself\u001b[0m\u001b[0;34m.\u001b[0m\u001b[0mweight\u001b[0m\u001b[0;34m,\u001b[0m \u001b[0mself\u001b[0m\u001b[0;34m.\u001b[0m\u001b[0mbias\u001b[0m\u001b[0;34m)\u001b[0m\u001b[0;34m\u001b[0m\u001b[0;34m\u001b[0m\u001b[0m\n\u001b[0m\u001b[1;32m    115\u001b[0m \u001b[0;34m\u001b[0m\u001b[0m\n\u001b[1;32m    116\u001b[0m     \u001b[0;32mdef\u001b[0m \u001b[0mextra_repr\u001b[0m\u001b[0;34m(\u001b[0m\u001b[0mself\u001b[0m\u001b[0;34m)\u001b[0m \u001b[0;34m->\u001b[0m \u001b[0mstr\u001b[0m\u001b[0;34m:\u001b[0m\u001b[0;34m\u001b[0m\u001b[0;34m\u001b[0m\u001b[0m\n",
            "\u001b[0;31mKeyboardInterrupt\u001b[0m: "
          ]
        }
      ]
    },
    {
      "cell_type": "code",
      "source": [
        "for r in model.named_parameters():\n",
        "  print(r)\n",
        "  break\n"
      ],
      "metadata": {
        "colab": {
          "base_uri": "https://localhost:8080/"
        },
        "id": "DHXLgNxH41pX",
        "outputId": "c2eb3167-dbc9-4b7d-c090-be24a95a51d0"
      },
      "execution_count": 92,
      "outputs": [
        {
          "output_type": "stream",
          "name": "stdout",
          "text": [
            "('input_layer.weight', Parameter containing:\n",
            "tensor([[-0.0268,  0.0316,  0.0199,  ...,  0.0339, -0.0270, -0.0305],\n",
            "        [ 0.0249, -0.0051, -0.0147,  ..., -0.0015, -0.0298,  0.0050],\n",
            "        [ 0.0295, -0.0041,  0.0277,  ..., -0.0017, -0.0306, -0.0130],\n",
            "        ...,\n",
            "        [-0.0254,  0.0205, -0.0248,  ...,  0.0164,  0.0216,  0.0199],\n",
            "        [-0.0004,  0.0293, -0.0250,  ...,  0.0060, -0.0239, -0.0178],\n",
            "        [ 0.0123, -0.0239,  0.0134,  ...,  0.0274, -0.0184,  0.0165]],\n",
            "       requires_grad=True))\n"
          ]
        }
      ]
    },
    {
      "cell_type": "code",
      "source": [
        "for r in lora_model.named_parameters():\n",
        "  print(r)\n",
        "\n"
      ],
      "metadata": {
        "id": "e2hiSYb64oBc"
      },
      "execution_count": null,
      "outputs": []
    },
    {
      "cell_type": "code",
      "source": [
        "class LoRaModel(nn.Module):\n",
        "  def __init__(self, r: int, alpha: int, input_dims: int, input_hidden_size: 1000, hidden_layer_size:2000, num_class:int):\n",
        "    super().__init__()\n",
        "    self.r = r\n",
        "    self.alpha_lora = alpha\n",
        "    self.input_dims = input_dims\n",
        "    self.input_hidden_size = input_hidden_size\n",
        "    self.hidden_layer_size = hidden_layer_size\n",
        "    self.num_class = num_class\n",
        "\n",
        "    self.input_layer = nn.Linear(in_features=self.input_dims, out_features=self.input_hidden_size)\n",
        "    self.input_layer.weight.requires_grad = False\n",
        "\n",
        "    self.hidden_layer = nn.Linear(in_features=self.input_hidden_size, out_features=self.hidden_layer_size)\n",
        "    self.hidden_layer.weight.requires_grad = False\n",
        "\n",
        "    self.output_layer = nn.Linear(in_features=self.hidden_layer_size, out_features=self.num_class)\n",
        "    self.output_layer.weight.requires_grad = False\n",
        "\n",
        "\n",
        "    self.input_layer_lora = LoraLinear(r=self.r, in_features=self.input_dims, out_features=self.input_hidden_size)\n",
        "    self.hidden_layer_lora = LoraLinear(r=self.r, in_features=self.input_hidden_size, out_features=self.hidden_layer_size)\n",
        "    self.out_layer_lora = LoraLinear(r=self.r, in_features=self.hidden_layer_size, out_features=self.num_class)\n",
        "\n",
        "    for n,p in self.named_parameters():\n",
        "      if 'lora' not in n:\n",
        "          p.requires_grad = False\n",
        "      else:\n",
        "          print(p)\n",
        "          p.requires_grad = True\n",
        "\n",
        "\n",
        "\n",
        "  def forward(self, x):\n",
        "\n",
        "      x = F.relu(self.input_layer(x) + self.alpha_lora * self.input_layer_lora(x))\n",
        "      x = F.relu(self.hidden_layer(x) + self.alpha_lora * self.hidden_layer_lora(x))\n",
        "      x = self.output_layer(x) + self.alpha_lora * self.out_layer_lora(x)\n",
        "      print(x)\n",
        "      return x\n",
        "\n"
      ],
      "metadata": {
        "id": "p0rJAQsD18uH"
      },
      "execution_count": 140,
      "outputs": []
    },
    {
      "cell_type": "code",
      "source": [
        "lora_model = LoRaModel(r=4, alpha=1, input_dims=784,input_hidden_size=1000, hidden_layer_size=2000, num_class=10)\n",
        "lora_model.load_state_dict(torch.load('model.pt'), strict=False)\n"
      ],
      "metadata": {
        "id": "YTPUyJBlSAmP",
        "colab": {
          "base_uri": "https://localhost:8080/"
        },
        "outputId": "322f7a9a-d603-45f3-d033-afe6b12f39d3"
      },
      "execution_count": 141,
      "outputs": [
        {
          "output_type": "stream",
          "name": "stdout",
          "text": [
            "Parameter containing:\n",
            "tensor([[ 0.3989, -0.4003, -0.2264,  0.4871],\n",
            "        [ 0.1628, -0.1742,  0.2930, -0.2645],\n",
            "        [-0.1583,  0.4681, -0.1570,  0.2083],\n",
            "        ...,\n",
            "        [ 0.2251, -0.2020,  0.3187, -0.2260],\n",
            "        [-0.2719, -0.4492, -0.2094, -0.2634],\n",
            "        [ 0.3205,  0.0388, -0.2984, -0.2673]], requires_grad=True)\n",
            "Parameter containing:\n",
            "tensor([[0., 0., 0.,  ..., 0., 0., 0.],\n",
            "        [0., 0., 0.,  ..., 0., 0., 0.],\n",
            "        [0., 0., 0.,  ..., 0., 0., 0.],\n",
            "        [0., 0., 0.,  ..., 0., 0., 0.]], requires_grad=True)\n",
            "Parameter containing:\n",
            "tensor([[-0.4085,  0.2910,  0.4968,  0.4928],\n",
            "        [ 0.2094,  0.3295, -0.3667, -0.1225],\n",
            "        [ 0.0919, -0.0688,  0.3607,  0.2574],\n",
            "        ...,\n",
            "        [-0.0680, -0.0631,  0.0755,  0.2613],\n",
            "        [ 0.0585,  0.3708, -0.0324, -0.4550],\n",
            "        [ 0.0105, -0.2570, -0.1873,  0.1390]], requires_grad=True)\n",
            "Parameter containing:\n",
            "tensor([[0., 0., 0.,  ..., 0., 0., 0.],\n",
            "        [0., 0., 0.,  ..., 0., 0., 0.],\n",
            "        [0., 0., 0.,  ..., 0., 0., 0.],\n",
            "        [0., 0., 0.,  ..., 0., 0., 0.]], requires_grad=True)\n",
            "Parameter containing:\n",
            "tensor([[ 0.1854,  0.1500, -0.0579, -0.2456],\n",
            "        [ 0.2948,  0.4971,  0.1936, -0.2354],\n",
            "        [-0.0169, -0.0330, -0.2021,  0.1037],\n",
            "        ...,\n",
            "        [-0.1860, -0.2772,  0.3225,  0.0706],\n",
            "        [-0.2174,  0.0949, -0.1827,  0.1590],\n",
            "        [-0.1057,  0.0017, -0.2337, -0.0911]], requires_grad=True)\n",
            "Parameter containing:\n",
            "tensor([[0., 0., 0., 0., 0., 0., 0., 0., 0., 0.],\n",
            "        [0., 0., 0., 0., 0., 0., 0., 0., 0., 0.],\n",
            "        [0., 0., 0., 0., 0., 0., 0., 0., 0., 0.],\n",
            "        [0., 0., 0., 0., 0., 0., 0., 0., 0., 0.]], requires_grad=True)\n"
          ]
        },
        {
          "output_type": "execute_result",
          "data": {
            "text/plain": [
              "_IncompatibleKeys(missing_keys=['input_layer_lora.lora_A', 'input_layer_lora.lora_B', 'hidden_layer_lora.lora_A', 'hidden_layer_lora.lora_B', 'out_layer_lora.lora_A', 'out_layer_lora.lora_B'], unexpected_keys=[])"
            ]
          },
          "metadata": {},
          "execution_count": 141
        }
      ]
    },
    {
      "cell_type": "code",
      "source": [
        "for name, param in lora_model.named_parameters():\n",
        "    if param.requires_grad:\n",
        "        print(f\"{name}: {param.shape}\")\n",
        "\n",
        "trainable_params = sum(p.numel() for p in lora_model.parameters() if p.requires_grad)\n",
        "print(f'Number of trainable (tunable) parameters: {trainable_params}')"
      ],
      "metadata": {
        "colab": {
          "base_uri": "https://localhost:8080/"
        },
        "id": "-IBByXMDXVYz",
        "outputId": "e612b43e-aef7-49e3-952c-560e5256e91e"
      },
      "execution_count": 142,
      "outputs": [
        {
          "output_type": "stream",
          "name": "stdout",
          "text": [
            "input_layer_lora.lora_A: torch.Size([784, 4])\n",
            "input_layer_lora.lora_B: torch.Size([4, 1000])\n",
            "hidden_layer_lora.lora_A: torch.Size([1000, 4])\n",
            "hidden_layer_lora.lora_B: torch.Size([4, 2000])\n",
            "out_layer_lora.lora_A: torch.Size([2000, 4])\n",
            "out_layer_lora.lora_B: torch.Size([4, 10])\n",
            "Number of trainable (tunable) parameters: 27176\n"
          ]
        }
      ]
    },
    {
      "cell_type": "code",
      "source": [
        "lora_model.to('cpu')\n",
        "\n",
        "trainLoss = train_model(epochs=2,\n",
        "                        train_loader=train_loader_2,\n",
        "                        optimizer = optimizer,\n",
        "                        criterion=criterion,\n",
        "                        model=lora_model,\n",
        "                        )\n",
        "\n",
        "# lora_model.load_state_dict(torch.load('model.pt'), strict=False)\n",
        "\n",
        "test(\n",
        "      test_loader=test_loader,\n",
        "      net=lora_model,\n",
        ")"
      ],
      "metadata": {
        "id": "xCnxB3AEFznS"
      },
      "execution_count": null,
      "outputs": []
    },
    {
      "cell_type": "code",
      "source": [
        "lora_model"
      ],
      "metadata": {
        "id": "FUwA26f5YheK"
      },
      "execution_count": null,
      "outputs": []
    },
    {
      "cell_type": "code",
      "source": [
        "lora_model.load_state_dict(torch.load('model.pt'), strict=False)\n",
        "test(\n",
        "      test_loader=test_loader,\n",
        "      net=lora_model,\n",
        ")"
      ],
      "metadata": {
        "colab": {
          "base_uri": "https://localhost:8080/"
        },
        "id": "Q78cR-xSYaWP",
        "outputId": "38d3673b-d4d2-44fb-a5a0-31e53fdccb82"
      },
      "execution_count": 39,
      "outputs": [
        {
          "output_type": "stream",
          "name": "stdout",
          "text": [
            "Accuracy: 0.455\n",
            "wrong counts for the Label 0: 71\n",
            "wrong counts for the Label 1: 19\n",
            "wrong counts for the Label 2: 139\n",
            "wrong counts for the Label 3: 94\n",
            "wrong counts for the Label 4: 132\n",
            "wrong counts for the Label 5: 1000\n",
            "wrong counts for the Label 6: 1000\n",
            "wrong counts for the Label 7: 1000\n",
            "wrong counts for the Label 8: 1000\n",
            "wrong counts for the Label 9: 1000\n"
          ]
        }
      ]
    },
    {
      "cell_type": "code",
      "source": [
        "for param in lora_model.named_parameters():\n",
        "  print(param)"
      ],
      "metadata": {
        "colab": {
          "base_uri": "https://localhost:8080/"
        },
        "id": "RG-3KGkl2pjh",
        "outputId": "7d92539c-83a6-4432-d033-e5749e6dd9d3"
      },
      "execution_count": 147,
      "outputs": [
        {
          "output_type": "stream",
          "name": "stdout",
          "text": [
            "('input_layer.weight', Parameter containing:\n",
            "tensor([[-0.0268,  0.0316,  0.0199,  ...,  0.0339, -0.0270, -0.0305],\n",
            "        [ 0.0249, -0.0051, -0.0147,  ..., -0.0015, -0.0298,  0.0050],\n",
            "        [ 0.0295, -0.0041,  0.0277,  ..., -0.0017, -0.0306, -0.0130],\n",
            "        ...,\n",
            "        [-0.0254,  0.0205, -0.0248,  ...,  0.0164,  0.0216,  0.0199],\n",
            "        [-0.0004,  0.0293, -0.0250,  ...,  0.0060, -0.0239, -0.0178],\n",
            "        [ 0.0123, -0.0239,  0.0134,  ...,  0.0274, -0.0184,  0.0165]]))\n",
            "('input_layer.bias', Parameter containing:\n",
            "tensor([-0.0280, -0.0219, -0.0354,  0.0120, -0.0057,  0.0361,  0.0207, -0.0018,\n",
            "        -0.0111, -0.0316, -0.0276,  0.0194, -0.0133,  0.0030,  0.0223,  0.0170,\n",
            "         0.0016,  0.0278,  0.0074, -0.0332,  0.0064,  0.0039, -0.0094, -0.0172,\n",
            "        -0.0184, -0.0036, -0.0032,  0.0351, -0.0221,  0.0058,  0.0079,  0.0214,\n",
            "         0.0235, -0.0137,  0.0140,  0.0220,  0.0298, -0.0074, -0.0003,  0.0264,\n",
            "         0.0063,  0.0074,  0.0289,  0.0317,  0.0137,  0.0034, -0.0228,  0.0102,\n",
            "        -0.0020, -0.0041,  0.0270,  0.0014, -0.0005,  0.0245, -0.0295,  0.0336,\n",
            "        -0.0137,  0.0126,  0.0332, -0.0074,  0.0341,  0.0309, -0.0223, -0.0162,\n",
            "        -0.0259,  0.0202, -0.0293,  0.0057, -0.0219, -0.0055, -0.0178,  0.0307,\n",
            "         0.0007,  0.0003, -0.0180,  0.0093, -0.0109,  0.0297,  0.0335,  0.0184,\n",
            "         0.0350, -0.0191,  0.0170, -0.0097, -0.0242, -0.0224, -0.0322,  0.0316,\n",
            "         0.0344, -0.0293, -0.0290,  0.0125,  0.0254,  0.0129,  0.0214, -0.0172,\n",
            "         0.0246,  0.0269,  0.0081, -0.0304,  0.0030, -0.0260, -0.0188, -0.0341,\n",
            "         0.0328, -0.0220,  0.0024, -0.0076, -0.0129, -0.0118,  0.0105,  0.0050,\n",
            "         0.0328,  0.0096, -0.0027, -0.0219,  0.0024,  0.0038, -0.0037, -0.0128,\n",
            "        -0.0011,  0.0073,  0.0006,  0.0291,  0.0145,  0.0005,  0.0214, -0.0041,\n",
            "        -0.0327,  0.0294, -0.0120, -0.0006,  0.0264, -0.0241,  0.0092,  0.0195,\n",
            "        -0.0199,  0.0222, -0.0055,  0.0244, -0.0032,  0.0196, -0.0313,  0.0076,\n",
            "        -0.0221,  0.0231,  0.0217, -0.0118,  0.0019,  0.0322, -0.0136,  0.0225,\n",
            "         0.0324, -0.0301,  0.0181, -0.0028, -0.0312, -0.0273, -0.0107, -0.0326,\n",
            "         0.0335,  0.0024,  0.0263, -0.0093,  0.0080, -0.0138,  0.0274,  0.0244,\n",
            "        -0.0124,  0.0195,  0.0241,  0.0015,  0.0100, -0.0101,  0.0018,  0.0158,\n",
            "         0.0172,  0.0044,  0.0292,  0.0009, -0.0090, -0.0188, -0.0244,  0.0315,\n",
            "         0.0135, -0.0278, -0.0326, -0.0064, -0.0066,  0.0122, -0.0188,  0.0016,\n",
            "        -0.0017,  0.0306,  0.0223, -0.0242,  0.0135, -0.0237, -0.0242,  0.0182,\n",
            "         0.0270,  0.0149, -0.0056, -0.0310, -0.0168,  0.0309, -0.0161,  0.0227,\n",
            "         0.0238,  0.0141,  0.0329,  0.0044, -0.0155, -0.0272, -0.0357, -0.0097,\n",
            "        -0.0009, -0.0325,  0.0305,  0.0305,  0.0049, -0.0291,  0.0162, -0.0318,\n",
            "         0.0035, -0.0238, -0.0317, -0.0034, -0.0333,  0.0084, -0.0222,  0.0279,\n",
            "         0.0190,  0.0275,  0.0304,  0.0103,  0.0144, -0.0036,  0.0025, -0.0239,\n",
            "         0.0234,  0.0220,  0.0012,  0.0289,  0.0152, -0.0020,  0.0301, -0.0126,\n",
            "        -0.0088,  0.0137, -0.0243,  0.0094,  0.0052, -0.0115, -0.0308, -0.0151,\n",
            "        -0.0315,  0.0341,  0.0026, -0.0045, -0.0093,  0.0316,  0.0059, -0.0005,\n",
            "        -0.0241, -0.0107, -0.0170, -0.0068, -0.0246,  0.0348,  0.0079, -0.0242,\n",
            "         0.0125,  0.0312,  0.0241, -0.0148, -0.0028, -0.0296,  0.0130, -0.0161,\n",
            "        -0.0053,  0.0305,  0.0334,  0.0152,  0.0091, -0.0070, -0.0122,  0.0145,\n",
            "        -0.0020, -0.0255,  0.0115,  0.0022,  0.0162,  0.0112,  0.0145,  0.0325,\n",
            "         0.0040,  0.0248,  0.0012, -0.0293, -0.0234, -0.0224, -0.0195,  0.0322,\n",
            "        -0.0141, -0.0077, -0.0057,  0.0003,  0.0237,  0.0307,  0.0099,  0.0142,\n",
            "        -0.0092,  0.0129, -0.0310,  0.0172,  0.0100,  0.0241,  0.0026, -0.0071,\n",
            "         0.0318, -0.0256,  0.0268,  0.0190,  0.0241,  0.0109,  0.0033,  0.0129,\n",
            "         0.0076, -0.0068,  0.0130,  0.0043, -0.0071, -0.0308, -0.0023,  0.0144,\n",
            "        -0.0251,  0.0073,  0.0282, -0.0090,  0.0363,  0.0101,  0.0194,  0.0313,\n",
            "        -0.0127,  0.0048,  0.0228,  0.0262, -0.0107, -0.0142, -0.0305,  0.0036,\n",
            "         0.0217,  0.0287,  0.0030, -0.0272,  0.0109,  0.0207, -0.0142, -0.0284,\n",
            "        -0.0334, -0.0160,  0.0239, -0.0344, -0.0344, -0.0142,  0.0247, -0.0219,\n",
            "         0.0167,  0.0257, -0.0053,  0.0097,  0.0078,  0.0062,  0.0238,  0.0038,\n",
            "         0.0272, -0.0329, -0.0064, -0.0279,  0.0169,  0.0364,  0.0087, -0.0010,\n",
            "        -0.0094, -0.0122,  0.0322,  0.0152,  0.0033, -0.0285, -0.0062, -0.0336,\n",
            "        -0.0265, -0.0243,  0.0100,  0.0085,  0.0210,  0.0157,  0.0226, -0.0132,\n",
            "        -0.0192,  0.0020, -0.0294,  0.0078,  0.0329, -0.0283,  0.0043,  0.0273,\n",
            "        -0.0037, -0.0138,  0.0345, -0.0242, -0.0228, -0.0005, -0.0321,  0.0251,\n",
            "        -0.0273, -0.0310,  0.0353,  0.0323, -0.0260, -0.0073,  0.0140,  0.0319,\n",
            "        -0.0250, -0.0251,  0.0020, -0.0225,  0.0143, -0.0007, -0.0233, -0.0297,\n",
            "         0.0239,  0.0226, -0.0103,  0.0361, -0.0070, -0.0248, -0.0336,  0.0199,\n",
            "         0.0188,  0.0125,  0.0244, -0.0253, -0.0242, -0.0077, -0.0096,  0.0355,\n",
            "        -0.0265,  0.0118, -0.0031, -0.0115, -0.0146,  0.0197,  0.0223, -0.0238,\n",
            "         0.0345, -0.0103, -0.0235,  0.0155,  0.0124,  0.0351,  0.0251,  0.0028,\n",
            "         0.0029, -0.0319, -0.0110,  0.0033, -0.0136,  0.0042,  0.0161,  0.0148,\n",
            "        -0.0270, -0.0012,  0.0235, -0.0296, -0.0056,  0.0234,  0.0023, -0.0016,\n",
            "         0.0210, -0.0160, -0.0096, -0.0138, -0.0052, -0.0303,  0.0128, -0.0073,\n",
            "         0.0202,  0.0204,  0.0257, -0.0256,  0.0008, -0.0349,  0.0278,  0.0188,\n",
            "        -0.0229, -0.0013, -0.0200, -0.0212,  0.0118,  0.0225, -0.0015,  0.0065,\n",
            "         0.0007, -0.0003, -0.0014, -0.0010,  0.0066,  0.0107, -0.0278, -0.0064,\n",
            "         0.0023,  0.0017,  0.0143,  0.0091,  0.0215, -0.0165, -0.0153, -0.0323,\n",
            "        -0.0273, -0.0101, -0.0260,  0.0290, -0.0112,  0.0331,  0.0010, -0.0129,\n",
            "         0.0320, -0.0100, -0.0094, -0.0120,  0.0129,  0.0245, -0.0348,  0.0307,\n",
            "         0.0309,  0.0179, -0.0092, -0.0234, -0.0004,  0.0215,  0.0160,  0.0067,\n",
            "         0.0331, -0.0176,  0.0008, -0.0342,  0.0337,  0.0152, -0.0115, -0.0263,\n",
            "        -0.0118,  0.0165,  0.0240, -0.0184,  0.0009,  0.0214, -0.0007, -0.0045,\n",
            "        -0.0233, -0.0004,  0.0167, -0.0280, -0.0099, -0.0011,  0.0281, -0.0011,\n",
            "         0.0065,  0.0357, -0.0010, -0.0328, -0.0125, -0.0024, -0.0010, -0.0112,\n",
            "        -0.0146, -0.0082,  0.0086,  0.0020,  0.0161,  0.0144, -0.0087,  0.0104,\n",
            "         0.0344, -0.0317, -0.0067,  0.0113,  0.0002, -0.0166, -0.0185,  0.0007,\n",
            "        -0.0294,  0.0285,  0.0161, -0.0053, -0.0131,  0.0155,  0.0121,  0.0010,\n",
            "        -0.0205, -0.0126, -0.0288, -0.0103,  0.0135,  0.0221, -0.0249,  0.0119,\n",
            "         0.0337, -0.0321, -0.0193, -0.0327,  0.0267, -0.0039,  0.0252, -0.0213,\n",
            "        -0.0252,  0.0154, -0.0252, -0.0005,  0.0337,  0.0160,  0.0035, -0.0146,\n",
            "        -0.0303, -0.0248, -0.0040, -0.0180, -0.0033,  0.0060, -0.0253, -0.0029,\n",
            "        -0.0074, -0.0118,  0.0260, -0.0261,  0.0026,  0.0310,  0.0125, -0.0323,\n",
            "        -0.0223,  0.0239,  0.0042,  0.0193,  0.0181,  0.0238,  0.0204,  0.0019,\n",
            "        -0.0265, -0.0245,  0.0336, -0.0277,  0.0176,  0.0261,  0.0022, -0.0133,\n",
            "        -0.0067,  0.0316,  0.0092,  0.0154,  0.0170,  0.0251,  0.0049, -0.0356,\n",
            "         0.0287,  0.0335, -0.0194,  0.0197, -0.0100,  0.0190,  0.0071,  0.0358,\n",
            "         0.0178,  0.0038, -0.0289,  0.0020,  0.0293,  0.0212,  0.0296, -0.0114,\n",
            "         0.0253,  0.0087,  0.0207, -0.0135, -0.0009,  0.0056, -0.0226, -0.0012,\n",
            "         0.0048, -0.0257,  0.0180,  0.0187,  0.0067, -0.0169,  0.0052, -0.0186,\n",
            "        -0.0319, -0.0177,  0.0282, -0.0332,  0.0076, -0.0330, -0.0109, -0.0022,\n",
            "         0.0223,  0.0112, -0.0255, -0.0047, -0.0113,  0.0103, -0.0030,  0.0139,\n",
            "         0.0333,  0.0350, -0.0142, -0.0278,  0.0005, -0.0339, -0.0224, -0.0070,\n",
            "        -0.0215, -0.0342, -0.0032,  0.0019, -0.0191, -0.0056, -0.0351, -0.0056,\n",
            "         0.0046, -0.0355, -0.0262, -0.0235,  0.0135,  0.0193,  0.0023,  0.0125,\n",
            "         0.0067, -0.0280, -0.0264, -0.0088, -0.0289,  0.0138, -0.0208, -0.0211,\n",
            "         0.0089, -0.0175, -0.0043, -0.0228,  0.0172, -0.0324, -0.0134,  0.0304,\n",
            "        -0.0172,  0.0263,  0.0002, -0.0225, -0.0058, -0.0179, -0.0053,  0.0198,\n",
            "         0.0259,  0.0090, -0.0344, -0.0017,  0.0327, -0.0120, -0.0128, -0.0333,\n",
            "        -0.0092,  0.0262, -0.0263,  0.0214,  0.0097, -0.0198,  0.0306,  0.0050,\n",
            "         0.0249, -0.0245,  0.0109, -0.0234,  0.0143, -0.0001,  0.0159, -0.0196,\n",
            "         0.0101,  0.0138, -0.0016, -0.0136, -0.0112,  0.0062,  0.0162,  0.0349,\n",
            "         0.0120,  0.0027, -0.0020, -0.0306,  0.0304, -0.0329,  0.0299, -0.0348,\n",
            "         0.0255,  0.0219, -0.0004, -0.0322, -0.0143, -0.0235,  0.0025,  0.0108,\n",
            "         0.0105,  0.0220,  0.0092, -0.0125,  0.0161, -0.0323,  0.0285,  0.0160,\n",
            "         0.0230, -0.0087,  0.0355, -0.0304,  0.0168, -0.0278, -0.0237, -0.0315,\n",
            "         0.0112,  0.0227,  0.0345,  0.0337, -0.0089, -0.0043, -0.0045, -0.0087,\n",
            "        -0.0310,  0.0036,  0.0287, -0.0075, -0.0236, -0.0210, -0.0134,  0.0123,\n",
            "         0.0323,  0.0082,  0.0204,  0.0183, -0.0079, -0.0235, -0.0152, -0.0010,\n",
            "        -0.0033, -0.0037, -0.0052,  0.0273, -0.0037,  0.0338, -0.0122,  0.0031,\n",
            "         0.0142,  0.0071, -0.0088,  0.0105,  0.0357,  0.0104, -0.0246,  0.0082,\n",
            "        -0.0212,  0.0278,  0.0275,  0.0294,  0.0338,  0.0258,  0.0344,  0.0045,\n",
            "         0.0268, -0.0286, -0.0147,  0.0315, -0.0161, -0.0004,  0.0217, -0.0100,\n",
            "         0.0256,  0.0148, -0.0268,  0.0321, -0.0209, -0.0127,  0.0073, -0.0339,\n",
            "        -0.0354, -0.0305,  0.0348, -0.0070,  0.0064, -0.0317,  0.0066,  0.0304,\n",
            "        -0.0102, -0.0150, -0.0096, -0.0113,  0.0128, -0.0159, -0.0153,  0.0275,\n",
            "         0.0077, -0.0003,  0.0283, -0.0073, -0.0242, -0.0230,  0.0021, -0.0309,\n",
            "         0.0292, -0.0059,  0.0292, -0.0177,  0.0231,  0.0145, -0.0217,  0.0362,\n",
            "        -0.0014,  0.0250, -0.0105, -0.0183, -0.0112,  0.0132, -0.0169, -0.0060,\n",
            "        -0.0122,  0.0089,  0.0116, -0.0340, -0.0344, -0.0087,  0.0041, -0.0339,\n",
            "        -0.0110,  0.0149,  0.0133,  0.0152, -0.0193, -0.0089, -0.0142, -0.0200,\n",
            "        -0.0125, -0.0037,  0.0138,  0.0219, -0.0173,  0.0040, -0.0359, -0.0217,\n",
            "        -0.0207,  0.0029,  0.0026, -0.0328,  0.0154,  0.0321, -0.0090, -0.0301,\n",
            "         0.0223, -0.0263, -0.0207, -0.0099,  0.0235,  0.0220, -0.0239,  0.0053,\n",
            "        -0.0109,  0.0056,  0.0013,  0.0228,  0.0232,  0.0105, -0.0197, -0.0085,\n",
            "        -0.0119, -0.0268,  0.0111,  0.0276, -0.0284, -0.0071, -0.0146,  0.0023,\n",
            "        -0.0223,  0.0092, -0.0227,  0.0072, -0.0090,  0.0070,  0.0088,  0.0102,\n",
            "        -0.0272,  0.0198,  0.0219,  0.0159, -0.0045, -0.0077, -0.0112, -0.0186]))\n",
            "('hidden_layer.weight', Parameter containing:\n",
            "tensor([[-0.0013,  0.0211,  0.0283,  ...,  0.0095, -0.0115, -0.0174],\n",
            "        [-0.0040,  0.0120, -0.0062,  ...,  0.0028,  0.0202,  0.0290],\n",
            "        [ 0.0192, -0.0312, -0.0185,  ..., -0.0243,  0.0281,  0.0138],\n",
            "        ...,\n",
            "        [-0.0087,  0.0031,  0.0238,  ..., -0.0307, -0.0058, -0.0035],\n",
            "        [ 0.0209,  0.0119,  0.0065,  ..., -0.0176, -0.0075, -0.0002],\n",
            "        [-0.0024, -0.0199,  0.0299,  ...,  0.0145, -0.0064, -0.0195]]))\n",
            "('hidden_layer.bias', Parameter containing:\n",
            "tensor([ 0.0031, -0.0175, -0.0137,  ...,  0.0230,  0.0066,  0.0303]))\n",
            "('output_layer.weight', Parameter containing:\n",
            "tensor([[ 0.0206, -0.0210, -0.0221,  ...,  0.0071,  0.0279, -0.0070],\n",
            "        [-0.0155, -0.0101, -0.0048,  ...,  0.0175, -0.0219,  0.0030],\n",
            "        [-0.0176,  0.0097,  0.0065,  ..., -0.0123, -0.0209, -0.0120],\n",
            "        ...,\n",
            "        [-0.0099,  0.0142, -0.0065,  ..., -0.0197, -0.0065, -0.0150],\n",
            "        [ 0.0128,  0.0048, -0.0130,  ...,  0.0026,  0.0182,  0.0193],\n",
            "        [ 0.0092,  0.0110, -0.0188,  ...,  0.0185,  0.0058,  0.0135]]))\n",
            "('output_layer.bias', Parameter containing:\n",
            "tensor([ 9.3255e-03,  2.2542e-02,  5.6729e-02, -2.9024e-05,  1.7840e-02,\n",
            "        -2.6046e-02, -3.2042e-02, -2.0425e-02, -4.0910e-03, -3.0387e-02]))\n",
            "('input_layer_lora.lora_A', Parameter containing:\n",
            "tensor([[ 0.3989, -0.4003, -0.2264,  0.4871],\n",
            "        [ 0.1628, -0.1742,  0.2930, -0.2645],\n",
            "        [-0.1583,  0.4681, -0.1570,  0.2083],\n",
            "        ...,\n",
            "        [ 0.2251, -0.2020,  0.3187, -0.2260],\n",
            "        [-0.2719, -0.4492, -0.2094, -0.2634],\n",
            "        [ 0.3205,  0.0388, -0.2984, -0.2673]], requires_grad=True))\n",
            "('input_layer_lora.lora_B', Parameter containing:\n",
            "tensor([[0., 0., 0.,  ..., 0., 0., 0.],\n",
            "        [0., 0., 0.,  ..., 0., 0., 0.],\n",
            "        [0., 0., 0.,  ..., 0., 0., 0.],\n",
            "        [0., 0., 0.,  ..., 0., 0., 0.]], requires_grad=True))\n",
            "('hidden_layer_lora.lora_A', Parameter containing:\n",
            "tensor([[-0.4085,  0.2910,  0.4968,  0.4928],\n",
            "        [ 0.2094,  0.3295, -0.3667, -0.1225],\n",
            "        [ 0.0919, -0.0688,  0.3607,  0.2574],\n",
            "        ...,\n",
            "        [-0.0680, -0.0631,  0.0755,  0.2613],\n",
            "        [ 0.0585,  0.3708, -0.0324, -0.4550],\n",
            "        [ 0.0105, -0.2570, -0.1873,  0.1390]], requires_grad=True))\n",
            "('hidden_layer_lora.lora_B', Parameter containing:\n",
            "tensor([[0., 0., 0.,  ..., 0., 0., 0.],\n",
            "        [0., 0., 0.,  ..., 0., 0., 0.],\n",
            "        [0., 0., 0.,  ..., 0., 0., 0.],\n",
            "        [0., 0., 0.,  ..., 0., 0., 0.]], requires_grad=True))\n",
            "('out_layer_lora.lora_A', Parameter containing:\n",
            "tensor([[ 0.1854,  0.1500, -0.0579, -0.2456],\n",
            "        [ 0.2948,  0.4971,  0.1936, -0.2354],\n",
            "        [-0.0169, -0.0330, -0.2021,  0.1037],\n",
            "        ...,\n",
            "        [-0.1860, -0.2772,  0.3225,  0.0706],\n",
            "        [-0.2174,  0.0949, -0.1827,  0.1590],\n",
            "        [-0.1057,  0.0017, -0.2337, -0.0911]], requires_grad=True))\n",
            "('out_layer_lora.lora_B', Parameter containing:\n",
            "tensor([[0., 0., 0., 0., 0., 0., 0., 0., 0., 0.],\n",
            "        [0., 0., 0., 0., 0., 0., 0., 0., 0., 0.],\n",
            "        [0., 0., 0., 0., 0., 0., 0., 0., 0., 0.],\n",
            "        [0., 0., 0., 0., 0., 0., 0., 0., 0., 0.]], requires_grad=True))\n"
          ]
        }
      ]
    },
    {
      "cell_type": "code",
      "source": [],
      "metadata": {
        "id": "tPD1fNKH3W3G"
      },
      "execution_count": null,
      "outputs": []
    },
    {
      "cell_type": "code",
      "source": [
        "# Check that the frozen parameters are still unchanged by the finetuning\n",
        "assert torch.all(BigNet.input_layer.parametrizations.weight.original == original_weights['input_layer.weight'])\n",
        "assert torch.all(BigNet.hidden_layer.parametrizations.weight.original == original_weights['hidden_layer.weight'])\n",
        "assert torch.all(BigNet.output_layer.parametrizations.weight.original == original_weights['output_layer.weight'])\n",
        "\n",
        "enable_disable_lora(enabled=True)\n",
        "# The new linear1.weight is obtained by the \"forward\" function of our LoRA parametrization\n",
        "# The original weights have been moved to net.linear1.parametrizations.weight.original\n",
        "# More info here: https://pytorch.org/tutorials/intermediate/parametrizations.html#inspecting-a-parametrized-module\n",
        "assert torch.equal(BigNet.input_layer.weight, BigNet.input_layer.parametrizations.weight.original + (BigNet.input_layer.parametrizations.weight[0].lora_B @ BigNet.input_layer.parametrizations.weight[0].lora_A) * BigNet.input_layer.parametrizations.weight[0].scale)\n",
        "\n",
        "enable_disable_lora(enabled=False)\n",
        "# If we disable LoRA, the linear1.weight is the original one\n",
        "assert torch.equal(BigNet.input_layer.weight, original_weights['input_layer.weight'])"
      ],
      "metadata": {
        "id": "NwEaCrNx3p0e",
        "colab": {
          "base_uri": "https://localhost:8080/",
          "height": 250
        },
        "outputId": "17954112-eee2-4575-83f4-fe0df23c044b"
      },
      "execution_count": null,
      "outputs": [
        {
          "output_type": "error",
          "ename": "AssertionError",
          "evalue": "ignored",
          "traceback": [
            "\u001b[0;31m---------------------------------------------------------------------------\u001b[0m",
            "\u001b[0;31mAssertionError\u001b[0m                            Traceback (most recent call last)",
            "\u001b[0;32m<ipython-input-23-61cbaa4e4380>\u001b[0m in \u001b[0;36m<cell line: 2>\u001b[0;34m()\u001b[0m\n\u001b[1;32m      1\u001b[0m \u001b[0;31m# Check that the frozen parameters are still unchanged by the finetuning\u001b[0m\u001b[0;34m\u001b[0m\u001b[0;34m\u001b[0m\u001b[0m\n\u001b[0;32m----> 2\u001b[0;31m \u001b[0;32massert\u001b[0m \u001b[0mtorch\u001b[0m\u001b[0;34m.\u001b[0m\u001b[0mall\u001b[0m\u001b[0;34m(\u001b[0m\u001b[0mBigNet\u001b[0m\u001b[0;34m.\u001b[0m\u001b[0minput_layer\u001b[0m\u001b[0;34m.\u001b[0m\u001b[0mparametrizations\u001b[0m\u001b[0;34m.\u001b[0m\u001b[0mweight\u001b[0m\u001b[0;34m.\u001b[0m\u001b[0moriginal\u001b[0m \u001b[0;34m==\u001b[0m \u001b[0moriginal_weights\u001b[0m\u001b[0;34m[\u001b[0m\u001b[0;34m'input_layer.weight'\u001b[0m\u001b[0;34m]\u001b[0m\u001b[0;34m)\u001b[0m\u001b[0;34m\u001b[0m\u001b[0;34m\u001b[0m\u001b[0m\n\u001b[0m\u001b[1;32m      3\u001b[0m \u001b[0;32massert\u001b[0m \u001b[0mtorch\u001b[0m\u001b[0;34m.\u001b[0m\u001b[0mall\u001b[0m\u001b[0;34m(\u001b[0m\u001b[0mBigNet\u001b[0m\u001b[0;34m.\u001b[0m\u001b[0mhidden_layer\u001b[0m\u001b[0;34m.\u001b[0m\u001b[0mparametrizations\u001b[0m\u001b[0;34m.\u001b[0m\u001b[0mweight\u001b[0m\u001b[0;34m.\u001b[0m\u001b[0moriginal\u001b[0m \u001b[0;34m==\u001b[0m \u001b[0moriginal_weights\u001b[0m\u001b[0;34m[\u001b[0m\u001b[0;34m'hidden_layer.weight'\u001b[0m\u001b[0;34m]\u001b[0m\u001b[0;34m)\u001b[0m\u001b[0;34m\u001b[0m\u001b[0;34m\u001b[0m\u001b[0m\n\u001b[1;32m      4\u001b[0m \u001b[0;32massert\u001b[0m \u001b[0mtorch\u001b[0m\u001b[0;34m.\u001b[0m\u001b[0mall\u001b[0m\u001b[0;34m(\u001b[0m\u001b[0mBigNet\u001b[0m\u001b[0;34m.\u001b[0m\u001b[0moutput_layer\u001b[0m\u001b[0;34m.\u001b[0m\u001b[0mparametrizations\u001b[0m\u001b[0;34m.\u001b[0m\u001b[0mweight\u001b[0m\u001b[0;34m.\u001b[0m\u001b[0moriginal\u001b[0m \u001b[0;34m==\u001b[0m \u001b[0moriginal_weights\u001b[0m\u001b[0;34m[\u001b[0m\u001b[0;34m'output_layer.weight'\u001b[0m\u001b[0;34m]\u001b[0m\u001b[0;34m)\u001b[0m\u001b[0;34m\u001b[0m\u001b[0;34m\u001b[0m\u001b[0m\n\u001b[1;32m      5\u001b[0m \u001b[0;34m\u001b[0m\u001b[0m\n",
            "\u001b[0;31mAssertionError\u001b[0m: "
          ]
        }
      ]
    },
    {
      "cell_type": "code",
      "source": [
        "# Test with LoRA enabled\n",
        "enable_disable_lora(enabled=True)\n",
        "test(\n",
        "      test_loader=test_loader,\n",
        "      net=BigNet,\n",
        ")"
      ],
      "metadata": {
        "id": "JmlFICMgJP7x"
      },
      "execution_count": null,
      "outputs": []
    },
    {
      "cell_type": "code",
      "source": [
        "enable_disable_lora(enabled=False)\n",
        "\n",
        "weights_with_lora = {}\n",
        "for name, parm in BigNet.named_parameters():\n",
        "  weights_with_lora[param] = parm.clone().detach()\n"
      ],
      "metadata": {
        "id": "vpNB2DAj47Ku"
      },
      "execution_count": null,
      "outputs": []
    },
    {
      "cell_type": "code",
      "source": [
        "weights_with_lora"
      ],
      "metadata": {
        "id": "qCWToywAA0t3"
      },
      "execution_count": null,
      "outputs": []
    },
    {
      "cell_type": "code",
      "source": [],
      "metadata": {
        "id": "k55C13q9Mtys"
      },
      "execution_count": null,
      "outputs": []
    }
  ]
}