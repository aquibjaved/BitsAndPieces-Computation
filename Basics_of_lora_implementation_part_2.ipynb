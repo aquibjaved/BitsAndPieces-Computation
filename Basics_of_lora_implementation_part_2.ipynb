{
  "nbformat": 4,
  "nbformat_minor": 0,
  "metadata": {
    "colab": {
      "provenance": [],
      "toc_visible": true,
      "authorship_tag": "ABX9TyMh795Ggwb2fP8YzdtTqewu",
      "include_colab_link": true
    },
    "kernelspec": {
      "name": "python3",
      "display_name": "Python 3"
    },
    "language_info": {
      "name": "python"
    }
  },
  "cells": [
    {
      "cell_type": "markdown",
      "metadata": {
        "id": "view-in-github",
        "colab_type": "text"
      },
      "source": [
        "<a href=\"https://colab.research.google.com/github/aquibjaved/Bits_and_Pieces_DL/blob/main/Basics_of_lora_implementation_part_2.ipynb\" target=\"_parent\"><img src=\"https://colab.research.google.com/assets/colab-badge.svg\" alt=\"Open In Colab\"/></a>"
      ]
    },
    {
      "cell_type": "code",
      "execution_count": 1,
      "metadata": {
        "id": "GUF9hrLcTNy2"
      },
      "outputs": [],
      "source": [
        "import torch\n",
        "from torch import nn, optim\n",
        "import torch.nn.functional as F\n",
        "import torch.nn.utils.parametrize as P\n",
        "from sklearn.datasets import load_iris\n",
        "from torch.utils.data import TensorDataset, DataLoader\n",
        "from sklearn.model_selection import train_test_split\n",
        "import matplotlib.pyplot as plt\n",
        "from torchvision import datasets, transforms\n",
        "from sklearn.preprocessing import StandardScaler\n",
        "\n",
        "import matplotlib.pyplot as plt\n",
        "import numpy as np\n",
        "import math"
      ]
    },
    {
      "cell_type": "code",
      "source": [
        "# Define a transform to normalize the data and flatten each image into a 1D array\n",
        "transform = transforms.Compose([\n",
        "    transforms.ToTensor(),\n",
        "    transforms.Normalize((0.5,), (0.5,)),\n",
        "    transforms.Lambda(lambda x: x.view(-1))\n",
        "])\n",
        "\n",
        "def collate_fn(batch):\n",
        "    data, target = zip(*batch)\n",
        "    data = torch.stack(data)\n",
        "    target = torch.tensor(target)\n",
        "    return data.cuda(), target.cuda()"
      ],
      "metadata": {
        "id": "VOJ4GViMUdmr"
      },
      "execution_count": 2,
      "outputs": []
    },
    {
      "cell_type": "code",
      "source": [
        "def plot_flattened_images(flattened_images, labels, img_shape, class_names, num_images=5):\n",
        "    \"\"\"\n",
        "    Plots images that have been flattened.\n",
        "\n",
        "    Parameters:\n",
        "        flattened_images (torch.Tensor): The flattened images tensor.\n",
        "        labels (torch.Tensor): The labels tensor.\n",
        "        img_shape (tuple): The original shape of the images (e.g., (28, 28) for Fashion MNIST).\n",
        "        class_names (list): List of class names.\n",
        "        num_images (int): Number of images to plot.\n",
        "    \"\"\"\n",
        "    # Reshape the flattened images back to their original shape\n",
        "    reshaped_images = flattened_images.view(-1, *img_shape).numpy()\n",
        "\n",
        "    # Create a figure and axes\n",
        "    fig, axes = plt.subplots(1, num_images, figsize=(10, 5))\n",
        "\n",
        "    for i, ax in enumerate(axes):\n",
        "        img = reshaped_images[i]\n",
        "        label = class_names[labels[i].item()]\n",
        "        ax.imshow(img, cmap='gray')\n",
        "        ax.set_title(label)\n",
        "        ax.axis('off')\n",
        "\n",
        "    plt.tight_layout()\n",
        "    plt.show()"
      ],
      "metadata": {
        "id": "vg49lNwSX5hQ"
      },
      "execution_count": 3,
      "outputs": []
    },
    {
      "cell_type": "code",
      "source": [
        "train_dataset = datasets.FashionMNIST('~/.data', download=True, train=True, transform=transform)\n",
        "test_dataset = datasets.FashionMNIST('~/.data', download=True, train=False, transform=transform)"
      ],
      "metadata": {
        "id": "7dOEaY1us2bB",
        "colab": {
          "base_uri": "https://localhost:8080/"
        },
        "outputId": "30ccaf05-338a-4759-e522-39ab1ecff635"
      },
      "execution_count": 4,
      "outputs": [
        {
          "output_type": "stream",
          "name": "stdout",
          "text": [
            "Downloading http://fashion-mnist.s3-website.eu-central-1.amazonaws.com/train-images-idx3-ubyte.gz\n",
            "Downloading http://fashion-mnist.s3-website.eu-central-1.amazonaws.com/train-images-idx3-ubyte.gz to /root/.data/FashionMNIST/raw/train-images-idx3-ubyte.gz\n"
          ]
        },
        {
          "output_type": "stream",
          "name": "stderr",
          "text": [
            "100%|██████████| 26421880/26421880 [00:01<00:00, 21069547.83it/s]\n"
          ]
        },
        {
          "output_type": "stream",
          "name": "stdout",
          "text": [
            "Extracting /root/.data/FashionMNIST/raw/train-images-idx3-ubyte.gz to /root/.data/FashionMNIST/raw\n",
            "\n",
            "Downloading http://fashion-mnist.s3-website.eu-central-1.amazonaws.com/train-labels-idx1-ubyte.gz\n",
            "Downloading http://fashion-mnist.s3-website.eu-central-1.amazonaws.com/train-labels-idx1-ubyte.gz to /root/.data/FashionMNIST/raw/train-labels-idx1-ubyte.gz\n"
          ]
        },
        {
          "output_type": "stream",
          "name": "stderr",
          "text": [
            "100%|██████████| 29515/29515 [00:00<00:00, 411135.26it/s]\n"
          ]
        },
        {
          "output_type": "stream",
          "name": "stdout",
          "text": [
            "Extracting /root/.data/FashionMNIST/raw/train-labels-idx1-ubyte.gz to /root/.data/FashionMNIST/raw\n",
            "\n",
            "Downloading http://fashion-mnist.s3-website.eu-central-1.amazonaws.com/t10k-images-idx3-ubyte.gz\n",
            "Downloading http://fashion-mnist.s3-website.eu-central-1.amazonaws.com/t10k-images-idx3-ubyte.gz to /root/.data/FashionMNIST/raw/t10k-images-idx3-ubyte.gz\n"
          ]
        },
        {
          "output_type": "stream",
          "name": "stderr",
          "text": [
            "100%|██████████| 4422102/4422102 [00:00<00:00, 6189797.02it/s]\n"
          ]
        },
        {
          "output_type": "stream",
          "name": "stdout",
          "text": [
            "Extracting /root/.data/FashionMNIST/raw/t10k-images-idx3-ubyte.gz to /root/.data/FashionMNIST/raw\n",
            "\n",
            "Downloading http://fashion-mnist.s3-website.eu-central-1.amazonaws.com/t10k-labels-idx1-ubyte.gz\n",
            "Downloading http://fashion-mnist.s3-website.eu-central-1.amazonaws.com/t10k-labels-idx1-ubyte.gz to /root/.data/FashionMNIST/raw/t10k-labels-idx1-ubyte.gz\n"
          ]
        },
        {
          "output_type": "stream",
          "name": "stderr",
          "text": [
            "100%|██████████| 5148/5148 [00:00<00:00, 17413126.61it/s]\n"
          ]
        },
        {
          "output_type": "stream",
          "name": "stdout",
          "text": [
            "Extracting /root/.data/FashionMNIST/raw/t10k-labels-idx1-ubyte.gz to /root/.data/FashionMNIST/raw\n",
            "\n"
          ]
        }
      ]
    },
    {
      "cell_type": "code",
      "source": [
        "def split_dataset(dataset, labels):\n",
        "    indices = [i for i, (data, label) in enumerate(dataset) if label in labels]\n",
        "    return torch.utils.data.Subset(dataset, indices)\n",
        "\n",
        "labels_1 = [0, 1, 2, 3, 4]\n",
        "labels_2 = [5, 6, 7, 8, 9]\n",
        "\n",
        "train_dataset_04 = split_dataset(train_dataset, labels_1)\n",
        "train_dataset_59 = split_dataset(train_dataset, labels_2)\n",
        "\n",
        "batch_size = 64\n",
        "\n",
        "train_loader_1 = torch.utils.data.DataLoader(train_dataset_04, batch_size=batch_size, shuffle=True)\n",
        "train_loader_2 = torch.utils.data.DataLoader(train_dataset_59, batch_size=batch_size, shuffle=True)\n",
        "test_loader = torch.utils.data.DataLoader(test_dataset, batch_size=batch_size, shuffle=False)"
      ],
      "metadata": {
        "id": "1qTV5X0lhI63"
      },
      "execution_count": 5,
      "outputs": []
    },
    {
      "cell_type": "code",
      "source": [
        "# Get one batch of images and labels\n",
        "dataiter = iter(train_loader_1)\n",
        "images, labels = next(dataiter)\n",
        "\n",
        "# Define the class names for Fashion MNIST\n",
        "class_names = ['T-shirt/top', 'Trouser', 'Pullover', 'Dress', 'Coat',\n",
        "               'Sandal', 'Shirt', 'Sneaker', 'Bag', 'Ankle boot']\n",
        "\n",
        "plot_flattened_images(flattened_images=images, labels=labels, img_shape=(28,28), num_images=10, class_names=class_names)"
      ],
      "metadata": {
        "colab": {
          "base_uri": "https://localhost:8080/",
          "height": 142
        },
        "id": "p3UdRE46U0Zw",
        "outputId": "61fbdf4c-a28e-4d6a-a213-a730596f8026"
      },
      "execution_count": 6,
      "outputs": [
        {
          "output_type": "display_data",
          "data": {
            "text/plain": [
              "<Figure size 1000x500 with 10 Axes>"
            ],
            "image/png": "[encoded data removed]"
          },
          "metadata": {}
        }
      ]
    },
    {
      "cell_type": "code",
      "source": [
        "class FashionNet(nn.Module):\n",
        "  def __init__(self, input_dims, num_class, input_hidden_size: 1000, hidden_layer_size:2000):\n",
        "\n",
        "    super().__init__()\n",
        "    self.input_dims = input_dims\n",
        "    self.num_class = num_class\n",
        "\n",
        "    self.input_layer = nn.Linear(in_features=self.input_dims, out_features=1000)\n",
        "    self.hidden_layer = nn.Linear(in_features=1000, out_features=2000)\n",
        "    self.output_layer = nn.Linear(in_features=2000, out_features=self.num_class)\n",
        "\n",
        "  def forward(self, x):\n",
        "    out = F.relu(self.input_layer(x))\n",
        "    out = F.relu(self.hidden_layer(out))\n",
        "    out = self.output_layer(out)\n",
        "    return out"
      ],
      "metadata": {
        "id": "hp0DV2XLU55K"
      },
      "execution_count": 7,
      "outputs": []
    },
    {
      "cell_type": "code",
      "source": [
        "# Check for GPU availability\n",
        "cuda_available = torch.cuda.is_available()"
      ],
      "metadata": {
        "id": "7g-tqvDgb8bG"
      },
      "execution_count": 8,
      "outputs": []
    },
    {
      "cell_type": "code",
      "source": [],
      "metadata": {
        "id": "a74CDAXKWSzt"
      },
      "execution_count": 8,
      "outputs": []
    },
    {
      "cell_type": "code",
      "source": [
        "import torch\n",
        "\n",
        "def train_model(epochs:int, train_loader, model, optimizer, criterion):\n",
        "  model.train()\n",
        "  train_loss_per_epoch = []\n",
        "\n",
        "  for epoch in range(epochs):\n",
        "\n",
        "    running_loss_train = 0.0\n",
        "\n",
        "    for data_batch, target_batch in train_loader:\n",
        "\n",
        "        data_batch = data_batch.to('cpu')\n",
        "        target_batch = target_batch.to('cpu')\n",
        "\n",
        "        optimizer.zero_grad()\n",
        "        output = model(data_batch)\n",
        "        loss_train = criterion(output, target_batch)\n",
        "        loss_train.backward()\n",
        "        optimizer.step()\n",
        "        running_loss_train += loss_train.item()\n",
        "\n",
        "    epcoh_loss_train = running_loss_train / len(train_loader)\n",
        "\n",
        "    train_loss_per_epoch.append(epcoh_loss_train)\n",
        "\n",
        "\n",
        "    if epoch %2 == 0:\n",
        "      print(f'Epoch {epoch} Train loss {epcoh_loss_train}')\n",
        "  return train_loss_per_epoch\n",
        "\n",
        "device='cpu'\n",
        "\n",
        "import torch\n",
        "from sklearn.metrics import confusion_matrix\n",
        "import numpy as np\n",
        "\n",
        "def test(test_loader, net):\n",
        "    correct = 0\n",
        "    total = 0\n",
        "\n",
        "    wrong_counts = [0 for i in range(10)]\n",
        "\n",
        "    with torch.no_grad():\n",
        "        for data in test_loader:\n",
        "            x, y = data\n",
        "            x = x.to(device)\n",
        "            y = y.to(device)\n",
        "            output = net(x)\n",
        "            for idx, i in enumerate(output):\n",
        "                if torch.argmax(i) == y[idx]:\n",
        "                    correct +=1\n",
        "                else:\n",
        "                    wrong_counts[y[idx]] +=1\n",
        "                total +=1\n",
        "    print(f'Accuracy: {round(correct/total, 3)}')\n",
        "    for i in range(len(wrong_counts)):\n",
        "        print(f'wrong counts for the Label {i}: {wrong_counts[i]}')\n",
        "\n"
      ],
      "metadata": {
        "id": "TX26hnzGZF5T"
      },
      "execution_count": 17,
      "outputs": []
    },
    {
      "cell_type": "code",
      "source": [
        "BigNet = FashionNet(input_dims=784, num_class=len(class_names), input_hidden_size=1000, hidden_layer_size=2000)\n",
        "optimizer = optim.SGD(BigNet.parameters(), lr=0.0001, momentum=0.9)\n",
        "criterion = nn.CrossEntropyLoss()\n",
        "\n",
        "# Assume `model` is your model\n",
        "if cuda_available:\n",
        "    BigNet = BigNet.to('cuda')\n",
        "    optimizer = optim.SGD(BigNet.parameters(), lr=0.011, momentum=0.9)\n",
        "    criterion = nn.CrossEntropyLoss().to('cuda')\n",
        "\n",
        "is_on_gpu = next(BigNet.parameters()).is_cuda\n",
        "print(f'Model is on GPU: {is_on_gpu}')\n",
        "\n",
        "trainable_params = sum(p.numel() for p in BigNet.parameters() if p.requires_grad)\n",
        "print(f'Number of trainable (tunable) parameters: {trainable_params}')"
      ],
      "metadata": {
        "colab": {
          "base_uri": "https://localhost:8080/"
        },
        "id": "ze1qj70ckHdA",
        "outputId": "4bc2b43e-e388-4448-bf41-2c78f5adb41f"
      },
      "execution_count": 10,
      "outputs": [
        {
          "output_type": "stream",
          "name": "stdout",
          "text": [
            "Model is on GPU: False\n",
            "Number of trainable (tunable) parameters: 2807010\n"
          ]
        }
      ]
    },
    {
      "cell_type": "code",
      "source": [
        "trainLoss = train_model(epochs=2,\n",
        "                        train_loader=train_loader_1,\n",
        "                        optimizer = optimizer,\n",
        "                        criterion=criterion,\n",
        "                        model=BigNet,\n",
        "                        )"
      ],
      "metadata": {
        "id": "zVpGo0qci1Fg",
        "colab": {
          "base_uri": "https://localhost:8080/"
        },
        "outputId": "69d32b2d-829f-471d-eef8-aa8277b9677a"
      },
      "execution_count": 14,
      "outputs": [
        {
          "output_type": "stream",
          "name": "stdout",
          "text": [
            "Epoch 0 Train loss 0.639518587701102\n"
          ]
        }
      ]
    },
    {
      "cell_type": "code",
      "source": [
        "torch.save(BigNet.state_dict(), 'model.pt')"
      ],
      "metadata": {
        "id": "0GD7246q4-Ua"
      },
      "execution_count": 15,
      "outputs": []
    },
    {
      "cell_type": "code",
      "source": [
        "# Call the function\n",
        "test(\n",
        "      test_loader=test_loader,\n",
        "      net=BigNet,\n",
        ")\n",
        "\n",
        "original_weights = {}\n",
        "for name, param in BigNet.named_parameters():\n",
        "    original_weights[name] = param.clone().detach()"
      ],
      "metadata": {
        "id": "PbLB-ECJqcht",
        "colab": {
          "base_uri": "https://localhost:8080/"
        },
        "outputId": "154b9814-7ae2-4176-ea59-c3bb47247c4a"
      },
      "execution_count": 18,
      "outputs": [
        {
          "output_type": "stream",
          "name": "stdout",
          "text": [
            "Accuracy: 0.403\n",
            "wrong counts for the Label 0: 162\n",
            "wrong counts for the Label 1: 86\n",
            "wrong counts for the Label 2: 266\n",
            "wrong counts for the Label 3: 152\n",
            "wrong counts for the Label 4: 306\n",
            "wrong counts for the Label 5: 1000\n",
            "wrong counts for the Label 6: 1000\n",
            "wrong counts for the Label 7: 1000\n",
            "wrong counts for the Label 8: 1000\n",
            "wrong counts for the Label 9: 1000\n"
          ]
        }
      ]
    },
    {
      "cell_type": "code",
      "source": [
        "# Load the model and test it\n",
        "model = FashionNet(input_dims=784, num_class=len(class_names), input_hidden_size=1000, hidden_layer_size=2000)\n",
        "model.load_state_dict(torch.load('model.pt'))\n",
        "model.to('cuda')\n",
        "# Call the function\n",
        "test(\n",
        "      test_loader=test_loader,\n",
        "      net=model,\n",
        ")"
      ],
      "metadata": {
        "colab": {
          "base_uri": "https://localhost:8080/"
        },
        "id": "13Vw1kve5KBC",
        "outputId": "27fd4fae-3a25-4cde-9321-93bcbdeaf546"
      },
      "execution_count": null,
      "outputs": [
        {
          "output_type": "stream",
          "name": "stdout",
          "text": [
            "Accuracy: 0.456\n",
            "wrong counts for the Label 0: 31\n",
            "wrong counts for the Label 1: 24\n",
            "wrong counts for the Label 2: 143\n",
            "wrong counts for the Label 3: 100\n",
            "wrong counts for the Label 4: 143\n",
            "wrong counts for the Label 5: 1000\n",
            "wrong counts for the Label 6: 1000\n",
            "wrong counts for the Label 7: 1000\n",
            "wrong counts for the Label 8: 1000\n",
            "wrong counts for the Label 9: 1000\n"
          ]
        }
      ]
    },
    {
      "cell_type": "code",
      "source": [
        "total_parameters_original = 0\n",
        "for index, layer in enumerate([BigNet.input_layer, BigNet.hidden_layer, BigNet.output_layer]):\n",
        "    total_parameters_original += layer.weight.nelement() + layer.bias.nelement()\n",
        "    print(f'Layer {index+1}: W: {layer.weight.shape} + B: {layer.bias.shape}')\n",
        "print(f'Total number of parameters: {total_parameters_original:,}')"
      ],
      "metadata": {
        "colab": {
          "base_uri": "https://localhost:8080/"
        },
        "id": "F7sDiWvnEDcx",
        "outputId": "1459bbbf-3500-4675-b889-9b961a851530"
      },
      "execution_count": null,
      "outputs": [
        {
          "output_type": "stream",
          "name": "stdout",
          "text": [
            "Layer 1: W: torch.Size([1000, 784]) + B: torch.Size([1000])\n",
            "Layer 2: W: torch.Size([2000, 1000]) + B: torch.Size([2000])\n",
            "Layer 3: W: torch.Size([10, 2000]) + B: torch.Size([10])\n",
            "Total number of parameters: 2,807,010\n"
          ]
        }
      ]
    },
    {
      "cell_type": "code",
      "source": [
        "# Get one batch of images and labels\n",
        "dataiter = iter(train_loader_2)\n",
        "images, labels = next(dataiter)\n",
        "\n",
        "# Define the class names for Fashion MNIST\n",
        "class_names = ['T-shirt/top', 'Trouser', 'Pullover', 'Dress', 'Coat',\n",
        "               'Sandal', 'Shirt', 'Sneaker', 'Bag', 'Ankle boot']\n",
        "\n",
        "plot_flattened_images(flattened_images=images, labels=labels, img_shape=(28,28), num_images=10, class_names=class_names)"
      ],
      "metadata": {
        "colab": {
          "base_uri": "https://localhost:8080/",
          "height": 142
        },
        "id": "SsrsAkex1Z0i",
        "outputId": "71a177f5-290d-4c52-80b1-af6534649a17"
      },
      "execution_count": null,
      "outputs": [
        {
          "output_type": "display_data",
          "data": {
            "text/plain": [
              "<Figure size 1000x500 with 10 Axes>"
            ],
            "image/png": "[encoded data removed]"
          },
          "metadata": {}
        }
      ]
    },
    {
      "cell_type": "code",
      "source": [
        "class LoRaModel(nn.Module):\n",
        "  def __init__(self, r: int, alpha_lora: int, input_dims: int, input_hidden_size: 1000, hidden_layer_size:2000, num_class:int):\n",
        "    super().__init__()\n",
        "    self.r = r\n",
        "    self.alpha_lora = alpha_lora\n",
        "    self.input_dims = input_dims\n",
        "    self.input_hidden_size = input_hidden_size\n",
        "    self.hidden_layer_size = hidden_layer_size\n",
        "    self.num_class = num_class\n",
        "\n",
        "    self.input_layer = nn.Linear(in_features=self.input_dims, out_features=self.input_hidden_size)\n",
        "    self.input_layer.weight.requires_grad = False\n",
        "\n",
        "    self.hidden_layer = nn.Linear(in_features=self.input_hidden_size, out_features=self.hidden_layer_size)\n",
        "    self.hidden_layer.weight.requires_grad = False\n",
        "\n",
        "    self.output_layer = nn.Linear(in_features=self.hidden_layer_size, out_features=self.num_class)\n",
        "    self.output_layer.weight.requires_grad = False\n",
        "\n",
        "\n",
        "    self.input_lora_A = nn.Linear(self.input_dims, self.r)\n",
        "    self.input_lora_B = nn.Linear(self.r, self.input_hidden_size)\n",
        "\n",
        "    self.hidden_lora_A = nn.Linear(self.input_hidden_size, self.r)\n",
        "    self.hidden_lora_B = nn.Linear(self.r, self.hidden_layer_size)\n",
        "\n",
        "    self.output_lora_A = nn.Linear(self.hidden_layer_size, self.r)\n",
        "    self.output_lora_B = nn.Linear(self.r, self.num_class)\n",
        "\n",
        "    self.dropout = nn.Dropout(0.1)\n",
        "    self.scaling = self.alpha_lora / self.r\n",
        "\n",
        "    for n,p in self.named_parameters():\n",
        "      if 'lora' in n:\n",
        "          if n[-1]=='A':\n",
        "              nn.init.kaiming_normal_(p, a=math.sqrt(5))\n",
        "          elif n[-1]=='B':\n",
        "              nn.init.zeros_(p)\n",
        "\n",
        "    # freeze non lora weights\n",
        "    for n,p in self.named_parameters():\n",
        "        if 'lora' not in n:\n",
        "            p.requires_grad = False\n",
        "        else:\n",
        "            p.requires_grad = True\n",
        "\n",
        "\n",
        "\n",
        "  def forward(self, x):\n",
        "\n",
        "    ou_pretrain = F.relu(self.input_layer(x))\n",
        "    ou_pretrain = F.relu(self.hidden_layer(ou_pretrain))\n",
        "    ou_pretrain = self.output_layer(ou_pretrain)\n",
        "\n",
        "    lora_out_input = self.input_lora_A(x)\n",
        "    lora_out_input = self.input_lora_B(lora_out_input)\n",
        "\n",
        "    lora_out_hidden = self.hidden_lora_A(lora_out_input)\n",
        "    lora_out_hidden = self.hidden_lora_B(lora_out_hidden)\n",
        "\n",
        "    lora_out_output = self.output_lora_A(lora_out_hidden)\n",
        "    lora_out_output = self.output_lora_B(lora_out_output)\n",
        "\n",
        "    lora_out = lora_out_output * self.scaling\n",
        "\n",
        "\n",
        "\n",
        "    return ou_pretrain+lora_out\n"
      ],
      "metadata": {
        "id": "p0rJAQsD18uH"
      },
      "execution_count": 29,
      "outputs": []
    },
    {
      "cell_type": "code",
      "source": [
        "lora_model = LoRaModel(r=2, alpha_lora=1, input_dims=784,input_hidden_size=1000, hidden_layer_size=2000, num_class=10)\n",
        "lora_model.load_state_dict(torch.load('model.pt'), strict=False)\n"
      ],
      "metadata": {
        "id": "YTPUyJBlSAmP",
        "colab": {
          "base_uri": "https://localhost:8080/"
        },
        "outputId": "ef4c6ef3-d553-4a6d-dca0-f76f7254f7a5"
      },
      "execution_count": 30,
      "outputs": [
        {
          "output_type": "execute_result",
          "data": {
            "text/plain": [
              "_IncompatibleKeys(missing_keys=['input_lora_A.weight', 'input_lora_A.bias', 'input_lora_B.weight', 'input_lora_B.bias', 'hidden_lora_A.weight', 'hidden_lora_A.bias', 'hidden_lora_B.weight', 'hidden_lora_B.bias', 'output_lora_A.weight', 'output_lora_A.bias', 'output_lora_B.weight', 'output_lora_B.bias'], unexpected_keys=[])"
            ]
          },
          "metadata": {},
          "execution_count": 30
        }
      ]
    },
    {
      "cell_type": "code",
      "source": [
        "for name, param in lora_model.named_parameters():\n",
        "    if param.requires_grad:\n",
        "        print(f\"{name}: {param.shape}\")\n",
        "\n",
        "trainable_params = sum(p.numel() for p in lora_model.parameters() if p.requires_grad)\n",
        "print(f'Number of trainable (tunable) parameters: {trainable_params}')"
      ],
      "metadata": {
        "colab": {
          "base_uri": "https://localhost:8080/"
        },
        "id": "-IBByXMDXVYz",
        "outputId": "3eef664b-32c8-400a-9fb1-0e56b52beb0c"
      },
      "execution_count": 31,
      "outputs": [
        {
          "output_type": "stream",
          "name": "stdout",
          "text": [
            "input_lora_A.weight: torch.Size([2, 784])\n",
            "input_lora_A.bias: torch.Size([2])\n",
            "input_lora_B.weight: torch.Size([1000, 2])\n",
            "input_lora_B.bias: torch.Size([1000])\n",
            "hidden_lora_A.weight: torch.Size([2, 1000])\n",
            "hidden_lora_A.bias: torch.Size([2])\n",
            "hidden_lora_B.weight: torch.Size([2000, 2])\n",
            "hidden_lora_B.bias: torch.Size([2000])\n",
            "output_lora_A.weight: torch.Size([2, 2000])\n",
            "output_lora_A.bias: torch.Size([2])\n",
            "output_lora_B.weight: torch.Size([10, 2])\n",
            "output_lora_B.bias: torch.Size([10])\n",
            "Number of trainable (tunable) parameters: 16604\n"
          ]
        }
      ]
    },
    {
      "cell_type": "code",
      "source": [],
      "metadata": {
        "id": "YWMQZEzSSCLi"
      },
      "execution_count": null,
      "outputs": []
    },
    {
      "cell_type": "code",
      "source": [
        "lora_model.to('cpu')\n",
        "\n",
        "trainLoss = train_model(epochs=2,\n",
        "                        train_loader=train_loader_2,\n",
        "                        optimizer = optimizer,\n",
        "                        criterion=criterion,\n",
        "                        model=lora_model,\n",
        "                        )\n",
        "\n",
        "# lora_model.load_state_dict(torch.load('model.pt'), strict=False)\n",
        "\n",
        "test(\n",
        "      test_loader=test_loader,\n",
        "      net=lora_model,\n",
        ")"
      ],
      "metadata": {
        "colab": {
          "base_uri": "https://localhost:8080/"
        },
        "id": "xCnxB3AEFznS",
        "outputId": "e6e1abce-e788-445e-8eaf-9c724e7b697e"
      },
      "execution_count": 34,
      "outputs": [
        {
          "output_type": "stream",
          "name": "stdout",
          "text": [
            "Epoch 0 Train loss 6.483939028497952\n",
            "Accuracy: 0.389\n",
            "wrong counts for the Label 0: 191\n",
            "wrong counts for the Label 1: 91\n",
            "wrong counts for the Label 2: 141\n",
            "wrong counts for the Label 3: 126\n",
            "wrong counts for the Label 4: 566\n",
            "wrong counts for the Label 5: 1000\n",
            "wrong counts for the Label 6: 1000\n",
            "wrong counts for the Label 7: 1000\n",
            "wrong counts for the Label 8: 1000\n",
            "wrong counts for the Label 9: 1000\n"
          ]
        }
      ]
    },
    {
      "cell_type": "code",
      "source": [
        "for names, param in lora_model.named_parameters():\n",
        "  print(names, param)"
      ],
      "metadata": {
        "id": "wgX_Sej5IyOS",
        "colab": {
          "base_uri": "https://localhost:8080/"
        },
        "outputId": "0eeebebf-7150-44d3-ba85-df82c689b9c3"
      },
      "execution_count": 35,
      "outputs": [
        {
          "output_type": "stream",
          "name": "stdout",
          "text": [
            "input_layer.weight Parameter containing:\n",
            "tensor([[ 0.0160, -0.0182,  0.0336,  ..., -0.0029, -0.0324,  0.0112],\n",
            "        [-0.0035,  0.0099,  0.0242,  ...,  0.0161, -0.0093, -0.0090],\n",
            "        [ 0.0237,  0.0043, -0.0035,  ...,  0.0010, -0.0015,  0.0059],\n",
            "        ...,\n",
            "        [-0.0018,  0.0215, -0.0288,  ...,  0.0004,  0.0312,  0.0018],\n",
            "        [ 0.0038, -0.0142, -0.0025,  ..., -0.0359, -0.0182, -0.0110],\n",
            "        [-0.0003,  0.0188,  0.0107,  ..., -0.0099, -0.0153, -0.0135]])\n",
            "input_layer.bias Parameter containing:\n",
            "tensor([ 5.1296e-03,  1.2252e-03,  1.2655e-02,  1.8911e-02, -1.4028e-02,\n",
            "         4.2606e-04, -3.0085e-02,  1.5552e-02,  3.2757e-02, -1.7161e-02,\n",
            "        -2.2805e-02,  3.5897e-03,  1.9559e-02,  2.2157e-02,  1.2334e-02,\n",
            "         1.2101e-02,  2.4942e-02,  3.3231e-02, -1.3623e-02, -2.6888e-02,\n",
            "        -1.7427e-02, -2.0777e-02, -3.1968e-02,  4.0514e-03, -1.8202e-02,\n",
            "         2.5753e-02,  3.1227e-02,  2.6633e-02, -7.9401e-03,  2.2776e-02,\n",
            "         1.5033e-05,  2.5773e-02,  3.2761e-02, -3.4506e-02,  1.3136e-02,\n",
            "        -2.1755e-02,  1.4798e-02, -6.7667e-03,  7.9084e-03, -2.8646e-02,\n",
            "        -2.3842e-03,  9.9458e-03, -1.7054e-02,  2.4462e-02, -3.2567e-02,\n",
            "        -7.7491e-03, -2.8733e-02,  1.2510e-02, -2.7602e-04,  8.0621e-03,\n",
            "        -2.4571e-02,  3.5574e-02,  2.1207e-02, -3.1775e-03,  3.5044e-02,\n",
            "         1.0637e-02, -1.2068e-02,  5.4649e-03,  1.6787e-02,  3.3762e-02,\n",
            "         2.0927e-02,  2.7328e-02, -3.0932e-02,  2.4466e-02, -1.0719e-03,\n",
            "         2.1523e-02, -2.3664e-02,  2.1056e-02,  3.6212e-03,  1.2298e-03,\n",
            "        -1.1016e-02,  5.7186e-04, -8.9678e-03, -8.4331e-03,  1.5388e-02,\n",
            "         8.6945e-03,  2.0872e-02, -3.1859e-02,  2.3534e-02, -1.5862e-03,\n",
            "        -1.8000e-02,  2.0709e-02, -3.0498e-02,  2.3260e-02,  2.6579e-02,\n",
            "         8.3378e-03,  1.0023e-02, -2.7962e-04,  2.8412e-02, -4.9271e-05,\n",
            "        -1.7135e-02,  7.3693e-03, -5.4942e-04,  1.0782e-02,  1.5726e-02,\n",
            "         6.5070e-03,  2.8342e-02,  8.3797e-03, -2.1970e-02, -1.8034e-02,\n",
            "        -2.5373e-02, -2.0867e-02, -6.6256e-03, -2.0890e-02,  2.8711e-02,\n",
            "        -3.3558e-02, -2.7996e-02,  1.9723e-02, -3.2365e-02,  6.3859e-03,\n",
            "        -2.1740e-02, -1.8605e-02, -4.3595e-03, -3.1803e-02,  8.3163e-03,\n",
            "        -1.0724e-02, -2.3941e-02, -1.2695e-03,  9.9608e-03,  2.3588e-02,\n",
            "         2.6122e-02,  8.4053e-03,  9.6603e-03,  4.1157e-04,  1.7129e-02,\n",
            "         1.9693e-02,  1.2058e-02,  1.4004e-02,  3.5112e-02,  1.5143e-02,\n",
            "        -1.9525e-02, -2.9733e-02,  7.3959e-03,  1.9028e-02,  6.7912e-03,\n",
            "         2.2073e-02,  1.6801e-02, -1.5431e-02,  2.8864e-02,  9.1130e-03,\n",
            "         9.8689e-03,  2.1732e-02, -3.2345e-03,  1.0919e-02,  2.6004e-02,\n",
            "         1.6699e-02,  1.1100e-02,  2.3710e-02,  6.5384e-03,  9.1299e-03,\n",
            "         3.3855e-02, -1.6223e-02,  2.6933e-02, -4.6107e-03, -5.6397e-03,\n",
            "         1.1412e-02, -3.1452e-02, -3.1878e-03, -1.4961e-02, -2.0908e-02,\n",
            "        -1.3891e-03, -2.9141e-02, -1.1733e-02, -1.8809e-02, -3.4575e-02,\n",
            "        -2.0064e-02,  3.1455e-02,  4.9339e-03, -1.1877e-02,  3.8199e-03,\n",
            "        -1.5268e-02,  1.7432e-03,  3.6927e-02, -1.4699e-02,  2.6097e-02,\n",
            "        -2.1100e-02,  6.4255e-03,  2.7102e-02, -1.1349e-04,  6.3638e-03,\n",
            "         3.2572e-02,  3.3718e-02,  2.4757e-02,  2.3634e-02, -1.4969e-02,\n",
            "        -7.1132e-03, -3.7976e-03,  1.9282e-02, -3.2853e-02, -2.3755e-02,\n",
            "        -3.4389e-02, -1.6163e-02, -2.2807e-02,  7.0533e-03,  1.8456e-02,\n",
            "         3.0403e-03,  1.0856e-02,  6.0073e-03, -3.2480e-02,  4.8436e-03,\n",
            "        -1.3034e-03, -1.1258e-02,  2.4108e-03, -1.5624e-02, -2.2697e-02,\n",
            "         2.0891e-03,  8.1458e-03, -1.9917e-02, -1.6273e-02, -1.7122e-02,\n",
            "        -1.5473e-02, -2.0552e-02, -1.7676e-02, -2.5054e-02, -1.6486e-02,\n",
            "        -1.9220e-02,  1.7324e-02, -1.7349e-02, -2.5262e-03,  5.4595e-04,\n",
            "        -3.4792e-02,  3.5675e-02, -1.2400e-02, -2.0228e-02,  1.4896e-02,\n",
            "         1.9611e-02,  2.4219e-02,  1.0262e-02,  2.2569e-02, -2.2698e-02,\n",
            "         2.1596e-03,  3.8705e-03,  2.4868e-02,  1.9282e-02, -2.0538e-03,\n",
            "         2.9832e-02, -2.8957e-02, -2.2214e-02,  3.0903e-03, -7.8420e-03,\n",
            "         2.5936e-02,  9.3367e-03, -2.1284e-02,  2.2290e-02,  2.2032e-02,\n",
            "         1.0816e-02, -1.3862e-02, -3.0088e-03, -1.6517e-02,  7.8363e-04,\n",
            "        -1.2929e-02,  3.9820e-03, -7.8707e-03,  1.2667e-03,  2.1278e-02,\n",
            "         1.9189e-02, -2.9415e-02,  2.6003e-02,  6.6969e-03,  1.7275e-02,\n",
            "         8.0640e-03,  1.7743e-02,  1.2184e-02, -1.3414e-02,  3.2585e-02,\n",
            "        -9.6928e-04,  1.2212e-02,  8.0008e-03,  2.8886e-02,  2.0743e-03,\n",
            "         3.3999e-02, -2.0488e-02, -1.8686e-02,  2.2525e-02, -1.0803e-02,\n",
            "         8.9201e-03, -3.1140e-02,  1.1128e-02,  1.7743e-02,  7.8742e-03,\n",
            "        -1.7212e-03,  6.5489e-03, -2.7750e-02,  9.5703e-03, -4.9822e-03,\n",
            "         3.4566e-02,  2.1814e-02,  2.4656e-02,  2.1695e-02, -8.3164e-03,\n",
            "        -7.8369e-03, -5.2113e-04, -1.9627e-02,  1.1540e-02,  2.8862e-02,\n",
            "        -2.7716e-02, -3.4670e-02, -2.8352e-02,  1.8717e-02,  4.9289e-03,\n",
            "        -3.3904e-02,  2.0755e-02, -1.9971e-02,  3.1919e-02, -1.6164e-02,\n",
            "         8.2691e-03,  3.7725e-03, -2.7544e-02,  4.7090e-03, -1.5075e-02,\n",
            "        -2.9598e-02, -2.9053e-02, -4.2827e-03, -3.3478e-02, -2.4833e-02,\n",
            "        -3.3085e-02, -2.3997e-02,  1.3669e-02,  2.7242e-02,  2.7866e-02,\n",
            "         1.7398e-03,  2.5287e-02,  2.3585e-02, -8.4490e-03, -3.0531e-02,\n",
            "        -1.2426e-02,  2.0456e-03,  2.5322e-02, -2.8213e-02, -7.0055e-03,\n",
            "        -1.4012e-02,  3.1951e-02, -2.8191e-03, -1.7313e-02, -1.1169e-03,\n",
            "         3.1673e-03,  1.4134e-02, -2.8493e-02, -2.1839e-02, -1.6729e-02,\n",
            "        -3.4954e-03, -1.0910e-02,  2.6365e-02,  9.4565e-03,  8.8684e-03,\n",
            "        -1.7395e-02,  3.4887e-02,  6.2019e-03,  9.7474e-03, -1.3595e-03,\n",
            "        -2.1287e-02,  1.8704e-02,  3.5447e-02,  2.4694e-02, -2.2007e-02,\n",
            "         1.0859e-02, -4.5923e-03,  9.4073e-03, -1.3518e-02, -1.9953e-02,\n",
            "        -8.2424e-04,  3.2084e-02, -1.5653e-02, -6.2241e-03, -1.2931e-02,\n",
            "         7.6880e-03,  3.0350e-02,  2.8662e-02,  2.6226e-02, -3.2976e-02,\n",
            "        -1.4786e-02, -2.5738e-02, -1.5080e-02, -1.6169e-02, -3.2507e-03,\n",
            "         1.8845e-03,  2.8114e-02,  1.4376e-02, -1.8025e-02,  3.5950e-02,\n",
            "         9.4342e-03, -5.9638e-03, -1.1286e-03, -3.1595e-02,  2.5795e-02,\n",
            "         3.1717e-02,  1.5319e-02, -4.4478e-03, -3.8852e-03,  1.2841e-02,\n",
            "         2.8564e-02,  5.5177e-03, -2.3956e-02,  1.1811e-02,  2.4581e-02,\n",
            "        -3.3967e-02, -6.8382e-03,  3.0303e-02,  1.7726e-02, -2.3859e-02,\n",
            "         6.3498e-03,  1.2592e-02,  2.6006e-02,  3.1117e-02,  2.1577e-02,\n",
            "         2.7665e-02,  2.1133e-02,  7.9698e-03, -3.2875e-02,  3.2858e-02,\n",
            "        -1.4461e-02, -3.3333e-02, -4.7650e-03,  3.5356e-02,  3.2827e-02,\n",
            "         1.9011e-02,  3.4194e-02, -2.9532e-02,  3.2051e-02, -3.5802e-03,\n",
            "         1.8408e-02, -1.1975e-02, -3.1882e-02,  3.2924e-02,  2.9220e-02,\n",
            "         1.5503e-02,  1.3404e-02, -1.9127e-02, -3.1498e-02,  2.2360e-02,\n",
            "        -1.4537e-02, -8.5590e-03, -7.3832e-04,  1.9114e-02,  2.9373e-02,\n",
            "         3.7522e-03, -3.2329e-02,  1.6870e-02, -3.0896e-02, -3.3912e-03,\n",
            "        -2.5270e-02,  6.6470e-03, -3.4979e-03,  3.0782e-02, -2.2829e-02,\n",
            "        -7.7507e-03, -3.0850e-02, -9.6000e-03, -2.5331e-02, -2.9994e-02,\n",
            "        -3.1724e-02,  4.9024e-03,  2.8334e-02,  2.0447e-02, -1.3287e-02,\n",
            "         1.7378e-02, -2.5464e-02,  2.2879e-02, -3.4026e-02, -2.4864e-02,\n",
            "        -2.6804e-02, -1.1943e-04, -1.6509e-03, -2.2822e-02,  4.2696e-03,\n",
            "         2.2470e-03,  2.2305e-02,  9.5069e-03,  1.3155e-02, -3.3238e-02,\n",
            "        -2.6314e-02, -3.2358e-02, -2.6863e-02, -3.0246e-02,  2.3526e-02,\n",
            "        -3.2681e-02,  2.0120e-02, -1.8803e-02, -5.1189e-03,  1.5592e-02,\n",
            "         5.4623e-06, -5.8856e-03,  2.5506e-02, -1.8837e-02, -1.9979e-02,\n",
            "        -2.0500e-02, -8.3066e-03,  2.7648e-02,  2.3079e-02, -1.1457e-02,\n",
            "         1.0030e-02, -1.1114e-04, -2.4366e-02, -9.4410e-03,  1.4246e-02,\n",
            "         2.9017e-02, -3.1230e-02, -1.8150e-02, -6.3105e-03, -8.9443e-03,\n",
            "        -1.1372e-02, -1.0304e-02,  2.3526e-02, -1.4781e-02, -3.9479e-04,\n",
            "         3.4061e-02, -2.4271e-02, -2.6581e-02, -1.0068e-02,  2.2347e-02,\n",
            "         3.0590e-02,  2.3792e-02, -1.0555e-02, -8.7063e-03,  2.8865e-02,\n",
            "        -1.9776e-02,  1.1018e-02,  2.8576e-02,  1.2926e-03, -3.2072e-02,\n",
            "        -2.9290e-02, -3.2786e-02, -2.8722e-02, -5.3820e-03, -2.8344e-02,\n",
            "        -1.9930e-02,  1.7689e-02,  9.7325e-03,  1.0034e-02, -2.6285e-02,\n",
            "         2.3434e-02,  1.3031e-02,  2.3098e-02, -2.9034e-02,  1.6654e-02,\n",
            "        -6.4028e-03,  3.4394e-02, -2.2904e-02, -2.0791e-02, -1.0091e-02,\n",
            "         2.6872e-02, -1.0524e-02, -1.1410e-02,  6.1344e-03,  3.0122e-02,\n",
            "         2.9977e-02,  1.1195e-02,  3.6578e-03, -2.7022e-02,  2.0962e-02,\n",
            "         2.4729e-02,  7.8181e-03, -1.1360e-02,  2.0924e-02, -8.1859e-03,\n",
            "        -3.9632e-03,  3.4927e-02, -2.7459e-02, -2.9401e-02, -2.7801e-02,\n",
            "         3.4640e-02, -1.0097e-03, -2.1497e-02,  1.2531e-02,  3.5927e-02,\n",
            "         5.3968e-03,  1.2264e-03,  5.5796e-03,  2.9527e-02,  2.5615e-02,\n",
            "         3.5391e-02, -2.0635e-02, -3.0997e-02, -2.3119e-02,  9.9310e-03,\n",
            "         7.3297e-03,  5.3423e-03, -3.1223e-02,  1.6087e-02, -1.2567e-02,\n",
            "        -8.1976e-03, -1.8354e-02, -9.3755e-04, -5.8689e-03,  1.5045e-04,\n",
            "        -2.0492e-02, -1.6739e-02,  2.9481e-02, -1.8253e-03,  2.4950e-03,\n",
            "        -3.2241e-02, -3.0362e-02, -9.2041e-03,  3.0519e-02, -2.5772e-02,\n",
            "        -2.2044e-02, -2.0822e-02, -3.2833e-02, -8.3903e-03, -1.0657e-02,\n",
            "        -2.6253e-02,  2.1846e-02,  2.4500e-02,  2.5859e-02, -2.6058e-02,\n",
            "         2.7513e-02, -2.8755e-02, -2.3425e-02, -1.5705e-02,  2.9799e-04,\n",
            "        -3.0596e-02,  2.3969e-02,  8.8412e-03,  5.1122e-03,  2.3585e-02,\n",
            "        -4.7554e-03, -2.9815e-02,  3.2852e-02,  2.0438e-02,  3.4773e-02,\n",
            "         2.3486e-02, -1.4953e-02,  2.5094e-02, -1.7275e-02,  1.2371e-02,\n",
            "         2.7862e-02, -2.2461e-02, -1.9345e-02,  1.1950e-02, -7.0157e-03,\n",
            "         2.6848e-02,  3.3947e-02, -3.2784e-02,  2.4064e-02,  1.8917e-02,\n",
            "        -1.2919e-02,  1.4235e-02, -3.3382e-02, -2.2052e-02,  1.8770e-02,\n",
            "        -4.7876e-03,  1.3629e-02, -2.0082e-02, -2.8372e-02,  9.6281e-03,\n",
            "        -1.4548e-02, -3.3362e-02,  1.3334e-02, -2.1214e-02, -7.8789e-03,\n",
            "        -3.5262e-02,  1.2867e-02,  1.4152e-02,  2.2887e-02,  1.2943e-02,\n",
            "        -1.5167e-02, -1.0326e-03, -1.0447e-02, -1.6343e-02,  2.9129e-02,\n",
            "        -1.7210e-02, -1.9400e-02, -1.2436e-03,  1.9139e-02,  2.0207e-02,\n",
            "         2.7683e-02,  3.1515e-02, -3.2841e-02, -8.9533e-04, -3.1465e-02,\n",
            "        -2.6441e-02,  1.8756e-02,  1.8562e-02,  1.0680e-02,  3.1308e-02,\n",
            "        -2.1959e-02, -1.4648e-03, -3.1353e-02,  2.6921e-03,  1.8446e-02,\n",
            "         2.4527e-02, -2.4478e-02,  2.3363e-02,  2.2961e-03,  2.0326e-02,\n",
            "         3.2699e-02, -2.3769e-02, -6.6622e-03, -9.0084e-03, -2.1097e-02,\n",
            "        -3.7361e-03, -1.1671e-02, -1.5412e-02, -3.2804e-02,  1.0960e-02,\n",
            "        -1.2557e-02, -2.6690e-02, -2.0204e-02, -3.0491e-02,  2.1124e-02,\n",
            "        -7.6396e-03, -2.2921e-02, -2.7926e-02,  1.0509e-02,  2.5088e-02,\n",
            "        -3.3368e-02,  3.9019e-03,  2.3649e-02, -4.1742e-05, -2.1013e-02,\n",
            "        -3.1969e-02, -2.5976e-02, -2.5175e-02,  1.9277e-02, -2.4295e-03,\n",
            "        -6.3677e-03,  2.9151e-02, -6.7458e-03, -7.6204e-03, -1.8743e-02,\n",
            "         3.1135e-02, -1.7559e-02, -2.8852e-02, -2.2453e-02, -1.9739e-02,\n",
            "         1.2345e-02,  2.3451e-02,  3.1701e-02, -3.7090e-03, -2.5434e-02,\n",
            "        -8.8681e-03,  2.6965e-02, -4.2895e-03,  1.3473e-02, -1.2235e-02,\n",
            "        -2.4900e-03,  1.0084e-02,  1.3325e-02, -1.6538e-02,  3.4947e-02,\n",
            "         9.0073e-03,  1.7687e-02,  3.2631e-02,  3.0608e-02, -3.3379e-02,\n",
            "        -1.5727e-02,  3.5141e-02, -3.1477e-02,  3.1382e-02, -4.6767e-03,\n",
            "         2.9157e-02,  5.0155e-05, -5.3139e-03, -5.5987e-03,  1.7101e-02,\n",
            "         9.8279e-03, -1.5593e-03, -2.4868e-02,  2.7448e-02, -9.4999e-04,\n",
            "        -3.5436e-02,  9.5229e-03, -2.5377e-03,  2.5422e-02,  2.1733e-03,\n",
            "        -7.8187e-03, -9.4832e-03, -2.1209e-02,  2.5845e-02, -2.9532e-02,\n",
            "        -3.5205e-02,  2.0551e-02,  1.6073e-02, -6.1047e-03, -1.2239e-02,\n",
            "         2.5984e-02,  3.0790e-02, -1.3979e-02,  7.4252e-03, -2.2512e-02,\n",
            "         1.3291e-02,  2.1109e-02, -1.5053e-02, -3.7508e-03,  1.1403e-02,\n",
            "         4.5872e-03, -2.6242e-02,  1.7506e-02, -1.2631e-02, -2.6579e-02,\n",
            "        -3.4138e-02, -1.7993e-02, -2.7405e-02,  3.3291e-02,  2.9820e-02,\n",
            "        -1.7307e-02, -6.8254e-03, -2.9412e-03, -2.2006e-02,  3.6468e-03,\n",
            "        -1.8412e-02,  2.9605e-02,  1.2491e-02,  2.3123e-02,  9.4217e-03,\n",
            "         1.7775e-02,  1.6858e-02,  2.8239e-02, -1.8616e-02,  1.5056e-02,\n",
            "         6.1086e-03,  4.5504e-04, -2.6617e-02, -2.1421e-02,  1.7975e-02,\n",
            "         2.0572e-02, -4.5571e-03, -1.9272e-02, -2.8249e-02, -2.2136e-02,\n",
            "        -9.1988e-03,  2.2381e-02, -1.5219e-02,  3.5133e-02, -1.7859e-02,\n",
            "         1.7219e-02,  1.6521e-02,  7.4458e-03, -1.3430e-02,  1.0595e-02,\n",
            "         2.4650e-02,  1.7439e-02, -8.7768e-03, -3.2024e-02, -1.2066e-02,\n",
            "        -1.6120e-02,  1.3823e-02,  2.4053e-02, -1.3590e-02,  1.0548e-02,\n",
            "        -1.8159e-02,  3.9399e-03, -2.9100e-02,  4.0101e-03, -3.1821e-02,\n",
            "         1.6310e-02,  8.4080e-03, -1.2360e-02, -3.1739e-02, -9.0626e-04,\n",
            "         3.5953e-02, -2.8303e-02, -2.9570e-02,  2.2901e-02,  4.9763e-03,\n",
            "         2.4928e-02, -1.9193e-02,  2.7816e-02,  2.0183e-02, -1.2736e-02,\n",
            "         1.0390e-02, -9.7813e-03, -2.8920e-02,  3.2875e-02,  2.7748e-03,\n",
            "         3.3733e-02,  1.1055e-02,  1.4214e-02,  2.4947e-03, -6.8099e-03,\n",
            "         3.4359e-02,  3.0788e-02, -2.4241e-02,  2.9428e-02,  3.3657e-02,\n",
            "        -2.3657e-02,  8.8956e-03,  2.8979e-02, -4.9314e-03,  2.4606e-02,\n",
            "        -9.8389e-03,  2.0204e-02,  2.6789e-02,  1.7101e-02,  3.3746e-02,\n",
            "         2.1162e-02, -2.9922e-02, -2.7125e-02,  9.0936e-03, -2.5175e-02,\n",
            "         7.7470e-03, -8.3294e-03, -1.4224e-02,  2.6900e-02, -7.6390e-03,\n",
            "         1.9546e-02,  1.5256e-02,  3.5575e-02,  1.0896e-04,  2.5495e-02,\n",
            "        -4.4590e-04,  3.0699e-03,  1.1570e-02, -2.4367e-02, -1.3881e-02,\n",
            "        -2.9844e-02,  2.8413e-02, -8.6648e-03, -6.3223e-03,  4.4881e-04,\n",
            "        -2.0110e-02, -1.6615e-02, -2.9685e-02, -1.1528e-02,  9.4320e-03,\n",
            "         2.2695e-02,  2.1017e-02, -2.2025e-02,  1.1022e-02, -2.5546e-02,\n",
            "        -8.9736e-03,  1.6537e-02, -1.3217e-02,  2.2613e-02,  3.8272e-03,\n",
            "        -2.4061e-02,  1.5237e-02,  3.6065e-02,  3.3574e-02, -6.8373e-03,\n",
            "        -1.3406e-03,  3.3001e-02,  2.0801e-02,  1.4428e-02,  6.7444e-04,\n",
            "         3.0545e-02,  2.5802e-02,  2.4411e-02,  3.1397e-02,  2.4812e-02,\n",
            "        -3.0162e-02,  1.1473e-02,  2.4345e-02,  2.7554e-02, -7.0366e-03,\n",
            "        -1.9591e-02,  3.4973e-02,  2.6108e-02, -2.0048e-02, -2.7406e-02,\n",
            "         6.0525e-03,  4.0061e-04,  3.6817e-02,  2.2025e-02,  2.9903e-02,\n",
            "         2.5043e-02, -3.0395e-02, -1.6567e-02, -2.6762e-02,  7.1320e-03,\n",
            "         2.2071e-02,  7.5245e-04,  2.3330e-02,  1.3694e-02, -2.7473e-02,\n",
            "         7.8819e-03, -1.1974e-03, -3.2714e-03,  2.2347e-02, -2.1184e-02,\n",
            "        -2.1400e-02, -3.0048e-02, -2.3462e-02,  2.3187e-02,  3.0583e-02,\n",
            "         2.0154e-02,  4.5332e-03, -1.1316e-02,  1.3622e-02, -5.6935e-03,\n",
            "         1.1567e-02,  1.8173e-02,  2.2238e-02, -3.2414e-02, -2.3080e-02,\n",
            "        -1.7297e-02, -3.2480e-02,  3.6274e-02, -1.5372e-02,  7.5598e-03,\n",
            "         4.3099e-03,  2.4518e-02,  1.2733e-03,  8.9604e-03, -3.1840e-02,\n",
            "         3.0799e-02, -1.1957e-02, -1.1464e-02, -1.0977e-02,  1.7273e-02])\n",
            "hidden_layer.weight Parameter containing:\n",
            "tensor([[-0.0121, -0.0172,  0.0244,  ...,  0.0249, -0.0220, -0.0239],\n",
            "        [ 0.0005, -0.0129,  0.0262,  ..., -0.0189, -0.0273,  0.0052],\n",
            "        [-0.0059,  0.0214, -0.0242,  ...,  0.0221, -0.0008, -0.0213],\n",
            "        ...,\n",
            "        [-0.0003, -0.0172, -0.0289,  ...,  0.0276, -0.0029,  0.0137],\n",
            "        [-0.0236, -0.0221, -0.0121,  ...,  0.0278, -0.0305, -0.0299],\n",
            "        [ 0.0217, -0.0109, -0.0013,  ..., -0.0123,  0.0044, -0.0307]])\n",
            "hidden_layer.bias Parameter containing:\n",
            "tensor([-0.0054,  0.0057, -0.0146,  ..., -0.0106, -0.0263,  0.0052])\n",
            "output_layer.weight Parameter containing:\n",
            "tensor([[-0.0070,  0.0269, -0.0170,  ..., -0.0158,  0.0147,  0.0140],\n",
            "        [-0.0179, -0.0399,  0.0122,  ..., -0.0042, -0.0259,  0.0072],\n",
            "        [ 0.0109,  0.0102,  0.0096,  ...,  0.0174, -0.0302, -0.0174],\n",
            "        ...,\n",
            "        [ 0.0219,  0.0113, -0.0154,  ..., -0.0106,  0.0196, -0.0198],\n",
            "        [-0.0183, -0.0108,  0.0207,  ..., -0.0078, -0.0220,  0.0056],\n",
            "        [ 0.0043, -0.0012, -0.0196,  ..., -0.0033, -0.0065, -0.0249]])\n",
            "output_layer.bias Parameter containing:\n",
            "tensor([ 0.0147,  0.0028,  0.0657, -0.0006,  0.0298, -0.0372, -0.0093, -0.0178,\n",
            "        -0.0089, -0.0139])\n",
            "input_lora_A.weight Parameter containing:\n",
            "tensor([[ 0.0355, -0.0287, -0.0005,  ..., -0.0190,  0.0129, -0.0052],\n",
            "        [ 0.0158,  0.0173,  0.0066,  ..., -0.0200,  0.0151,  0.0293]],\n",
            "       requires_grad=True)\n",
            "input_lora_A.bias Parameter containing:\n",
            "tensor([-0.0198, -0.0114], requires_grad=True)\n",
            "input_lora_B.weight Parameter containing:\n",
            "tensor([[-0.0370, -0.0121],\n",
            "        [ 0.4847, -0.5492],\n",
            "        [ 0.3698, -0.5401],\n",
            "        ...,\n",
            "        [-0.6688, -0.5067],\n",
            "        [ 0.4991,  0.3694],\n",
            "        [-0.6533,  0.0587]], requires_grad=True)\n",
            "input_lora_B.bias Parameter containing:\n",
            "tensor([-6.3315e-01, -4.4328e-01,  6.8918e-01, -1.3926e-01, -6.0253e-01,\n",
            "        -4.1315e-01, -1.0623e-02, -1.5743e-01, -2.2107e-01, -5.9776e-01,\n",
            "        -4.9104e-01,  1.7996e-01, -1.0197e-01,  5.4139e-02,  2.1388e-01,\n",
            "        -4.9593e-01,  3.7205e-02, -5.2337e-01,  4.7676e-01,  2.9592e-01,\n",
            "        -4.2567e-01, -3.9719e-01,  2.1464e-02, -1.8955e-01, -4.7096e-01,\n",
            "        -6.1281e-02,  6.6022e-01, -6.7987e-01,  2.8582e-01, -2.0435e-01,\n",
            "         5.5530e-01, -2.7860e-01, -1.2070e-01, -5.4076e-01, -2.4431e-01,\n",
            "         1.4277e-01,  5.9992e-01, -6.8675e-01, -2.5668e-03,  6.9919e-01,\n",
            "        -3.4854e-02, -6.1126e-01,  3.5065e-01, -6.2472e-01,  5.6191e-01,\n",
            "        -6.2385e-01, -3.3037e-01,  5.7013e-01,  5.0256e-01, -5.2881e-01,\n",
            "         1.5237e-01,  6.2114e-01, -6.2415e-01,  5.9184e-01, -1.4769e-01,\n",
            "         1.2327e-01,  3.9075e-01, -1.4008e-01, -3.9920e-01, -4.8679e-01,\n",
            "        -3.9533e-01,  3.8783e-01,  5.7736e-01,  3.2659e-01, -7.1524e-02,\n",
            "         5.7073e-01, -2.4358e-03, -2.7977e-01, -1.2083e-01,  6.2029e-01,\n",
            "         3.2306e-01, -9.8220e-02,  1.9462e-01,  5.1208e-01,  1.5879e-01,\n",
            "         6.6545e-01,  6.9844e-01, -5.3495e-01, -1.0079e-01, -5.7206e-01,\n",
            "         4.2725e-01, -4.1549e-01, -6.7571e-01,  2.7692e-02,  6.7207e-01,\n",
            "        -3.3618e-01,  3.9602e-01, -4.2455e-01, -4.7624e-01,  2.3444e-01,\n",
            "        -2.8426e-01, -3.9205e-01, -8.0159e-02,  2.9188e-01, -3.6783e-01,\n",
            "         7.8247e-02, -3.1362e-01,  7.7744e-02,  5.1530e-01, -5.1394e-01,\n",
            "        -2.0758e-01, -5.8850e-01, -2.6582e-01,  1.7125e-01,  1.6903e-02,\n",
            "         6.8225e-02, -5.5844e-01,  4.1281e-01, -1.6848e-01, -2.6040e-01,\n",
            "         4.3671e-01, -1.2313e-01, -3.6683e-01, -6.5803e-01,  5.3718e-01,\n",
            "        -3.9896e-01, -6.1766e-01, -4.7877e-01, -5.6897e-01,  2.4193e-01,\n",
            "         5.7039e-02, -7.8810e-02, -2.2891e-01, -3.3434e-01, -1.1062e-01,\n",
            "         2.3393e-01, -5.4702e-01,  1.8924e-01, -2.2283e-02,  1.4761e-01,\n",
            "         3.9243e-01, -6.5978e-01, -1.6611e-02,  5.1315e-01, -1.6635e-01,\n",
            "         4.8864e-01, -2.1976e-01, -3.0196e-01, -6.4205e-01,  4.2564e-01,\n",
            "        -2.8678e-01, -3.9885e-01, -1.9328e-01,  1.8307e-01, -4.1825e-01,\n",
            "         6.9558e-01,  4.1354e-01, -1.7287e-02,  3.7774e-01,  3.7690e-01,\n",
            "        -2.9045e-01,  3.3835e-01, -3.1813e-01, -4.2846e-01, -1.5724e-01,\n",
            "         6.9572e-01,  6.4696e-01, -3.7186e-01, -5.9051e-01, -2.7924e-01,\n",
            "         1.3256e-01, -2.6192e-01,  5.9760e-01,  4.6125e-02, -3.3754e-01,\n",
            "        -3.2403e-01,  4.3806e-01, -1.4272e-01,  4.5533e-01,  4.8626e-01,\n",
            "        -1.6024e-01,  2.6908e-01, -1.4145e-01,  6.1636e-01, -4.5708e-01,\n",
            "        -5.2980e-02,  6.8027e-01,  6.6534e-01, -5.6879e-01, -6.1420e-03,\n",
            "        -1.8163e-01,  4.6676e-01, -2.3966e-01,  1.0645e-01, -4.7914e-01,\n",
            "         2.9589e-01, -2.9920e-01,  2.4906e-02, -6.8339e-01, -1.9563e-01,\n",
            "        -2.5226e-01,  4.4482e-01,  8.1142e-03, -6.9093e-01, -1.8506e-01,\n",
            "        -3.7517e-01,  4.3194e-01, -6.1691e-01,  6.0838e-01, -1.6719e-01,\n",
            "        -1.8388e-01, -2.2436e-01, -5.2753e-01, -2.6621e-01,  1.0900e-01,\n",
            "         1.8830e-01, -1.2947e-01, -5.7403e-02,  2.7093e-01, -4.4954e-02,\n",
            "        -2.5888e-01,  2.6880e-01,  1.7669e-01,  3.8004e-02, -2.1876e-01,\n",
            "         5.8228e-01, -1.6321e-01,  6.2756e-01,  4.3826e-01, -1.2287e-01,\n",
            "        -2.0773e-01, -4.6725e-01, -6.8855e-01, -6.7154e-01, -1.3466e-01,\n",
            "         6.8275e-01,  2.2071e-01, -3.4275e-01, -1.3825e-03,  1.5392e-01,\n",
            "        -6.1651e-01, -1.7972e-02,  4.4996e-01, -3.6838e-01, -2.6287e-01,\n",
            "         2.6377e-01,  5.1436e-01, -3.9596e-01, -2.1819e-01,  4.6629e-01,\n",
            "         5.7693e-01, -3.6354e-01,  4.4351e-01, -4.6754e-01, -4.3253e-01,\n",
            "         1.9719e-01,  6.0054e-01, -9.7003e-03,  2.1629e-01, -9.2214e-02,\n",
            "        -6.4880e-01,  6.5324e-01,  1.7986e-02,  3.7772e-01, -6.8784e-01,\n",
            "        -4.5452e-01, -6.0129e-01,  6.1279e-01, -6.9063e-01,  1.7434e-01,\n",
            "         4.1389e-01, -3.4932e-01, -6.8522e-01,  3.1520e-01,  4.8650e-01,\n",
            "         3.1357e-01,  3.2425e-01,  1.1751e-01, -4.5520e-01,  2.7295e-01,\n",
            "         2.4495e-01, -6.7909e-01, -4.9104e-01, -6.0506e-01, -3.2807e-01,\n",
            "        -6.6201e-01, -5.9757e-01,  4.2513e-01,  5.5261e-01,  1.4431e-01,\n",
            "         1.9926e-03, -2.2512e-01, -2.1116e-01, -9.9515e-02, -5.2018e-01,\n",
            "        -2.5017e-01, -6.7680e-01,  2.0650e-01, -1.1433e-01,  2.2673e-01,\n",
            "         2.2114e-01,  6.1393e-01,  4.3624e-01, -5.8229e-01,  9.0739e-02,\n",
            "        -2.7617e-01, -1.1136e-02, -2.1032e-01, -5.9399e-01,  4.1276e-02,\n",
            "         6.4676e-01,  4.5525e-01,  4.6490e-01,  2.1881e-01,  4.0194e-01,\n",
            "        -2.8649e-01, -6.1742e-01,  4.7985e-01,  4.1645e-01, -5.1427e-03,\n",
            "         5.6102e-02, -3.9782e-02,  2.1817e-01,  6.6409e-01, -4.9607e-01,\n",
            "         6.7483e-01,  4.4932e-01,  5.8369e-01, -2.5122e-01, -3.4382e-01,\n",
            "        -5.3581e-03, -3.7321e-01,  3.6081e-01,  2.2242e-01,  2.5467e-01,\n",
            "         2.0136e-01, -4.8265e-01, -3.3283e-01,  1.9413e-01, -2.2501e-01,\n",
            "         2.0306e-03,  2.0083e-01, -9.0441e-02, -2.2066e-01, -1.4206e-01,\n",
            "        -3.6758e-02,  6.3335e-01,  3.9694e-01, -5.1585e-01,  2.1920e-01,\n",
            "         2.1736e-01,  5.6727e-01,  3.4090e-01, -6.4505e-01,  1.7442e-01,\n",
            "        -1.0252e-01, -6.0815e-03,  6.1205e-01, -5.1998e-01, -4.2128e-01,\n",
            "        -6.4286e-01, -5.9358e-01,  6.3350e-01, -4.1185e-01, -6.4805e-01,\n",
            "        -2.1087e-01,  3.7655e-01, -4.9451e-01,  6.3713e-01, -3.7943e-01,\n",
            "        -2.6546e-01, -5.6420e-01, -2.7885e-02, -1.9010e-01,  3.7078e-01,\n",
            "        -3.3088e-01, -5.4905e-01, -1.9859e-01,  6.6570e-02,  4.7781e-01,\n",
            "         4.6523e-01,  1.3570e-01, -4.1943e-02,  2.0517e-03, -4.7434e-01,\n",
            "        -4.2869e-01,  1.1831e-01, -4.1931e-01, -8.2225e-02, -6.1460e-01,\n",
            "         5.0468e-01, -6.0214e-01, -8.1544e-02, -5.4616e-01,  7.0223e-01,\n",
            "        -6.2325e-01,  1.5979e-01, -4.7792e-01, -5.2167e-01, -1.7935e-01,\n",
            "        -3.3951e-01, -7.0028e-01, -4.1859e-01,  3.6109e-01, -5.5731e-01,\n",
            "         6.0329e-01,  3.5995e-01,  6.1324e-01, -5.9604e-01,  6.3918e-01,\n",
            "        -6.4851e-01,  4.4629e-01,  3.8085e-02, -4.7924e-01,  3.2484e-01,\n",
            "         5.7230e-01,  3.6086e-01, -6.5678e-01,  3.9890e-01, -1.8254e-01,\n",
            "        -1.9332e-01, -2.2921e-01, -1.6869e-01, -6.3217e-01,  1.0805e-01,\n",
            "         2.4039e-01,  3.1316e-01,  1.4666e-02,  6.0683e-04, -4.3520e-01,\n",
            "         5.1678e-01,  3.3666e-01,  3.3220e-02, -3.9835e-01, -6.4747e-01,\n",
            "         1.0863e-01,  4.2896e-01,  3.1887e-01, -2.9791e-01, -1.9788e-01,\n",
            "        -8.0919e-02, -6.0864e-01,  3.6865e-01, -6.9474e-01,  2.9726e-01,\n",
            "        -4.7376e-01, -6.1375e-01, -6.3176e-01, -1.9907e-01,  6.1880e-01,\n",
            "         5.3405e-01,  4.5591e-01, -3.4917e-01,  1.1458e-01,  7.9129e-02,\n",
            "         6.9312e-01,  7.4820e-02,  3.7732e-01, -1.6533e-01, -5.4230e-01,\n",
            "         5.2507e-01,  6.2931e-01,  4.0653e-01,  3.7914e-01, -6.4073e-01,\n",
            "         5.1508e-01, -6.2431e-01,  2.9884e-01,  6.6003e-01, -2.8317e-01,\n",
            "         1.7076e-01, -6.8178e-01, -6.0148e-01, -3.9639e-01, -4.8189e-01,\n",
            "         3.7112e-02, -6.6156e-01,  2.0096e-01, -2.0471e-01,  4.5989e-01,\n",
            "         1.9664e-01, -1.4372e-01,  6.6659e-01,  2.6108e-01, -6.1356e-02,\n",
            "        -5.8981e-01,  6.6156e-01,  5.8232e-01,  5.7554e-01,  7.0260e-01,\n",
            "        -6.1464e-01, -5.4042e-01, -5.7537e-01, -4.6648e-01, -5.4985e-01,\n",
            "        -2.2391e-01, -7.0458e-01, -3.3824e-01, -2.5686e-01,  2.7446e-02,\n",
            "         3.8821e-01, -1.9924e-01,  4.7548e-01, -1.8965e-01,  4.5430e-01,\n",
            "        -4.4075e-01, -1.6143e-01, -5.9609e-01, -4.2623e-01,  5.0916e-01,\n",
            "         1.4020e-01, -3.9082e-01,  1.2184e-01,  1.7372e-01, -5.7285e-01,\n",
            "        -1.3703e-01, -1.0135e-01, -1.8767e-01, -1.1318e-01, -4.1576e-01,\n",
            "         2.0494e-01, -2.6411e-01,  6.8024e-01, -3.4973e-01, -4.8842e-01,\n",
            "        -4.4888e-01,  6.2698e-01, -1.0989e-01,  3.8581e-01,  7.1568e-02,\n",
            "        -1.2762e-01,  5.0901e-01, -4.5579e-01,  1.6888e-02, -1.6477e-01,\n",
            "         6.0712e-01, -6.5261e-02, -1.9207e-01,  6.4627e-01,  5.5998e-01,\n",
            "         8.6278e-02,  2.5825e-02, -6.1872e-01,  4.4670e-01, -8.5829e-02,\n",
            "        -2.8389e-01,  1.6708e-01, -6.6946e-01, -2.5342e-01,  4.8004e-01,\n",
            "        -1.8389e-01, -2.4032e-01,  9.5658e-02,  4.0599e-01,  5.9978e-01,\n",
            "        -4.6031e-01,  8.9879e-02, -1.0376e-01,  5.0107e-01,  1.1063e-01,\n",
            "        -5.3439e-01, -6.2552e-01,  4.2751e-02, -3.7353e-01,  1.2832e-01,\n",
            "         4.4936e-01,  5.0622e-01, -4.8649e-01, -6.7217e-01, -4.7351e-01,\n",
            "        -1.9368e-01, -2.2966e-01, -2.6653e-01, -5.2271e-01, -1.9445e-01,\n",
            "        -6.7255e-01,  8.1042e-02, -5.7250e-01,  6.0809e-01, -7.3411e-02,\n",
            "         2.3320e-01,  1.1702e-01,  3.8813e-01, -1.9410e-01,  2.1813e-01,\n",
            "        -5.9370e-01,  5.5387e-01, -6.1655e-01, -1.6845e-01,  3.9712e-01,\n",
            "         4.8932e-01, -9.1116e-03, -6.8016e-01,  5.8607e-01, -1.7787e-01,\n",
            "        -4.0965e-01, -4.5615e-01,  1.1389e-01, -5.2735e-01,  3.5448e-01,\n",
            "         5.5177e-01, -4.6620e-01,  3.2311e-01,  5.6303e-01,  1.3907e-01,\n",
            "         3.9599e-01,  6.9512e-02, -4.6657e-01,  2.6082e-01,  3.9791e-01,\n",
            "        -6.4981e-01, -3.6722e-01,  3.6012e-01,  3.8542e-01, -2.2865e-01,\n",
            "        -5.5704e-02,  5.6248e-01,  7.0300e-01, -6.1417e-01, -6.3618e-01,\n",
            "         3.8864e-01,  2.0146e-01,  3.8788e-01,  6.7794e-01, -1.6947e-01,\n",
            "         5.0851e-01, -1.6733e-02,  4.8924e-01,  4.8631e-01, -3.2748e-01,\n",
            "        -5.7165e-01,  5.4084e-01, -2.3950e-01, -7.0236e-01,  1.2673e-01,\n",
            "         6.9159e-01, -3.1783e-01, -5.5244e-01,  7.1370e-02,  1.1858e-01,\n",
            "         3.1722e-01, -4.0015e-01,  7.2416e-02, -9.9670e-02,  3.9307e-01,\n",
            "         4.1740e-02, -6.8477e-02,  3.2319e-01,  3.5844e-01,  1.7996e-01,\n",
            "        -2.0384e-01,  6.2926e-01, -6.6713e-01, -7.5324e-02,  5.3417e-01,\n",
            "         9.1986e-02,  5.3247e-01,  2.5912e-02, -5.4389e-01, -5.7402e-01,\n",
            "        -5.9417e-01,  2.7690e-01,  5.7774e-01,  2.1917e-01,  2.5560e-01,\n",
            "        -3.2063e-01,  5.3792e-01, -3.7228e-01, -3.9496e-01, -3.8305e-01,\n",
            "        -7.9733e-02, -1.8530e-01, -3.6369e-01,  3.3365e-01, -6.7623e-01,\n",
            "        -4.7676e-01, -6.9436e-01, -6.3759e-02,  4.0116e-01,  1.0486e-01,\n",
            "        -7.0015e-01,  1.3930e-01,  3.9236e-01,  2.9579e-01, -2.6483e-01,\n",
            "        -6.3551e-01,  2.3758e-01,  6.9177e-01, -3.8406e-01,  5.7689e-02,\n",
            "        -1.7065e-01,  2.5485e-01, -4.5311e-01,  3.1484e-01,  2.7788e-01,\n",
            "         5.1343e-01, -3.2845e-01,  1.7723e-01, -2.9328e-01, -5.2441e-01,\n",
            "        -4.7302e-01, -3.2086e-01, -5.5363e-01,  2.6341e-01,  2.2623e-01,\n",
            "        -7.2001e-02,  5.9885e-01,  6.3453e-01,  9.2391e-02, -7.1100e-02,\n",
            "        -1.1422e-01,  2.2431e-01,  3.8343e-01, -1.5856e-01, -4.2791e-01,\n",
            "         1.5166e-01,  6.2599e-03, -8.2205e-02, -3.0873e-01, -3.9891e-02,\n",
            "         1.3600e-01,  6.3669e-01,  3.5927e-01, -6.0860e-01,  3.3647e-01,\n",
            "        -4.4889e-01,  2.2790e-01, -1.7244e-01,  1.0070e-01, -6.8576e-02,\n",
            "         5.8661e-01, -9.5841e-02,  6.0889e-01,  3.9811e-01,  6.5208e-01,\n",
            "         6.8457e-01, -1.2111e-01, -2.2535e-01,  5.5738e-01,  6.1355e-02,\n",
            "        -4.5088e-02, -2.5295e-01,  4.4949e-01, -3.9299e-01, -5.8091e-01,\n",
            "        -1.1432e-01,  6.1913e-01, -2.1975e-01, -9.3334e-02, -2.2591e-01,\n",
            "         4.7408e-01, -1.2860e-01, -4.2731e-01, -7.5459e-02,  3.8710e-01,\n",
            "         2.8120e-01, -6.6973e-01,  6.4104e-01,  5.4408e-01, -2.3076e-01,\n",
            "         2.9062e-03,  4.0167e-01, -4.9906e-01,  2.6249e-01, -5.5996e-01,\n",
            "        -1.1859e-01,  6.4708e-01,  1.6672e-01, -4.9729e-01, -8.6107e-02,\n",
            "        -3.7815e-01, -2.9170e-01,  2.1398e-01,  4.5179e-01,  3.2245e-01,\n",
            "         3.8941e-02, -5.9529e-01,  8.6456e-02, -4.2949e-01, -6.4854e-02,\n",
            "         2.5810e-01, -6.4173e-01,  4.4394e-01,  5.5052e-01, -1.6602e-01,\n",
            "         8.7229e-02, -3.6006e-01,  5.0043e-01,  5.4386e-01,  3.9619e-01,\n",
            "        -6.6013e-01, -9.0109e-02, -3.2257e-01,  4.6933e-01, -5.4650e-01,\n",
            "         5.5859e-01,  1.8385e-01,  3.8253e-01,  1.8370e-01,  4.8174e-01,\n",
            "        -1.3595e-01, -1.8622e-01,  4.1256e-01,  3.1095e-01,  6.7231e-01,\n",
            "         2.7983e-01,  5.9367e-01, -2.1891e-01,  4.6662e-01,  5.0916e-02,\n",
            "        -2.9095e-01, -3.6721e-01,  4.5924e-01,  6.6035e-01,  9.2386e-05,\n",
            "        -5.2718e-01,  5.1743e-01, -3.9500e-01, -4.9940e-01, -8.8009e-03,\n",
            "        -6.6938e-01, -2.7050e-01, -6.4214e-01,  4.5425e-01,  1.2336e-02,\n",
            "         6.5671e-01,  5.4134e-01,  2.7455e-01,  1.5158e-01, -2.4779e-01,\n",
            "        -2.5588e-02,  5.4422e-01,  1.6089e-01, -2.7060e-01,  4.9898e-01,\n",
            "        -3.1741e-01, -6.7081e-01, -6.8679e-01,  2.2618e-01,  4.0415e-01,\n",
            "        -6.4472e-01, -4.3950e-01, -4.0344e-01, -1.1328e-01,  6.7085e-01,\n",
            "        -6.2187e-01,  6.0494e-01, -2.5093e-01, -1.8179e-01,  6.6713e-02,\n",
            "         4.8258e-01, -5.6511e-01,  9.6161e-02,  2.0254e-02,  4.2908e-01,\n",
            "         8.0078e-02, -6.4982e-01,  2.8264e-01, -2.3116e-01, -2.9528e-01,\n",
            "        -1.3105e-01, -6.0410e-01, -6.8883e-01, -2.9516e-01, -5.3060e-02,\n",
            "        -3.0256e-03, -3.9510e-01,  1.5588e-01,  2.8334e-02,  3.2356e-01,\n",
            "         7.0065e-01,  1.7929e-01,  4.3109e-01, -2.1803e-01,  2.3449e-01,\n",
            "         6.8408e-01,  2.9014e-01,  1.6601e-01,  3.8548e-02,  3.6068e-01,\n",
            "         5.3968e-01, -5.7758e-01, -4.8158e-01, -6.6093e-01,  6.7268e-01,\n",
            "         5.3650e-01,  3.1291e-01,  2.4599e-01, -6.3112e-01, -3.6301e-01,\n",
            "         3.9782e-01,  6.2396e-01, -4.7705e-01,  4.3477e-01, -4.0619e-01,\n",
            "         1.6696e-01,  3.3263e-01, -6.9823e-01,  6.5975e-01,  4.7159e-01,\n",
            "        -4.6188e-01,  1.7805e-01, -1.8763e-01, -3.0817e-01,  8.4046e-02,\n",
            "         4.4166e-01,  3.9135e-01,  2.7843e-01,  2.9307e-01, -3.2062e-01,\n",
            "         1.3213e-01,  1.7727e-01,  5.7861e-01, -6.8668e-01, -9.9821e-03,\n",
            "        -2.3666e-01,  6.6681e-01,  6.8716e-01,  3.4033e-01, -2.3284e-01,\n",
            "         4.9016e-01,  3.0129e-02,  1.9069e-01, -1.1009e-01, -4.6277e-01,\n",
            "         6.2044e-01,  2.7329e-01,  6.4478e-01,  6.0202e-01,  5.2582e-01,\n",
            "        -4.6862e-01, -5.2186e-01,  2.8327e-01, -8.8029e-03,  2.0308e-01,\n",
            "         2.5814e-01, -4.5359e-01,  2.4701e-01, -2.0490e-01,  6.6794e-01,\n",
            "         1.4033e-02, -4.0778e-01,  9.2881e-02, -6.3388e-01,  5.2634e-01,\n",
            "         2.2850e-01, -6.0535e-01, -5.4234e-01,  4.4492e-01,  6.3865e-01,\n",
            "        -1.7191e-01,  6.9147e-01,  2.5364e-01,  1.6571e-01,  2.9720e-01,\n",
            "         4.5687e-01, -1.3776e-01, -6.5943e-01, -4.9692e-01, -3.0922e-03,\n",
            "        -2.3702e-01, -3.3173e-01,  1.8162e-01,  5.5205e-01,  4.7858e-01,\n",
            "         6.0828e-01,  6.3056e-01, -1.9770e-01,  6.8917e-01,  9.5515e-02,\n",
            "         5.8879e-01, -4.0897e-01, -4.7115e-01, -1.8466e-01,  2.1385e-01,\n",
            "         4.5569e-01, -6.3631e-01,  2.2771e-01,  2.7639e-01, -9.9050e-02,\n",
            "         6.1299e-01, -5.6719e-02, -5.2489e-01,  4.8502e-01,  1.8343e-01,\n",
            "        -4.8314e-01,  2.7797e-01, -9.1482e-02,  1.8241e-01,  9.4304e-03,\n",
            "        -3.8212e-01,  4.7934e-01, -3.7778e-01, -5.7050e-03,  4.6712e-01,\n",
            "         6.7599e-01, -4.6568e-01,  6.0887e-01,  1.3325e-01, -6.6601e-01,\n",
            "         1.5846e-01,  4.3847e-01, -5.2206e-01, -1.3615e-01, -6.0815e-01,\n",
            "        -6.9356e-01, -5.2349e-01,  3.4839e-02,  8.2615e-02, -2.0835e-01],\n",
            "       requires_grad=True)\n",
            "hidden_lora_A.weight Parameter containing:\n",
            "tensor([[ 0.0051, -0.0069, -0.0097,  ...,  0.0189,  0.0028,  0.0269],\n",
            "        [ 0.0147,  0.0022, -0.0102,  ..., -0.0104,  0.0162,  0.0252]],\n",
            "       requires_grad=True)\n",
            "hidden_lora_A.bias Parameter containing:\n",
            "tensor([-0.0210,  0.0191], requires_grad=True)\n",
            "hidden_lora_B.weight Parameter containing:\n",
            "tensor([[ 0.1479, -0.1814],\n",
            "        [-0.5587, -0.5699],\n",
            "        [-0.4612,  0.0861],\n",
            "        ...,\n",
            "        [-0.2148,  0.0780],\n",
            "        [-0.3585,  0.5878],\n",
            "        [-0.5156, -0.3029]], requires_grad=True)\n",
            "hidden_lora_B.bias Parameter containing:\n",
            "tensor([ 0.5035,  0.2218, -0.4711,  ...,  0.2109,  0.0608, -0.1228],\n",
            "       requires_grad=True)\n",
            "output_lora_A.weight Parameter containing:\n",
            "tensor([[ 0.0070, -0.0058, -0.0070,  ...,  0.0079,  0.0191,  0.0027],\n",
            "        [-0.0202, -0.0118, -0.0122,  ..., -0.0161, -0.0134,  0.0205]],\n",
            "       requires_grad=True)\n",
            "output_lora_A.bias Parameter containing:\n",
            "tensor([ 0.0073, -0.0126], requires_grad=True)\n",
            "output_lora_B.weight Parameter containing:\n",
            "tensor([[-0.3022,  0.2655],\n",
            "        [-0.0628, -0.4273],\n",
            "        [ 0.0074,  0.0692],\n",
            "        [ 0.3906,  0.5534],\n",
            "        [ 0.0050,  0.0563],\n",
            "        [-0.6497,  0.6622],\n",
            "        [-0.3921,  0.1954],\n",
            "        [ 0.4004,  0.2917],\n",
            "        [ 0.3520, -0.2444],\n",
            "        [ 0.5716,  0.0062]], requires_grad=True)\n",
            "output_lora_B.bias Parameter containing:\n",
            "tensor([-0.2413, -0.2490,  0.5154,  0.0438, -0.6757, -0.3228, -0.4815, -0.1198,\n",
            "        -0.4485, -0.1590], requires_grad=True)\n"
          ]
        }
      ]
    },
    {
      "cell_type": "code",
      "source": [
        "total_parameters_lora = 0\n",
        "total_parameters_non_lora = 0\n",
        "for index, layer in enumerate([BigNet.input_layer, BigNet.hidden_layer, BigNet.output_layer]):\n",
        "    total_parameters_lora += layer.parametrizations[\"weight\"][0].lora_A.nelement() + layer.parametrizations[\"weight\"][0].lora_B.nelement()\n",
        "    total_parameters_non_lora += layer.weight.nelement() + layer.bias.nelement()\n",
        "    print(\n",
        "        f'Layer {index+1}: W: {layer.weight.shape} + B: {layer.bias.shape} + Lora_A: {layer.parametrizations[\"weight\"][0].lora_A.shape} + Lora_B: {layer.parametrizations[\"weight\"][0].lora_B.shape}'\n",
        "    )\n",
        "# The non-LoRA parameters count must match the original network\n",
        "assert total_parameters_non_lora == total_parameters_original\n",
        "print(f'Total number of parameters (original): {total_parameters_non_lora:,}')\n",
        "print(f'Total number of parameters (original + LoRA): {total_parameters_lora + total_parameters_non_lora:,}')\n",
        "print(f'Parameters introduced by LoRA: {total_parameters_lora:,}')\n",
        "parameters_incremment = (total_parameters_lora / total_parameters_non_lora) * 100\n",
        "print(f'Parameters incremment: {parameters_incremment:.3f}%')"
      ],
      "metadata": {
        "colab": {
          "base_uri": "https://localhost:8080/"
        },
        "id": "RG-3KGkl2pjh",
        "outputId": "ddfaa162-319d-40f3-a371-96eb427c6e86"
      },
      "execution_count": null,
      "outputs": [
        {
          "output_type": "stream",
          "name": "stdout",
          "text": [
            "Layer 1: W: torch.Size([1000, 784]) + B: torch.Size([1000]) + Lora_A: torch.Size([8, 784]) + Lora_B: torch.Size([1000, 8])\n",
            "Layer 2: W: torch.Size([2000, 1000]) + B: torch.Size([2000]) + Lora_A: torch.Size([8, 1000]) + Lora_B: torch.Size([2000, 8])\n",
            "Layer 3: W: torch.Size([10, 2000]) + B: torch.Size([10]) + Lora_A: torch.Size([8, 2000]) + Lora_B: torch.Size([10, 8])\n",
            "Total number of parameters (original): 2,807,010\n",
            "Total number of parameters (original + LoRA): 2,861,362\n",
            "Parameters introduced by LoRA: 54,352\n",
            "Parameters incremment: 1.936%\n"
          ]
        }
      ]
    },
    {
      "cell_type": "code",
      "source": [],
      "metadata": {
        "id": "tPD1fNKH3W3G"
      },
      "execution_count": null,
      "outputs": []
    },
    {
      "cell_type": "code",
      "source": [
        "# Check that the frozen parameters are still unchanged by the finetuning\n",
        "assert torch.all(BigNet.input_layer.parametrizations.weight.original == original_weights['input_layer.weight'])\n",
        "assert torch.all(BigNet.hidden_layer.parametrizations.weight.original == original_weights['hidden_layer.weight'])\n",
        "assert torch.all(BigNet.output_layer.parametrizations.weight.original == original_weights['output_layer.weight'])\n",
        "\n",
        "enable_disable_lora(enabled=True)\n",
        "# The new linear1.weight is obtained by the \"forward\" function of our LoRA parametrization\n",
        "# The original weights have been moved to net.linear1.parametrizations.weight.original\n",
        "# More info here: https://pytorch.org/tutorials/intermediate/parametrizations.html#inspecting-a-parametrized-module\n",
        "assert torch.equal(BigNet.input_layer.weight, BigNet.input_layer.parametrizations.weight.original + (BigNet.input_layer.parametrizations.weight[0].lora_B @ BigNet.input_layer.parametrizations.weight[0].lora_A) * BigNet.input_layer.parametrizations.weight[0].scale)\n",
        "\n",
        "enable_disable_lora(enabled=False)\n",
        "# If we disable LoRA, the linear1.weight is the original one\n",
        "assert torch.equal(BigNet.input_layer.weight, original_weights['input_layer.weight'])"
      ],
      "metadata": {
        "id": "NwEaCrNx3p0e",
        "colab": {
          "base_uri": "https://localhost:8080/",
          "height": 250
        },
        "outputId": "17954112-eee2-4575-83f4-fe0df23c044b"
      },
      "execution_count": null,
      "outputs": [
        {
          "output_type": "error",
          "ename": "AssertionError",
          "evalue": "ignored",
          "traceback": [
            "\u001b[0;31m---------------------------------------------------------------------------\u001b[0m",
            "\u001b[0;31mAssertionError\u001b[0m                            Traceback (most recent call last)",
            "\u001b[0;32m<ipython-input-23-61cbaa4e4380>\u001b[0m in \u001b[0;36m<cell line: 2>\u001b[0;34m()\u001b[0m\n\u001b[1;32m      1\u001b[0m \u001b[0;31m# Check that the frozen parameters are still unchanged by the finetuning\u001b[0m\u001b[0;34m\u001b[0m\u001b[0;34m\u001b[0m\u001b[0m\n\u001b[0;32m----> 2\u001b[0;31m \u001b[0;32massert\u001b[0m \u001b[0mtorch\u001b[0m\u001b[0;34m.\u001b[0m\u001b[0mall\u001b[0m\u001b[0;34m(\u001b[0m\u001b[0mBigNet\u001b[0m\u001b[0;34m.\u001b[0m\u001b[0minput_layer\u001b[0m\u001b[0;34m.\u001b[0m\u001b[0mparametrizations\u001b[0m\u001b[0;34m.\u001b[0m\u001b[0mweight\u001b[0m\u001b[0;34m.\u001b[0m\u001b[0moriginal\u001b[0m \u001b[0;34m==\u001b[0m \u001b[0moriginal_weights\u001b[0m\u001b[0;34m[\u001b[0m\u001b[0;34m'input_layer.weight'\u001b[0m\u001b[0;34m]\u001b[0m\u001b[0;34m)\u001b[0m\u001b[0;34m\u001b[0m\u001b[0;34m\u001b[0m\u001b[0m\n\u001b[0m\u001b[1;32m      3\u001b[0m \u001b[0;32massert\u001b[0m \u001b[0mtorch\u001b[0m\u001b[0;34m.\u001b[0m\u001b[0mall\u001b[0m\u001b[0;34m(\u001b[0m\u001b[0mBigNet\u001b[0m\u001b[0;34m.\u001b[0m\u001b[0mhidden_layer\u001b[0m\u001b[0;34m.\u001b[0m\u001b[0mparametrizations\u001b[0m\u001b[0;34m.\u001b[0m\u001b[0mweight\u001b[0m\u001b[0;34m.\u001b[0m\u001b[0moriginal\u001b[0m \u001b[0;34m==\u001b[0m \u001b[0moriginal_weights\u001b[0m\u001b[0;34m[\u001b[0m\u001b[0;34m'hidden_layer.weight'\u001b[0m\u001b[0;34m]\u001b[0m\u001b[0;34m)\u001b[0m\u001b[0;34m\u001b[0m\u001b[0;34m\u001b[0m\u001b[0m\n\u001b[1;32m      4\u001b[0m \u001b[0;32massert\u001b[0m \u001b[0mtorch\u001b[0m\u001b[0;34m.\u001b[0m\u001b[0mall\u001b[0m\u001b[0;34m(\u001b[0m\u001b[0mBigNet\u001b[0m\u001b[0;34m.\u001b[0m\u001b[0moutput_layer\u001b[0m\u001b[0;34m.\u001b[0m\u001b[0mparametrizations\u001b[0m\u001b[0;34m.\u001b[0m\u001b[0mweight\u001b[0m\u001b[0;34m.\u001b[0m\u001b[0moriginal\u001b[0m \u001b[0;34m==\u001b[0m \u001b[0moriginal_weights\u001b[0m\u001b[0;34m[\u001b[0m\u001b[0;34m'output_layer.weight'\u001b[0m\u001b[0;34m]\u001b[0m\u001b[0;34m)\u001b[0m\u001b[0;34m\u001b[0m\u001b[0;34m\u001b[0m\u001b[0m\n\u001b[1;32m      5\u001b[0m \u001b[0;34m\u001b[0m\u001b[0m\n",
            "\u001b[0;31mAssertionError\u001b[0m: "
          ]
        }
      ]
    },
    {
      "cell_type": "code",
      "source": [
        "# Test with LoRA enabled\n",
        "enable_disable_lora(enabled=True)\n",
        "test(\n",
        "      test_loader=test_loader,\n",
        "      net=BigNet,\n",
        ")"
      ],
      "metadata": {
        "id": "JmlFICMgJP7x"
      },
      "execution_count": null,
      "outputs": []
    },
    {
      "cell_type": "code",
      "source": [
        "enable_disable_lora(enabled=False)\n",
        "\n",
        "weights_with_lora = {}\n",
        "for name, parm in BigNet.named_parameters():\n",
        "  weights_with_lora[param] = parm.clone().detach()\n"
      ],
      "metadata": {
        "id": "vpNB2DAj47Ku"
      },
      "execution_count": null,
      "outputs": []
    },
    {
      "cell_type": "code",
      "source": [
        "weights_with_lora"
      ],
      "metadata": {
        "id": "qCWToywAA0t3"
      },
      "execution_count": null,
      "outputs": []
    },
    {
      "cell_type": "code",
      "source": [],
      "metadata": {
        "id": "k55C13q9Mtys"
      },
      "execution_count": null,
      "outputs": []
    }
  ]
}