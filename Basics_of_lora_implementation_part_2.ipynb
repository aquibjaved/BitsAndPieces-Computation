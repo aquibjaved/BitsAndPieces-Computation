{
  "nbformat": 4,
  "nbformat_minor": 0,
  "metadata": {
    "colab": {
      "provenance": [],
      "gpuType": "T4",
      "authorship_tag": "ABX9TyMMNJ2v1X2A1C24ITNsvFg3",
      "include_colab_link": true
    },
    "kernelspec": {
      "name": "python3",
      "display_name": "Python 3"
    },
    "language_info": {
      "name": "python"
    },
    "accelerator": "GPU"
  },
  "cells": [
    {
      "cell_type": "markdown",
      "metadata": {
        "id": "view-in-github",
        "colab_type": "text"
      },
      "source": [
        "<a href=\"https://colab.research.google.com/github/aquibjaved/Bits_and_Pieces_DL/blob/main/Basics_of_lora_implementation_part_2.ipynb\" target=\"_parent\"><img src=\"https://colab.research.google.com/assets/colab-badge.svg\" alt=\"Open In Colab\"/></a>"
      ]
    },
    {
      "cell_type": "code",
      "execution_count": 1,
      "metadata": {
        "id": "GUF9hrLcTNy2"
      },
      "outputs": [],
      "source": [
        "import torch\n",
        "from torch import nn, optim\n",
        "import torch.nn.functional as F\n",
        "import torch.nn.utils.parametrize as P\n",
        "from sklearn.datasets import load_iris\n",
        "from torch.utils.data import TensorDataset, DataLoader\n",
        "from sklearn.model_selection import train_test_split\n",
        "import matplotlib.pyplot as plt\n",
        "from torchvision import datasets, transforms\n",
        "from sklearn.preprocessing import StandardScaler\n",
        "\n",
        "import matplotlib.pyplot as plt\n",
        "import numpy as np\n",
        "import math"
      ]
    },
    {
      "cell_type": "code",
      "source": [
        "# Define a transform to normalize the data and flatten each image into a 1D array\n",
        "transform = transforms.Compose([\n",
        "    transforms.ToTensor(),\n",
        "    transforms.Normalize((0.5,), (0.5,)),\n",
        "    transforms.Lambda(lambda x: x.view(-1))\n",
        "])\n",
        "\n",
        "def collate_fn(batch):\n",
        "    data, target = zip(*batch)\n",
        "    data = torch.stack(data)\n",
        "    target = torch.tensor(target)\n",
        "    return data.cuda(), target.cuda()"
      ],
      "metadata": {
        "id": "VOJ4GViMUdmr"
      },
      "execution_count": 2,
      "outputs": []
    },
    {
      "cell_type": "code",
      "source": [
        "def plot_flattened_images(flattened_images, labels, img_shape, class_names, num_images=5):\n",
        "    \"\"\"\n",
        "    Plots images that have been flattened.\n",
        "\n",
        "    Parameters:\n",
        "        flattened_images (torch.Tensor): The flattened images tensor.\n",
        "        labels (torch.Tensor): The labels tensor.\n",
        "        img_shape (tuple): The original shape of the images (e.g., (28, 28) for Fashion MNIST).\n",
        "        class_names (list): List of class names.\n",
        "        num_images (int): Number of images to plot.\n",
        "    \"\"\"\n",
        "    # Reshape the flattened images back to their original shape\n",
        "    reshaped_images = flattened_images.view(-1, *img_shape).numpy()\n",
        "\n",
        "    # Create a figure and axes\n",
        "    fig, axes = plt.subplots(1, num_images, figsize=(10, 5))\n",
        "\n",
        "    for i, ax in enumerate(axes):\n",
        "        img = reshaped_images[i]\n",
        "        label = class_names[labels[i].item()]\n",
        "        ax.imshow(img, cmap='gray')\n",
        "        ax.set_title(label)\n",
        "        ax.axis('off')\n",
        "\n",
        "    plt.tight_layout()\n",
        "    plt.show()"
      ],
      "metadata": {
        "id": "vg49lNwSX5hQ"
      },
      "execution_count": 3,
      "outputs": []
    },
    {
      "cell_type": "code",
      "source": [
        "# Download and load the training data\n",
        "trainset = datasets.FashionMNIST('~/.pytorch/F_MNIST_data/', download=True, train=True, transform=transform)\n",
        "trainloader = torch.utils.data.DataLoader(trainset, batch_size=1024, shuffle=True)\n",
        "\n",
        "# Download and load the test data\n",
        "testset = datasets.FashionMNIST('~/.pytorch/F_MNIST_data/', download=True, train=False, transform=transform)\n",
        "testloader = torch.utils.data.DataLoader(testset, batch_size=512, shuffle=False)\n"
      ],
      "metadata": {
        "id": "7dOEaY1us2bB",
        "colab": {
          "base_uri": "https://localhost:8080/"
        },
        "outputId": "628ce798-834f-4764-e53f-f8050d0e1dac"
      },
      "execution_count": 4,
      "outputs": [
        {
          "output_type": "stream",
          "name": "stdout",
          "text": [
            "Downloading http://fashion-mnist.s3-website.eu-central-1.amazonaws.com/train-images-idx3-ubyte.gz\n",
            "Downloading http://fashion-mnist.s3-website.eu-central-1.amazonaws.com/train-images-idx3-ubyte.gz to /root/.pytorch/F_MNIST_data/FashionMNIST/raw/train-images-idx3-ubyte.gz\n"
          ]
        },
        {
          "output_type": "stream",
          "name": "stderr",
          "text": [
            "100%|██████████| 26421880/26421880 [00:00<00:00, 113593882.87it/s]\n"
          ]
        },
        {
          "output_type": "stream",
          "name": "stdout",
          "text": [
            "Extracting /root/.pytorch/F_MNIST_data/FashionMNIST/raw/train-images-idx3-ubyte.gz to /root/.pytorch/F_MNIST_data/FashionMNIST/raw\n",
            "\n",
            "Downloading http://fashion-mnist.s3-website.eu-central-1.amazonaws.com/train-labels-idx1-ubyte.gz\n",
            "Downloading http://fashion-mnist.s3-website.eu-central-1.amazonaws.com/train-labels-idx1-ubyte.gz to /root/.pytorch/F_MNIST_data/FashionMNIST/raw/train-labels-idx1-ubyte.gz\n"
          ]
        },
        {
          "output_type": "stream",
          "name": "stderr",
          "text": [
            "100%|██████████| 29515/29515 [00:00<00:00, 4627846.08it/s]\n"
          ]
        },
        {
          "output_type": "stream",
          "name": "stdout",
          "text": [
            "Extracting /root/.pytorch/F_MNIST_data/FashionMNIST/raw/train-labels-idx1-ubyte.gz to /root/.pytorch/F_MNIST_data/FashionMNIST/raw\n",
            "\n",
            "Downloading http://fashion-mnist.s3-website.eu-central-1.amazonaws.com/t10k-images-idx3-ubyte.gz\n",
            "Downloading http://fashion-mnist.s3-website.eu-central-1.amazonaws.com/t10k-images-idx3-ubyte.gz to /root/.pytorch/F_MNIST_data/FashionMNIST/raw/t10k-images-idx3-ubyte.gz\n"
          ]
        },
        {
          "output_type": "stream",
          "name": "stderr",
          "text": [
            "100%|██████████| 4422102/4422102 [00:00<00:00, 66829672.93it/s]\n"
          ]
        },
        {
          "output_type": "stream",
          "name": "stdout",
          "text": [
            "Extracting /root/.pytorch/F_MNIST_data/FashionMNIST/raw/t10k-images-idx3-ubyte.gz to /root/.pytorch/F_MNIST_data/FashionMNIST/raw\n",
            "\n",
            "Downloading http://fashion-mnist.s3-website.eu-central-1.amazonaws.com/t10k-labels-idx1-ubyte.gz\n",
            "Downloading http://fashion-mnist.s3-website.eu-central-1.amazonaws.com/t10k-labels-idx1-ubyte.gz to /root/.pytorch/F_MNIST_data/FashionMNIST/raw/t10k-labels-idx1-ubyte.gz\n"
          ]
        },
        {
          "output_type": "stream",
          "name": "stderr",
          "text": [
            "100%|██████████| 5148/5148 [00:00<00:00, 24481039.67it/s]\n"
          ]
        },
        {
          "output_type": "stream",
          "name": "stdout",
          "text": [
            "Extracting /root/.pytorch/F_MNIST_data/FashionMNIST/raw/t10k-labels-idx1-ubyte.gz to /root/.pytorch/F_MNIST_data/FashionMNIST/raw\n",
            "\n"
          ]
        }
      ]
    },
    {
      "cell_type": "code",
      "source": [
        "# Get one batch of images and labels\n",
        "dataiter = iter(trainloader)\n",
        "images, labels = next(dataiter)\n",
        "\n",
        "# Define the class names for Fashion MNIST\n",
        "class_names = ['T-shirt/top', 'Trouser', 'Pullover', 'Dress', 'Coat',\n",
        "               'Sandal', 'Shirt', 'Sneaker', 'Bag', 'Ankle boot']\n",
        "\n",
        "plot_flattened_images(flattened_images=images, labels=labels, img_shape=(28,28), num_images=10, class_names=class_names)"
      ],
      "metadata": {
        "colab": {
          "base_uri": "https://localhost:8080/",
          "height": 142
        },
        "id": "p3UdRE46U0Zw",
        "outputId": "c25fb63c-6f5c-4bd5-e106-6298a70978d0"
      },
      "execution_count": 5,
      "outputs": [
        {
          "output_type": "display_data",
          "data": {
            "text/plain": [
              "<Figure size 1000x500 with 10 Axes>"
            ],
            "image/png": "[encoded data removed]"
          },
          "metadata": {}
        }
      ]
    },
    {
      "cell_type": "code",
      "source": [
        "\n",
        "class FashionNet(nn.Module):\n",
        "  def __init__(self, input_dims, num_class):\n",
        "\n",
        "    super().__init__()\n",
        "    self.input_dims = input_dims\n",
        "    self.num_class = num_class\n",
        "\n",
        "    self.input_layer = nn.Linear(in_features=self.input_dims, out_features=512)\n",
        "    self.hidden_layer = nn.Linear(in_features=512, out_features=256)\n",
        "    self.output_layer = nn.Linear(in_features=256, out_features=self.num_class)\n",
        "\n",
        "  def forward(self, x):\n",
        "    out = F.relu(self.input_layer(x))\n",
        "    out = F.relu(self.hidden_layer(out))\n",
        "    out = self.output_layer(out)\n",
        "    return out"
      ],
      "metadata": {
        "id": "hp0DV2XLU55K"
      },
      "execution_count": 6,
      "outputs": []
    },
    {
      "cell_type": "code",
      "source": [
        "# Check for GPU availability\n",
        "cuda_available = torch.cuda.is_available()"
      ],
      "metadata": {
        "id": "7g-tqvDgb8bG"
      },
      "execution_count": 7,
      "outputs": []
    },
    {
      "cell_type": "code",
      "source": [
        "BigNet = FashionNet(input_dims=784, num_class=len(class_names))\n",
        "optimizer = optim.SGD(BigNet.parameters(), lr=0.011, momentum=0.9)\n",
        "criterion = nn.CrossEntropyLoss()\n",
        "\n",
        "# Assume `model` is your model\n",
        "if cuda_available:\n",
        "    BigNet = BigNet.to('cuda')\n",
        "    optimizer = optim.SGD(BigNet.parameters(), lr=0.011, momentum=0.9)\n",
        "    criterion = nn.CrossEntropyLoss().to('cuda')\n"
      ],
      "metadata": {
        "id": "a74CDAXKWSzt"
      },
      "execution_count": 8,
      "outputs": []
    },
    {
      "cell_type": "code",
      "source": [
        "is_on_gpu = next(BigNet.parameters()).is_cuda\n",
        "print(f'Model is on GPU: {is_on_gpu}')"
      ],
      "metadata": {
        "colab": {
          "base_uri": "https://localhost:8080/"
        },
        "id": "0KNYilLgl_cp",
        "outputId": "7ba27484-bca1-4efa-e0e6-dc03b99c80c9"
      },
      "execution_count": 9,
      "outputs": [
        {
          "output_type": "stream",
          "name": "stdout",
          "text": [
            "Model is on GPU: True\n"
          ]
        }
      ]
    },
    {
      "cell_type": "code",
      "source": [
        "trainable_params = sum(p.numel() for p in BigNet.parameters() if p.requires_grad)\n",
        "print(f'Number of trainable (tunable) parameters: {trainable_params}')"
      ],
      "metadata": {
        "colab": {
          "base_uri": "https://localhost:8080/"
        },
        "id": "Ey2PIUD1Z-q1",
        "outputId": "9e236458-6e9b-4e54-8dbf-5521b030e490"
      },
      "execution_count": 10,
      "outputs": [
        {
          "output_type": "stream",
          "name": "stdout",
          "text": [
            "Number of trainable (tunable) parameters: 535818\n"
          ]
        }
      ]
    },
    {
      "cell_type": "code",
      "source": [
        "import torch\n",
        "\n",
        "def train_model(epochs:int, train_loader, model, optimizer, criterion):\n",
        "  model.train()\n",
        "  train_loss_per_epoch = []\n",
        "\n",
        "  for epoch in range(epochs):\n",
        "\n",
        "    running_loss_train = 0.0\n",
        "\n",
        "    for data_batch, target_batch in train_loader:\n",
        "\n",
        "        data_batch = data_batch.to('cuda')\n",
        "        target_batch = target_batch.to('cuda')\n",
        "\n",
        "        optimizer.zero_grad()\n",
        "        output = model(data_batch)\n",
        "        loss_train = criterion(output, target_batch)\n",
        "        loss_train.backward()\n",
        "        optimizer.step()\n",
        "        running_loss_train += loss_train.item()\n",
        "\n",
        "    epcoh_loss_train = running_loss_train / len(train_loader)\n",
        "\n",
        "    train_loss_per_epoch.append(epcoh_loss_train)\n",
        "\n",
        "\n",
        "    if epoch %5 == 0:\n",
        "      print(f'Epoch {epoch} Train loss {epcoh_loss_train}')\n",
        "  return train_loss_per_epoch\n",
        "\n",
        "\n",
        "\n",
        "import torch\n",
        "from sklearn.metrics import confusion_matrix\n",
        "import numpy as np\n",
        "\n",
        "def test_model(test_loader, model, criterion, class_labels):\n",
        "    model.eval()\n",
        "    test_loss = 0.0\n",
        "    all_targets = []\n",
        "    all_preds = []\n",
        "\n",
        "    with torch.no_grad():\n",
        "        for data_batch, target_batch in test_loader:\n",
        "            data_batch = data_batch.to('cuda')\n",
        "            target_batch = target_batch.to('cuda')\n",
        "\n",
        "            output = model(data_batch)\n",
        "            loss = criterion(output, target_batch)\n",
        "            test_loss += loss.item() * len(data_batch)  # correct loss accumulation\n",
        "\n",
        "            _, predicted = torch.max(output.data, 1)  # get the index of the max log-probability\n",
        "            all_targets.extend(target_batch.cpu().numpy())\n",
        "            all_preds.extend(predicted.cpu().numpy())\n",
        "\n",
        "    test_loss /= len(test_loader.dataset)  # get average loss\n",
        "\n",
        "    # Compute confusion matrix\n",
        "    cm = confusion_matrix(all_targets, all_preds)\n",
        "\n",
        "    # Compute class-wise number of wrong predictions\n",
        "    class_wise_wrong_preds = cm.sum(axis=1) - np.diag(cm)\n",
        "\n",
        "    # Create a dictionary to store class-wise wrong predictions with label info\n",
        "    wrong_preds_dict = {class_labels[i]: class_wise_wrong_preds[i] for i in range(len(class_labels))}\n",
        "\n",
        "    return test_loss, wrong_preds_dict\n",
        "\n"
      ],
      "metadata": {
        "id": "TX26hnzGZF5T"
      },
      "execution_count": 11,
      "outputs": []
    },
    {
      "cell_type": "code",
      "source": [
        "trainLoss = train_model(epochs=20,\n",
        "                        train_loader=trainloader,\n",
        "                        optimizer = optimizer,\n",
        "                        criterion=criterion,\n",
        "                        model=BigNet,\n",
        "                        )"
      ],
      "metadata": {
        "id": "zVpGo0qci1Fg",
        "colab": {
          "base_uri": "https://localhost:8080/"
        },
        "outputId": "00bb7753-4935-417b-d5af-2b50a7649653"
      },
      "execution_count": 12,
      "outputs": [
        {
          "output_type": "stream",
          "name": "stdout",
          "text": [
            "Epoch 0 Train loss 1.383198184482122\n",
            "Epoch 5 Train loss 0.4424403638152753\n",
            "Epoch 10 Train loss 0.3823874552371138\n",
            "Epoch 15 Train loss 0.3453267262143604\n"
          ]
        }
      ]
    },
    {
      "cell_type": "code",
      "source": [
        "# Call the function\n",
        "testlLoss, wrong_pred = test_model(\n",
        "                        test_loader=testloader,\n",
        "                        model=BigNet,\n",
        "                        criterion=criterion,\n",
        "                        class_labels=class_names)"
      ],
      "metadata": {
        "id": "PbLB-ECJqcht"
      },
      "execution_count": 14,
      "outputs": []
    },
    {
      "cell_type": "code",
      "source": [
        "wrong_pred"
      ],
      "metadata": {
        "colab": {
          "base_uri": "https://localhost:8080/"
        },
        "id": "F7sDiWvnEDcx",
        "outputId": "5089f121-758c-46fb-affd-1cbbc29f6dab"
      },
      "execution_count": 15,
      "outputs": [
        {
          "output_type": "execute_result",
          "data": {
            "text/plain": [
              "{'T-shirt/top': 238,\n",
              " 'Trouser': 42,\n",
              " 'Pullover': 283,\n",
              " 'Dress': 130,\n",
              " 'Coat': 206,\n",
              " 'Sandal': 52,\n",
              " 'Shirt': 294,\n",
              " 'Sneaker': 85,\n",
              " 'Bag': 33,\n",
              " 'Ankle boot': 52}"
            ]
          },
          "metadata": {},
          "execution_count": 15
        }
      ]
    },
    {
      "cell_type": "code",
      "source": [
        "# Load the entire dataset\n",
        "full_trainset = datasets.FashionMNIST('~/.pytorch/F_MNIST_data/', download=True, train=True, transform=transform)\n",
        "\n",
        "# Get the indices for the Shirt and T-shirt categories\n",
        "shirt_tshirt_indices = [i for i, (data, target) in enumerate(full_trainset) if target == 0 or target == 6]\n",
        "\n",
        "# Create a subset of the data for Shirt and T-shirt categories\n",
        "shirt_tshirt_subset = torch.utils.data.Subset(full_trainset, shirt_tshirt_indices)\n",
        "\n",
        "# Create the data loader for Shirt and T-shirt categories\n",
        "shirt_tshirt_subset = torch.utils.data.DataLoader(shirt_tshirt_subset, batch_size=1024, shuffle=True)\n",
        "\n",
        "# Get the indices for the other categories (excluding Shirt and T-shirt)\n",
        "indices_without_shirt_t_shirt = [i for i, (data, target) in enumerate(full_trainset) if target != 0 and target != 6]\n",
        "\n",
        "# Create a subset of the data for other categories\n",
        "other_subset = torch.utils.data.Subset(full_trainset, indices_without_shirt_t_shirt)\n",
        "\n",
        "# Create the data loader for other categories\n",
        "data_without_shirt_t_shirt = torch.utils.data.DataLoader(other_subset, batch_size=1024, shuffle=True)"
      ],
      "metadata": {
        "id": "hQINBwaWPhF1"
      },
      "execution_count": 16,
      "outputs": []
    },
    {
      "cell_type": "code",
      "source": [
        "# Get one batch of images and labels\n",
        "dataiter = iter(shirt_tshirt_subset)\n",
        "images, labels = next(dataiter)\n",
        "\n",
        "# Define the class names for Fashion MNIST\n",
        "class_names = ['T-shirt/top', 'Trouser', 'Pullover', 'Dress', 'Coat',\n",
        "               'Sandal', 'Shirt', 'Sneaker', 'Bag', 'Ankle boot']\n",
        "\n",
        "plot_flattened_images(flattened_images=images, labels=labels, img_shape=(28,28), num_images=10, class_names=class_names)"
      ],
      "metadata": {
        "colab": {
          "base_uri": "https://localhost:8080/",
          "height": 142
        },
        "id": "SsrsAkex1Z0i",
        "outputId": "062338ae-ac1f-48f2-e881-bf2fd5f3bbbc"
      },
      "execution_count": 18,
      "outputs": [
        {
          "output_type": "display_data",
          "data": {
            "text/plain": [
              "<Figure size 1000x500 with 10 Axes>"
            ],
            "image/png": "[encoded data removed]"
          },
          "metadata": {}
        }
      ]
    },
    {
      "cell_type": "code",
      "source": [
        "# saving the original model weights\n",
        "\n",
        "original_weights = {}\n",
        "for name, parm in BigNet.named_parameters():\n",
        "  original_weights[name] = parm.clone()"
      ],
      "metadata": {
        "id": "eCiRoGsp2aD7"
      },
      "execution_count": 20,
      "outputs": []
    },
    {
      "cell_type": "code",
      "source": [
        "class LoRaParametarization(nn.Module):\n",
        "\n",
        "    def __init__(self, r: int, lora_alpha: int, feature_in: int, feature_out:int):\n",
        "        super().__init__()\n",
        "        self.r = r\n",
        "        self.lora_alpha = lora_alpha\n",
        "\n",
        "        self.lora_A = nn.Parameter(torch.zeros(r, feature_out)).to('cuda')\n",
        "        self.lora_B = nn.Parameter(torch.zeros(feature_in, r)).to('cuda')\n",
        "        nn.init.normal_(self.lora_A, mean=0, std=1)\n",
        "\n",
        "        self.scale = self.lora_alpha / self.r\n",
        "        self.lora_enabled = True\n",
        "\n",
        "    def forward(self, original_weights):\n",
        "\n",
        "      if self.lora_enabled:\n",
        "        return original_weights + torch.matmul(self.lora_B , self.lora_A).view(original_weights.shape) * self.scale\n",
        "\n",
        "      return original_weights\n",
        "\n",
        "\n",
        "def linear_layer_parameterization(layer, r:int=1, lora_alpha:int=1):\n",
        "\n",
        "  feature_in, feature_out = layer.weight.shape\n",
        "\n",
        "  return LoRaParametarization(r=r, lora_alpha=lora_alpha, feature_in=feature_in, feature_out=feature_out)\n",
        "\n",
        "P.register_parametrization(BigNet.input_layer, \"weight\", linear_layer_parameterization(BigNet.input_layer))\n",
        "P.register_parametrization(BigNet.hidden_layer, \"weight\", linear_layer_parameterization(BigNet.hidden_layer))\n",
        "P.register_parametrization(BigNet.output_layer, \"weight\", linear_layer_parameterization(BigNet.output_layer))\n",
        "\n",
        "def enable_disable_lora(enabled=True):\n",
        "  for layer in [BigNet.input_layer, BigNet.hidden_layer, BigNet.output_layer]:\n",
        "    layer.parametrizations[\"weight\"][0].enabled = enabled"
      ],
      "metadata": {
        "id": "iWjaxosk2nEa"
      },
      "execution_count": 24,
      "outputs": []
    },
    {
      "cell_type": "code",
      "source": [
        "total_parameters_original = 0\n",
        "for index, layer in enumerate([BigNet.input_layer, BigNet.hidden_layer, BigNet.output_layer]):\n",
        "    total_parameters_original += layer.weight.nelement() + layer.bias.nelement()\n",
        "    print(f'Layer {index+1}: W: {layer.weight.shape} + B: {layer.bias.shape}')\n",
        "print(f'Total number of parameters: {total_parameters_original:,}')"
      ],
      "metadata": {
        "colab": {
          "base_uri": "https://localhost:8080/"
        },
        "id": "BNU5QXuO3Oo9",
        "outputId": "7c7ddbb6-1995-4217-c6e3-0b40318efd05"
      },
      "execution_count": 25,
      "outputs": [
        {
          "output_type": "stream",
          "name": "stdout",
          "text": [
            "Layer 1: W: torch.Size([512, 784]) + B: torch.Size([512])\n",
            "Layer 2: W: torch.Size([256, 512]) + B: torch.Size([256])\n",
            "Layer 3: W: torch.Size([10, 256]) + B: torch.Size([10])\n",
            "Total number of parameters: 535,818\n"
          ]
        }
      ]
    },
    {
      "cell_type": "code",
      "source": [
        "total_parameters_lora = 0\n",
        "total_parameters_non_lora = 0\n",
        "for index, layer in enumerate([BigNet.input_layer, BigNet.hidden_layer, BigNet.output_layer]):\n",
        "    total_parameters_lora += layer.parametrizations[\"weight\"][0].lora_A.nelement() + layer.parametrizations[\"weight\"][0].lora_B.nelement()\n",
        "    total_parameters_non_lora += layer.weight.nelement() + layer.bias.nelement()\n",
        "    print(\n",
        "        f'Layer {index+1}: W: {layer.weight.shape} + B: {layer.bias.shape} + Lora_A: {layer.parametrizations[\"weight\"][0].lora_A.shape} + Lora_B: {layer.parametrizations[\"weight\"][0].lora_B.shape}'\n",
        "    )\n",
        "# The non-LoRA parameters count must match the original network\n",
        "assert total_parameters_non_lora == total_parameters_original\n",
        "print(f'Total number of parameters (original): {total_parameters_non_lora:,}')\n",
        "print(f'Total number of parameters (original + LoRA): {total_parameters_lora + total_parameters_non_lora:,}')\n",
        "print(f'Parameters introduced by LoRA: {total_parameters_lora:,}')\n",
        "parameters_incremment = (total_parameters_lora / total_parameters_non_lora) * 100\n",
        "print(f'Parameters incremment: {parameters_incremment:.3f}%')"
      ],
      "metadata": {
        "colab": {
          "base_uri": "https://localhost:8080/"
        },
        "id": "RG-3KGkl2pjh",
        "outputId": "6ff1d992-eb99-4eef-abf0-9d8211d52b03"
      },
      "execution_count": 27,
      "outputs": [
        {
          "output_type": "stream",
          "name": "stdout",
          "text": [
            "Layer 1: W: torch.Size([512, 784]) + B: torch.Size([512]) + Lora_A: torch.Size([1, 784]) + Lora_B: torch.Size([512, 1])\n",
            "Layer 2: W: torch.Size([256, 512]) + B: torch.Size([256]) + Lora_A: torch.Size([1, 512]) + Lora_B: torch.Size([256, 1])\n",
            "Layer 3: W: torch.Size([10, 256]) + B: torch.Size([10]) + Lora_A: torch.Size([1, 256]) + Lora_B: torch.Size([10, 1])\n",
            "Total number of parameters (original): 535,818\n",
            "Total number of parameters (original + LoRA): 538,148\n",
            "Parameters introduced by LoRA: 2,330\n",
            "Parameters incremment: 0.435%\n"
          ]
        }
      ]
    },
    {
      "cell_type": "code",
      "source": [
        "enable_disable_lora(enabled=True)"
      ],
      "metadata": {
        "id": "tPD1fNKH3W3G"
      },
      "execution_count": 43,
      "outputs": []
    },
    {
      "cell_type": "code",
      "source": [
        "# Freeze the non-Lora parameters\n",
        "for name, param in BigNet.named_parameters():\n",
        "    if 'lora' not in name:\n",
        "        print(f'Freezing non-LoRA parameter {name}')\n",
        "        param.requires_grad = False\n",
        "\n",
        "\n",
        "\n",
        "# Train the network with LoRA only on the digit 9 and only for 100 batches (hoping that it would improve the performance on the digit 9)\n",
        "# train(train_loader, net, epochs=1, total_iterations_limit=100)"
      ],
      "metadata": {
        "colab": {
          "base_uri": "https://localhost:8080/"
        },
        "id": "uKAEFMq_3id5",
        "outputId": "793f4e04-0383-478e-93b9-663003c9ddd5"
      },
      "execution_count": 44,
      "outputs": [
        {
          "output_type": "stream",
          "name": "stdout",
          "text": [
            "Freezing non-LoRA parameter input_layer.bias\n",
            "Freezing non-LoRA parameter input_layer.parametrizations.weight.original\n",
            "Freezing non-LoRA parameter hidden_layer.bias\n",
            "Freezing non-LoRA parameter hidden_layer.parametrizations.weight.original\n",
            "Freezing non-LoRA parameter output_layer.bias\n",
            "Freezing non-LoRA parameter output_layer.parametrizations.weight.original\n"
          ]
        }
      ]
    },
    {
      "cell_type": "code",
      "source": [
        "BigNet"
      ],
      "metadata": {
        "colab": {
          "base_uri": "https://localhost:8080/"
        },
        "id": "NwEaCrNx3p0e",
        "outputId": "7592ecfa-5fa0-4a2d-e2b7-2953d7071680"
      },
      "execution_count": 45,
      "outputs": [
        {
          "output_type": "execute_result",
          "data": {
            "text/plain": [
              "FashionNet(\n",
              "  (input_layer): ParametrizedLinear(\n",
              "    in_features=784, out_features=512, bias=True\n",
              "    (parametrizations): ModuleDict(\n",
              "      (weight): ParametrizationList(\n",
              "        (0): LoRaParametarization()\n",
              "      )\n",
              "    )\n",
              "  )\n",
              "  (hidden_layer): ParametrizedLinear(\n",
              "    in_features=512, out_features=256, bias=True\n",
              "    (parametrizations): ModuleDict(\n",
              "      (weight): ParametrizationList(\n",
              "        (0): LoRaParametarization()\n",
              "      )\n",
              "    )\n",
              "  )\n",
              "  (output_layer): ParametrizedLinear(\n",
              "    in_features=256, out_features=10, bias=True\n",
              "    (parametrizations): ModuleDict(\n",
              "      (weight): ParametrizationList(\n",
              "        (0): LoRaParametarization()\n",
              "      )\n",
              "    )\n",
              "  )\n",
              ")"
            ]
          },
          "metadata": {},
          "execution_count": 45
        }
      ]
    },
    {
      "cell_type": "code",
      "source": [
        "trainLoss = train_model(epochs=30,\n",
        "                        train_loader=shirt_tshirt_subset,\n",
        "                        optimizer = optimizer,\n",
        "                        criterion=criterion,\n",
        "                        model=BigNet,\n",
        "                        )"
      ],
      "metadata": {
        "colab": {
          "base_uri": "https://localhost:8080/"
        },
        "id": "uyp-p5ND3uVc",
        "outputId": "f6372785-f81f-4c08-bc94-720935d7948e"
      },
      "execution_count": 46,
      "outputs": [
        {
          "output_type": "stream",
          "name": "stdout",
          "text": [
            "Epoch 0 Train loss 0.5393292456865311\n",
            "Epoch 5 Train loss 0.5391529500484467\n",
            "Epoch 10 Train loss 0.537925660610199\n",
            "Epoch 15 Train loss 0.5398494253555933\n",
            "Epoch 20 Train loss 0.5396106739838918\n",
            "Epoch 25 Train loss 0.5384441713492075\n"
          ]
        }
      ]
    },
    {
      "cell_type": "code",
      "source": [
        "trainLoss"
      ],
      "metadata": {
        "colab": {
          "base_uri": "https://localhost:8080/"
        },
        "id": "lT50SgOG39mv",
        "outputId": "adc78b74-80d5-4738-dd8e-a3e06dfc5270"
      },
      "execution_count": 34,
      "outputs": [
        {
          "output_type": "execute_result",
          "data": {
            "text/plain": [
              "[0.5387151911854744,\n",
              " 0.5380379731456438,\n",
              " 0.538431316614151,\n",
              " 0.537735253572464,\n",
              " 0.5391638924678167,\n",
              " 0.5400051226218542,\n",
              " 0.539530615011851,\n",
              " 0.5378728806972504,\n",
              " 0.5387518008550009,\n",
              " 0.5382405171791712]"
            ]
          },
          "metadata": {},
          "execution_count": 34
        }
      ]
    },
    {
      "cell_type": "code",
      "source": [
        "# Call the function\n",
        "testlLoss, wrong_pred = test_model(\n",
        "                        test_loader=testloader,\n",
        "                        model=BigNet,\n",
        "                        criterion=criterion,\n",
        "                        class_labels=class_names)"
      ],
      "metadata": {
        "id": "kiu2qNZX4K8B"
      },
      "execution_count": 35,
      "outputs": []
    },
    {
      "cell_type": "code",
      "source": [
        "wrong_pred"
      ],
      "metadata": {
        "colab": {
          "base_uri": "https://localhost:8080/"
        },
        "id": "cKucvW6t4fR-",
        "outputId": "b5a3e29d-54d9-46e2-fc05-3d78aba67417"
      },
      "execution_count": 36,
      "outputs": [
        {
          "output_type": "execute_result",
          "data": {
            "text/plain": [
              "{'T-shirt/top': 238,\n",
              " 'Trouser': 42,\n",
              " 'Pullover': 283,\n",
              " 'Dress': 130,\n",
              " 'Coat': 206,\n",
              " 'Sandal': 52,\n",
              " 'Shirt': 294,\n",
              " 'Sneaker': 85,\n",
              " 'Bag': 33,\n",
              " 'Ankle boot': 52}"
            ]
          },
          "metadata": {},
          "execution_count": 36
        }
      ]
    },
    {
      "cell_type": "code",
      "source": [
        "enable_disable_lora(enabled=False)\n",
        "# Call the function\n",
        "testlLoss, wrong_pred = test_model(\n",
        "                        test_loader=testloader,\n",
        "                        model=BigNet,\n",
        "                        criterion=criterion,\n",
        "                        class_labels=class_names)\n",
        "wrong_pred"
      ],
      "metadata": {
        "colab": {
          "base_uri": "https://localhost:8080/"
        },
        "id": "qJBsaI844i0b",
        "outputId": "1e9f3f1f-7618-4ae7-da29-f0f0ae3f6d37"
      },
      "execution_count": 37,
      "outputs": [
        {
          "output_type": "execute_result",
          "data": {
            "text/plain": [
              "{'T-shirt/top': 238,\n",
              " 'Trouser': 42,\n",
              " 'Pullover': 283,\n",
              " 'Dress': 130,\n",
              " 'Coat': 206,\n",
              " 'Sandal': 52,\n",
              " 'Shirt': 294,\n",
              " 'Sneaker': 85,\n",
              " 'Bag': 33,\n",
              " 'Ankle boot': 52}"
            ]
          },
          "metadata": {},
          "execution_count": 37
        }
      ]
    },
    {
      "cell_type": "code",
      "source": [],
      "metadata": {
        "id": "vpNB2DAj47Ku"
      },
      "execution_count": null,
      "outputs": []
    }
  ]
}