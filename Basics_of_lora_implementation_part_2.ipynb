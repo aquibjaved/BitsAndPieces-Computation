{
  "nbformat": 4,
  "nbformat_minor": 0,
  "metadata": {
    "colab": {
      "provenance": [],
      "gpuType": "T4",
      "authorship_tag": "ABX9TyP60ms1zIcbNWVITd3cnlKT",
      "include_colab_link": true
    },
    "kernelspec": {
      "name": "python3",
      "display_name": "Python 3"
    },
    "language_info": {
      "name": "python"
    },
    "accelerator": "GPU"
  },
  "cells": [
    {
      "cell_type": "markdown",
      "metadata": {
        "id": "view-in-github",
        "colab_type": "text"
      },
      "source": [
        "<a href=\"https://colab.research.google.com/github/aquibjaved/Bits_and_Pieces_DL/blob/main/Basics_of_lora_implementation_part_2.ipynb\" target=\"_parent\"><img src=\"https://colab.research.google.com/assets/colab-badge.svg\" alt=\"Open In Colab\"/></a>"
      ]
    },
    {
      "cell_type": "code",
      "execution_count": 25,
      "metadata": {
        "id": "GUF9hrLcTNy2"
      },
      "outputs": [],
      "source": [
        "import torch\n",
        "from torch import nn, optim\n",
        "import torch.nn.functional as F\n",
        "import torch.nn.utils.parametrize as P\n",
        "from sklearn.datasets import load_iris\n",
        "from torch.utils.data import TensorDataset, DataLoader\n",
        "from sklearn.model_selection import train_test_split\n",
        "import matplotlib.pyplot as plt\n",
        "from torchvision import datasets, transforms\n",
        "from sklearn.preprocessing import StandardScaler\n",
        "\n",
        "import matplotlib.pyplot as plt\n",
        "import numpy as np\n",
        "import math"
      ]
    },
    {
      "cell_type": "code",
      "source": [
        "# Define a transform to normalize the data and flatten each image into a 1D array\n",
        "transform = transforms.Compose([\n",
        "    transforms.ToTensor(),\n",
        "    transforms.Normalize((0.5,), (0.5,)),\n",
        "    transforms.Lambda(lambda x: x.view(-1))\n",
        "])\n",
        "\n",
        "def collate_fn(batch):\n",
        "    data, target = zip(*batch)\n",
        "    data = torch.stack(data)\n",
        "    target = torch.tensor(target)\n",
        "    return data.cuda(), target.cuda()"
      ],
      "metadata": {
        "id": "VOJ4GViMUdmr"
      },
      "execution_count": 26,
      "outputs": []
    },
    {
      "cell_type": "code",
      "source": [
        "def plot_flattened_images(flattened_images, labels, img_shape, class_names, num_images=5):\n",
        "    \"\"\"\n",
        "    Plots images that have been flattened.\n",
        "\n",
        "    Parameters:\n",
        "        flattened_images (torch.Tensor): The flattened images tensor.\n",
        "        labels (torch.Tensor): The labels tensor.\n",
        "        img_shape (tuple): The original shape of the images (e.g., (28, 28) for Fashion MNIST).\n",
        "        class_names (list): List of class names.\n",
        "        num_images (int): Number of images to plot.\n",
        "    \"\"\"\n",
        "    # Reshape the flattened images back to their original shape\n",
        "    reshaped_images = flattened_images.view(-1, *img_shape).numpy()\n",
        "\n",
        "    # Create a figure and axes\n",
        "    fig, axes = plt.subplots(1, num_images, figsize=(10, 5))\n",
        "\n",
        "    for i, ax in enumerate(axes):\n",
        "        img = reshaped_images[i]\n",
        "        label = class_names[labels[i].item()]\n",
        "        ax.imshow(img, cmap='gray')\n",
        "        ax.set_title(label)\n",
        "        ax.axis('off')\n",
        "\n",
        "    plt.tight_layout()\n",
        "    plt.show()"
      ],
      "metadata": {
        "id": "vg49lNwSX5hQ"
      },
      "execution_count": 27,
      "outputs": []
    },
    {
      "cell_type": "code",
      "source": [
        "train_dataset = datasets.FashionMNIST('~/.data', download=True, train=True, transform=transform)\n",
        "test_dataset = datasets.FashionMNIST('~/.data', download=True, train=False, transform=transform)"
      ],
      "metadata": {
        "id": "7dOEaY1us2bB"
      },
      "execution_count": 28,
      "outputs": []
    },
    {
      "cell_type": "code",
      "source": [
        "def split_dataset(dataset, labels):\n",
        "    indices = [i for i, (data, label) in enumerate(dataset) if label in labels]\n",
        "    return torch.utils.data.Subset(dataset, indices)\n",
        "\n",
        "labels_1 = [0, 1, 2, 3, 4]\n",
        "labels_2 = [5, 6, 7, 8, 9]\n",
        "\n",
        "train_dataset_04 = split_dataset(train_dataset, labels_1)\n",
        "train_dataset_59 = split_dataset(train_dataset, labels_2)\n",
        "\n",
        "batch_size = 64\n",
        "\n",
        "train_loader_1 = torch.utils.data.DataLoader(train_dataset_04, batch_size=batch_size, shuffle=True)\n",
        "train_loader_2 = torch.utils.data.DataLoader(train_dataset_59, batch_size=batch_size, shuffle=True)\n",
        "test_loader = torch.utils.data.DataLoader(test_dataset, batch_size=batch_size, shuffle=False)"
      ],
      "metadata": {
        "id": "1qTV5X0lhI63"
      },
      "execution_count": 29,
      "outputs": []
    },
    {
      "cell_type": "code",
      "source": [
        "# Get one batch of images and labels\n",
        "dataiter = iter(train_loader_1)\n",
        "images, labels = next(dataiter)\n",
        "\n",
        "# Define the class names for Fashion MNIST\n",
        "class_names = ['T-shirt/top', 'Trouser', 'Pullover', 'Dress', 'Coat',\n",
        "               'Sandal', 'Shirt', 'Sneaker', 'Bag', 'Ankle boot']\n",
        "\n",
        "plot_flattened_images(flattened_images=images, labels=labels, img_shape=(28,28), num_images=10, class_names=class_names)"
      ],
      "metadata": {
        "colab": {
          "base_uri": "https://localhost:8080/",
          "height": 142
        },
        "id": "p3UdRE46U0Zw",
        "outputId": "964531e2-bd4d-4840-d964-56e1d468ba2d"
      },
      "execution_count": 30,
      "outputs": [
        {
          "output_type": "display_data",
          "data": {
            "text/plain": [
              "<Figure size 1000x500 with 10 Axes>"
            ],
            "image/png": "[encoded data removed]"
          },
          "metadata": {}
        }
      ]
    },
    {
      "cell_type": "code",
      "source": [
        "\n",
        "class FashionNet(nn.Module):\n",
        "  def __init__(self, input_dims, num_class):\n",
        "\n",
        "    super().__init__()\n",
        "    self.input_dims = input_dims\n",
        "    self.num_class = num_class\n",
        "\n",
        "    self.input_layer = nn.Linear(in_features=self.input_dims, out_features=1000)\n",
        "    self.hidden_layer = nn.Linear(in_features=1000, out_features=2000)\n",
        "    self.output_layer = nn.Linear(in_features=2000, out_features=self.num_class)\n",
        "\n",
        "  def forward(self, x):\n",
        "    out = F.relu(self.input_layer(x))\n",
        "    out = F.relu(self.hidden_layer(out))\n",
        "    out = self.output_layer(out)\n",
        "    return out"
      ],
      "metadata": {
        "id": "hp0DV2XLU55K"
      },
      "execution_count": 31,
      "outputs": []
    },
    {
      "cell_type": "code",
      "source": [
        "# Check for GPU availability\n",
        "cuda_available = torch.cuda.is_available()"
      ],
      "metadata": {
        "id": "7g-tqvDgb8bG"
      },
      "execution_count": 32,
      "outputs": []
    },
    {
      "cell_type": "code",
      "source": [],
      "metadata": {
        "id": "a74CDAXKWSzt"
      },
      "execution_count": 32,
      "outputs": []
    },
    {
      "cell_type": "code",
      "source": [
        "import torch\n",
        "\n",
        "def train_model(epochs:int, train_loader, model, optimizer, criterion):\n",
        "  model.train()\n",
        "  train_loss_per_epoch = []\n",
        "\n",
        "  for epoch in range(epochs):\n",
        "\n",
        "    running_loss_train = 0.0\n",
        "\n",
        "    for data_batch, target_batch in train_loader:\n",
        "\n",
        "        data_batch = data_batch.to('cuda')\n",
        "        target_batch = target_batch.to('cuda')\n",
        "\n",
        "        optimizer.zero_grad()\n",
        "        output = model(data_batch)\n",
        "        loss_train = criterion(output, target_batch)\n",
        "        loss_train.backward()\n",
        "        optimizer.step()\n",
        "        running_loss_train += loss_train.item()\n",
        "\n",
        "    epcoh_loss_train = running_loss_train / len(train_loader)\n",
        "\n",
        "    train_loss_per_epoch.append(epcoh_loss_train)\n",
        "\n",
        "\n",
        "    if epoch %2 == 0:\n",
        "      print(f'Epoch {epoch} Train loss {epcoh_loss_train}')\n",
        "  return train_loss_per_epoch\n",
        "\n",
        "device='cuda'\n",
        "\n",
        "import torch\n",
        "from sklearn.metrics import confusion_matrix\n",
        "import numpy as np\n",
        "\n",
        "def test(test_loader, net):\n",
        "    correct = 0\n",
        "    total = 0\n",
        "\n",
        "    wrong_counts = [0 for i in range(10)]\n",
        "\n",
        "    with torch.no_grad():\n",
        "        for data in test_loader:\n",
        "            x, y = data\n",
        "            x = x.to(device)\n",
        "            y = y.to(device)\n",
        "            output = net(x)\n",
        "            for idx, i in enumerate(output):\n",
        "                if torch.argmax(i) == y[idx]:\n",
        "                    correct +=1\n",
        "                else:\n",
        "                    wrong_counts[y[idx]] +=1\n",
        "                total +=1\n",
        "    print(f'Accuracy: {round(correct/total, 3)}')\n",
        "    for i in range(len(wrong_counts)):\n",
        "        print(f'wrong counts for the Label {i}: {wrong_counts[i]}')\n",
        "\n"
      ],
      "metadata": {
        "id": "TX26hnzGZF5T"
      },
      "execution_count": 33,
      "outputs": []
    },
    {
      "cell_type": "code",
      "source": [
        "BigNet = FashionNet(input_dims=784, num_class=len(class_names))\n",
        "optimizer = optim.SGD(BigNet.parameters(), lr=0.011, momentum=0.9)\n",
        "criterion = nn.CrossEntropyLoss()\n",
        "\n",
        "# Assume `model` is your model\n",
        "if cuda_available:\n",
        "    BigNet = BigNet.to('cuda')\n",
        "    optimizer = optim.SGD(BigNet.parameters(), lr=0.011, momentum=0.9)\n",
        "    criterion = nn.CrossEntropyLoss().to('cuda')\n",
        "\n",
        "is_on_gpu = next(BigNet.parameters()).is_cuda\n",
        "print(f'Model is on GPU: {is_on_gpu}')\n",
        "\n",
        "trainable_params = sum(p.numel() for p in BigNet.parameters() if p.requires_grad)\n",
        "print(f'Number of trainable (tunable) parameters: {trainable_params}')"
      ],
      "metadata": {
        "colab": {
          "base_uri": "https://localhost:8080/"
        },
        "id": "ze1qj70ckHdA",
        "outputId": "0b6a63d3-8344-4e95-bbda-511f61753d6d"
      },
      "execution_count": 34,
      "outputs": [
        {
          "output_type": "stream",
          "name": "stdout",
          "text": [
            "Model is on GPU: True\n",
            "Number of trainable (tunable) parameters: 2807010\n"
          ]
        }
      ]
    },
    {
      "cell_type": "code",
      "source": [
        "trainLoss = train_model(epochs=10,\n",
        "                        train_loader=train_loader_1,\n",
        "                        optimizer = optimizer,\n",
        "                        criterion=criterion,\n",
        "                        model=BigNet,\n",
        "                        )"
      ],
      "metadata": {
        "id": "zVpGo0qci1Fg",
        "colab": {
          "base_uri": "https://localhost:8080/"
        },
        "outputId": "8a8686b6-40a8-4979-847a-1c23ea7b4873"
      },
      "execution_count": 35,
      "outputs": [
        {
          "output_type": "stream",
          "name": "stdout",
          "text": [
            "Epoch 0 Train loss 0.41786404888131723\n",
            "Epoch 2 Train loss 0.2648093191736034\n",
            "Epoch 4 Train loss 0.2280052561940415\n",
            "Epoch 6 Train loss 0.20108639263808092\n",
            "Epoch 8 Train loss 0.17698536431198436\n"
          ]
        }
      ]
    },
    {
      "cell_type": "code",
      "source": [
        "torch.save(BigNet.state_dict(), 'model.pt')"
      ],
      "metadata": {
        "id": "0GD7246q4-Ua"
      },
      "execution_count": 36,
      "outputs": []
    },
    {
      "cell_type": "code",
      "source": [
        "# Call the function\n",
        "test(\n",
        "      test_loader=test_loader,\n",
        "      net=BigNet,\n",
        ")\n",
        "\n",
        "original_weights = {}\n",
        "for name, param in BigNet.named_parameters():\n",
        "    original_weights[name] = param.clone().detach()"
      ],
      "metadata": {
        "id": "PbLB-ECJqcht",
        "colab": {
          "base_uri": "https://localhost:8080/"
        },
        "outputId": "4499a0de-674d-498b-c73e-bc2263037876"
      },
      "execution_count": 37,
      "outputs": [
        {
          "output_type": "stream",
          "name": "stdout",
          "text": [
            "Accuracy: 0.455\n",
            "wrong counts for the Label 0: 65\n",
            "wrong counts for the Label 1: 28\n",
            "wrong counts for the Label 2: 160\n",
            "wrong counts for the Label 3: 73\n",
            "wrong counts for the Label 4: 125\n",
            "wrong counts for the Label 5: 1000\n",
            "wrong counts for the Label 6: 1000\n",
            "wrong counts for the Label 7: 1000\n",
            "wrong counts for the Label 8: 1000\n",
            "wrong counts for the Label 9: 1000\n"
          ]
        }
      ]
    },
    {
      "cell_type": "code",
      "source": [
        "# Load the model and test it\n",
        "model = FashionNet(input_dims=784, num_class=len(class_names))\n",
        "model.load_state_dict(torch.load('model.pt'))\n",
        "model.to('cuda')\n",
        "# Call the function\n",
        "test(\n",
        "      test_loader=test_loader,\n",
        "      net=model,\n",
        ")"
      ],
      "metadata": {
        "colab": {
          "base_uri": "https://localhost:8080/"
        },
        "id": "13Vw1kve5KBC",
        "outputId": "767dfd84-53e3-427b-a6dc-3e048d3a09b6"
      },
      "execution_count": 38,
      "outputs": [
        {
          "output_type": "stream",
          "name": "stdout",
          "text": [
            "Accuracy: 0.455\n",
            "wrong counts for the Label 0: 65\n",
            "wrong counts for the Label 1: 28\n",
            "wrong counts for the Label 2: 160\n",
            "wrong counts for the Label 3: 73\n",
            "wrong counts for the Label 4: 125\n",
            "wrong counts for the Label 5: 1000\n",
            "wrong counts for the Label 6: 1000\n",
            "wrong counts for the Label 7: 1000\n",
            "wrong counts for the Label 8: 1000\n",
            "wrong counts for the Label 9: 1000\n"
          ]
        }
      ]
    },
    {
      "cell_type": "code",
      "source": [
        "total_parameters_original = 0\n",
        "for index, layer in enumerate([BigNet.input_layer, BigNet.hidden_layer, BigNet.output_layer]):\n",
        "    total_parameters_original += layer.weight.nelement() + layer.bias.nelement()\n",
        "    print(f'Layer {index+1}: W: {layer.weight.shape} + B: {layer.bias.shape}')\n",
        "print(f'Total number of parameters: {total_parameters_original:,}')"
      ],
      "metadata": {
        "colab": {
          "base_uri": "https://localhost:8080/"
        },
        "id": "F7sDiWvnEDcx",
        "outputId": "830f62ac-d1a3-4ae0-dc5c-912f677699ba"
      },
      "execution_count": 39,
      "outputs": [
        {
          "output_type": "stream",
          "name": "stdout",
          "text": [
            "Layer 1: W: torch.Size([1000, 784]) + B: torch.Size([1000])\n",
            "Layer 2: W: torch.Size([2000, 1000]) + B: torch.Size([2000])\n",
            "Layer 3: W: torch.Size([10, 2000]) + B: torch.Size([10])\n",
            "Total number of parameters: 2,807,010\n"
          ]
        }
      ]
    },
    {
      "cell_type": "code",
      "source": [
        "# Get one batch of images and labels\n",
        "dataiter = iter(train_loader_2)\n",
        "images, labels = next(dataiter)\n",
        "\n",
        "# Define the class names for Fashion MNIST\n",
        "class_names = ['T-shirt/top', 'Trouser', 'Pullover', 'Dress', 'Coat',\n",
        "               'Sandal', 'Shirt', 'Sneaker', 'Bag', 'Ankle boot']\n",
        "\n",
        "plot_flattened_images(flattened_images=images, labels=labels, img_shape=(28,28), num_images=10, class_names=class_names)"
      ],
      "metadata": {
        "colab": {
          "base_uri": "https://localhost:8080/",
          "height": 142
        },
        "id": "SsrsAkex1Z0i",
        "outputId": "2de7f2e0-024b-40e5-eb7e-0f8ad408bb6e"
      },
      "execution_count": 40,
      "outputs": [
        {
          "output_type": "display_data",
          "data": {
            "text/plain": [
              "<Figure size 1000x500 with 10 Axes>"
            ],
            "image/png": "[encoded data removed]"
          },
          "metadata": {}
        }
      ]
    },
    {
      "cell_type": "code",
      "source": [
        "class LoRaModel(nn.Module):\n",
        "  def __init__(self, r: int, alpha_lora: int, input_dims: int, input_hidden_size: 1000, hidden_layer_size:2000, num_class:int):\n",
        "    super().__init__()\n",
        "    self.r = r\n",
        "    self.alpha_lora = alpha_lora\n",
        "    self.input_dims = input_dims\n",
        "    self.input_hidden_size = input_hidden_size\n",
        "    self.hidden_layer_size = hidden_layer_size\n",
        "    self.num_class = num_class\n",
        "\n",
        "    self.input_layer = nn.Linear(in_features=self.input_dims, out_features=self.input_hidden_size)\n",
        "    self.hidden_layer = nn.Linear(in_features=self.input_hidden_size, out_features=self.hidden_layer_size)\n",
        "    self.output_layer = nn.Linear(in_features=self.hidden_layer_size, out_features=self.num_class)\n",
        "\n",
        "\n",
        "    self.input_lora_A = nn.Parameter(torch.empty(self.input_dims, self.r))\n",
        "\n",
        "\n",
        "    self.input_lora_B = nn.Parameter(torch.empty(self.r, self.input_hidden_size))\n",
        "\n",
        "    self.hidden_lora_A = nn.Parameter(torch.empty(self.input_hidden_size, self.r))\n",
        "    self.hidden_lora_B = nn.Parameter(torch.empty(self.r, self.hidden_layer_size))\n",
        "\n",
        "    self.output_lora_A = nn.Parameter(torch.empty(self.hidden_layer_size, self.r))\n",
        "    self.output_lora_B = nn.Parameter(torch.empty(self.r, self.num_class))\n",
        "\n",
        "\n",
        "    for n,p in self.named_parameters():\n",
        "      if 'lora' in n:\n",
        "          if n[-1]=='A':\n",
        "              nn.init.normal_(p, mean=0, std=1)\n",
        "          elif n[-1]=='B':\n",
        "              nn.init.zeros_(p)\n",
        "\n",
        "    # freeze non lora weights\n",
        "    for n,p in self.named_parameters():\n",
        "        if 'lora' not in n:\n",
        "            p.requires_grad = False\n",
        "\n",
        "\n",
        "  def lora_linear(self, x, layer, lora_A, lora_B):\n",
        "      # does the work of combining outputs from normal layer and lora layer for x\n",
        "      # notice that h is the sum of two separate operations on x\n",
        "      h = layer(x)\n",
        "      h += x@(lora_A @ lora_B)*self.alpha_lora\n",
        "      return h\n",
        "\n",
        "\n",
        "  def forward(self, x):\n",
        "\n",
        "    out = F.relu(self.lora_linear(x, self.input_layer, self.input_lora_A, self.input_lora_B))\n",
        "    out = F.relu(self.lora_linear(out, self.hidden_layer, self.hidden_lora_A, self.hidden_lora_B))\n",
        "    out = self.lora_linear(out, self.output_layer, self.output_lora_A, self.output_lora_B)\n",
        "    return out\n",
        "\n"
      ],
      "metadata": {
        "id": "p0rJAQsD18uH"
      },
      "execution_count": 65,
      "outputs": []
    },
    {
      "cell_type": "code",
      "source": [
        "lora_model = LoRaModel(r=2, alpha_lora=1, input_dims=784,input_hidden_size=1000, hidden_layer_size=2000, num_class=10)\n",
        "# lora_model.load_state_dict(torch.load('model.pt'))\n",
        "\n",
        "lora_model.to('cuda')\n",
        "\n",
        "trainLoss = train_model(epochs=8,\n",
        "                        train_loader=train_loader_2,\n",
        "                        optimizer = optimizer,\n",
        "                        criterion=criterion,\n",
        "                        model=lora_model,\n",
        "                        )"
      ],
      "metadata": {
        "colab": {
          "base_uri": "https://localhost:8080/"
        },
        "id": "xCnxB3AEFznS",
        "outputId": "47d8ca3c-2a7f-4577-b01d-9231b23e3763"
      },
      "execution_count": 66,
      "outputs": [
        {
          "output_type": "stream",
          "name": "stdout",
          "text": [
            "Epoch 0 Train loss 2.2917403778287646\n",
            "Epoch 2 Train loss 2.2917364990787465\n",
            "Epoch 4 Train loss 2.2917393311254504\n",
            "Epoch 6 Train loss 2.291738411510931\n"
          ]
        }
      ]
    },
    {
      "cell_type": "code",
      "source": [
        "test(\n",
        "      test_loader=test_loader,\n",
        "      net=lora_model,\n",
        ")"
      ],
      "metadata": {
        "colab": {
          "base_uri": "https://localhost:8080/"
        },
        "id": "wgX_Sej5IyOS",
        "outputId": "ffae46b6-7754-4a95-d8e6-1aeb9359dc7a"
      },
      "execution_count": 68,
      "outputs": [
        {
          "output_type": "stream",
          "name": "stdout",
          "text": [
            "Accuracy: 0.047\n",
            "wrong counts for the Label 0: 1000\n",
            "wrong counts for the Label 1: 961\n",
            "wrong counts for the Label 2: 696\n",
            "wrong counts for the Label 3: 1000\n",
            "wrong counts for the Label 4: 1000\n",
            "wrong counts for the Label 5: 956\n",
            "wrong counts for the Label 6: 949\n",
            "wrong counts for the Label 7: 1000\n",
            "wrong counts for the Label 8: 967\n",
            "wrong counts for the Label 9: 999\n"
          ]
        }
      ]
    },
    {
      "cell_type": "code",
      "source": [
        "class LoRaParametarization(nn.Module):\n",
        "\n",
        "    def __init__(self, r: int, lora_alpha: int, feature_in: int, feature_out:int):\n",
        "        super().__init__()\n",
        "        self.r = r\n",
        "        self.lora_alpha = lora_alpha\n",
        "\n",
        "        self.lora_A = nn.Parameter(torch.zeros(r, feature_out)).to('cuda')\n",
        "        self.lora_B = nn.Parameter(torch.zeros(feature_in, r)).to('cuda')\n",
        "        nn.init.normal_(self.lora_A, mean=0, std=1)\n",
        "\n",
        "        self.scale = self.lora_alpha / self.r\n",
        "        self.lora_enabled = True\n",
        "\n",
        "    def forward(self, original_weights):\n",
        "\n",
        "      if self.lora_enabled:\n",
        "        return original_weights + torch.matmul(self.lora_B , self.lora_A).view(original_weights.shape) * self.scale\n",
        "      return original_weights\n",
        "\n",
        "\n",
        "def linear_layer_parameterization(layer, r:int=3, lora_alpha:int=1):\n",
        "\n",
        "  feature_in, feature_out = layer.weight.shape\n",
        "\n",
        "  return LoRaParametarization(r=r, lora_alpha=lora_alpha, feature_in=feature_in, feature_out=feature_out)\n",
        "\n",
        "P.register_parametrization(BigNet.input_layer, \"weight\", linear_layer_parameterization(BigNet.input_layer, r=8, lora_alpha=1))\n",
        "P.register_parametrization(BigNet.hidden_layer, \"weight\", linear_layer_parameterization(BigNet.hidden_layer, r=8, lora_alpha=1))\n",
        "P.register_parametrization(BigNet.output_layer, \"weight\", linear_layer_parameterization(BigNet.output_layer, r=8, lora_alpha=1))\n",
        "\n",
        "def enable_disable_lora(enabled=True):\n",
        "  for layer in [BigNet.input_layer, BigNet.hidden_layer, BigNet.output_layer]:\n",
        "    layer.parametrizations[\"weight\"][0].enabled = enabled"
      ],
      "metadata": {
        "id": "iWjaxosk2nEa"
      },
      "execution_count": 42,
      "outputs": []
    },
    {
      "cell_type": "code",
      "source": [],
      "metadata": {
        "id": "BNU5QXuO3Oo9"
      },
      "execution_count": 47,
      "outputs": []
    },
    {
      "cell_type": "code",
      "source": [
        "total_parameters_lora = 0\n",
        "total_parameters_non_lora = 0\n",
        "for index, layer in enumerate([BigNet.input_layer, BigNet.hidden_layer, BigNet.output_layer]):\n",
        "    total_parameters_lora += layer.parametrizations[\"weight\"][0].lora_A.nelement() + layer.parametrizations[\"weight\"][0].lora_B.nelement()\n",
        "    total_parameters_non_lora += layer.weight.nelement() + layer.bias.nelement()\n",
        "    print(\n",
        "        f'Layer {index+1}: W: {layer.weight.shape} + B: {layer.bias.shape} + Lora_A: {layer.parametrizations[\"weight\"][0].lora_A.shape} + Lora_B: {layer.parametrizations[\"weight\"][0].lora_B.shape}'\n",
        "    )\n",
        "# The non-LoRA parameters count must match the original network\n",
        "assert total_parameters_non_lora == total_parameters_original\n",
        "print(f'Total number of parameters (original): {total_parameters_non_lora:,}')\n",
        "print(f'Total number of parameters (original + LoRA): {total_parameters_lora + total_parameters_non_lora:,}')\n",
        "print(f'Parameters introduced by LoRA: {total_parameters_lora:,}')\n",
        "parameters_incremment = (total_parameters_lora / total_parameters_non_lora) * 100\n",
        "print(f'Parameters incremment: {parameters_incremment:.3f}%')"
      ],
      "metadata": {
        "colab": {
          "base_uri": "https://localhost:8080/"
        },
        "id": "RG-3KGkl2pjh",
        "outputId": "58a90a6c-4c77-47a9-f660-f98e95309d6c"
      },
      "execution_count": 55,
      "outputs": [
        {
          "output_type": "stream",
          "name": "stdout",
          "text": [
            "Layer 1: W: torch.Size([1000, 784]) + B: torch.Size([1000]) + Lora_A: torch.Size([8, 784]) + Lora_B: torch.Size([1000, 8])\n",
            "Layer 2: W: torch.Size([2000, 1000]) + B: torch.Size([2000]) + Lora_A: torch.Size([8, 1000]) + Lora_B: torch.Size([2000, 8])\n",
            "Layer 3: W: torch.Size([10, 2000]) + B: torch.Size([10]) + Lora_A: torch.Size([8, 2000]) + Lora_B: torch.Size([10, 8])\n",
            "Total number of parameters (original): 2,807,010\n",
            "Total number of parameters (original + LoRA): 2,861,362\n",
            "Parameters introduced by LoRA: 54,352\n",
            "Parameters incremment: 1.936%\n"
          ]
        }
      ]
    },
    {
      "cell_type": "code",
      "source": [],
      "metadata": {
        "id": "tPD1fNKH3W3G"
      },
      "execution_count": null,
      "outputs": []
    },
    {
      "cell_type": "code",
      "source": [
        "# Freeze the non-Lora parameters\n",
        "enable_disable_lora(enabled=True)\n",
        "\n",
        "for name, param in BigNet.named_parameters():\n",
        "    if 'lora' not in name:\n",
        "        print(f'Freezing non-LoRA parameter {name}')\n",
        "        param.requires_grad = True\n",
        "\n",
        "trainLoss = train_model(epochs=8,\n",
        "                        train_loader=train_loader_2,\n",
        "                        optimizer = optimizer,\n",
        "                        criterion=criterion,\n",
        "                        model=BigNet,\n",
        "                        )"
      ],
      "metadata": {
        "colab": {
          "base_uri": "https://localhost:8080/"
        },
        "id": "uKAEFMq_3id5",
        "outputId": "f7238317-5e8f-4253-9cf1-7ff88d0a9106"
      },
      "execution_count": 63,
      "outputs": [
        {
          "output_type": "stream",
          "name": "stdout",
          "text": [
            "Freezing non-LoRA parameter input_layer.bias\n",
            "Freezing non-LoRA parameter input_layer.parametrizations.weight.original\n",
            "Freezing non-LoRA parameter hidden_layer.bias\n",
            "Freezing non-LoRA parameter hidden_layer.parametrizations.weight.original\n",
            "Freezing non-LoRA parameter output_layer.bias\n",
            "Freezing non-LoRA parameter output_layer.parametrizations.weight.original\n",
            "Epoch 0 Train loss 10.07752366259154\n",
            "Epoch 2 Train loss 10.077925464491855\n",
            "Epoch 4 Train loss 10.077994574361773\n",
            "Epoch 6 Train loss 10.07776290063919\n"
          ]
        }
      ]
    },
    {
      "cell_type": "code",
      "source": [
        "for name, param in BigNet.named_parameters():\n",
        "    param.requires_grad=True\n"
      ],
      "metadata": {
        "id": "vgbLEFbZsCBI"
      },
      "execution_count": 62,
      "outputs": []
    },
    {
      "cell_type": "code",
      "source": [
        "# Check that the frozen parameters are still unchanged by the finetuning\n",
        "assert torch.all(BigNet.input_layer.parametrizations.weight.original == original_weights['input_layer.weight'])\n",
        "assert torch.all(BigNet.hidden_layer.parametrizations.weight.original == original_weights['hidden_layer.weight'])\n",
        "assert torch.all(BigNet.output_layer.parametrizations.weight.original == original_weights['output_layer.weight'])\n",
        "\n",
        "enable_disable_lora(enabled=True)\n",
        "# The new linear1.weight is obtained by the \"forward\" function of our LoRA parametrization\n",
        "# The original weights have been moved to net.linear1.parametrizations.weight.original\n",
        "# More info here: https://pytorch.org/tutorials/intermediate/parametrizations.html#inspecting-a-parametrized-module\n",
        "assert torch.equal(BigNet.input_layer.weight, BigNet.input_layer.parametrizations.weight.original + (BigNet.input_layer.parametrizations.weight[0].lora_B @ BigNet.input_layer.parametrizations.weight[0].lora_A) * BigNet.input_layer.parametrizations.weight[0].scale)\n",
        "\n",
        "enable_disable_lora(enabled=False)\n",
        "# If we disable LoRA, the linear1.weight is the original one\n",
        "assert torch.equal(BigNet.input_layer.weight, original_weights['input_layer.weight'])"
      ],
      "metadata": {
        "id": "NwEaCrNx3p0e"
      },
      "execution_count": 45,
      "outputs": []
    },
    {
      "cell_type": "code",
      "source": [
        "# Test with LoRA enabled\n",
        "enable_disable_lora(enabled=True)\n",
        "test(\n",
        "      test_loader=test_loader,\n",
        "      net=BigNet,\n",
        ")"
      ],
      "metadata": {
        "colab": {
          "base_uri": "https://localhost:8080/"
        },
        "id": "JmlFICMgJP7x",
        "outputId": "3039f4f9-5cbd-446f-d093-30e5ea9713e6"
      },
      "execution_count": 64,
      "outputs": [
        {
          "output_type": "stream",
          "name": "stdout",
          "text": [
            "Accuracy: 0.455\n",
            "wrong counts for the Label 0: 54\n",
            "wrong counts for the Label 1: 38\n",
            "wrong counts for the Label 2: 148\n",
            "wrong counts for the Label 3: 62\n",
            "wrong counts for the Label 4: 152\n",
            "wrong counts for the Label 5: 1000\n",
            "wrong counts for the Label 6: 1000\n",
            "wrong counts for the Label 7: 1000\n",
            "wrong counts for the Label 8: 1000\n",
            "wrong counts for the Label 9: 1000\n"
          ]
        }
      ]
    },
    {
      "cell_type": "code",
      "source": [
        "enable_disable_lora(enabled=False)\n",
        "\n",
        "weights_with_lora = {}\n",
        "for name, parm in BigNet.named_parameters():\n",
        "  weights_with_lora[param] = parm.clone().detach()\n"
      ],
      "metadata": {
        "id": "vpNB2DAj47Ku"
      },
      "execution_count": null,
      "outputs": []
    },
    {
      "cell_type": "code",
      "source": [
        "weights_with_lora"
      ],
      "metadata": {
        "colab": {
          "base_uri": "https://localhost:8080/"
        },
        "id": "qCWToywAA0t3",
        "outputId": "0a7e4618-c229-4610-82fd-44f23aaf7c29"
      },
      "execution_count": null,
      "outputs": [
        {
          "output_type": "execute_result",
          "data": {
            "text/plain": [
              "{Parameter containing:\n",
              " tensor([[-0.0074, -0.0447,  0.0054,  ..., -0.0309, -0.0571, -0.0172],\n",
              "         [-0.0420, -0.0185,  0.0039,  ...,  0.0019, -0.0512, -0.0310],\n",
              "         [-0.0373,  0.0322,  0.0150,  ..., -0.0176,  0.0114,  0.0010],\n",
              "         ...,\n",
              "         [ 0.0695, -0.0223,  0.0078,  ...,  0.0421,  0.0039,  0.0302],\n",
              "         [-0.0059,  0.0028, -0.0080,  ..., -0.0317,  0.0659, -0.0167],\n",
              "         [ 0.0066,  0.0347, -0.0103,  ..., -0.0149,  0.0111,  0.0562]],\n",
              "        device='cuda:0'): tensor([[-0.0074, -0.0447,  0.0054,  ..., -0.0309, -0.0571, -0.0172],\n",
              "         [-0.0420, -0.0185,  0.0039,  ...,  0.0019, -0.0512, -0.0310],\n",
              "         [-0.0373,  0.0322,  0.0150,  ..., -0.0176,  0.0114,  0.0010],\n",
              "         ...,\n",
              "         [ 0.0695, -0.0223,  0.0078,  ...,  0.0421,  0.0039,  0.0302],\n",
              "         [-0.0059,  0.0028, -0.0080,  ..., -0.0317,  0.0659, -0.0167],\n",
              "         [ 0.0066,  0.0347, -0.0103,  ..., -0.0149,  0.0111,  0.0562]],\n",
              "        device='cuda:0')}"
            ]
          },
          "metadata": {},
          "execution_count": 47
        }
      ]
    },
    {
      "cell_type": "code",
      "source": [],
      "metadata": {
        "id": "k55C13q9Mtys"
      },
      "execution_count": null,
      "outputs": []
    }
  ]
}