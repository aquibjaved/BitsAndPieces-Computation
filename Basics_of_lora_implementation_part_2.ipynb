{
  "nbformat": 4,
  "nbformat_minor": 0,
  "metadata": {
    "colab": {
      "provenance": [],
      "authorship_tag": "ABX9TyMZhwvCdTDMHDyAfuyZ2GAo",
      "include_colab_link": true
    },
    "kernelspec": {
      "name": "python3",
      "display_name": "Python 3"
    },
    "language_info": {
      "name": "python"
    }
  },
  "cells": [
    {
      "cell_type": "markdown",
      "metadata": {
        "id": "view-in-github",
        "colab_type": "text"
      },
      "source": [
        "<a href=\"https://colab.research.google.com/github/aquibjaved/Bits_and_Pieces_DL/blob/main/Basics_of_lora_implementation_part_2.ipynb\" target=\"_parent\"><img src=\"https://colab.research.google.com/assets/colab-badge.svg\" alt=\"Open In Colab\"/></a>"
      ]
    },
    {
      "cell_type": "code",
      "execution_count": 148,
      "metadata": {
        "id": "GUF9hrLcTNy2"
      },
      "outputs": [],
      "source": [
        "import torch\n",
        "from torch import nn, optim\n",
        "import torch.nn.functional as F\n",
        "import torch.nn.utils.parametrize as P\n",
        "from sklearn.datasets import load_iris\n",
        "from torch.utils.data import TensorDataset, DataLoader\n",
        "from sklearn.model_selection import train_test_split\n",
        "import matplotlib.pyplot as plt\n",
        "from torchvision import datasets, transforms\n",
        "from sklearn.preprocessing import StandardScaler\n",
        "\n",
        "import matplotlib.pyplot as plt\n",
        "import numpy as np\n",
        "import math"
      ]
    },
    {
      "cell_type": "code",
      "source": [
        "# Define a transform to normalize the data and flatten each image into a 1D array\n",
        "transform = transforms.Compose([\n",
        "    transforms.ToTensor(),\n",
        "    transforms.Normalize((0.5,), (0.5,)),\n",
        "    transforms.Lambda(lambda x: x.view(-1))\n",
        "])\n",
        "\n",
        "def collate_fn(batch):\n",
        "    data, target = zip(*batch)\n",
        "    data = torch.stack(data)\n",
        "    target = torch.tensor(target)\n",
        "    return data.cuda(), target.cuda()"
      ],
      "metadata": {
        "id": "VOJ4GViMUdmr"
      },
      "execution_count": 150,
      "outputs": []
    },
    {
      "cell_type": "code",
      "source": [
        "def plot_flattened_images(flattened_images, labels, img_shape, class_names, num_images=5):\n",
        "    \"\"\"\n",
        "    Plots images that have been flattened.\n",
        "\n",
        "    Parameters:\n",
        "        flattened_images (torch.Tensor): The flattened images tensor.\n",
        "        labels (torch.Tensor): The labels tensor.\n",
        "        img_shape (tuple): The original shape of the images (e.g., (28, 28) for Fashion MNIST).\n",
        "        class_names (list): List of class names.\n",
        "        num_images (int): Number of images to plot.\n",
        "    \"\"\"\n",
        "    # Reshape the flattened images back to their original shape\n",
        "    reshaped_images = flattened_images.view(-1, *img_shape).numpy()\n",
        "\n",
        "    # Create a figure and axes\n",
        "    fig, axes = plt.subplots(1, num_images, figsize=(10, 5))\n",
        "\n",
        "    for i, ax in enumerate(axes):\n",
        "        img = reshaped_images[i]\n",
        "        label = class_names[labels[i].item()]\n",
        "        ax.imshow(img, cmap='gray')\n",
        "        ax.set_title(label)\n",
        "        ax.axis('off')\n",
        "\n",
        "    plt.tight_layout()\n",
        "    plt.show()"
      ],
      "metadata": {
        "id": "vg49lNwSX5hQ"
      },
      "execution_count": 151,
      "outputs": []
    },
    {
      "cell_type": "code",
      "source": [
        "train_dataset = datasets.FashionMNIST('~/.data', download=True, train=True, transform=transform)\n",
        "test_dataset = datasets.FashionMNIST('~/.data', download=True, train=False, transform=transform)"
      ],
      "metadata": {
        "id": "7dOEaY1us2bB"
      },
      "execution_count": 152,
      "outputs": []
    },
    {
      "cell_type": "code",
      "source": [
        "def split_dataset(dataset, labels):\n",
        "    indices = [i for i, (data, label) in enumerate(dataset) if label in labels]\n",
        "    return torch.utils.data.Subset(dataset, indices)\n",
        "\n",
        "labels_1 = [0, 1, 2, 3, 4]\n",
        "labels_2 = [5, 6, 7, 8, 9]\n",
        "\n",
        "train_dataset_04 = split_dataset(train_dataset, labels_1)\n",
        "train_dataset_59 = split_dataset(train_dataset, labels_2)\n",
        "\n",
        "batch_size = 64\n",
        "\n",
        "train_loader_1 = torch.utils.data.DataLoader(train_dataset_04, batch_size=batch_size, shuffle=True)\n",
        "train_loader_2 = torch.utils.data.DataLoader(train_dataset_59, batch_size=batch_size, shuffle=True)\n",
        "test_loader = torch.utils.data.DataLoader(test_dataset, batch_size=batch_size, shuffle=False)"
      ],
      "metadata": {
        "id": "1qTV5X0lhI63"
      },
      "execution_count": 153,
      "outputs": []
    },
    {
      "cell_type": "code",
      "source": [
        "# Get one batch of images and labels\n",
        "dataiter = iter(train_loader_1)\n",
        "images, labels = next(dataiter)\n",
        "\n",
        "# Define the class names for Fashion MNIST\n",
        "class_names = ['T-shirt/top', 'Trouser', 'Pullover', 'Dress', 'Coat',\n",
        "               'Sandal', 'Shirt', 'Sneaker', 'Bag', 'Ankle boot']\n",
        "\n",
        "plot_flattened_images(flattened_images=images, labels=labels, img_shape=(28,28), num_images=10, class_names=class_names)"
      ],
      "metadata": {
        "colab": {
          "base_uri": "https://localhost:8080/",
          "height": 142
        },
        "id": "p3UdRE46U0Zw",
        "outputId": "482762d3-9428-4b5e-ea65-4ca0c9cfa054"
      },
      "execution_count": 156,
      "outputs": [
        {
          "output_type": "display_data",
          "data": {
            "text/plain": [
              "<Figure size 1000x500 with 10 Axes>"
            ],
            "image/png": "[encoded data removed]"
          },
          "metadata": {}
        }
      ]
    },
    {
      "cell_type": "code",
      "source": [
        "class FashionNet(nn.Module):\n",
        "  def __init__(self, input_dims, num_class, input_hidden_size, hidden_layer_size):\n",
        "\n",
        "    super().__init__()\n",
        "    self.input_dims = input_dims\n",
        "    self.num_class = num_class\n",
        "    self.input_hidden_size = input_hidden_size\n",
        "    self.hidden_layer_size=hidden_layer_size\n",
        "\n",
        "\n",
        "    self.input_layer = nn.Linear(in_features=self.input_dims, out_features=self.input_hidden_size)\n",
        "    self.hidden_layer = nn.Linear(in_features=self.input_hidden_size, out_features=self.hidden_layer_size)\n",
        "    self.output_layer = nn.Linear(in_features=self.hidden_layer_size, out_features=self.num_class)\n",
        "\n",
        "  def forward(self, x):\n",
        "    out = F.relu(self.input_layer(x))\n",
        "    out = F.relu(self.hidden_layer(out))\n",
        "    out = self.output_layer(out)\n",
        "    return out"
      ],
      "metadata": {
        "id": "hp0DV2XLU55K"
      },
      "execution_count": 157,
      "outputs": []
    },
    {
      "cell_type": "code",
      "source": [
        "# Check for GPU availability\n",
        "cuda_available = torch.cuda.is_available()"
      ],
      "metadata": {
        "id": "7g-tqvDgb8bG"
      },
      "execution_count": 158,
      "outputs": []
    },
    {
      "cell_type": "code",
      "source": [
        "import torch\n",
        "device='cpu'\n",
        "\n",
        "\n",
        "def train_model(epochs:int, train_loader, model, optimizer, criterion):\n",
        "  model.train()\n",
        "  train_loss_per_epoch = []\n",
        "\n",
        "  for epoch in range(epochs):\n",
        "\n",
        "    running_loss_train = 0.0\n",
        "\n",
        "    for data_batch, target_batch in train_loader:\n",
        "\n",
        "        data_batch = data_batch.to(device)\n",
        "        target_batch = target_batch.to(device)\n",
        "\n",
        "        optimizer.zero_grad()\n",
        "        output = model(data_batch)\n",
        "        loss_train = criterion(output, target_batch)\n",
        "        # loss_train.requires_grad=True\n",
        "        loss_train.backward()\n",
        "        optimizer.step()\n",
        "        running_loss_train += loss_train.item()\n",
        "\n",
        "    epcoh_loss_train = running_loss_train / len(train_loader)\n",
        "\n",
        "    train_loss_per_epoch.append(epcoh_loss_train)\n",
        "\n",
        "\n",
        "    if epoch %2 == 0:\n",
        "      print(f'Epoch {epoch} Train loss {epcoh_loss_train}')\n",
        "  return train_loss_per_epoch\n",
        "\n",
        "\n",
        "import torch\n",
        "from sklearn.metrics import confusion_matrix\n",
        "import numpy as np\n",
        "\n",
        "def test(test_loader, net):\n",
        "    correct = 0\n",
        "    total = 0\n",
        "\n",
        "    wrong_counts = [0 for i in range(10)]\n",
        "\n",
        "    with torch.no_grad():\n",
        "        for data in test_loader:\n",
        "            x, y = data\n",
        "            x = x.to(device)\n",
        "            y = y.to(device)\n",
        "            output = net(x)\n",
        "            for idx, i in enumerate(output):\n",
        "                if torch.argmax(i) == y[idx]:\n",
        "                    correct +=1\n",
        "                else:\n",
        "                    wrong_counts[y[idx]] +=1\n",
        "                total +=1\n",
        "    print(f'Accuracy: {round(correct/total, 3)}')\n",
        "    for i in range(len(wrong_counts)):\n",
        "        print(f'wrong counts for the Label {i}: {wrong_counts[i]}')\n",
        "\n"
      ],
      "metadata": {
        "id": "TX26hnzGZF5T"
      },
      "execution_count": 228,
      "outputs": []
    },
    {
      "cell_type": "code",
      "source": [
        "BigNet = FashionNet(input_dims=784, num_class=len(class_names), input_hidden_size=1000, hidden_layer_size=2000)\n",
        "optimizer = optim.SGD(BigNet.parameters(), lr=0.0001, momentum=0.9)\n",
        "criterion = nn.CrossEntropyLoss()\n",
        "\n",
        "device = 'cpu'\n",
        "# Assume `model` is your model\n",
        "if cuda_available:\n",
        "    BigNet = BigNet.to(device)\n",
        "    optimizer = optim.SGD(BigNet.parameters(), lr=0.011, momentum=0.9)\n",
        "    criterion = nn.CrossEntropyLoss().to(device)\n",
        "\n",
        "is_on_gpu = next(BigNet.parameters()).is_cuda\n",
        "print(f'Model is on GPU: {is_on_gpu}')\n",
        "\n",
        "trainable_params = sum(p.numel() for p in BigNet.parameters() if p.requires_grad)\n",
        "print(f'Number of trainable (tunable) parameters: {trainable_params}')"
      ],
      "metadata": {
        "colab": {
          "base_uri": "https://localhost:8080/"
        },
        "id": "ze1qj70ckHdA",
        "outputId": "b2447116-ce33-4bb6-d1fc-6366ff3b0e8e"
      },
      "execution_count": 209,
      "outputs": [
        {
          "output_type": "stream",
          "name": "stdout",
          "text": [
            "Model is on GPU: False\n",
            "Number of trainable (tunable) parameters: 2807010\n"
          ]
        }
      ]
    },
    {
      "cell_type": "code",
      "source": [
        "trainLoss = train_model(epochs=2,\n",
        "                        train_loader=train_loader_1,\n",
        "                        optimizer = optimizer,\n",
        "                        criterion=criterion,\n",
        "                        model=BigNet,\n",
        "                        )"
      ],
      "metadata": {
        "id": "zVpGo0qci1Fg",
        "colab": {
          "base_uri": "https://localhost:8080/"
        },
        "outputId": "36e270bd-093c-4f5a-c367-fdee2fc786ce"
      },
      "execution_count": 210,
      "outputs": [
        {
          "output_type": "stream",
          "name": "stdout",
          "text": [
            "Epoch 0 Train loss 1.5847177131852108\n"
          ]
        }
      ]
    },
    {
      "cell_type": "code",
      "source": [
        "torch.save(BigNet.state_dict(), 'model.pt')"
      ],
      "metadata": {
        "id": "0GD7246q4-Ua"
      },
      "execution_count": 211,
      "outputs": []
    },
    {
      "cell_type": "code",
      "source": [
        "test(\n",
        "      test_loader=test_loader,\n",
        "      net=BigNet,\n",
        ")\n",
        "\n",
        "original_weights = {}\n",
        "for name, param in BigNet.named_parameters():\n",
        "    original_weights[name] = param.clone().detach()"
      ],
      "metadata": {
        "id": "PbLB-ECJqcht",
        "colab": {
          "base_uri": "https://localhost:8080/"
        },
        "outputId": "df802800-95a3-4acc-9098-b3c2eef91e5c"
      },
      "execution_count": 212,
      "outputs": [
        {
          "output_type": "stream",
          "name": "stdout",
          "text": [
            "Accuracy: 0.388\n",
            "wrong counts for the Label 0: 214\n",
            "wrong counts for the Label 1: 108\n",
            "wrong counts for the Label 2: 253\n",
            "wrong counts for the Label 3: 153\n",
            "wrong counts for the Label 4: 397\n",
            "wrong counts for the Label 5: 1000\n",
            "wrong counts for the Label 6: 1000\n",
            "wrong counts for the Label 7: 1000\n",
            "wrong counts for the Label 8: 1000\n",
            "wrong counts for the Label 9: 1000\n"
          ]
        }
      ]
    },
    {
      "cell_type": "code",
      "source": [
        "# Load the model and test it\n",
        "model = FashionNet(input_dims=784, num_class=len(class_names), input_hidden_size=1000, hidden_layer_size=2000)\n",
        "model.load_state_dict(torch.load('model.pt'))\n",
        "model.to('cpu')\n",
        "# Call the function\n",
        "test(\n",
        "      test_loader=test_loader,\n",
        "      net=model,\n",
        ")"
      ],
      "metadata": {
        "colab": {
          "base_uri": "https://localhost:8080/"
        },
        "id": "13Vw1kve5KBC",
        "outputId": "c79ded92-c38a-4cbc-987e-e44ac7b2d2c9"
      },
      "execution_count": 76,
      "outputs": [
        {
          "output_type": "stream",
          "name": "stdout",
          "text": [
            "Accuracy: 0.392\n",
            "wrong counts for the Label 0: 190\n",
            "wrong counts for the Label 1: 102\n",
            "wrong counts for the Label 2: 307\n",
            "wrong counts for the Label 3: 174\n",
            "wrong counts for the Label 4: 307\n",
            "wrong counts for the Label 5: 1000\n",
            "wrong counts for the Label 6: 1000\n",
            "wrong counts for the Label 7: 1000\n",
            "wrong counts for the Label 8: 1000\n",
            "wrong counts for the Label 9: 1000\n"
          ]
        }
      ]
    },
    {
      "cell_type": "code",
      "source": [
        "total_parameters_original = 0\n",
        "for index, layer in enumerate([BigNet.input_layer, BigNet.hidden_layer, BigNet.output_layer]):\n",
        "    total_parameters_original += layer.weight.nelement() + layer.bias.nelement()\n",
        "    print(f'Layer {index+1}: W: {layer.weight.shape} + B: {layer.bias.shape}')\n",
        "print(f'Total number of parameters: {total_parameters_original:,}')"
      ],
      "metadata": {
        "colab": {
          "base_uri": "https://localhost:8080/"
        },
        "id": "F7sDiWvnEDcx",
        "outputId": "a8a313c8-4cd4-4b10-8aee-508f569eb4d2"
      },
      "execution_count": 164,
      "outputs": [
        {
          "output_type": "stream",
          "name": "stdout",
          "text": [
            "Layer 1: W: torch.Size([1000, 784]) + B: torch.Size([1000])\n",
            "Layer 2: W: torch.Size([2000, 1000]) + B: torch.Size([2000])\n",
            "Layer 3: W: torch.Size([10, 2000]) + B: torch.Size([10])\n",
            "Total number of parameters: 2,807,010\n"
          ]
        }
      ]
    },
    {
      "cell_type": "code",
      "source": [
        "# Get one batch of images and labels\n",
        "dataiter = iter(train_loader_2)\n",
        "images, labels = next(dataiter)\n",
        "\n",
        "# Define the class names for Fashion MNIST\n",
        "class_names = ['T-shirt/top', 'Trouser', 'Pullover', 'Dress', 'Coat',\n",
        "               'Sandal', 'Shirt', 'Sneaker', 'Bag', 'Ankle boot']\n",
        "\n",
        "plot_flattened_images(flattened_images=images, labels=labels, img_shape=(28,28), num_images=10, class_names=class_names)"
      ],
      "metadata": {
        "colab": {
          "base_uri": "https://localhost:8080/",
          "height": 142
        },
        "id": "SsrsAkex1Z0i",
        "outputId": "a22ec4c9-1f6c-4fd6-f716-02beef8c2d22"
      },
      "execution_count": 213,
      "outputs": [
        {
          "output_type": "display_data",
          "data": {
            "text/plain": [
              "<Figure size 1000x500 with 10 Axes>"
            ],
            "image/png": "[encoded data removed]"
          },
          "metadata": {}
        }
      ]
    },
    {
      "cell_type": "code",
      "source": [
        "class LoraLinear(nn.Module):\n",
        "  def __init__(self, r, in_features, out_features):\n",
        "    super().__init__()\n",
        "    self.r = r\n",
        "    self.in_features = in_features\n",
        "    self.out_features = out_features\n",
        "    self.lora_A = nn.Parameter(torch.empty(self.in_features, self.r), requires_grad=True)\n",
        "    self.lora_B = nn.Parameter(torch.empty(self.r, self.out_features), requires_grad=True)\n",
        "    nn.init.kaiming_uniform_(self.lora_A, a=math.sqrt(5))\n",
        "    nn.init.zeros_(self.lora_B)\n",
        "\n",
        "  def forward(self, x):\n",
        "    return x+(self.lora_A @self.lora_B)"
      ],
      "metadata": {
        "id": "cet1GUsUnA0c"
      },
      "execution_count": 214,
      "outputs": []
    },
    {
      "cell_type": "code",
      "source": [
        "from functools import partial\n",
        "\n",
        "class LoRAParametrization(nn.Module):\n",
        "    def __init__(self, fan_in, fan_out, rank=4, lora_dropout_p=0.0, lora_alpha=1):\n",
        "        super().__init__()\n",
        "        # if weight is stored as (fan_out, fan_in), the memory layout of A & B follows (W + BA)x\n",
        "        # otherwise, it's x(W + AB). This allows us to tie the weights between linear layers and embeddings\n",
        "\n",
        "        self.lora_A = nn.Parameter(torch.zeros(rank, fan_in))\n",
        "        self.lora_B = nn.Parameter(torch.zeros(fan_out, rank))\n",
        "        nn.init.kaiming_uniform_(self.lora_A, a=math.sqrt(5))\n",
        "        self.lora_alpha, self.rank = lora_alpha, rank\n",
        "        self.scaling = lora_alpha / rank\n",
        "\n",
        "        self.forward_fn = self.lora_forward\n",
        "\n",
        "\n",
        "    def lora_forward(self, X):\n",
        "        return X + torch.matmul(self.lora_B, self.lora_A).view(X.shape) * self.scaling\n",
        "\n",
        "    def forward(self, X):\n",
        "        return self.forward_fn(X)\n",
        "\n",
        "\n",
        "\n",
        "    @classmethod\n",
        "    def from_linear(cls, layer, rank=4, lora_dropout_p=0.0, lora_alpha=1):\n",
        "        fan_out, fan_in = layer.weight.shape\n",
        "        return cls(\n",
        "            fan_in, fan_out, rank=rank, lora_dropout_p=lora_dropout_p, lora_alpha=lora_alpha\n",
        "        )"
      ],
      "metadata": {
        "id": "xda1_SNp1Oqp"
      },
      "execution_count": 225,
      "outputs": []
    },
    {
      "cell_type": "code",
      "source": [
        "default_lora_config = {  # specify which layers to add lora to, by default only add to linear layers\n",
        "    nn.Linear: {\n",
        "        \"weight\": partial(LoRAParametrization.from_linear, rank=4),\n",
        "    },\n",
        "}\n",
        "\n",
        "def apply_lora(layer, register=True, merge=False, lora_config=default_lora_config):\n",
        "      \"\"\"add lora parametrization to a layer, designed to be used with model.apply\"\"\"\n",
        "      if register:\n",
        "          if type(layer) in lora_config:\n",
        "              for attr_name, parametrization in lora_config[type(layer)].items():\n",
        "                  nn.utils.parametrize.register_parametrization(layer, attr_name, parametrization(layer))\n",
        "      else:  # this will remove all parametrizations, use with caution\n",
        "          if hasattr(layer, \"parametrizations\"):\n",
        "              for attr_name in layer.parametrizations.keys():\n",
        "                  nn.utils.parametrize.remove_parametrizations(layer, attr_name, leave_parametrized=merge)\n",
        "\n",
        "def name_is_lora(name):\n",
        "    return (\n",
        "        len(name.split(\".\")) >= 4\n",
        "        and (name.split(\".\")[-4]) == \"parametrizations\"\n",
        "        and name.split(\".\")[-1] in [\"lora_A\", \"lora_B\"]\n",
        "    )\n",
        "\n",
        "def add_lora(model, lora_config=default_lora_config):\n",
        "    \"\"\"add lora parametrization to all layers in a model. Calling it twice will add lora twice\"\"\"\n",
        "    model.apply(partial(apply_lora, lora_config=lora_config))\n",
        "\n",
        "\n",
        "def get_params_by_name(model, print_shapes=False, name_filter=None):\n",
        "    for n, p in model.named_parameters():\n",
        "        if name_filter is None or name_filter(n):\n",
        "            if print_shapes:\n",
        "                print(n, p.shape)\n",
        "            yield p\n",
        "\n",
        "def get_lora_params(model, print_shapes=False):\n",
        "    return get_params_by_name(model, print_shapes=print_shapes, name_filter=name_is_lora)\n",
        "\n"
      ],
      "metadata": {
        "id": "URMvgLEW1ygb"
      },
      "execution_count": 226,
      "outputs": []
    },
    {
      "cell_type": "code",
      "source": [
        "lora_model = BigNet.to('cpu')\n",
        "# Step 1: Add LoRA to the model\n",
        "add_lora(lora_model)\n",
        "\n",
        "# Step 2: Collect the parameters, pass them to the optimizer\n",
        "\n",
        "parameters = [\n",
        "    {\"params\": list(get_lora_params(lora_model))},\n",
        "]\n",
        "\n",
        "optimizer = optim.SGD(BigNet.parameters(), lr=0.0001, momentum=0.9)\n",
        "\n",
        "trainLoss = train_model(epochs=2,\n",
        "                        train_loader=train_loader_2,\n",
        "                        optimizer = optimizer,\n",
        "                        criterion=criterion,\n",
        "                        model=BigNet,\n",
        "                        )\n",
        "\n",
        "# lora_model.load_state_dict(torch.load('model.pt'), strict=False)\n",
        "\n",
        "test(\n",
        "      test_loader=test_loader,\n",
        "      net=lora_model,\n",
        ")\n"
      ],
      "metadata": {
        "colab": {
          "base_uri": "https://localhost:8080/"
        },
        "id": "shpL-n8j9VJ8",
        "outputId": "05e7b957-4dd7-4820-9ac3-aafbf826cbb2"
      },
      "execution_count": 229,
      "outputs": [
        {
          "output_type": "stream",
          "name": "stdout",
          "text": [
            "Epoch 0 Train loss 1.840040989140712\n",
            "Accuracy: 0.423\n",
            "wrong counts for the Label 0: 1000\n",
            "wrong counts for the Label 1: 1000\n",
            "wrong counts for the Label 2: 1000\n",
            "wrong counts for the Label 3: 1000\n",
            "wrong counts for the Label 4: 1000\n",
            "wrong counts for the Label 5: 243\n",
            "wrong counts for the Label 6: 86\n",
            "wrong counts for the Label 7: 153\n",
            "wrong counts for the Label 8: 183\n",
            "wrong counts for the Label 9: 104\n"
          ]
        }
      ]
    },
    {
      "cell_type": "code",
      "source": [
        "for param in lora_model.named_parameters():\n",
        "  print(param)"
      ],
      "metadata": {
        "colab": {
          "base_uri": "https://localhost:8080/"
        },
        "id": "Kv7TEbQ7Nehb",
        "outputId": "2345a5ff-b7e4-4fa0-e9c8-e691c64c532f"
      },
      "execution_count": 233,
      "outputs": [
        {
          "output_type": "stream",
          "name": "stdout",
          "text": [
            "('input_layer.bias', Parameter containing:\n",
            "tensor([-1.6734e-02,  1.7016e-02,  3.0122e-02, -1.3094e-02,  2.1236e-02,\n",
            "        -7.2922e-03, -6.7987e-03, -2.1493e-02, -9.3570e-03,  8.8435e-03,\n",
            "        -2.7106e-02,  6.4334e-03,  3.5767e-02,  1.9182e-02,  2.4822e-02,\n",
            "        -1.1378e-02, -1.1398e-02, -1.3033e-02,  2.9379e-02, -2.9637e-02,\n",
            "         2.4909e-02, -2.7210e-02, -1.9742e-03,  3.0884e-02,  3.6142e-02,\n",
            "         3.5806e-02,  1.0486e-02, -2.5972e-02,  1.0690e-02,  3.3566e-02,\n",
            "         1.3839e-03,  1.9440e-02, -1.4129e-02,  6.6525e-03,  2.9883e-02,\n",
            "         1.4318e-02, -8.3286e-03, -5.9578e-03,  2.2485e-03, -1.2473e-02,\n",
            "        -1.4219e-02, -1.6354e-02, -8.1316e-03, -4.8947e-03,  3.4987e-04,\n",
            "        -1.6555e-02,  2.2905e-02,  3.1108e-02,  5.3865e-03, -1.0771e-02,\n",
            "         1.8586e-02, -3.0432e-02, -2.7327e-02,  1.3678e-02, -1.6527e-02,\n",
            "        -3.3715e-03,  2.6847e-02, -3.0869e-02, -2.0953e-02, -1.4293e-02,\n",
            "        -1.6530e-03,  1.4420e-02,  2.9842e-02, -6.1550e-03,  1.8126e-02,\n",
            "         1.4758e-02, -2.9871e-02,  2.1779e-02,  2.7150e-02,  1.6413e-02,\n",
            "         2.0755e-02, -4.7672e-03, -1.8280e-02,  3.2702e-02, -2.6137e-02,\n",
            "         9.3030e-03,  1.7382e-02, -1.1574e-02, -1.3884e-02,  1.9985e-02,\n",
            "        -2.8740e-03,  6.8821e-03, -7.5222e-03,  7.4284e-03, -2.3207e-02,\n",
            "         1.1603e-02, -3.2544e-02, -3.0517e-02, -3.3966e-02, -1.8522e-02,\n",
            "        -9.4432e-03, -3.0465e-02,  2.3311e-02, -1.3415e-02, -1.8112e-03,\n",
            "        -3.0338e-02,  1.0689e-02, -9.9634e-03,  1.9601e-02, -2.2927e-02,\n",
            "         3.2882e-02,  2.3849e-02, -2.8347e-02, -2.6701e-02,  2.2437e-02,\n",
            "        -1.2295e-02,  8.1407e-03,  5.4878e-03, -3.3513e-02,  5.7881e-03,\n",
            "         1.0343e-02,  1.2158e-03,  4.2164e-03,  2.5768e-02,  2.6896e-02,\n",
            "        -7.5489e-03, -3.4129e-02,  1.1245e-02, -8.0275e-03,  1.3564e-02,\n",
            "         1.8554e-03, -2.7382e-03,  1.7252e-02,  1.7063e-02, -1.3355e-02,\n",
            "         3.5320e-02, -1.1749e-02,  1.5944e-02, -2.7708e-02,  1.6402e-02,\n",
            "         3.6353e-02,  2.0845e-02, -4.4423e-04, -8.8754e-03, -2.3684e-02,\n",
            "         3.2298e-04,  2.0389e-02,  2.1615e-02, -8.2565e-03, -2.7836e-02,\n",
            "         2.6018e-02,  5.4622e-03, -3.3442e-02, -1.8165e-03, -1.6224e-02,\n",
            "         5.0017e-03, -2.2619e-02,  2.6885e-02, -3.2147e-02, -2.8474e-02,\n",
            "         2.6034e-02,  1.8667e-02, -2.3134e-02,  3.1311e-02, -1.1992e-02,\n",
            "        -9.4134e-03,  2.3970e-02,  3.5332e-03,  1.5660e-02,  3.3485e-02,\n",
            "         3.3973e-02,  2.9863e-02,  1.4819e-02, -1.6466e-02, -2.7608e-02,\n",
            "         1.3813e-02,  2.8964e-03, -3.5429e-02,  3.4705e-02,  2.7297e-02,\n",
            "        -2.7490e-02, -1.1334e-02,  3.6571e-02, -2.1117e-03,  2.7574e-03,\n",
            "         2.3530e-02, -9.0853e-03, -1.7093e-02,  1.2536e-02, -3.1872e-02,\n",
            "         1.6479e-02, -2.3562e-02,  2.3900e-02, -2.1676e-02, -4.1959e-03,\n",
            "         1.9622e-02,  2.8439e-02,  3.4589e-02, -3.2303e-02, -5.3580e-03,\n",
            "        -8.7611e-03,  2.2304e-02, -3.2500e-02, -2.0905e-02,  5.3667e-03,\n",
            "         3.0579e-02,  1.3647e-02, -1.3095e-02,  2.7251e-02,  3.1660e-02,\n",
            "         3.3534e-02, -3.2078e-02,  9.2276e-03,  1.4592e-02, -2.2740e-02,\n",
            "         2.0343e-02, -1.1050e-04,  1.5552e-02, -1.5667e-02,  2.7090e-02,\n",
            "        -2.1889e-02,  3.0845e-02,  2.1539e-02, -2.3588e-02, -1.6325e-02,\n",
            "        -5.1441e-03,  2.7199e-02,  1.5059e-02,  2.4638e-02, -2.0958e-02,\n",
            "        -1.7971e-02,  6.1645e-03,  2.9254e-02, -1.1943e-02,  1.8540e-02,\n",
            "         2.2783e-02,  2.7724e-02, -3.4130e-02,  1.2977e-02,  1.1837e-02,\n",
            "         3.4309e-02,  2.2339e-02, -1.7878e-02,  3.1836e-02,  2.0804e-02,\n",
            "         1.0094e-02, -3.0782e-02,  3.1822e-02,  9.3966e-03,  3.6675e-02,\n",
            "         2.9661e-02,  5.7511e-03, -1.6014e-02,  1.0074e-03,  3.1458e-02,\n",
            "        -2.0606e-02, -1.5697e-02,  1.6001e-02,  5.2541e-03,  1.9717e-02,\n",
            "         3.7330e-02, -3.4125e-02,  2.5358e-02, -8.1853e-03, -1.8571e-02,\n",
            "         1.1576e-02, -1.9533e-02,  3.1215e-02, -2.3651e-02,  1.4813e-02,\n",
            "         1.7812e-02,  5.3683e-03, -1.2419e-02,  2.9764e-02, -3.1424e-02,\n",
            "         2.3189e-02,  1.6037e-02, -1.1718e-02,  1.9678e-03,  1.0006e-02,\n",
            "         2.6586e-02,  1.4119e-02, -3.2824e-02,  1.9095e-02,  2.8560e-02,\n",
            "         2.5301e-02, -3.4009e-02, -4.4659e-03,  2.1561e-02,  2.9454e-02,\n",
            "        -2.0719e-02,  2.6800e-02,  3.0234e-02, -3.4069e-02,  3.0252e-02,\n",
            "        -1.6471e-02, -2.4199e-02, -3.0298e-02,  2.1366e-02,  3.2512e-02,\n",
            "         2.1441e-02,  3.2461e-02,  6.9972e-03,  2.8236e-03, -1.3390e-03,\n",
            "        -3.0343e-04, -9.3091e-03, -9.1436e-03, -1.0176e-02,  3.4172e-02,\n",
            "        -3.0848e-02, -1.1920e-02,  1.4362e-02, -2.4096e-02,  2.3206e-02,\n",
            "         2.0828e-02,  3.4295e-03, -1.0731e-02, -9.7048e-03,  3.4607e-02,\n",
            "         1.0491e-03,  2.2978e-02,  2.9935e-02, -3.0818e-02, -5.1163e-03,\n",
            "         2.0459e-02,  7.5547e-03, -6.1770e-03,  3.4033e-02, -1.2019e-02,\n",
            "        -1.0766e-02,  2.2348e-02,  1.5996e-05,  4.8465e-03, -1.6478e-02,\n",
            "        -2.0456e-03, -1.0702e-03, -1.0881e-02, -1.0155e-02, -4.7278e-04,\n",
            "        -1.1297e-02, -1.7199e-02,  1.3460e-02, -1.3712e-02, -2.8316e-02,\n",
            "         2.6591e-02, -1.8929e-02,  1.0857e-02, -3.3801e-02,  1.2849e-02,\n",
            "         1.4263e-02,  9.8536e-03, -2.7946e-02,  2.5353e-02,  1.6092e-02,\n",
            "         1.4709e-02, -9.7924e-03,  2.5450e-05, -3.0555e-02,  3.2805e-03,\n",
            "        -2.0223e-02, -2.3644e-02,  1.6033e-02, -3.2676e-02, -1.5629e-02,\n",
            "         7.0122e-03,  2.3189e-02, -1.2585e-02, -1.4506e-02, -2.6658e-02,\n",
            "        -1.1470e-02, -1.6604e-02, -2.6440e-03, -4.1176e-03, -3.3623e-02,\n",
            "        -2.1906e-02,  2.9424e-02, -4.9853e-04, -9.9528e-03, -3.3430e-03,\n",
            "        -2.3533e-02,  1.2681e-02,  8.8491e-03,  3.0778e-02,  2.5351e-02,\n",
            "         2.7632e-02, -1.2939e-02, -3.3453e-02, -1.3429e-02,  3.5711e-02,\n",
            "         3.2804e-02,  2.3423e-03,  2.3507e-02,  2.9138e-02,  1.3872e-02,\n",
            "         6.9648e-03, -2.7986e-02, -1.4846e-02,  2.4716e-03,  5.2477e-03,\n",
            "        -1.5461e-03,  3.0541e-02,  7.0399e-03,  5.4214e-03, -1.9757e-03,\n",
            "         3.1604e-02,  3.0766e-02, -2.2547e-02, -1.3261e-02, -1.0477e-02,\n",
            "        -7.1431e-03, -2.8316e-02, -8.1990e-03, -1.5031e-02, -1.1883e-02,\n",
            "        -3.4810e-02,  2.8937e-02,  2.0312e-03, -3.2809e-03,  2.0947e-03,\n",
            "        -3.3631e-02, -1.5413e-02, -1.6911e-02,  2.5241e-02,  1.5211e-02,\n",
            "         1.0323e-02,  3.0792e-02, -5.9893e-03, -1.4816e-02,  8.7090e-03,\n",
            "         3.2990e-02, -1.7970e-02, -2.7848e-02, -3.2821e-02, -3.3172e-02,\n",
            "         2.3353e-03,  3.5901e-02,  9.6987e-03,  2.3002e-02, -9.8863e-03,\n",
            "         3.3291e-03,  2.9752e-02,  2.1356e-02,  1.0577e-02, -1.5351e-02,\n",
            "         2.0676e-03,  1.6664e-02,  1.7637e-02, -7.8655e-03,  1.8034e-02,\n",
            "        -2.9613e-04,  1.7306e-02, -3.1825e-02,  3.2333e-02,  2.8132e-02,\n",
            "         1.6515e-02, -4.3495e-03,  7.3280e-03,  1.9891e-02,  1.9430e-02,\n",
            "        -1.3139e-02, -5.9119e-03,  3.3017e-02,  2.9817e-02,  2.6282e-02,\n",
            "        -1.5287e-02,  1.9572e-03,  7.9346e-03,  1.9747e-02,  2.3019e-02,\n",
            "        -3.1231e-02,  1.3694e-02, -2.6570e-02, -1.6544e-02,  1.5253e-02,\n",
            "        -3.0754e-02,  3.4639e-02,  3.0913e-02,  5.4624e-04, -1.7444e-02,\n",
            "        -2.0065e-02,  3.1967e-02, -1.7736e-02, -1.3975e-02, -3.4462e-02,\n",
            "         3.3078e-02,  2.1716e-02,  9.2939e-03,  1.6429e-02, -2.8169e-02,\n",
            "         5.2214e-03,  3.3497e-02,  2.0268e-03, -3.0726e-02,  2.7243e-03,\n",
            "         9.4170e-03,  2.1901e-03,  1.1821e-02, -2.9952e-02,  3.3809e-02,\n",
            "         1.4323e-04,  1.1935e-02, -1.5615e-02, -1.6127e-02, -3.3524e-02,\n",
            "         8.6475e-03,  2.9349e-02, -7.4116e-03, -2.4710e-03, -1.7564e-02,\n",
            "        -3.1297e-02,  3.4410e-02,  6.6537e-03, -3.0253e-02,  3.7325e-02,\n",
            "        -1.7196e-02,  3.0594e-02,  1.2614e-02, -8.6977e-03,  2.0329e-02,\n",
            "         6.2385e-03,  5.5849e-04,  3.2602e-02,  2.6327e-02, -3.1635e-02,\n",
            "         2.4500e-02, -1.0030e-03,  1.7701e-02, -2.1276e-02,  2.8382e-02,\n",
            "         2.1392e-02,  8.8863e-03,  1.6470e-02, -2.9370e-02,  2.4123e-02,\n",
            "        -6.6549e-03, -1.6091e-02, -2.1536e-02, -6.0536e-03, -2.4308e-02,\n",
            "        -1.8552e-02,  7.9246e-04,  1.5423e-02,  2.4369e-02,  3.1045e-02,\n",
            "         3.3226e-02,  3.9477e-03, -9.6390e-03, -3.5610e-03, -2.5922e-02,\n",
            "         5.9332e-03,  8.3607e-04, -3.3716e-02,  3.4042e-02,  1.3210e-02,\n",
            "        -1.6983e-02, -1.1952e-02, -2.4942e-02,  3.1543e-02,  1.2099e-02,\n",
            "         2.1819e-02, -1.5715e-02, -3.3584e-02, -3.2246e-02,  3.2849e-02,\n",
            "        -1.5279e-02, -1.2096e-03, -2.4183e-02,  3.8018e-02, -1.1717e-02,\n",
            "        -4.1975e-03, -3.0072e-02, -3.2409e-02, -1.3806e-02,  6.3329e-03,\n",
            "        -2.7720e-02,  1.1333e-02, -8.0478e-03,  2.5867e-02,  1.7778e-02,\n",
            "        -2.1486e-02, -1.7447e-02,  1.6717e-02,  2.4821e-03,  3.6049e-03,\n",
            "        -1.2723e-02,  2.2529e-02,  3.3441e-02, -2.0886e-02,  3.4496e-02,\n",
            "        -1.3434e-02, -9.9402e-04,  3.6831e-02, -1.5634e-02,  1.3227e-02,\n",
            "        -2.5802e-02,  2.8478e-02, -3.2787e-02, -2.1929e-02, -1.3759e-03,\n",
            "         2.7642e-02, -2.4527e-02, -4.4894e-03, -7.4738e-03, -2.8075e-02,\n",
            "        -2.0769e-02,  4.2230e-03,  3.7526e-03,  1.8003e-02,  2.3981e-02,\n",
            "         1.8589e-02,  1.7940e-02, -1.0579e-02, -2.0912e-02,  3.5242e-02,\n",
            "        -2.9565e-02,  3.2099e-02, -9.4216e-03,  2.9623e-02,  5.8196e-03,\n",
            "         9.2284e-03,  1.0207e-02, -7.1376e-03,  3.1486e-02, -3.3350e-02,\n",
            "        -1.1968e-02, -3.2637e-02, -3.1424e-02, -1.3272e-02, -2.2954e-02,\n",
            "         4.2506e-04,  2.2038e-02, -3.3814e-02,  1.9646e-02,  2.8786e-02,\n",
            "        -2.0724e-02, -9.8478e-05,  1.4709e-02, -8.3864e-03,  1.7663e-03,\n",
            "         2.1398e-02,  2.8143e-02,  1.3229e-02, -7.1048e-03, -2.8753e-02,\n",
            "         5.7586e-03, -1.7235e-02, -7.1318e-03,  3.0968e-02,  1.7169e-02,\n",
            "        -2.0564e-02,  3.3327e-02,  1.4597e-02, -3.4090e-02,  1.0720e-02,\n",
            "         1.1747e-02, -1.4891e-02, -2.9254e-02, -2.8706e-02,  3.0248e-03,\n",
            "        -2.1861e-02,  1.4541e-02,  5.0811e-03,  1.7792e-02,  1.1454e-02,\n",
            "         1.2665e-02, -3.2864e-03,  2.7438e-02, -3.4353e-02,  1.1181e-02,\n",
            "        -2.5588e-03,  1.3088e-02,  9.4248e-03, -6.0876e-03,  2.3077e-03,\n",
            "        -3.1644e-02,  2.3224e-02,  3.1532e-02, -1.6881e-02,  2.0076e-02,\n",
            "        -3.1844e-02,  3.0673e-02,  2.9342e-02, -6.5059e-04, -2.0634e-02,\n",
            "        -2.5954e-02,  2.3563e-02, -3.0917e-02,  2.3113e-02, -2.5167e-02,\n",
            "        -3.3531e-02,  1.1356e-02,  4.8674e-04, -6.8377e-03,  2.7583e-02,\n",
            "        -1.2586e-02,  4.8064e-03,  7.0627e-03,  2.0909e-02,  2.4397e-02,\n",
            "         2.8511e-02, -3.1174e-02,  5.7039e-03, -3.1601e-03, -2.1418e-02,\n",
            "         3.3506e-02, -4.2508e-03, -2.5907e-02,  2.6034e-02, -2.0115e-02,\n",
            "         1.8054e-02, -1.5043e-02, -9.2219e-03,  1.2063e-02,  1.7274e-03,\n",
            "         2.7837e-02, -2.1132e-02, -2.1002e-02,  3.2708e-02,  1.5689e-02,\n",
            "        -5.2549e-03, -2.4170e-02,  2.6314e-02,  7.4936e-03,  3.3289e-02,\n",
            "        -3.1900e-02, -2.7950e-02,  1.4385e-02, -2.0203e-03, -3.1825e-02,\n",
            "        -1.0278e-02,  1.6582e-02, -7.9022e-03,  3.7891e-02,  1.7048e-02,\n",
            "        -2.5939e-02,  1.1296e-02, -3.2359e-02, -1.5955e-02, -1.0179e-02,\n",
            "         1.7658e-02,  3.0639e-02,  1.2471e-02, -1.9782e-02, -2.3020e-02,\n",
            "        -2.3950e-02, -4.9327e-03, -1.7796e-02, -2.8002e-03,  3.1785e-02,\n",
            "        -1.9630e-02,  1.3495e-02,  1.8275e-03,  2.3930e-02,  3.2470e-04,\n",
            "        -2.5476e-02, -1.1058e-02,  1.8959e-02, -1.1780e-02,  2.0190e-02,\n",
            "        -2.5544e-02,  4.7554e-03,  4.6836e-03,  2.2648e-04,  1.5776e-03,\n",
            "         1.6333e-02,  1.5151e-02,  2.8565e-02,  2.9021e-02,  1.6121e-02,\n",
            "         5.2678e-03,  7.1041e-03, -1.4355e-02,  1.2476e-02,  1.6508e-02,\n",
            "        -2.2089e-02, -2.9610e-03,  7.4548e-03,  2.6705e-02, -3.5738e-02,\n",
            "         1.3585e-02, -3.0104e-02, -1.9348e-02, -1.4797e-02,  2.4517e-02,\n",
            "        -1.7594e-02, -1.0826e-02, -2.1665e-02, -3.3595e-02, -1.6698e-03,\n",
            "        -3.4693e-02,  1.1439e-02,  2.0889e-02, -3.4457e-04, -1.2540e-02,\n",
            "         2.7077e-02,  7.2179e-03,  9.5421e-03,  3.2213e-03,  2.3861e-02,\n",
            "         2.8936e-02, -2.2484e-02,  2.7182e-02,  2.0426e-02, -3.0523e-02,\n",
            "        -6.5420e-03,  2.7044e-02, -2.9205e-02, -1.3528e-02,  3.3018e-02,\n",
            "         3.7161e-02, -1.6103e-02,  2.7777e-02, -1.1940e-02, -1.8973e-02,\n",
            "         2.9939e-02,  3.4774e-02, -2.2715e-02,  7.2504e-03,  1.8923e-03,\n",
            "         1.9133e-02, -1.5282e-02, -3.2271e-02,  1.5394e-03, -2.2654e-02,\n",
            "        -2.1021e-02,  3.0829e-02, -2.1543e-02, -2.3583e-02, -1.9527e-02,\n",
            "         1.3120e-02,  3.5621e-02, -1.0674e-02, -1.0278e-02,  3.5069e-03,\n",
            "         8.1467e-03, -1.4345e-02,  2.0954e-02, -3.2276e-03,  1.9743e-03,\n",
            "        -2.4166e-02,  1.1315e-02, -2.1633e-03,  1.7194e-02,  5.4297e-03,\n",
            "        -2.7299e-02, -2.9845e-02, -1.7264e-02, -3.0870e-02,  2.5307e-02,\n",
            "        -1.6774e-02,  8.8434e-03, -2.8950e-03,  8.3085e-03, -1.8960e-02,\n",
            "         1.8563e-02, -1.7645e-02, -2.9986e-02, -3.3299e-02, -3.4758e-02,\n",
            "         2.8177e-02, -1.2140e-02, -2.7081e-02,  1.5161e-02,  4.8760e-03,\n",
            "        -1.0235e-02, -3.1078e-02, -2.2988e-02, -1.9351e-02,  2.6391e-02,\n",
            "        -3.0527e-02, -2.1734e-02, -1.2706e-02, -2.2882e-02,  1.5937e-02,\n",
            "        -9.7655e-03,  1.4238e-02, -8.4252e-03, -3.0436e-02, -2.5972e-02,\n",
            "        -8.5676e-03, -1.8295e-02,  2.2184e-02, -1.3787e-02,  3.3397e-02,\n",
            "        -3.4615e-02, -4.8299e-03, -5.1099e-03,  1.0719e-02, -2.8123e-02,\n",
            "         1.7142e-02, -1.8150e-02,  1.9313e-02,  3.1995e-02, -4.5973e-03,\n",
            "         2.4432e-03, -1.4386e-02,  3.2346e-02,  8.2330e-03,  7.3268e-03,\n",
            "         1.5874e-02, -2.0502e-03,  1.2356e-02, -2.9359e-02, -2.6279e-02,\n",
            "         2.8657e-02,  4.5235e-03, -2.6630e-02,  3.1072e-02, -3.2686e-03,\n",
            "         2.7055e-02, -3.2394e-02,  7.1322e-03,  2.3362e-02,  3.5687e-02,\n",
            "         2.0691e-02,  2.8175e-02,  1.1822e-02,  2.6667e-02, -2.8499e-02,\n",
            "         2.6912e-02, -1.5621e-02,  2.0315e-02,  1.1291e-02,  1.3375e-02,\n",
            "        -4.7972e-03,  9.2934e-03, -5.8206e-03, -3.4404e-02,  2.8174e-02,\n",
            "         2.0128e-02,  2.4467e-02,  7.8727e-03,  9.6559e-03, -1.0939e-02,\n",
            "        -1.7936e-02,  2.0012e-02, -6.0146e-03, -2.4504e-02,  2.7217e-02,\n",
            "         1.1540e-02,  9.2876e-03, -2.0052e-02,  2.9049e-02, -2.0583e-02,\n",
            "        -3.4689e-02,  3.0322e-02, -2.6290e-02,  1.6718e-03, -2.3086e-02,\n",
            "         2.2417e-04,  1.5521e-02, -2.6863e-02,  1.1332e-02, -1.2829e-03,\n",
            "         7.6713e-03, -2.4663e-02,  2.6699e-02,  7.3420e-03,  1.4301e-02,\n",
            "        -2.4367e-02,  1.6785e-02, -1.0559e-03,  7.8293e-03,  4.9662e-03,\n",
            "         1.7847e-02, -3.0963e-02, -5.5891e-03, -1.2681e-02,  1.6056e-03,\n",
            "        -2.4237e-02, -1.2065e-02,  2.4863e-02,  2.8660e-02,  2.7950e-02,\n",
            "        -2.8847e-02,  1.7373e-02, -1.1001e-02,  3.6456e-02, -1.6916e-02,\n",
            "        -1.3718e-02, -1.5082e-02,  1.5579e-02, -2.5259e-02, -3.3851e-02,\n",
            "        -1.2646e-02, -1.8042e-02, -1.0269e-02, -1.3738e-02, -3.1753e-02,\n",
            "        -1.8381e-02,  1.7818e-02, -2.7593e-02, -1.3187e-02, -2.8782e-02,\n",
            "        -2.6414e-02,  2.4369e-02, -9.3593e-03,  2.7974e-02,  2.7864e-02,\n",
            "        -9.0436e-03, -2.6029e-02, -2.2777e-02, -3.0931e-02, -2.1184e-02,\n",
            "        -1.9014e-03, -2.6503e-02, -2.1848e-02, -2.7004e-03,  2.3255e-02],\n",
            "       requires_grad=True))\n",
            "('input_layer.parametrizations.weight.original', Parameter containing:\n",
            "tensor([[-0.0321, -0.0162, -0.0064,  ..., -0.0233, -0.0224,  0.0131],\n",
            "        [-0.0356,  0.0085,  0.0231,  ..., -0.0287,  0.0246,  0.0075],\n",
            "        [ 0.0218, -0.0224, -0.0140,  ...,  0.0291, -0.0225,  0.0186],\n",
            "        ...,\n",
            "        [-0.0110, -0.0180, -0.0126,  ...,  0.0084,  0.0007, -0.0023],\n",
            "        [-0.0338,  0.0050,  0.0270,  ...,  0.0159, -0.0195, -0.0208],\n",
            "        [ 0.0327,  0.0242, -0.0029,  ..., -0.0253,  0.0251,  0.0279]],\n",
            "       requires_grad=True))\n",
            "('input_layer.parametrizations.weight.0.lora_A', Parameter containing:\n",
            "tensor([[-0.0228,  0.0267, -0.0252,  ..., -0.0102, -0.0205, -0.0304],\n",
            "        [ 0.0207,  0.0032, -0.0201,  ..., -0.0314, -0.0061, -0.0021],\n",
            "        [-0.0088,  0.0003, -0.0018,  ...,  0.0001, -0.0089,  0.0020],\n",
            "        [ 0.0139, -0.0231,  0.0307,  ...,  0.0154, -0.0284,  0.0057]],\n",
            "       requires_grad=True))\n",
            "('input_layer.parametrizations.weight.0.lora_B', Parameter containing:\n",
            "tensor([[ 2.3009e-06, -9.8763e-05, -3.7361e-05, -8.5993e-05],\n",
            "        [ 1.9263e-05, -4.0831e-05, -1.9980e-05,  2.5011e-06],\n",
            "        [-9.2714e-05,  1.2274e-04,  7.2685e-05,  3.6061e-05],\n",
            "        ...,\n",
            "        [ 1.1683e-04, -1.9067e-04, -1.0165e-04,  7.4764e-05],\n",
            "        [ 3.7327e-05, -3.8076e-06,  2.3476e-05,  1.3690e-04],\n",
            "        [ 5.2400e-05, -7.2893e-05, -3.8292e-05,  4.7250e-05]],\n",
            "       requires_grad=True))\n",
            "('hidden_layer.bias', Parameter containing:\n",
            "tensor([-0.0227, -0.0126,  0.0203,  ...,  0.0107,  0.0065, -0.0196],\n",
            "       requires_grad=True))\n",
            "('hidden_layer.parametrizations.weight.original', Parameter containing:\n",
            "tensor([[ 0.0302, -0.0254, -0.0282,  ...,  0.0057,  0.0249, -0.0022],\n",
            "        [ 0.0105,  0.0108,  0.0220,  ...,  0.0190,  0.0070,  0.0035],\n",
            "        [ 0.0021, -0.0176, -0.0286,  ..., -0.0316, -0.0067,  0.0006],\n",
            "        ...,\n",
            "        [ 0.0243,  0.0135,  0.0014,  ..., -0.0019,  0.0308,  0.0235],\n",
            "        [-0.0010,  0.0144,  0.0055,  ...,  0.0060,  0.0166, -0.0023],\n",
            "        [ 0.0273,  0.0257, -0.0236,  ...,  0.0269, -0.0297,  0.0149]],\n",
            "       requires_grad=True))\n",
            "('hidden_layer.parametrizations.weight.0.lora_A', Parameter containing:\n",
            "tensor([[ 0.0100, -0.0236,  0.0233,  ..., -0.0279, -0.0184,  0.0203],\n",
            "        [-0.0202, -0.0104, -0.0066,  ..., -0.0088, -0.0200,  0.0002],\n",
            "        [-0.0218,  0.0274,  0.0184,  ...,  0.0061, -0.0206, -0.0263],\n",
            "        [ 0.0203, -0.0301, -0.0044,  ...,  0.0093,  0.0291,  0.0123]],\n",
            "       requires_grad=True))\n",
            "('hidden_layer.parametrizations.weight.0.lora_B', Parameter containing:\n",
            "tensor([[ 1.2477e-05, -3.2701e-05, -5.2505e-06, -1.7916e-05],\n",
            "        [-7.3271e-05,  6.9971e-05, -1.1560e-04, -4.0051e-05],\n",
            "        [-7.3448e-05,  1.7483e-05, -5.0880e-06,  1.0882e-05],\n",
            "        ...,\n",
            "        [ 7.1450e-05, -1.2383e-04,  2.5332e-05, -4.7916e-05],\n",
            "        [-4.5878e-05,  4.8346e-05, -3.0195e-05,  8.8083e-06],\n",
            "        [-4.5005e-05,  1.4026e-04, -6.4878e-05,  1.3731e-05]],\n",
            "       requires_grad=True))\n",
            "('output_layer.bias', Parameter containing:\n",
            "tensor([-0.0207, -0.0063, -0.0087, -0.0155,  0.0024,  0.0047,  0.0350,  0.0129,\n",
            "         0.0309,  0.0009], requires_grad=True))\n",
            "('output_layer.parametrizations.weight.original', Parameter containing:\n",
            "tensor([[-0.0115, -0.0215, -0.0087,  ..., -0.0197, -0.0077,  0.0112],\n",
            "        [-0.0113, -0.0030, -0.0171,  ..., -0.0106, -0.0107, -0.0115],\n",
            "        [ 0.0121, -0.0141,  0.0128,  ..., -0.0232, -0.0123, -0.0001],\n",
            "        ...,\n",
            "        [-0.0030, -0.0182,  0.0111,  ...,  0.0012,  0.0176,  0.0152],\n",
            "        [-0.0159,  0.0185, -0.0146,  ..., -0.0080,  0.0222,  0.0210],\n",
            "        [ 0.0072,  0.0185, -0.0216,  ...,  0.0362, -0.0091, -0.0205]],\n",
            "       requires_grad=True))\n",
            "('output_layer.parametrizations.weight.0.lora_A', Parameter containing:\n",
            "tensor([[-0.0123,  0.0021, -0.0063,  ...,  0.0065,  0.0137, -0.0061],\n",
            "        [ 0.0080,  0.0081,  0.0102,  ...,  0.0178,  0.0051,  0.0035],\n",
            "        [-0.0011, -0.0006,  0.0203,  ...,  0.0186,  0.0122, -0.0068],\n",
            "        [ 0.0080, -0.0110,  0.0079,  ..., -0.0010,  0.0220, -0.0179]],\n",
            "       requires_grad=True))\n",
            "('output_layer.parametrizations.weight.0.lora_B', Parameter containing:\n",
            "tensor([[-3.2959e-04,  5.7941e-04, -3.5699e-04, -9.7718e-05],\n",
            "        [-2.5735e-04,  3.9396e-04, -3.1989e-04,  1.7367e-05],\n",
            "        [-4.9429e-04,  4.6565e-04, -3.8424e-04,  7.0201e-05],\n",
            "        [-3.4411e-04,  5.2474e-04, -3.5640e-04, -2.3610e-05],\n",
            "        [-5.0669e-04,  4.6934e-04, -3.5340e-04,  7.5770e-05],\n",
            "        [-3.5460e-04, -2.0741e-04,  1.2931e-03,  3.2990e-04],\n",
            "        [-1.5060e-03, -9.0706e-04, -2.1184e-04,  1.0751e-03],\n",
            "        [ 9.1044e-04, -1.3319e-03,  2.2115e-04, -7.8338e-04],\n",
            "        [ 4.6456e-04, -3.4778e-05, -4.9163e-04, -2.5086e-04],\n",
            "        [ 2.4176e-03,  4.8068e-05,  9.6013e-04, -4.1276e-04]],\n",
            "       requires_grad=True))\n"
          ]
        }
      ]
    },
    {
      "cell_type": "code",
      "source": [
        "class LoraModel(FashionNet):\n",
        "  def __init__(self, r, alpha, input_dims=784, num_class=len(class_names), input_hidden_size=1000, hidden_layer_size=2000):\n",
        "\n",
        "    super().__init__(input_dims=input_dims, num_class=num_class, input_hidden_size=input_hidden_size ,hidden_layer_size=hidden_layer_size)\n",
        "\n",
        "    self.r = r\n",
        "    self.alpha = alpha\n",
        "\n",
        "    self.input_layer_lora = LoraLinear(r=self.r, in_features=self.input_dims, out_features=self.input_hidden_size)\n",
        "    self.hidden_layer_lora = LoraLinear(r=self.r, in_features=self.input_hidden_size, out_features=self.hidden_layer_size)\n",
        "    self.out_layer_lora = LoraLinear(r=self.r, in_features=self.hidden_layer_size, out_features=self.num_class)\n",
        "\n",
        "    for n,p in self.named_parameters():\n",
        "      if 'lora' not in n:\n",
        "          p.requires_grad = False\n",
        "      else:\n",
        "          print(p)\n",
        "          p.requires_grad = True\n",
        "\n",
        "\n",
        "    def forward(self, x):\n",
        "\n",
        "        x = F.relu(self.input_layer(x) + self.alpha * self.input_layer_lora(x))\n",
        "        x = F.relu(self.hidden_layer(x) + self.alpha * self.hidden_layer_lora(x))\n",
        "        x = self.output_layer(x) + self.alpha * self.out_layer_lora(x)\n",
        "        return x\n"
      ],
      "metadata": {
        "id": "bomSEYUDnLW8"
      },
      "execution_count": 215,
      "outputs": []
    },
    {
      "cell_type": "code",
      "source": [
        "lora_model = LoraModel(2, 1)\n",
        "lora_model.load_state_dict(torch.load('model.pt'), strict=False)"
      ],
      "metadata": {
        "colab": {
          "base_uri": "https://localhost:8080/"
        },
        "id": "d7bEtHSdxr2-",
        "outputId": "61ecfa11-a794-4fbb-b8e4-eadaf1eb0786"
      },
      "execution_count": 216,
      "outputs": [
        {
          "output_type": "stream",
          "name": "stdout",
          "text": [
            "Parameter containing:\n",
            "tensor([[ 0.4559, -0.0474],\n",
            "        [ 0.3006, -0.1509],\n",
            "        [-0.1789, -0.1227],\n",
            "        ...,\n",
            "        [-0.0933, -0.5733],\n",
            "        [ 0.2395,  0.3310],\n",
            "        [-0.3718,  0.3346]], requires_grad=True)\n",
            "Parameter containing:\n",
            "tensor([[0., 0., 0.,  ..., 0., 0., 0.],\n",
            "        [0., 0., 0.,  ..., 0., 0., 0.]], requires_grad=True)\n",
            "Parameter containing:\n",
            "tensor([[ 0.1694, -0.1262],\n",
            "        [ 0.3811, -0.3488],\n",
            "        [ 0.6367, -0.4621],\n",
            "        ...,\n",
            "        [-0.5958,  0.5509],\n",
            "        [ 0.4240,  0.6038],\n",
            "        [-0.4607, -0.5387]], requires_grad=True)\n",
            "Parameter containing:\n",
            "tensor([[0., 0., 0.,  ..., 0., 0., 0.],\n",
            "        [0., 0., 0.,  ..., 0., 0., 0.]], requires_grad=True)\n",
            "Parameter containing:\n",
            "tensor([[ 0.6074,  0.2338],\n",
            "        [ 0.3935,  0.4363],\n",
            "        [ 0.0888, -0.5461],\n",
            "        ...,\n",
            "        [ 0.2625,  0.1044],\n",
            "        [ 0.3732,  0.1398],\n",
            "        [-0.5477,  0.3723]], requires_grad=True)\n",
            "Parameter containing:\n",
            "tensor([[0., 0., 0., 0., 0., 0., 0., 0., 0., 0.],\n",
            "        [0., 0., 0., 0., 0., 0., 0., 0., 0., 0.]], requires_grad=True)\n"
          ]
        },
        {
          "output_type": "execute_result",
          "data": {
            "text/plain": [
              "_IncompatibleKeys(missing_keys=['input_layer_lora.lora_A', 'input_layer_lora.lora_B', 'hidden_layer_lora.lora_A', 'hidden_layer_lora.lora_B', 'out_layer_lora.lora_A', 'out_layer_lora.lora_B'], unexpected_keys=[])"
            ]
          },
          "metadata": {},
          "execution_count": 216
        }
      ]
    },
    {
      "cell_type": "code",
      "source": [
        "\n",
        "\n",
        "parameters = [\n",
        "    {\"params\": list(get_lora_params(lora_model))},\n",
        "]\n",
        "\n",
        "optimizer = optim.SGD(lora_model.parameters(), lr=0.0001, momentum=0.9)\n",
        "\n",
        "trainLoss = train_model(epochs=8,\n",
        "                        train_loader=train_loader_2,\n",
        "                        optimizer = optimizer,\n",
        "                        criterion=criterion,\n",
        "                        model=lora_model,\n",
        "                        )\n",
        "\n",
        "# lora_model.load_state_dict(torch.load('model.pt'), strict=False)\n",
        "\n",
        "test(\n",
        "      test_loader=test_loader,\n",
        "      net=lora_model,\n",
        ")"
      ],
      "metadata": {
        "colab": {
          "base_uri": "https://localhost:8080/",
          "height": 426
        },
        "id": "7_adE1Gd5We7",
        "outputId": "48d4ae59-7eec-4999-dd35-0892fa8dac59"
      },
      "execution_count": 219,
      "outputs": [
        {
          "output_type": "stream",
          "name": "stdout",
          "text": [
            "Epoch 0 Train loss 5.11758066901266\n",
            "Epoch 2 Train loss 5.117674146379743\n"
          ]
        },
        {
          "output_type": "error",
          "ename": "KeyboardInterrupt",
          "evalue": "ignored",
          "traceback": [
            "\u001b[0;31m---------------------------------------------------------------------------\u001b[0m",
            "\u001b[0;31mKeyboardInterrupt\u001b[0m                         Traceback (most recent call last)",
            "\u001b[0;32m<ipython-input-219-2955330ad222>\u001b[0m in \u001b[0;36m<cell line: 7>\u001b[0;34m()\u001b[0m\n\u001b[1;32m      5\u001b[0m \u001b[0moptimizer\u001b[0m \u001b[0;34m=\u001b[0m \u001b[0moptim\u001b[0m\u001b[0;34m.\u001b[0m\u001b[0mSGD\u001b[0m\u001b[0;34m(\u001b[0m\u001b[0mlora_model\u001b[0m\u001b[0;34m.\u001b[0m\u001b[0mparameters\u001b[0m\u001b[0;34m(\u001b[0m\u001b[0;34m)\u001b[0m\u001b[0;34m,\u001b[0m \u001b[0mlr\u001b[0m\u001b[0;34m=\u001b[0m\u001b[0;36m0.0001\u001b[0m\u001b[0;34m,\u001b[0m \u001b[0mmomentum\u001b[0m\u001b[0;34m=\u001b[0m\u001b[0;36m0.9\u001b[0m\u001b[0;34m)\u001b[0m\u001b[0;34m\u001b[0m\u001b[0;34m\u001b[0m\u001b[0m\n\u001b[1;32m      6\u001b[0m \u001b[0;34m\u001b[0m\u001b[0m\n\u001b[0;32m----> 7\u001b[0;31m trainLoss = train_model(epochs=8,\n\u001b[0m\u001b[1;32m      8\u001b[0m                         \u001b[0mtrain_loader\u001b[0m\u001b[0;34m=\u001b[0m\u001b[0mtrain_loader_2\u001b[0m\u001b[0;34m,\u001b[0m\u001b[0;34m\u001b[0m\u001b[0;34m\u001b[0m\u001b[0m\n\u001b[1;32m      9\u001b[0m                         \u001b[0moptimizer\u001b[0m \u001b[0;34m=\u001b[0m \u001b[0moptimizer\u001b[0m\u001b[0;34m,\u001b[0m\u001b[0;34m\u001b[0m\u001b[0;34m\u001b[0m\u001b[0m\n",
            "\u001b[0;32m<ipython-input-218-c1a6a5cf85b0>\u001b[0m in \u001b[0;36mtrain_model\u001b[0;34m(epochs, train_loader, model, optimizer, criterion)\u001b[0m\n\u001b[1;32m     11\u001b[0m     \u001b[0mrunning_loss_train\u001b[0m \u001b[0;34m=\u001b[0m \u001b[0;36m0.0\u001b[0m\u001b[0;34m\u001b[0m\u001b[0;34m\u001b[0m\u001b[0m\n\u001b[1;32m     12\u001b[0m \u001b[0;34m\u001b[0m\u001b[0m\n\u001b[0;32m---> 13\u001b[0;31m     \u001b[0;32mfor\u001b[0m \u001b[0mdata_batch\u001b[0m\u001b[0;34m,\u001b[0m \u001b[0mtarget_batch\u001b[0m \u001b[0;32min\u001b[0m \u001b[0mtrain_loader\u001b[0m\u001b[0;34m:\u001b[0m\u001b[0;34m\u001b[0m\u001b[0;34m\u001b[0m\u001b[0m\n\u001b[0m\u001b[1;32m     14\u001b[0m \u001b[0;34m\u001b[0m\u001b[0m\n\u001b[1;32m     15\u001b[0m         \u001b[0mdata_batch\u001b[0m \u001b[0;34m=\u001b[0m \u001b[0mdata_batch\u001b[0m\u001b[0;34m.\u001b[0m\u001b[0mto\u001b[0m\u001b[0;34m(\u001b[0m\u001b[0mdevice\u001b[0m\u001b[0;34m)\u001b[0m\u001b[0;34m\u001b[0m\u001b[0;34m\u001b[0m\u001b[0m\n",
            "\u001b[0;32m/usr/local/lib/python3.10/dist-packages/torch/utils/data/dataloader.py\u001b[0m in \u001b[0;36m__next__\u001b[0;34m(self)\u001b[0m\n\u001b[1;32m    628\u001b[0m                 \u001b[0;31m# TODO(https://github.com/pytorch/pytorch/issues/76750)\u001b[0m\u001b[0;34m\u001b[0m\u001b[0;34m\u001b[0m\u001b[0m\n\u001b[1;32m    629\u001b[0m                 \u001b[0mself\u001b[0m\u001b[0;34m.\u001b[0m\u001b[0m_reset\u001b[0m\u001b[0;34m(\u001b[0m\u001b[0;34m)\u001b[0m  \u001b[0;31m# type: ignore[call-arg]\u001b[0m\u001b[0;34m\u001b[0m\u001b[0;34m\u001b[0m\u001b[0m\n\u001b[0;32m--> 630\u001b[0;31m             \u001b[0mdata\u001b[0m \u001b[0;34m=\u001b[0m \u001b[0mself\u001b[0m\u001b[0;34m.\u001b[0m\u001b[0m_next_data\u001b[0m\u001b[0;34m(\u001b[0m\u001b[0;34m)\u001b[0m\u001b[0;34m\u001b[0m\u001b[0;34m\u001b[0m\u001b[0m\n\u001b[0m\u001b[1;32m    631\u001b[0m             \u001b[0mself\u001b[0m\u001b[0;34m.\u001b[0m\u001b[0m_num_yielded\u001b[0m \u001b[0;34m+=\u001b[0m \u001b[0;36m1\u001b[0m\u001b[0;34m\u001b[0m\u001b[0;34m\u001b[0m\u001b[0m\n\u001b[1;32m    632\u001b[0m             \u001b[0;32mif\u001b[0m \u001b[0mself\u001b[0m\u001b[0;34m.\u001b[0m\u001b[0m_dataset_kind\u001b[0m \u001b[0;34m==\u001b[0m \u001b[0m_DatasetKind\u001b[0m\u001b[0;34m.\u001b[0m\u001b[0mIterable\u001b[0m \u001b[0;32mand\u001b[0m\u001b[0;31m \u001b[0m\u001b[0;31m\\\u001b[0m\u001b[0;34m\u001b[0m\u001b[0;34m\u001b[0m\u001b[0m\n",
            "\u001b[0;32m/usr/local/lib/python3.10/dist-packages/torch/utils/data/dataloader.py\u001b[0m in \u001b[0;36m_next_data\u001b[0;34m(self)\u001b[0m\n\u001b[1;32m    672\u001b[0m     \u001b[0;32mdef\u001b[0m \u001b[0m_next_data\u001b[0m\u001b[0;34m(\u001b[0m\u001b[0mself\u001b[0m\u001b[0;34m)\u001b[0m\u001b[0;34m:\u001b[0m\u001b[0;34m\u001b[0m\u001b[0;34m\u001b[0m\u001b[0m\n\u001b[1;32m    673\u001b[0m         \u001b[0mindex\u001b[0m \u001b[0;34m=\u001b[0m \u001b[0mself\u001b[0m\u001b[0;34m.\u001b[0m\u001b[0m_next_index\u001b[0m\u001b[0;34m(\u001b[0m\u001b[0;34m)\u001b[0m  \u001b[0;31m# may raise StopIteration\u001b[0m\u001b[0;34m\u001b[0m\u001b[0;34m\u001b[0m\u001b[0m\n\u001b[0;32m--> 674\u001b[0;31m         \u001b[0mdata\u001b[0m \u001b[0;34m=\u001b[0m \u001b[0mself\u001b[0m\u001b[0;34m.\u001b[0m\u001b[0m_dataset_fetcher\u001b[0m\u001b[0;34m.\u001b[0m\u001b[0mfetch\u001b[0m\u001b[0;34m(\u001b[0m\u001b[0mindex\u001b[0m\u001b[0;34m)\u001b[0m  \u001b[0;31m# may raise StopIteration\u001b[0m\u001b[0;34m\u001b[0m\u001b[0;34m\u001b[0m\u001b[0m\n\u001b[0m\u001b[1;32m    675\u001b[0m         \u001b[0;32mif\u001b[0m \u001b[0mself\u001b[0m\u001b[0;34m.\u001b[0m\u001b[0m_pin_memory\u001b[0m\u001b[0;34m:\u001b[0m\u001b[0;34m\u001b[0m\u001b[0;34m\u001b[0m\u001b[0m\n\u001b[1;32m    676\u001b[0m             \u001b[0mdata\u001b[0m \u001b[0;34m=\u001b[0m \u001b[0m_utils\u001b[0m\u001b[0;34m.\u001b[0m\u001b[0mpin_memory\u001b[0m\u001b[0;34m.\u001b[0m\u001b[0mpin_memory\u001b[0m\u001b[0;34m(\u001b[0m\u001b[0mdata\u001b[0m\u001b[0;34m,\u001b[0m \u001b[0mself\u001b[0m\u001b[0;34m.\u001b[0m\u001b[0m_pin_memory_device\u001b[0m\u001b[0;34m)\u001b[0m\u001b[0;34m\u001b[0m\u001b[0;34m\u001b[0m\u001b[0m\n",
            "\u001b[0;32m/usr/local/lib/python3.10/dist-packages/torch/utils/data/_utils/fetch.py\u001b[0m in \u001b[0;36mfetch\u001b[0;34m(self, possibly_batched_index)\u001b[0m\n\u001b[1;32m     47\u001b[0m         \u001b[0;32mif\u001b[0m \u001b[0mself\u001b[0m\u001b[0;34m.\u001b[0m\u001b[0mauto_collation\u001b[0m\u001b[0;34m:\u001b[0m\u001b[0;34m\u001b[0m\u001b[0;34m\u001b[0m\u001b[0m\n\u001b[1;32m     48\u001b[0m             \u001b[0;32mif\u001b[0m \u001b[0mhasattr\u001b[0m\u001b[0;34m(\u001b[0m\u001b[0mself\u001b[0m\u001b[0;34m.\u001b[0m\u001b[0mdataset\u001b[0m\u001b[0;34m,\u001b[0m \u001b[0;34m\"__getitems__\"\u001b[0m\u001b[0;34m)\u001b[0m \u001b[0;32mand\u001b[0m \u001b[0mself\u001b[0m\u001b[0;34m.\u001b[0m\u001b[0mdataset\u001b[0m\u001b[0;34m.\u001b[0m\u001b[0m__getitems__\u001b[0m\u001b[0;34m:\u001b[0m\u001b[0;34m\u001b[0m\u001b[0;34m\u001b[0m\u001b[0m\n\u001b[0;32m---> 49\u001b[0;31m                 \u001b[0mdata\u001b[0m \u001b[0;34m=\u001b[0m \u001b[0mself\u001b[0m\u001b[0;34m.\u001b[0m\u001b[0mdataset\u001b[0m\u001b[0;34m.\u001b[0m\u001b[0m__getitems__\u001b[0m\u001b[0;34m(\u001b[0m\u001b[0mpossibly_batched_index\u001b[0m\u001b[0;34m)\u001b[0m\u001b[0;34m\u001b[0m\u001b[0;34m\u001b[0m\u001b[0m\n\u001b[0m\u001b[1;32m     50\u001b[0m             \u001b[0;32melse\u001b[0m\u001b[0;34m:\u001b[0m\u001b[0;34m\u001b[0m\u001b[0;34m\u001b[0m\u001b[0m\n\u001b[1;32m     51\u001b[0m                 \u001b[0mdata\u001b[0m \u001b[0;34m=\u001b[0m \u001b[0;34m[\u001b[0m\u001b[0mself\u001b[0m\u001b[0;34m.\u001b[0m\u001b[0mdataset\u001b[0m\u001b[0;34m[\u001b[0m\u001b[0midx\u001b[0m\u001b[0;34m]\u001b[0m \u001b[0;32mfor\u001b[0m \u001b[0midx\u001b[0m \u001b[0;32min\u001b[0m \u001b[0mpossibly_batched_index\u001b[0m\u001b[0;34m]\u001b[0m\u001b[0;34m\u001b[0m\u001b[0;34m\u001b[0m\u001b[0m\n",
            "\u001b[0;32m/usr/local/lib/python3.10/dist-packages/torch/utils/data/dataset.py\u001b[0m in \u001b[0;36m__getitems__\u001b[0;34m(self, indices)\u001b[0m\n\u001b[1;32m    362\u001b[0m             \u001b[0;32mreturn\u001b[0m \u001b[0mself\u001b[0m\u001b[0;34m.\u001b[0m\u001b[0mdataset\u001b[0m\u001b[0;34m.\u001b[0m\u001b[0m__getitems__\u001b[0m\u001b[0;34m(\u001b[0m\u001b[0;34m[\u001b[0m\u001b[0mself\u001b[0m\u001b[0;34m.\u001b[0m\u001b[0mindices\u001b[0m\u001b[0;34m[\u001b[0m\u001b[0midx\u001b[0m\u001b[0;34m]\u001b[0m \u001b[0;32mfor\u001b[0m \u001b[0midx\u001b[0m \u001b[0;32min\u001b[0m \u001b[0mindices\u001b[0m\u001b[0;34m]\u001b[0m\u001b[0;34m)\u001b[0m  \u001b[0;31m# type: ignore[attr-defined]\u001b[0m\u001b[0;34m\u001b[0m\u001b[0;34m\u001b[0m\u001b[0m\n\u001b[1;32m    363\u001b[0m         \u001b[0;32melse\u001b[0m\u001b[0;34m:\u001b[0m\u001b[0;34m\u001b[0m\u001b[0;34m\u001b[0m\u001b[0m\n\u001b[0;32m--> 364\u001b[0;31m             \u001b[0;32mreturn\u001b[0m \u001b[0;34m[\u001b[0m\u001b[0mself\u001b[0m\u001b[0;34m.\u001b[0m\u001b[0mdataset\u001b[0m\u001b[0;34m[\u001b[0m\u001b[0mself\u001b[0m\u001b[0;34m.\u001b[0m\u001b[0mindices\u001b[0m\u001b[0;34m[\u001b[0m\u001b[0midx\u001b[0m\u001b[0;34m]\u001b[0m\u001b[0;34m]\u001b[0m \u001b[0;32mfor\u001b[0m \u001b[0midx\u001b[0m \u001b[0;32min\u001b[0m \u001b[0mindices\u001b[0m\u001b[0;34m]\u001b[0m\u001b[0;34m\u001b[0m\u001b[0;34m\u001b[0m\u001b[0m\n\u001b[0m\u001b[1;32m    365\u001b[0m \u001b[0;34m\u001b[0m\u001b[0m\n\u001b[1;32m    366\u001b[0m     \u001b[0;32mdef\u001b[0m \u001b[0m__len__\u001b[0m\u001b[0;34m(\u001b[0m\u001b[0mself\u001b[0m\u001b[0;34m)\u001b[0m\u001b[0;34m:\u001b[0m\u001b[0;34m\u001b[0m\u001b[0;34m\u001b[0m\u001b[0m\n",
            "\u001b[0;32m/usr/local/lib/python3.10/dist-packages/torch/utils/data/dataset.py\u001b[0m in \u001b[0;36m<listcomp>\u001b[0;34m(.0)\u001b[0m\n\u001b[1;32m    362\u001b[0m             \u001b[0;32mreturn\u001b[0m \u001b[0mself\u001b[0m\u001b[0;34m.\u001b[0m\u001b[0mdataset\u001b[0m\u001b[0;34m.\u001b[0m\u001b[0m__getitems__\u001b[0m\u001b[0;34m(\u001b[0m\u001b[0;34m[\u001b[0m\u001b[0mself\u001b[0m\u001b[0;34m.\u001b[0m\u001b[0mindices\u001b[0m\u001b[0;34m[\u001b[0m\u001b[0midx\u001b[0m\u001b[0;34m]\u001b[0m \u001b[0;32mfor\u001b[0m \u001b[0midx\u001b[0m \u001b[0;32min\u001b[0m \u001b[0mindices\u001b[0m\u001b[0;34m]\u001b[0m\u001b[0;34m)\u001b[0m  \u001b[0;31m# type: ignore[attr-defined]\u001b[0m\u001b[0;34m\u001b[0m\u001b[0;34m\u001b[0m\u001b[0m\n\u001b[1;32m    363\u001b[0m         \u001b[0;32melse\u001b[0m\u001b[0;34m:\u001b[0m\u001b[0;34m\u001b[0m\u001b[0;34m\u001b[0m\u001b[0m\n\u001b[0;32m--> 364\u001b[0;31m             \u001b[0;32mreturn\u001b[0m \u001b[0;34m[\u001b[0m\u001b[0mself\u001b[0m\u001b[0;34m.\u001b[0m\u001b[0mdataset\u001b[0m\u001b[0;34m[\u001b[0m\u001b[0mself\u001b[0m\u001b[0;34m.\u001b[0m\u001b[0mindices\u001b[0m\u001b[0;34m[\u001b[0m\u001b[0midx\u001b[0m\u001b[0;34m]\u001b[0m\u001b[0;34m]\u001b[0m \u001b[0;32mfor\u001b[0m \u001b[0midx\u001b[0m \u001b[0;32min\u001b[0m \u001b[0mindices\u001b[0m\u001b[0;34m]\u001b[0m\u001b[0;34m\u001b[0m\u001b[0;34m\u001b[0m\u001b[0m\n\u001b[0m\u001b[1;32m    365\u001b[0m \u001b[0;34m\u001b[0m\u001b[0m\n\u001b[1;32m    366\u001b[0m     \u001b[0;32mdef\u001b[0m \u001b[0m__len__\u001b[0m\u001b[0;34m(\u001b[0m\u001b[0mself\u001b[0m\u001b[0;34m)\u001b[0m\u001b[0;34m:\u001b[0m\u001b[0;34m\u001b[0m\u001b[0;34m\u001b[0m\u001b[0m\n",
            "\u001b[0;32m/usr/local/lib/python3.10/dist-packages/torchvision/datasets/mnist.py\u001b[0m in \u001b[0;36m__getitem__\u001b[0;34m(self, index)\u001b[0m\n\u001b[1;32m    143\u001b[0m \u001b[0;34m\u001b[0m\u001b[0m\n\u001b[1;32m    144\u001b[0m         \u001b[0;32mif\u001b[0m \u001b[0mself\u001b[0m\u001b[0;34m.\u001b[0m\u001b[0mtransform\u001b[0m \u001b[0;32mis\u001b[0m \u001b[0;32mnot\u001b[0m \u001b[0;32mNone\u001b[0m\u001b[0;34m:\u001b[0m\u001b[0;34m\u001b[0m\u001b[0;34m\u001b[0m\u001b[0m\n\u001b[0;32m--> 145\u001b[0;31m             \u001b[0mimg\u001b[0m \u001b[0;34m=\u001b[0m \u001b[0mself\u001b[0m\u001b[0;34m.\u001b[0m\u001b[0mtransform\u001b[0m\u001b[0;34m(\u001b[0m\u001b[0mimg\u001b[0m\u001b[0;34m)\u001b[0m\u001b[0;34m\u001b[0m\u001b[0;34m\u001b[0m\u001b[0m\n\u001b[0m\u001b[1;32m    146\u001b[0m \u001b[0;34m\u001b[0m\u001b[0m\n\u001b[1;32m    147\u001b[0m         \u001b[0;32mif\u001b[0m \u001b[0mself\u001b[0m\u001b[0;34m.\u001b[0m\u001b[0mtarget_transform\u001b[0m \u001b[0;32mis\u001b[0m \u001b[0;32mnot\u001b[0m \u001b[0;32mNone\u001b[0m\u001b[0;34m:\u001b[0m\u001b[0;34m\u001b[0m\u001b[0;34m\u001b[0m\u001b[0m\n",
            "\u001b[0;32m/usr/local/lib/python3.10/dist-packages/torchvision/transforms/transforms.py\u001b[0m in \u001b[0;36m__call__\u001b[0;34m(self, img)\u001b[0m\n\u001b[1;32m     93\u001b[0m     \u001b[0;32mdef\u001b[0m \u001b[0m__call__\u001b[0m\u001b[0;34m(\u001b[0m\u001b[0mself\u001b[0m\u001b[0;34m,\u001b[0m \u001b[0mimg\u001b[0m\u001b[0;34m)\u001b[0m\u001b[0;34m:\u001b[0m\u001b[0;34m\u001b[0m\u001b[0;34m\u001b[0m\u001b[0m\n\u001b[1;32m     94\u001b[0m         \u001b[0;32mfor\u001b[0m \u001b[0mt\u001b[0m \u001b[0;32min\u001b[0m \u001b[0mself\u001b[0m\u001b[0;34m.\u001b[0m\u001b[0mtransforms\u001b[0m\u001b[0;34m:\u001b[0m\u001b[0;34m\u001b[0m\u001b[0;34m\u001b[0m\u001b[0m\n\u001b[0;32m---> 95\u001b[0;31m             \u001b[0mimg\u001b[0m \u001b[0;34m=\u001b[0m \u001b[0mt\u001b[0m\u001b[0;34m(\u001b[0m\u001b[0mimg\u001b[0m\u001b[0;34m)\u001b[0m\u001b[0;34m\u001b[0m\u001b[0;34m\u001b[0m\u001b[0m\n\u001b[0m\u001b[1;32m     96\u001b[0m         \u001b[0;32mreturn\u001b[0m \u001b[0mimg\u001b[0m\u001b[0;34m\u001b[0m\u001b[0;34m\u001b[0m\u001b[0m\n\u001b[1;32m     97\u001b[0m \u001b[0;34m\u001b[0m\u001b[0m\n",
            "\u001b[0;32m/usr/local/lib/python3.10/dist-packages/torch/nn/modules/module.py\u001b[0m in \u001b[0;36m_wrapped_call_impl\u001b[0;34m(self, *args, **kwargs)\u001b[0m\n\u001b[1;32m   1516\u001b[0m             \u001b[0;32mreturn\u001b[0m \u001b[0mself\u001b[0m\u001b[0;34m.\u001b[0m\u001b[0m_compiled_call_impl\u001b[0m\u001b[0;34m(\u001b[0m\u001b[0;34m*\u001b[0m\u001b[0margs\u001b[0m\u001b[0;34m,\u001b[0m \u001b[0;34m**\u001b[0m\u001b[0mkwargs\u001b[0m\u001b[0;34m)\u001b[0m  \u001b[0;31m# type: ignore[misc]\u001b[0m\u001b[0;34m\u001b[0m\u001b[0;34m\u001b[0m\u001b[0m\n\u001b[1;32m   1517\u001b[0m         \u001b[0;32melse\u001b[0m\u001b[0;34m:\u001b[0m\u001b[0;34m\u001b[0m\u001b[0;34m\u001b[0m\u001b[0m\n\u001b[0;32m-> 1518\u001b[0;31m             \u001b[0;32mreturn\u001b[0m \u001b[0mself\u001b[0m\u001b[0;34m.\u001b[0m\u001b[0m_call_impl\u001b[0m\u001b[0;34m(\u001b[0m\u001b[0;34m*\u001b[0m\u001b[0margs\u001b[0m\u001b[0;34m,\u001b[0m \u001b[0;34m**\u001b[0m\u001b[0mkwargs\u001b[0m\u001b[0;34m)\u001b[0m\u001b[0;34m\u001b[0m\u001b[0;34m\u001b[0m\u001b[0m\n\u001b[0m\u001b[1;32m   1519\u001b[0m \u001b[0;34m\u001b[0m\u001b[0m\n\u001b[1;32m   1520\u001b[0m     \u001b[0;32mdef\u001b[0m \u001b[0m_call_impl\u001b[0m\u001b[0;34m(\u001b[0m\u001b[0mself\u001b[0m\u001b[0;34m,\u001b[0m \u001b[0;34m*\u001b[0m\u001b[0margs\u001b[0m\u001b[0;34m,\u001b[0m \u001b[0;34m**\u001b[0m\u001b[0mkwargs\u001b[0m\u001b[0;34m)\u001b[0m\u001b[0;34m:\u001b[0m\u001b[0;34m\u001b[0m\u001b[0;34m\u001b[0m\u001b[0m\n",
            "\u001b[0;32m/usr/local/lib/python3.10/dist-packages/torch/nn/modules/module.py\u001b[0m in \u001b[0;36m_call_impl\u001b[0;34m(self, *args, **kwargs)\u001b[0m\n\u001b[1;32m   1525\u001b[0m                 \u001b[0;32mor\u001b[0m \u001b[0m_global_backward_pre_hooks\u001b[0m \u001b[0;32mor\u001b[0m \u001b[0m_global_backward_hooks\u001b[0m\u001b[0;34m\u001b[0m\u001b[0;34m\u001b[0m\u001b[0m\n\u001b[1;32m   1526\u001b[0m                 or _global_forward_hooks or _global_forward_pre_hooks):\n\u001b[0;32m-> 1527\u001b[0;31m             \u001b[0;32mreturn\u001b[0m \u001b[0mforward_call\u001b[0m\u001b[0;34m(\u001b[0m\u001b[0;34m*\u001b[0m\u001b[0margs\u001b[0m\u001b[0;34m,\u001b[0m \u001b[0;34m**\u001b[0m\u001b[0mkwargs\u001b[0m\u001b[0;34m)\u001b[0m\u001b[0;34m\u001b[0m\u001b[0;34m\u001b[0m\u001b[0m\n\u001b[0m\u001b[1;32m   1528\u001b[0m \u001b[0;34m\u001b[0m\u001b[0m\n\u001b[1;32m   1529\u001b[0m         \u001b[0;32mtry\u001b[0m\u001b[0;34m:\u001b[0m\u001b[0;34m\u001b[0m\u001b[0;34m\u001b[0m\u001b[0m\n",
            "\u001b[0;32m/usr/local/lib/python3.10/dist-packages/torchvision/transforms/transforms.py\u001b[0m in \u001b[0;36mforward\u001b[0;34m(self, tensor)\u001b[0m\n\u001b[1;32m    275\u001b[0m             \u001b[0mTensor\u001b[0m\u001b[0;34m:\u001b[0m \u001b[0mNormalized\u001b[0m \u001b[0mTensor\u001b[0m \u001b[0mimage\u001b[0m\u001b[0;34m.\u001b[0m\u001b[0;34m\u001b[0m\u001b[0;34m\u001b[0m\u001b[0m\n\u001b[1;32m    276\u001b[0m         \"\"\"\n\u001b[0;32m--> 277\u001b[0;31m         \u001b[0;32mreturn\u001b[0m \u001b[0mF\u001b[0m\u001b[0;34m.\u001b[0m\u001b[0mnormalize\u001b[0m\u001b[0;34m(\u001b[0m\u001b[0mtensor\u001b[0m\u001b[0;34m,\u001b[0m \u001b[0mself\u001b[0m\u001b[0;34m.\u001b[0m\u001b[0mmean\u001b[0m\u001b[0;34m,\u001b[0m \u001b[0mself\u001b[0m\u001b[0;34m.\u001b[0m\u001b[0mstd\u001b[0m\u001b[0;34m,\u001b[0m \u001b[0mself\u001b[0m\u001b[0;34m.\u001b[0m\u001b[0minplace\u001b[0m\u001b[0;34m)\u001b[0m\u001b[0;34m\u001b[0m\u001b[0;34m\u001b[0m\u001b[0m\n\u001b[0m\u001b[1;32m    278\u001b[0m \u001b[0;34m\u001b[0m\u001b[0m\n\u001b[1;32m    279\u001b[0m     \u001b[0;32mdef\u001b[0m \u001b[0m__repr__\u001b[0m\u001b[0;34m(\u001b[0m\u001b[0mself\u001b[0m\u001b[0;34m)\u001b[0m \u001b[0;34m->\u001b[0m \u001b[0mstr\u001b[0m\u001b[0;34m:\u001b[0m\u001b[0;34m\u001b[0m\u001b[0;34m\u001b[0m\u001b[0m\n",
            "\u001b[0;32m/usr/local/lib/python3.10/dist-packages/torchvision/transforms/functional.py\u001b[0m in \u001b[0;36mnormalize\u001b[0;34m(tensor, mean, std, inplace)\u001b[0m\n\u001b[1;32m    361\u001b[0m         \u001b[0;32mraise\u001b[0m \u001b[0mTypeError\u001b[0m\u001b[0;34m(\u001b[0m\u001b[0;34mf\"img should be Tensor Image. Got {type(tensor)}\"\u001b[0m\u001b[0;34m)\u001b[0m\u001b[0;34m\u001b[0m\u001b[0;34m\u001b[0m\u001b[0m\n\u001b[1;32m    362\u001b[0m \u001b[0;34m\u001b[0m\u001b[0m\n\u001b[0;32m--> 363\u001b[0;31m     \u001b[0;32mreturn\u001b[0m \u001b[0mF_t\u001b[0m\u001b[0;34m.\u001b[0m\u001b[0mnormalize\u001b[0m\u001b[0;34m(\u001b[0m\u001b[0mtensor\u001b[0m\u001b[0;34m,\u001b[0m \u001b[0mmean\u001b[0m\u001b[0;34m=\u001b[0m\u001b[0mmean\u001b[0m\u001b[0;34m,\u001b[0m \u001b[0mstd\u001b[0m\u001b[0;34m=\u001b[0m\u001b[0mstd\u001b[0m\u001b[0;34m,\u001b[0m \u001b[0minplace\u001b[0m\u001b[0;34m=\u001b[0m\u001b[0minplace\u001b[0m\u001b[0;34m)\u001b[0m\u001b[0;34m\u001b[0m\u001b[0;34m\u001b[0m\u001b[0m\n\u001b[0m\u001b[1;32m    364\u001b[0m \u001b[0;34m\u001b[0m\u001b[0m\n\u001b[1;32m    365\u001b[0m \u001b[0;34m\u001b[0m\u001b[0m\n",
            "\u001b[0;32m/usr/local/lib/python3.10/dist-packages/torchvision/transforms/_functional_tensor.py\u001b[0m in \u001b[0;36mnormalize\u001b[0;34m(tensor, mean, std, inplace)\u001b[0m\n\u001b[1;32m    918\u001b[0m \u001b[0;34m\u001b[0m\u001b[0m\n\u001b[1;32m    919\u001b[0m     \u001b[0mdtype\u001b[0m \u001b[0;34m=\u001b[0m \u001b[0mtensor\u001b[0m\u001b[0;34m.\u001b[0m\u001b[0mdtype\u001b[0m\u001b[0;34m\u001b[0m\u001b[0;34m\u001b[0m\u001b[0m\n\u001b[0;32m--> 920\u001b[0;31m     \u001b[0mmean\u001b[0m \u001b[0;34m=\u001b[0m \u001b[0mtorch\u001b[0m\u001b[0;34m.\u001b[0m\u001b[0mas_tensor\u001b[0m\u001b[0;34m(\u001b[0m\u001b[0mmean\u001b[0m\u001b[0;34m,\u001b[0m \u001b[0mdtype\u001b[0m\u001b[0;34m=\u001b[0m\u001b[0mdtype\u001b[0m\u001b[0;34m,\u001b[0m \u001b[0mdevice\u001b[0m\u001b[0;34m=\u001b[0m\u001b[0mtensor\u001b[0m\u001b[0;34m.\u001b[0m\u001b[0mdevice\u001b[0m\u001b[0;34m)\u001b[0m\u001b[0;34m\u001b[0m\u001b[0;34m\u001b[0m\u001b[0m\n\u001b[0m\u001b[1;32m    921\u001b[0m     \u001b[0mstd\u001b[0m \u001b[0;34m=\u001b[0m \u001b[0mtorch\u001b[0m\u001b[0;34m.\u001b[0m\u001b[0mas_tensor\u001b[0m\u001b[0;34m(\u001b[0m\u001b[0mstd\u001b[0m\u001b[0;34m,\u001b[0m \u001b[0mdtype\u001b[0m\u001b[0;34m=\u001b[0m\u001b[0mdtype\u001b[0m\u001b[0;34m,\u001b[0m \u001b[0mdevice\u001b[0m\u001b[0;34m=\u001b[0m\u001b[0mtensor\u001b[0m\u001b[0;34m.\u001b[0m\u001b[0mdevice\u001b[0m\u001b[0;34m)\u001b[0m\u001b[0;34m\u001b[0m\u001b[0;34m\u001b[0m\u001b[0m\n\u001b[1;32m    922\u001b[0m     \u001b[0;32mif\u001b[0m \u001b[0;34m(\u001b[0m\u001b[0mstd\u001b[0m \u001b[0;34m==\u001b[0m \u001b[0;36m0\u001b[0m\u001b[0;34m)\u001b[0m\u001b[0;34m.\u001b[0m\u001b[0many\u001b[0m\u001b[0;34m(\u001b[0m\u001b[0;34m)\u001b[0m\u001b[0;34m:\u001b[0m\u001b[0;34m\u001b[0m\u001b[0;34m\u001b[0m\u001b[0m\n",
            "\u001b[0;31mKeyboardInterrupt\u001b[0m: "
          ]
        }
      ]
    },
    {
      "cell_type": "code",
      "source": [
        "for r in lora_model.named_parameters():\n",
        "  print(r)\n",
        "\n"
      ],
      "metadata": {
        "id": "e2hiSYb64oBc"
      },
      "execution_count": null,
      "outputs": []
    },
    {
      "cell_type": "code",
      "source": [
        "class LoRaModel(nn.Module):\n",
        "  def __init__(self, r: int, alpha: int, input_dims: int, input_hidden_size: 1000, hidden_layer_size:2000, num_class:int):\n",
        "    super().__init__()\n",
        "    self.r = r\n",
        "    self.alpha_lora = alpha\n",
        "    self.input_dims = input_dims\n",
        "    self.input_hidden_size = input_hidden_size\n",
        "    self.hidden_layer_size = hidden_layer_size\n",
        "    self.num_class = num_class\n",
        "\n",
        "    self.input_layer = nn.Linear(in_features=self.input_dims, out_features=self.input_hidden_size)\n",
        "    self.input_layer.weight.requires_grad = False\n",
        "\n",
        "    self.hidden_layer = nn.Linear(in_features=self.input_hidden_size, out_features=self.hidden_layer_size)\n",
        "    self.hidden_layer.weight.requires_grad = False\n",
        "\n",
        "    self.output_layer = nn.Linear(in_features=self.hidden_layer_size, out_features=self.num_class)\n",
        "    self.output_layer.weight.requires_grad = False\n",
        "\n",
        "\n",
        "    self.input_layer_lora = LoraLinear(r=self.r, in_features=self.input_dims, out_features=self.input_hidden_size)\n",
        "    self.hidden_layer_lora = LoraLinear(r=self.r, in_features=self.input_hidden_size, out_features=self.hidden_layer_size)\n",
        "    self.out_layer_lora = LoraLinear(r=self.r, in_features=self.hidden_layer_size, out_features=self.num_class)\n",
        "\n",
        "    for n,p in self.named_parameters():\n",
        "      if 'lora' not in n:\n",
        "          p.requires_grad = False\n",
        "      else:\n",
        "          print(p)\n",
        "          p.requires_grad = True\n",
        "\n",
        "\n",
        "\n",
        "  def forward(self, x):\n",
        "\n",
        "      x = F.relu(self.input_layer(x) + self.alpha_lora * self.input_layer_lora(x))\n",
        "      x = F.relu(self.hidden_layer(x) + self.alpha_lora * self.hidden_layer_lora(x))\n",
        "      x = self.output_layer(x) + self.alpha_lora * self.out_layer_lora(x)\n",
        "      print(x)\n",
        "      return x\n",
        "\n"
      ],
      "metadata": {
        "id": "p0rJAQsD18uH"
      },
      "execution_count": 140,
      "outputs": []
    },
    {
      "cell_type": "code",
      "source": [
        "lora_model = LoRaModel(r=4, alpha=1, input_dims=784,input_hidden_size=1000, hidden_layer_size=2000, num_class=10)\n",
        "lora_model.load_state_dict(torch.load('model.pt'), strict=False)\n"
      ],
      "metadata": {
        "id": "YTPUyJBlSAmP",
        "colab": {
          "base_uri": "https://localhost:8080/"
        },
        "outputId": "322f7a9a-d603-45f3-d033-afe6b12f39d3"
      },
      "execution_count": 141,
      "outputs": [
        {
          "output_type": "stream",
          "name": "stdout",
          "text": [
            "Parameter containing:\n",
            "tensor([[ 0.3989, -0.4003, -0.2264,  0.4871],\n",
            "        [ 0.1628, -0.1742,  0.2930, -0.2645],\n",
            "        [-0.1583,  0.4681, -0.1570,  0.2083],\n",
            "        ...,\n",
            "        [ 0.2251, -0.2020,  0.3187, -0.2260],\n",
            "        [-0.2719, -0.4492, -0.2094, -0.2634],\n",
            "        [ 0.3205,  0.0388, -0.2984, -0.2673]], requires_grad=True)\n",
            "Parameter containing:\n",
            "tensor([[0., 0., 0.,  ..., 0., 0., 0.],\n",
            "        [0., 0., 0.,  ..., 0., 0., 0.],\n",
            "        [0., 0., 0.,  ..., 0., 0., 0.],\n",
            "        [0., 0., 0.,  ..., 0., 0., 0.]], requires_grad=True)\n",
            "Parameter containing:\n",
            "tensor([[-0.4085,  0.2910,  0.4968,  0.4928],\n",
            "        [ 0.2094,  0.3295, -0.3667, -0.1225],\n",
            "        [ 0.0919, -0.0688,  0.3607,  0.2574],\n",
            "        ...,\n",
            "        [-0.0680, -0.0631,  0.0755,  0.2613],\n",
            "        [ 0.0585,  0.3708, -0.0324, -0.4550],\n",
            "        [ 0.0105, -0.2570, -0.1873,  0.1390]], requires_grad=True)\n",
            "Parameter containing:\n",
            "tensor([[0., 0., 0.,  ..., 0., 0., 0.],\n",
            "        [0., 0., 0.,  ..., 0., 0., 0.],\n",
            "        [0., 0., 0.,  ..., 0., 0., 0.],\n",
            "        [0., 0., 0.,  ..., 0., 0., 0.]], requires_grad=True)\n",
            "Parameter containing:\n",
            "tensor([[ 0.1854,  0.1500, -0.0579, -0.2456],\n",
            "        [ 0.2948,  0.4971,  0.1936, -0.2354],\n",
            "        [-0.0169, -0.0330, -0.2021,  0.1037],\n",
            "        ...,\n",
            "        [-0.1860, -0.2772,  0.3225,  0.0706],\n",
            "        [-0.2174,  0.0949, -0.1827,  0.1590],\n",
            "        [-0.1057,  0.0017, -0.2337, -0.0911]], requires_grad=True)\n",
            "Parameter containing:\n",
            "tensor([[0., 0., 0., 0., 0., 0., 0., 0., 0., 0.],\n",
            "        [0., 0., 0., 0., 0., 0., 0., 0., 0., 0.],\n",
            "        [0., 0., 0., 0., 0., 0., 0., 0., 0., 0.],\n",
            "        [0., 0., 0., 0., 0., 0., 0., 0., 0., 0.]], requires_grad=True)\n"
          ]
        },
        {
          "output_type": "execute_result",
          "data": {
            "text/plain": [
              "_IncompatibleKeys(missing_keys=['input_layer_lora.lora_A', 'input_layer_lora.lora_B', 'hidden_layer_lora.lora_A', 'hidden_layer_lora.lora_B', 'out_layer_lora.lora_A', 'out_layer_lora.lora_B'], unexpected_keys=[])"
            ]
          },
          "metadata": {},
          "execution_count": 141
        }
      ]
    },
    {
      "cell_type": "code",
      "source": [
        "for name, param in lora_model.named_parameters():\n",
        "    if param.requires_grad:\n",
        "        print(f\"{name}: {param.shape}\")\n",
        "\n",
        "trainable_params = sum(p.numel() for p in lora_model.parameters() if p.requires_grad)\n",
        "print(f'Number of trainable (tunable) parameters: {trainable_params}')"
      ],
      "metadata": {
        "colab": {
          "base_uri": "https://localhost:8080/"
        },
        "id": "-IBByXMDXVYz",
        "outputId": "e612b43e-aef7-49e3-952c-560e5256e91e"
      },
      "execution_count": 142,
      "outputs": [
        {
          "output_type": "stream",
          "name": "stdout",
          "text": [
            "input_layer_lora.lora_A: torch.Size([784, 4])\n",
            "input_layer_lora.lora_B: torch.Size([4, 1000])\n",
            "hidden_layer_lora.lora_A: torch.Size([1000, 4])\n",
            "hidden_layer_lora.lora_B: torch.Size([4, 2000])\n",
            "out_layer_lora.lora_A: torch.Size([2000, 4])\n",
            "out_layer_lora.lora_B: torch.Size([4, 10])\n",
            "Number of trainable (tunable) parameters: 27176\n"
          ]
        }
      ]
    },
    {
      "cell_type": "code",
      "source": [
        "lora_model.to('cpu')\n",
        "\n",
        "trainLoss = train_model(epochs=2,\n",
        "                        train_loader=train_loader_2,\n",
        "                        optimizer = optimizer,\n",
        "                        criterion=criterion,\n",
        "                        model=lora_model,\n",
        "                        )\n",
        "\n",
        "# lora_model.load_state_dict(torch.load('model.pt'), strict=False)\n",
        "\n",
        "test(\n",
        "      test_loader=test_loader,\n",
        "      net=lora_model,\n",
        ")"
      ],
      "metadata": {
        "id": "xCnxB3AEFznS"
      },
      "execution_count": null,
      "outputs": []
    },
    {
      "cell_type": "code",
      "source": [
        "lora_model"
      ],
      "metadata": {
        "id": "FUwA26f5YheK"
      },
      "execution_count": null,
      "outputs": []
    },
    {
      "cell_type": "code",
      "source": [
        "lora_model.load_state_dict(torch.load('model.pt'), strict=False)\n",
        "test(\n",
        "      test_loader=test_loader,\n",
        "      net=lora_model,\n",
        ")"
      ],
      "metadata": {
        "colab": {
          "base_uri": "https://localhost:8080/"
        },
        "id": "Q78cR-xSYaWP",
        "outputId": "38d3673b-d4d2-44fb-a5a0-31e53fdccb82"
      },
      "execution_count": 39,
      "outputs": [
        {
          "output_type": "stream",
          "name": "stdout",
          "text": [
            "Accuracy: 0.455\n",
            "wrong counts for the Label 0: 71\n",
            "wrong counts for the Label 1: 19\n",
            "wrong counts for the Label 2: 139\n",
            "wrong counts for the Label 3: 94\n",
            "wrong counts for the Label 4: 132\n",
            "wrong counts for the Label 5: 1000\n",
            "wrong counts for the Label 6: 1000\n",
            "wrong counts for the Label 7: 1000\n",
            "wrong counts for the Label 8: 1000\n",
            "wrong counts for the Label 9: 1000\n"
          ]
        }
      ]
    },
    {
      "cell_type": "code",
      "source": [
        "for param in lora_model.named_parameters():\n",
        "  print(param)"
      ],
      "metadata": {
        "colab": {
          "base_uri": "https://localhost:8080/"
        },
        "id": "RG-3KGkl2pjh",
        "outputId": "7d92539c-83a6-4432-d033-e5749e6dd9d3"
      },
      "execution_count": 147,
      "outputs": [
        {
          "output_type": "stream",
          "name": "stdout",
          "text": [
            "('input_layer.weight', Parameter containing:\n",
            "tensor([[-0.0268,  0.0316,  0.0199,  ...,  0.0339, -0.0270, -0.0305],\n",
            "        [ 0.0249, -0.0051, -0.0147,  ..., -0.0015, -0.0298,  0.0050],\n",
            "        [ 0.0295, -0.0041,  0.0277,  ..., -0.0017, -0.0306, -0.0130],\n",
            "        ...,\n",
            "        [-0.0254,  0.0205, -0.0248,  ...,  0.0164,  0.0216,  0.0199],\n",
            "        [-0.0004,  0.0293, -0.0250,  ...,  0.0060, -0.0239, -0.0178],\n",
            "        [ 0.0123, -0.0239,  0.0134,  ...,  0.0274, -0.0184,  0.0165]]))\n",
            "('input_layer.bias', Parameter containing:\n",
            "tensor([-0.0280, -0.0219, -0.0354,  0.0120, -0.0057,  0.0361,  0.0207, -0.0018,\n",
            "        -0.0111, -0.0316, -0.0276,  0.0194, -0.0133,  0.0030,  0.0223,  0.0170,\n",
            "         0.0016,  0.0278,  0.0074, -0.0332,  0.0064,  0.0039, -0.0094, -0.0172,\n",
            "        -0.0184, -0.0036, -0.0032,  0.0351, -0.0221,  0.0058,  0.0079,  0.0214,\n",
            "         0.0235, -0.0137,  0.0140,  0.0220,  0.0298, -0.0074, -0.0003,  0.0264,\n",
            "         0.0063,  0.0074,  0.0289,  0.0317,  0.0137,  0.0034, -0.0228,  0.0102,\n",
            "        -0.0020, -0.0041,  0.0270,  0.0014, -0.0005,  0.0245, -0.0295,  0.0336,\n",
            "        -0.0137,  0.0126,  0.0332, -0.0074,  0.0341,  0.0309, -0.0223, -0.0162,\n",
            "        -0.0259,  0.0202, -0.0293,  0.0057, -0.0219, -0.0055, -0.0178,  0.0307,\n",
            "         0.0007,  0.0003, -0.0180,  0.0093, -0.0109,  0.0297,  0.0335,  0.0184,\n",
            "         0.0350, -0.0191,  0.0170, -0.0097, -0.0242, -0.0224, -0.0322,  0.0316,\n",
            "         0.0344, -0.0293, -0.0290,  0.0125,  0.0254,  0.0129,  0.0214, -0.0172,\n",
            "         0.0246,  0.0269,  0.0081, -0.0304,  0.0030, -0.0260, -0.0188, -0.0341,\n",
            "         0.0328, -0.0220,  0.0024, -0.0076, -0.0129, -0.0118,  0.0105,  0.0050,\n",
            "         0.0328,  0.0096, -0.0027, -0.0219,  0.0024,  0.0038, -0.0037, -0.0128,\n",
            "        -0.0011,  0.0073,  0.0006,  0.0291,  0.0145,  0.0005,  0.0214, -0.0041,\n",
            "        -0.0327,  0.0294, -0.0120, -0.0006,  0.0264, -0.0241,  0.0092,  0.0195,\n",
            "        -0.0199,  0.0222, -0.0055,  0.0244, -0.0032,  0.0196, -0.0313,  0.0076,\n",
            "        -0.0221,  0.0231,  0.0217, -0.0118,  0.0019,  0.0322, -0.0136,  0.0225,\n",
            "         0.0324, -0.0301,  0.0181, -0.0028, -0.0312, -0.0273, -0.0107, -0.0326,\n",
            "         0.0335,  0.0024,  0.0263, -0.0093,  0.0080, -0.0138,  0.0274,  0.0244,\n",
            "        -0.0124,  0.0195,  0.0241,  0.0015,  0.0100, -0.0101,  0.0018,  0.0158,\n",
            "         0.0172,  0.0044,  0.0292,  0.0009, -0.0090, -0.0188, -0.0244,  0.0315,\n",
            "         0.0135, -0.0278, -0.0326, -0.0064, -0.0066,  0.0122, -0.0188,  0.0016,\n",
            "        -0.0017,  0.0306,  0.0223, -0.0242,  0.0135, -0.0237, -0.0242,  0.0182,\n",
            "         0.0270,  0.0149, -0.0056, -0.0310, -0.0168,  0.0309, -0.0161,  0.0227,\n",
            "         0.0238,  0.0141,  0.0329,  0.0044, -0.0155, -0.0272, -0.0357, -0.0097,\n",
            "        -0.0009, -0.0325,  0.0305,  0.0305,  0.0049, -0.0291,  0.0162, -0.0318,\n",
            "         0.0035, -0.0238, -0.0317, -0.0034, -0.0333,  0.0084, -0.0222,  0.0279,\n",
            "         0.0190,  0.0275,  0.0304,  0.0103,  0.0144, -0.0036,  0.0025, -0.0239,\n",
            "         0.0234,  0.0220,  0.0012,  0.0289,  0.0152, -0.0020,  0.0301, -0.0126,\n",
            "        -0.0088,  0.0137, -0.0243,  0.0094,  0.0052, -0.0115, -0.0308, -0.0151,\n",
            "        -0.0315,  0.0341,  0.0026, -0.0045, -0.0093,  0.0316,  0.0059, -0.0005,\n",
            "        -0.0241, -0.0107, -0.0170, -0.0068, -0.0246,  0.0348,  0.0079, -0.0242,\n",
            "         0.0125,  0.0312,  0.0241, -0.0148, -0.0028, -0.0296,  0.0130, -0.0161,\n",
            "        -0.0053,  0.0305,  0.0334,  0.0152,  0.0091, -0.0070, -0.0122,  0.0145,\n",
            "        -0.0020, -0.0255,  0.0115,  0.0022,  0.0162,  0.0112,  0.0145,  0.0325,\n",
            "         0.0040,  0.0248,  0.0012, -0.0293, -0.0234, -0.0224, -0.0195,  0.0322,\n",
            "        -0.0141, -0.0077, -0.0057,  0.0003,  0.0237,  0.0307,  0.0099,  0.0142,\n",
            "        -0.0092,  0.0129, -0.0310,  0.0172,  0.0100,  0.0241,  0.0026, -0.0071,\n",
            "         0.0318, -0.0256,  0.0268,  0.0190,  0.0241,  0.0109,  0.0033,  0.0129,\n",
            "         0.0076, -0.0068,  0.0130,  0.0043, -0.0071, -0.0308, -0.0023,  0.0144,\n",
            "        -0.0251,  0.0073,  0.0282, -0.0090,  0.0363,  0.0101,  0.0194,  0.0313,\n",
            "        -0.0127,  0.0048,  0.0228,  0.0262, -0.0107, -0.0142, -0.0305,  0.0036,\n",
            "         0.0217,  0.0287,  0.0030, -0.0272,  0.0109,  0.0207, -0.0142, -0.0284,\n",
            "        -0.0334, -0.0160,  0.0239, -0.0344, -0.0344, -0.0142,  0.0247, -0.0219,\n",
            "         0.0167,  0.0257, -0.0053,  0.0097,  0.0078,  0.0062,  0.0238,  0.0038,\n",
            "         0.0272, -0.0329, -0.0064, -0.0279,  0.0169,  0.0364,  0.0087, -0.0010,\n",
            "        -0.0094, -0.0122,  0.0322,  0.0152,  0.0033, -0.0285, -0.0062, -0.0336,\n",
            "        -0.0265, -0.0243,  0.0100,  0.0085,  0.0210,  0.0157,  0.0226, -0.0132,\n",
            "        -0.0192,  0.0020, -0.0294,  0.0078,  0.0329, -0.0283,  0.0043,  0.0273,\n",
            "        -0.0037, -0.0138,  0.0345, -0.0242, -0.0228, -0.0005, -0.0321,  0.0251,\n",
            "        -0.0273, -0.0310,  0.0353,  0.0323, -0.0260, -0.0073,  0.0140,  0.0319,\n",
            "        -0.0250, -0.0251,  0.0020, -0.0225,  0.0143, -0.0007, -0.0233, -0.0297,\n",
            "         0.0239,  0.0226, -0.0103,  0.0361, -0.0070, -0.0248, -0.0336,  0.0199,\n",
            "         0.0188,  0.0125,  0.0244, -0.0253, -0.0242, -0.0077, -0.0096,  0.0355,\n",
            "        -0.0265,  0.0118, -0.0031, -0.0115, -0.0146,  0.0197,  0.0223, -0.0238,\n",
            "         0.0345, -0.0103, -0.0235,  0.0155,  0.0124,  0.0351,  0.0251,  0.0028,\n",
            "         0.0029, -0.0319, -0.0110,  0.0033, -0.0136,  0.0042,  0.0161,  0.0148,\n",
            "        -0.0270, -0.0012,  0.0235, -0.0296, -0.0056,  0.0234,  0.0023, -0.0016,\n",
            "         0.0210, -0.0160, -0.0096, -0.0138, -0.0052, -0.0303,  0.0128, -0.0073,\n",
            "         0.0202,  0.0204,  0.0257, -0.0256,  0.0008, -0.0349,  0.0278,  0.0188,\n",
            "        -0.0229, -0.0013, -0.0200, -0.0212,  0.0118,  0.0225, -0.0015,  0.0065,\n",
            "         0.0007, -0.0003, -0.0014, -0.0010,  0.0066,  0.0107, -0.0278, -0.0064,\n",
            "         0.0023,  0.0017,  0.0143,  0.0091,  0.0215, -0.0165, -0.0153, -0.0323,\n",
            "        -0.0273, -0.0101, -0.0260,  0.0290, -0.0112,  0.0331,  0.0010, -0.0129,\n",
            "         0.0320, -0.0100, -0.0094, -0.0120,  0.0129,  0.0245, -0.0348,  0.0307,\n",
            "         0.0309,  0.0179, -0.0092, -0.0234, -0.0004,  0.0215,  0.0160,  0.0067,\n",
            "         0.0331, -0.0176,  0.0008, -0.0342,  0.0337,  0.0152, -0.0115, -0.0263,\n",
            "        -0.0118,  0.0165,  0.0240, -0.0184,  0.0009,  0.0214, -0.0007, -0.0045,\n",
            "        -0.0233, -0.0004,  0.0167, -0.0280, -0.0099, -0.0011,  0.0281, -0.0011,\n",
            "         0.0065,  0.0357, -0.0010, -0.0328, -0.0125, -0.0024, -0.0010, -0.0112,\n",
            "        -0.0146, -0.0082,  0.0086,  0.0020,  0.0161,  0.0144, -0.0087,  0.0104,\n",
            "         0.0344, -0.0317, -0.0067,  0.0113,  0.0002, -0.0166, -0.0185,  0.0007,\n",
            "        -0.0294,  0.0285,  0.0161, -0.0053, -0.0131,  0.0155,  0.0121,  0.0010,\n",
            "        -0.0205, -0.0126, -0.0288, -0.0103,  0.0135,  0.0221, -0.0249,  0.0119,\n",
            "         0.0337, -0.0321, -0.0193, -0.0327,  0.0267, -0.0039,  0.0252, -0.0213,\n",
            "        -0.0252,  0.0154, -0.0252, -0.0005,  0.0337,  0.0160,  0.0035, -0.0146,\n",
            "        -0.0303, -0.0248, -0.0040, -0.0180, -0.0033,  0.0060, -0.0253, -0.0029,\n",
            "        -0.0074, -0.0118,  0.0260, -0.0261,  0.0026,  0.0310,  0.0125, -0.0323,\n",
            "        -0.0223,  0.0239,  0.0042,  0.0193,  0.0181,  0.0238,  0.0204,  0.0019,\n",
            "        -0.0265, -0.0245,  0.0336, -0.0277,  0.0176,  0.0261,  0.0022, -0.0133,\n",
            "        -0.0067,  0.0316,  0.0092,  0.0154,  0.0170,  0.0251,  0.0049, -0.0356,\n",
            "         0.0287,  0.0335, -0.0194,  0.0197, -0.0100,  0.0190,  0.0071,  0.0358,\n",
            "         0.0178,  0.0038, -0.0289,  0.0020,  0.0293,  0.0212,  0.0296, -0.0114,\n",
            "         0.0253,  0.0087,  0.0207, -0.0135, -0.0009,  0.0056, -0.0226, -0.0012,\n",
            "         0.0048, -0.0257,  0.0180,  0.0187,  0.0067, -0.0169,  0.0052, -0.0186,\n",
            "        -0.0319, -0.0177,  0.0282, -0.0332,  0.0076, -0.0330, -0.0109, -0.0022,\n",
            "         0.0223,  0.0112, -0.0255, -0.0047, -0.0113,  0.0103, -0.0030,  0.0139,\n",
            "         0.0333,  0.0350, -0.0142, -0.0278,  0.0005, -0.0339, -0.0224, -0.0070,\n",
            "        -0.0215, -0.0342, -0.0032,  0.0019, -0.0191, -0.0056, -0.0351, -0.0056,\n",
            "         0.0046, -0.0355, -0.0262, -0.0235,  0.0135,  0.0193,  0.0023,  0.0125,\n",
            "         0.0067, -0.0280, -0.0264, -0.0088, -0.0289,  0.0138, -0.0208, -0.0211,\n",
            "         0.0089, -0.0175, -0.0043, -0.0228,  0.0172, -0.0324, -0.0134,  0.0304,\n",
            "        -0.0172,  0.0263,  0.0002, -0.0225, -0.0058, -0.0179, -0.0053,  0.0198,\n",
            "         0.0259,  0.0090, -0.0344, -0.0017,  0.0327, -0.0120, -0.0128, -0.0333,\n",
            "        -0.0092,  0.0262, -0.0263,  0.0214,  0.0097, -0.0198,  0.0306,  0.0050,\n",
            "         0.0249, -0.0245,  0.0109, -0.0234,  0.0143, -0.0001,  0.0159, -0.0196,\n",
            "         0.0101,  0.0138, -0.0016, -0.0136, -0.0112,  0.0062,  0.0162,  0.0349,\n",
            "         0.0120,  0.0027, -0.0020, -0.0306,  0.0304, -0.0329,  0.0299, -0.0348,\n",
            "         0.0255,  0.0219, -0.0004, -0.0322, -0.0143, -0.0235,  0.0025,  0.0108,\n",
            "         0.0105,  0.0220,  0.0092, -0.0125,  0.0161, -0.0323,  0.0285,  0.0160,\n",
            "         0.0230, -0.0087,  0.0355, -0.0304,  0.0168, -0.0278, -0.0237, -0.0315,\n",
            "         0.0112,  0.0227,  0.0345,  0.0337, -0.0089, -0.0043, -0.0045, -0.0087,\n",
            "        -0.0310,  0.0036,  0.0287, -0.0075, -0.0236, -0.0210, -0.0134,  0.0123,\n",
            "         0.0323,  0.0082,  0.0204,  0.0183, -0.0079, -0.0235, -0.0152, -0.0010,\n",
            "        -0.0033, -0.0037, -0.0052,  0.0273, -0.0037,  0.0338, -0.0122,  0.0031,\n",
            "         0.0142,  0.0071, -0.0088,  0.0105,  0.0357,  0.0104, -0.0246,  0.0082,\n",
            "        -0.0212,  0.0278,  0.0275,  0.0294,  0.0338,  0.0258,  0.0344,  0.0045,\n",
            "         0.0268, -0.0286, -0.0147,  0.0315, -0.0161, -0.0004,  0.0217, -0.0100,\n",
            "         0.0256,  0.0148, -0.0268,  0.0321, -0.0209, -0.0127,  0.0073, -0.0339,\n",
            "        -0.0354, -0.0305,  0.0348, -0.0070,  0.0064, -0.0317,  0.0066,  0.0304,\n",
            "        -0.0102, -0.0150, -0.0096, -0.0113,  0.0128, -0.0159, -0.0153,  0.0275,\n",
            "         0.0077, -0.0003,  0.0283, -0.0073, -0.0242, -0.0230,  0.0021, -0.0309,\n",
            "         0.0292, -0.0059,  0.0292, -0.0177,  0.0231,  0.0145, -0.0217,  0.0362,\n",
            "        -0.0014,  0.0250, -0.0105, -0.0183, -0.0112,  0.0132, -0.0169, -0.0060,\n",
            "        -0.0122,  0.0089,  0.0116, -0.0340, -0.0344, -0.0087,  0.0041, -0.0339,\n",
            "        -0.0110,  0.0149,  0.0133,  0.0152, -0.0193, -0.0089, -0.0142, -0.0200,\n",
            "        -0.0125, -0.0037,  0.0138,  0.0219, -0.0173,  0.0040, -0.0359, -0.0217,\n",
            "        -0.0207,  0.0029,  0.0026, -0.0328,  0.0154,  0.0321, -0.0090, -0.0301,\n",
            "         0.0223, -0.0263, -0.0207, -0.0099,  0.0235,  0.0220, -0.0239,  0.0053,\n",
            "        -0.0109,  0.0056,  0.0013,  0.0228,  0.0232,  0.0105, -0.0197, -0.0085,\n",
            "        -0.0119, -0.0268,  0.0111,  0.0276, -0.0284, -0.0071, -0.0146,  0.0023,\n",
            "        -0.0223,  0.0092, -0.0227,  0.0072, -0.0090,  0.0070,  0.0088,  0.0102,\n",
            "        -0.0272,  0.0198,  0.0219,  0.0159, -0.0045, -0.0077, -0.0112, -0.0186]))\n",
            "('hidden_layer.weight', Parameter containing:\n",
            "tensor([[-0.0013,  0.0211,  0.0283,  ...,  0.0095, -0.0115, -0.0174],\n",
            "        [-0.0040,  0.0120, -0.0062,  ...,  0.0028,  0.0202,  0.0290],\n",
            "        [ 0.0192, -0.0312, -0.0185,  ..., -0.0243,  0.0281,  0.0138],\n",
            "        ...,\n",
            "        [-0.0087,  0.0031,  0.0238,  ..., -0.0307, -0.0058, -0.0035],\n",
            "        [ 0.0209,  0.0119,  0.0065,  ..., -0.0176, -0.0075, -0.0002],\n",
            "        [-0.0024, -0.0199,  0.0299,  ...,  0.0145, -0.0064, -0.0195]]))\n",
            "('hidden_layer.bias', Parameter containing:\n",
            "tensor([ 0.0031, -0.0175, -0.0137,  ...,  0.0230,  0.0066,  0.0303]))\n",
            "('output_layer.weight', Parameter containing:\n",
            "tensor([[ 0.0206, -0.0210, -0.0221,  ...,  0.0071,  0.0279, -0.0070],\n",
            "        [-0.0155, -0.0101, -0.0048,  ...,  0.0175, -0.0219,  0.0030],\n",
            "        [-0.0176,  0.0097,  0.0065,  ..., -0.0123, -0.0209, -0.0120],\n",
            "        ...,\n",
            "        [-0.0099,  0.0142, -0.0065,  ..., -0.0197, -0.0065, -0.0150],\n",
            "        [ 0.0128,  0.0048, -0.0130,  ...,  0.0026,  0.0182,  0.0193],\n",
            "        [ 0.0092,  0.0110, -0.0188,  ...,  0.0185,  0.0058,  0.0135]]))\n",
            "('output_layer.bias', Parameter containing:\n",
            "tensor([ 9.3255e-03,  2.2542e-02,  5.6729e-02, -2.9024e-05,  1.7840e-02,\n",
            "        -2.6046e-02, -3.2042e-02, -2.0425e-02, -4.0910e-03, -3.0387e-02]))\n",
            "('input_layer_lora.lora_A', Parameter containing:\n",
            "tensor([[ 0.3989, -0.4003, -0.2264,  0.4871],\n",
            "        [ 0.1628, -0.1742,  0.2930, -0.2645],\n",
            "        [-0.1583,  0.4681, -0.1570,  0.2083],\n",
            "        ...,\n",
            "        [ 0.2251, -0.2020,  0.3187, -0.2260],\n",
            "        [-0.2719, -0.4492, -0.2094, -0.2634],\n",
            "        [ 0.3205,  0.0388, -0.2984, -0.2673]], requires_grad=True))\n",
            "('input_layer_lora.lora_B', Parameter containing:\n",
            "tensor([[0., 0., 0.,  ..., 0., 0., 0.],\n",
            "        [0., 0., 0.,  ..., 0., 0., 0.],\n",
            "        [0., 0., 0.,  ..., 0., 0., 0.],\n",
            "        [0., 0., 0.,  ..., 0., 0., 0.]], requires_grad=True))\n",
            "('hidden_layer_lora.lora_A', Parameter containing:\n",
            "tensor([[-0.4085,  0.2910,  0.4968,  0.4928],\n",
            "        [ 0.2094,  0.3295, -0.3667, -0.1225],\n",
            "        [ 0.0919, -0.0688,  0.3607,  0.2574],\n",
            "        ...,\n",
            "        [-0.0680, -0.0631,  0.0755,  0.2613],\n",
            "        [ 0.0585,  0.3708, -0.0324, -0.4550],\n",
            "        [ 0.0105, -0.2570, -0.1873,  0.1390]], requires_grad=True))\n",
            "('hidden_layer_lora.lora_B', Parameter containing:\n",
            "tensor([[0., 0., 0.,  ..., 0., 0., 0.],\n",
            "        [0., 0., 0.,  ..., 0., 0., 0.],\n",
            "        [0., 0., 0.,  ..., 0., 0., 0.],\n",
            "        [0., 0., 0.,  ..., 0., 0., 0.]], requires_grad=True))\n",
            "('out_layer_lora.lora_A', Parameter containing:\n",
            "tensor([[ 0.1854,  0.1500, -0.0579, -0.2456],\n",
            "        [ 0.2948,  0.4971,  0.1936, -0.2354],\n",
            "        [-0.0169, -0.0330, -0.2021,  0.1037],\n",
            "        ...,\n",
            "        [-0.1860, -0.2772,  0.3225,  0.0706],\n",
            "        [-0.2174,  0.0949, -0.1827,  0.1590],\n",
            "        [-0.1057,  0.0017, -0.2337, -0.0911]], requires_grad=True))\n",
            "('out_layer_lora.lora_B', Parameter containing:\n",
            "tensor([[0., 0., 0., 0., 0., 0., 0., 0., 0., 0.],\n",
            "        [0., 0., 0., 0., 0., 0., 0., 0., 0., 0.],\n",
            "        [0., 0., 0., 0., 0., 0., 0., 0., 0., 0.],\n",
            "        [0., 0., 0., 0., 0., 0., 0., 0., 0., 0.]], requires_grad=True))\n"
          ]
        }
      ]
    },
    {
      "cell_type": "code",
      "source": [],
      "metadata": {
        "id": "tPD1fNKH3W3G"
      },
      "execution_count": null,
      "outputs": []
    },
    {
      "cell_type": "code",
      "source": [
        "# Check that the frozen parameters are still unchanged by the finetuning\n",
        "assert torch.all(BigNet.input_layer.parametrizations.weight.original == original_weights['input_layer.weight'])\n",
        "assert torch.all(BigNet.hidden_layer.parametrizations.weight.original == original_weights['hidden_layer.weight'])\n",
        "assert torch.all(BigNet.output_layer.parametrizations.weight.original == original_weights['output_layer.weight'])\n",
        "\n",
        "enable_disable_lora(enabled=True)\n",
        "# The new linear1.weight is obtained by the \"forward\" function of our LoRA parametrization\n",
        "# The original weights have been moved to net.linear1.parametrizations.weight.original\n",
        "# More info here: https://pytorch.org/tutorials/intermediate/parametrizations.html#inspecting-a-parametrized-module\n",
        "assert torch.equal(BigNet.input_layer.weight, BigNet.input_layer.parametrizations.weight.original + (BigNet.input_layer.parametrizations.weight[0].lora_B @ BigNet.input_layer.parametrizations.weight[0].lora_A) * BigNet.input_layer.parametrizations.weight[0].scale)\n",
        "\n",
        "enable_disable_lora(enabled=False)\n",
        "# If we disable LoRA, the linear1.weight is the original one\n",
        "assert torch.equal(BigNet.input_layer.weight, original_weights['input_layer.weight'])"
      ],
      "metadata": {
        "id": "NwEaCrNx3p0e",
        "colab": {
          "base_uri": "https://localhost:8080/",
          "height": 250
        },
        "outputId": "17954112-eee2-4575-83f4-fe0df23c044b"
      },
      "execution_count": null,
      "outputs": [
        {
          "output_type": "error",
          "ename": "AssertionError",
          "evalue": "ignored",
          "traceback": [
            "\u001b[0;31m---------------------------------------------------------------------------\u001b[0m",
            "\u001b[0;31mAssertionError\u001b[0m                            Traceback (most recent call last)",
            "\u001b[0;32m<ipython-input-23-61cbaa4e4380>\u001b[0m in \u001b[0;36m<cell line: 2>\u001b[0;34m()\u001b[0m\n\u001b[1;32m      1\u001b[0m \u001b[0;31m# Check that the frozen parameters are still unchanged by the finetuning\u001b[0m\u001b[0;34m\u001b[0m\u001b[0;34m\u001b[0m\u001b[0m\n\u001b[0;32m----> 2\u001b[0;31m \u001b[0;32massert\u001b[0m \u001b[0mtorch\u001b[0m\u001b[0;34m.\u001b[0m\u001b[0mall\u001b[0m\u001b[0;34m(\u001b[0m\u001b[0mBigNet\u001b[0m\u001b[0;34m.\u001b[0m\u001b[0minput_layer\u001b[0m\u001b[0;34m.\u001b[0m\u001b[0mparametrizations\u001b[0m\u001b[0;34m.\u001b[0m\u001b[0mweight\u001b[0m\u001b[0;34m.\u001b[0m\u001b[0moriginal\u001b[0m \u001b[0;34m==\u001b[0m \u001b[0moriginal_weights\u001b[0m\u001b[0;34m[\u001b[0m\u001b[0;34m'input_layer.weight'\u001b[0m\u001b[0;34m]\u001b[0m\u001b[0;34m)\u001b[0m\u001b[0;34m\u001b[0m\u001b[0;34m\u001b[0m\u001b[0m\n\u001b[0m\u001b[1;32m      3\u001b[0m \u001b[0;32massert\u001b[0m \u001b[0mtorch\u001b[0m\u001b[0;34m.\u001b[0m\u001b[0mall\u001b[0m\u001b[0;34m(\u001b[0m\u001b[0mBigNet\u001b[0m\u001b[0;34m.\u001b[0m\u001b[0mhidden_layer\u001b[0m\u001b[0;34m.\u001b[0m\u001b[0mparametrizations\u001b[0m\u001b[0;34m.\u001b[0m\u001b[0mweight\u001b[0m\u001b[0;34m.\u001b[0m\u001b[0moriginal\u001b[0m \u001b[0;34m==\u001b[0m \u001b[0moriginal_weights\u001b[0m\u001b[0;34m[\u001b[0m\u001b[0;34m'hidden_layer.weight'\u001b[0m\u001b[0;34m]\u001b[0m\u001b[0;34m)\u001b[0m\u001b[0;34m\u001b[0m\u001b[0;34m\u001b[0m\u001b[0m\n\u001b[1;32m      4\u001b[0m \u001b[0;32massert\u001b[0m \u001b[0mtorch\u001b[0m\u001b[0;34m.\u001b[0m\u001b[0mall\u001b[0m\u001b[0;34m(\u001b[0m\u001b[0mBigNet\u001b[0m\u001b[0;34m.\u001b[0m\u001b[0moutput_layer\u001b[0m\u001b[0;34m.\u001b[0m\u001b[0mparametrizations\u001b[0m\u001b[0;34m.\u001b[0m\u001b[0mweight\u001b[0m\u001b[0;34m.\u001b[0m\u001b[0moriginal\u001b[0m \u001b[0;34m==\u001b[0m \u001b[0moriginal_weights\u001b[0m\u001b[0;34m[\u001b[0m\u001b[0;34m'output_layer.weight'\u001b[0m\u001b[0;34m]\u001b[0m\u001b[0;34m)\u001b[0m\u001b[0;34m\u001b[0m\u001b[0;34m\u001b[0m\u001b[0m\n\u001b[1;32m      5\u001b[0m \u001b[0;34m\u001b[0m\u001b[0m\n",
            "\u001b[0;31mAssertionError\u001b[0m: "
          ]
        }
      ]
    },
    {
      "cell_type": "code",
      "source": [
        "# Test with LoRA enabled\n",
        "enable_disable_lora(enabled=True)\n",
        "test(\n",
        "      test_loader=test_loader,\n",
        "      net=BigNet,\n",
        ")"
      ],
      "metadata": {
        "id": "JmlFICMgJP7x"
      },
      "execution_count": null,
      "outputs": []
    },
    {
      "cell_type": "code",
      "source": [
        "enable_disable_lora(enabled=False)\n",
        "\n",
        "weights_with_lora = {}\n",
        "for name, parm in BigNet.named_parameters():\n",
        "  weights_with_lora[param] = parm.clone().detach()\n"
      ],
      "metadata": {
        "id": "vpNB2DAj47Ku"
      },
      "execution_count": null,
      "outputs": []
    },
    {
      "cell_type": "code",
      "source": [
        "weights_with_lora"
      ],
      "metadata": {
        "id": "qCWToywAA0t3"
      },
      "execution_count": null,
      "outputs": []
    },
    {
      "cell_type": "code",
      "source": [],
      "metadata": {
        "id": "k55C13q9Mtys"
      },
      "execution_count": null,
      "outputs": []
    }
  ]
}