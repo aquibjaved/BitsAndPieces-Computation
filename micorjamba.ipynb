{
  "nbformat": 4,
  "nbformat_minor": 0,
  "metadata": {
    "colab": {
      "provenance": [],
      "gpuType": "T4",
      "authorship_tag": "ABX9TyP9cy1lqzsgl7iFKG6RmNeX",
      "include_colab_link": true
    },
    "kernelspec": {
      "name": "python3",
      "display_name": "Python 3"
    },
    "language_info": {
      "name": "python"
    },
    "accelerator": "GPU"
  },
  "cells": [
    {
      "cell_type": "markdown",
      "metadata": {
        "id": "view-in-github",
        "colab_type": "text"
      },
      "source": [
        "<a href=\"https://colab.research.google.com/github/aquibjaved/BitsAndPieces-Computation/blob/main/micorjamba.ipynb\" target=\"_parent\"><img src=\"https://colab.research.google.com/assets/colab-badge.svg\" alt=\"Open In Colab\"/></a>"
      ]
    },
    {
      "cell_type": "code",
      "source": [
        "import torch as T\n",
        "import torch.nn as nn\n",
        "import torch.nn.functional as F"
      ],
      "metadata": {
        "id": "l-uH1eOLcurS"
      },
      "execution_count": 1,
      "outputs": []
    },
    {
      "cell_type": "code",
      "execution_count": 16,
      "metadata": {
        "id": "ltDCvjU5crtm"
      },
      "outputs": [],
      "source": [
        "class Mamba(nn.Module):\n",
        "    def __init__(self, d, n=16):\n",
        "        super().__init__()\n",
        "        self.d, self.n, self.p = d, n, nn.Linear(d, 2*d+2*n+1)\n",
        "        self.c, self.dt, self.o = nn.Conv1d(d,d,4,padding=3,groups=d), nn.Linear(n,d), nn.Linear(d,d)\n",
        "        self.register_buffer('A', -T.exp(T.randn(d,n)*0.5))\n",
        "        self.register_buffer('D', T.randn(d))\n",
        "    def forward(self, u):\n",
        "        b,l,_ = u.shape\n",
        "        xz,d,B,C = self.p(u).split([2*self.d,self.n,self.n,1],-1)\n",
        "        x,z = xz.chunk(2,-1)\n",
        "        x = F.silu(self.c(x.transpose(1,2))[:,:,:l].transpose(1,2))\n",
        "        d = F.softplus(self.dt(d))\n",
        "        h,y = T.zeros(b,self.d,self.n,device=u.device), []\n",
        "        A, D = self.A.to(u.device), self.D.to(u.device)\n",
        "        for i in range(l):\n",
        "            h = h*T.exp(A*d[:,i:i+1].transpose(1,2)) + x[:,i:i+1].transpose(1,2)*B[:,i].unsqueeze(1)\n",
        "            y.append((h * C[:,i].view(b,1,1)).sum(-1).squeeze(0) + D*x[:,i])\n",
        "        return self.o(T.stack(y,1)*F.silu(z))\n",
        "\n",
        "class MicroJamba(nn.Module):\n",
        "    def __init__(self, v=8192, d=256, l=8, r=.875):\n",
        "        super().__init__()\n",
        "        self.e = nn.Embedding(v,d)\n",
        "        self.b = nn.ModuleList([nn.Sequential(nn.LayerNorm(d), Mamba(d) if i<int(l*r) else nn.MultiheadAttention(d,4,batch_first=True)) for i in range(l)])\n",
        "        self.h = nn.Sequential(nn.LayerNorm(d), nn.Linear(d,v,bias=False))\n",
        "    def forward(self, x):\n",
        "        x = self.e(x)\n",
        "        for n,m in self.b:\n",
        "            x = x + (m(n(x)) if isinstance(m,Mamba) else m(n(x),n(x),n(x))[0])\n",
        "        return self.h(x)\n",
        "\n",
        "# Quick tests\n",
        "def test_model():\n",
        "    print(\"🧪 Testing Micro Jamba Model...\")\n",
        "\n",
        "    # Test 1: Basic forward pass\n",
        "    model = MicroJamba(v=1000, d=128, l=4, r=0.75)\n",
        "    x = T.randint(0, 1000, (2, 10))\n",
        "    print(f\"✓ Model created: {sum(p.numel() for p in model.parameters())/1e6:.2f}M params\")\n",
        "\n",
        "    # Test 2: Forward pass\n",
        "    out = model(x)\n",
        "    print(f\"✓ Forward pass: input {x.shape} → output {out.shape}\")\n",
        "\n",
        "    # Test 3: Gradient flow\n",
        "    loss = out.mean()\n",
        "    loss.backward()\n",
        "    print(f\"✓ Backward pass: gradients computed\")\n",
        "\n",
        "    # Test 4: Different sequence lengths\n",
        "    for seq_len in [5, 20, 50]:\n",
        "        x = T.randint(0, 1000, (1, seq_len))\n",
        "        out = model(x)\n",
        "        print(f\"✓ Seq length {seq_len}: output shape {out.shape}\")\n",
        "\n",
        "    # Test 5: Memory usage\n",
        "    if T.cuda.is_available():\n",
        "        model = model.cuda()\n",
        "        x = T.randint(0, 1000, (4, 100)).cuda()\n",
        "        T.cuda.synchronize()\n",
        "        mem_before = T.cuda.memory_allocated() / 1e6\n",
        "        out = model(x)\n",
        "        T.cuda.synchronize()\n",
        "        mem_after = T.cuda.memory_allocated() / 1e6\n",
        "        print(f\"✓ GPU memory: {mem_after - mem_before:.2f}MB for batch\")\n",
        "\n",
        "    # Test 6: Layer composition\n",
        "    mamba_count = sum(1 for seq in model.b if isinstance(seq[1], Mamba))\n",
        "    attn_count = len(model.b) - mamba_count\n",
        "    print(f\"✓ Layers: {mamba_count} Mamba, {attn_count} Attention ({mamba_count/len(model.b)*100:.0f}% Mamba)\")\n",
        "\n",
        "    print(\"\\n✅ All tests passed!\")\n",
        "\n",
        "# Minimal inference test\n",
        "def quick_inference():\n",
        "    model = MicroJamba(v=100, d=64, l=2)\n",
        "    model.eval()\n",
        "    x = T.tensor([[1, 2, 3, 4, 5]])\n",
        "    with T.no_grad():\n",
        "        out = model(x)\n",
        "        probs = F.softmax(out[0, -1], dim=-1)\n",
        "        next_token = T.multinomial(probs, 1)\n",
        "    print(f\"\\n🎲 Quick inference: {x.tolist()} → next token: {next_token.item()}\")\n"
      ]
    },
    {
      "cell_type": "code",
      "source": [
        "test_model()\n"
      ],
      "metadata": {
        "colab": {
          "base_uri": "https://localhost:8080/"
        },
        "id": "gy0vAg96dVRn",
        "outputId": "4cfaca43-b12f-4917-f205-b8d4b1eafe2b"
      },
      "execution_count": 17,
      "outputs": [
        {
          "output_type": "stream",
          "name": "stdout",
          "text": [
            "🧪 Testing Micro Jamba Model...\n",
            "✓ Model created: 0.49M params\n",
            "✓ Forward pass: input torch.Size([2, 10]) → output torch.Size([2, 10, 1000])\n",
            "✓ Backward pass: gradients computed\n",
            "✓ Seq length 5: output shape torch.Size([1, 5, 1000])\n",
            "✓ Seq length 20: output shape torch.Size([1, 20, 1000])\n",
            "✓ Seq length 50: output shape torch.Size([1, 50, 1000])\n",
            "✓ GPU memory: 30.40MB for batch\n",
            "✓ Layers: 3 Mamba, 1 Attention (75% Mamba)\n",
            "\n",
            "✅ All tests passed!\n"
          ]
        }
      ]
    },
    {
      "cell_type": "code",
      "source": [
        "quick_inference()"
      ],
      "metadata": {
        "colab": {
          "base_uri": "https://localhost:8080/"
        },
        "id": "SwE3Fj4tdXbD",
        "outputId": "e3b8a1ec-be0e-412b-857c-313a08d09f8e"
      },
      "execution_count": 18,
      "outputs": [
        {
          "output_type": "stream",
          "name": "stdout",
          "text": [
            "\n",
            "🎲 Quick inference: [[1, 2, 3, 4, 5]] → next token: 68\n"
          ]
        }
      ]
    },
    {
      "cell_type": "code",
      "source": [],
      "metadata": {
        "id": "66_bOlhqfy8k"
      },
      "execution_count": null,
      "outputs": []
    }
  ]
}