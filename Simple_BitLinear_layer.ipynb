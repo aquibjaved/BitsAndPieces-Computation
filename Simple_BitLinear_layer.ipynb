{
  "nbformat": 4,
  "nbformat_minor": 0,
  "metadata": {
    "colab": {
      "provenance": [],
      "gpuType": "T4",
      "authorship_tag": "ABX9TyM2buOqBps97uDda1SlONBl",
      "include_colab_link": true
    },
    "kernelspec": {
      "name": "python3",
      "display_name": "Python 3"
    },
    "language_info": {
      "name": "python"
    },
    "accelerator": "GPU"
  },
  "cells": [
    {
      "cell_type": "markdown",
      "metadata": {
        "id": "view-in-github",
        "colab_type": "text"
      },
      "source": [
        "<a href=\"https://colab.research.google.com/github/aquibjaved/Bits_and_Pieces_DL/blob/main/Simple_BitLinear_layer.ipynb\" target=\"_parent\"><img src=\"https://colab.research.google.com/assets/colab-badge.svg\" alt=\"Open In Colab\"/></a>"
      ]
    },
    {
      "cell_type": "code",
      "source": [
        "!python -m pip install lightning"
      ],
      "metadata": {
        "colab": {
          "base_uri": "https://localhost:8080/"
        },
        "id": "UrgVz80h0Wcn",
        "outputId": "66a6dd28-96c8-4b1f-e84c-975314e540a4"
      },
      "execution_count": 1,
      "outputs": [
        {
          "output_type": "stream",
          "name": "stdout",
          "text": [
            "Collecting lightning\n",
            "  Downloading lightning-2.2.0.post0-py3-none-any.whl (2.1 MB)\n",
            "\u001b[2K     \u001b[90m━━━━━━━━━━━━━━━━━━━━━━━━━━━━━━━━━━━━━━━━\u001b[0m \u001b[32m2.1/2.1 MB\u001b[0m \u001b[31m15.9 MB/s\u001b[0m eta \u001b[36m0:00:00\u001b[0m\n",
            "\u001b[?25hRequirement already satisfied: PyYAML<8.0,>=5.4 in /usr/local/lib/python3.10/dist-packages (from lightning) (6.0.1)\n",
            "Requirement already satisfied: fsspec[http]<2025.0,>=2022.5.0 in /usr/local/lib/python3.10/dist-packages (from lightning) (2023.6.0)\n",
            "Collecting lightning-utilities<2.0,>=0.8.0 (from lightning)\n",
            "  Downloading lightning_utilities-0.10.1-py3-none-any.whl (24 kB)\n",
            "Requirement already satisfied: numpy<3.0,>=1.17.2 in /usr/local/lib/python3.10/dist-packages (from lightning) (1.25.2)\n",
            "Requirement already satisfied: packaging<25.0,>=20.0 in /usr/local/lib/python3.10/dist-packages (from lightning) (23.2)\n",
            "Requirement already satisfied: torch<4.0,>=1.13.0 in /usr/local/lib/python3.10/dist-packages (from lightning) (2.1.0+cu121)\n",
            "Collecting torchmetrics<3.0,>=0.7.0 (from lightning)\n",
            "  Downloading torchmetrics-1.3.1-py3-none-any.whl (840 kB)\n",
            "\u001b[2K     \u001b[90m━━━━━━━━━━━━━━━━━━━━━━━━━━━━━━━━━━━━━━━━\u001b[0m \u001b[32m840.4/840.4 kB\u001b[0m \u001b[31m23.6 MB/s\u001b[0m eta \u001b[36m0:00:00\u001b[0m\n",
            "\u001b[?25hRequirement already satisfied: tqdm<6.0,>=4.57.0 in /usr/local/lib/python3.10/dist-packages (from lightning) (4.66.2)\n",
            "Requirement already satisfied: typing-extensions<6.0,>=4.4.0 in /usr/local/lib/python3.10/dist-packages (from lightning) (4.10.0)\n",
            "Collecting pytorch-lightning (from lightning)\n",
            "  Downloading pytorch_lightning-2.2.0.post0-py3-none-any.whl (800 kB)\n",
            "\u001b[2K     \u001b[90m━━━━━━━━━━━━━━━━━━━━━━━━━━━━━━━━━━━━━━━━\u001b[0m \u001b[32m800.9/800.9 kB\u001b[0m \u001b[31m27.8 MB/s\u001b[0m eta \u001b[36m0:00:00\u001b[0m\n",
            "\u001b[?25hRequirement already satisfied: requests in /usr/local/lib/python3.10/dist-packages (from fsspec[http]<2025.0,>=2022.5.0->lightning) (2.31.0)\n",
            "Requirement already satisfied: aiohttp!=4.0.0a0,!=4.0.0a1 in /usr/local/lib/python3.10/dist-packages (from fsspec[http]<2025.0,>=2022.5.0->lightning) (3.9.3)\n",
            "Requirement already satisfied: setuptools in /usr/local/lib/python3.10/dist-packages (from lightning-utilities<2.0,>=0.8.0->lightning) (67.7.2)\n",
            "Requirement already satisfied: filelock in /usr/local/lib/python3.10/dist-packages (from torch<4.0,>=1.13.0->lightning) (3.13.1)\n",
            "Requirement already satisfied: sympy in /usr/local/lib/python3.10/dist-packages (from torch<4.0,>=1.13.0->lightning) (1.12)\n",
            "Requirement already satisfied: networkx in /usr/local/lib/python3.10/dist-packages (from torch<4.0,>=1.13.0->lightning) (3.2.1)\n",
            "Requirement already satisfied: jinja2 in /usr/local/lib/python3.10/dist-packages (from torch<4.0,>=1.13.0->lightning) (3.1.3)\n",
            "Requirement already satisfied: triton==2.1.0 in /usr/local/lib/python3.10/dist-packages (from torch<4.0,>=1.13.0->lightning) (2.1.0)\n",
            "Requirement already satisfied: aiosignal>=1.1.2 in /usr/local/lib/python3.10/dist-packages (from aiohttp!=4.0.0a0,!=4.0.0a1->fsspec[http]<2025.0,>=2022.5.0->lightning) (1.3.1)\n",
            "Requirement already satisfied: attrs>=17.3.0 in /usr/local/lib/python3.10/dist-packages (from aiohttp!=4.0.0a0,!=4.0.0a1->fsspec[http]<2025.0,>=2022.5.0->lightning) (23.2.0)\n",
            "Requirement already satisfied: frozenlist>=1.1.1 in /usr/local/lib/python3.10/dist-packages (from aiohttp!=4.0.0a0,!=4.0.0a1->fsspec[http]<2025.0,>=2022.5.0->lightning) (1.4.1)\n",
            "Requirement already satisfied: multidict<7.0,>=4.5 in /usr/local/lib/python3.10/dist-packages (from aiohttp!=4.0.0a0,!=4.0.0a1->fsspec[http]<2025.0,>=2022.5.0->lightning) (6.0.5)\n",
            "Requirement already satisfied: yarl<2.0,>=1.0 in /usr/local/lib/python3.10/dist-packages (from aiohttp!=4.0.0a0,!=4.0.0a1->fsspec[http]<2025.0,>=2022.5.0->lightning) (1.9.4)\n",
            "Requirement already satisfied: async-timeout<5.0,>=4.0 in /usr/local/lib/python3.10/dist-packages (from aiohttp!=4.0.0a0,!=4.0.0a1->fsspec[http]<2025.0,>=2022.5.0->lightning) (4.0.3)\n",
            "Requirement already satisfied: MarkupSafe>=2.0 in /usr/local/lib/python3.10/dist-packages (from jinja2->torch<4.0,>=1.13.0->lightning) (2.1.5)\n",
            "Requirement already satisfied: charset-normalizer<4,>=2 in /usr/local/lib/python3.10/dist-packages (from requests->fsspec[http]<2025.0,>=2022.5.0->lightning) (3.3.2)\n",
            "Requirement already satisfied: idna<4,>=2.5 in /usr/local/lib/python3.10/dist-packages (from requests->fsspec[http]<2025.0,>=2022.5.0->lightning) (3.6)\n",
            "Requirement already satisfied: urllib3<3,>=1.21.1 in /usr/local/lib/python3.10/dist-packages (from requests->fsspec[http]<2025.0,>=2022.5.0->lightning) (2.0.7)\n",
            "Requirement already satisfied: certifi>=2017.4.17 in /usr/local/lib/python3.10/dist-packages (from requests->fsspec[http]<2025.0,>=2022.5.0->lightning) (2024.2.2)\n",
            "Requirement already satisfied: mpmath>=0.19 in /usr/local/lib/python3.10/dist-packages (from sympy->torch<4.0,>=1.13.0->lightning) (1.3.0)\n",
            "Installing collected packages: lightning-utilities, torchmetrics, pytorch-lightning, lightning\n",
            "Successfully installed lightning-2.2.0.post0 lightning-utilities-0.10.1 pytorch-lightning-2.2.0.post0 torchmetrics-1.3.1\n"
          ]
        }
      ]
    },
    {
      "cell_type": "code",
      "source": [
        "import lightning as L\n",
        "import torch.nn.functional as F\n",
        "from torch.optim import Adam\n",
        "\n",
        "import torch\n",
        "import torch.nn as nn\n",
        "from torch import Tensor, nn"
      ],
      "metadata": {
        "id": "Cqr6IFf2z0rY"
      },
      "execution_count": 9,
      "outputs": []
    },
    {
      "cell_type": "code",
      "source": [
        "class BitLinear(nn.Linear):\n",
        "    \"\"\"\n",
        "    BitLinear is a custom linear layer that performs binarization of weights and quantization of activations\n",
        "    in a group-wise manner.\n",
        "\n",
        "    Args:\n",
        "        in_features (int): Number of input features.\n",
        "        out_features (int): Number of output features.\n",
        "        bias (bool, optional): If set to False, the layer will not learn an additive bias. Default is True.\n",
        "        num_groups (int, optional): Number of groups to divide the weights and activations into. Default is 1.\n",
        "    \"\"\"\n",
        "\n",
        "    def __init__(\n",
        "        self,\n",
        "        in_features: int,\n",
        "        out_features: int,\n",
        "        bias: bool = True,\n",
        "        num_groups: int = 1,\n",
        "    ):\n",
        "        super().__init__(in_features, out_features, bias)\n",
        "        self.num_groups = num_groups\n",
        "        self.eps = 1e-5\n",
        "        self.norm = nn.LayerNorm(in_features)\n",
        "\n",
        "    def ste(self, x):\n",
        "        \"\"\"\n",
        "        Applies the sign function for binarization and uses Straight-Through Estimator (STE) during backward pass.\n",
        "\n",
        "        Args:\n",
        "            x (Tensor): Input tensor.\n",
        "\n",
        "        Returns:\n",
        "            Tensor: Binarized tensor.\n",
        "        \"\"\"\n",
        "        binarized_x = torch.sign(x)\n",
        "        binarized_x = (binarized_x - x).detach() + x\n",
        "        return binarized_x\n",
        "\n",
        "    def binarize_weights_groupwise(self):\n",
        "        \"\"\"\n",
        "        Binarizes the weights of the layer in a group-wise manner using STE.\n",
        "\n",
        "        Returns:\n",
        "            Tensor: Binarized weights tensor.\n",
        "        \"\"\"\n",
        "        group_size = self.weight.shape[0] // self.num_groups\n",
        "        binarized_weights = torch.zeros_like(self.weight)\n",
        "\n",
        "        for g in range(self.num_groups):\n",
        "            start_idx = g * group_size\n",
        "            end_idx = (g + 1) * group_size\n",
        "            weight_group = self.weight[start_idx:end_idx]\n",
        "\n",
        "            alpha_g = weight_group.mean()\n",
        "            binarized_weights[start_idx:end_idx] = self.ste(weight_group - alpha_g)\n",
        "\n",
        "        return binarized_weights\n",
        "\n",
        "    def quantize_activations_groupwise(self, x, b=8):\n",
        "        \"\"\"\n",
        "        Quantizes the activations of the layer in a group-wise manner.\n",
        "\n",
        "        Args:\n",
        "            x (Tensor): Input tensor.\n",
        "            b (int, optional): Number of bits for quantization. Default is 8.\n",
        "\n",
        "        Returns:\n",
        "            Tensor: Quantized activations tensor.\n",
        "        \"\"\"\n",
        "        Q_b = 2 ** (b - 1)\n",
        "\n",
        "        group_size = x.shape[0] // self.num_groups\n",
        "        quantized_x = torch.zeros_like(x)\n",
        "\n",
        "        for g in range(self.num_groups):\n",
        "            start_idx = g * group_size\n",
        "            end_idx = (g + 1) * group_size\n",
        "            activation_group = x[start_idx:end_idx]\n",
        "\n",
        "            gamma_g = activation_group.abs().max()\n",
        "            quantized_x[start_idx:end_idx] = torch.clamp(\n",
        "                activation_group * Q_b / (gamma_g + self.eps),\n",
        "                -Q_b + self.eps,\n",
        "                Q_b - self.eps,\n",
        "            )\n",
        "\n",
        "        return quantized_x\n",
        "\n",
        "    def forward(self, x: Tensor) -> Tensor:\n",
        "        \"\"\"\n",
        "        Forward pass of the BitLinear layer.\n",
        "\n",
        "        Args:\n",
        "            x (Tensor): Input tensor.\n",
        "\n",
        "        Returns:\n",
        "            Tensor: Output tensor.\n",
        "        \"\"\"\n",
        "        # Normalize input\n",
        "        x = self.norm(x)\n",
        "\n",
        "        # Binarize weights and quantize activations\n",
        "        binarized_weights = self.binarize_weights_groupwise()\n",
        "\n",
        "        # Perform linear transformation\n",
        "        output = torch.nn.functional.linear(x, binarized_weights, self.bias)\n",
        "\n",
        "        # Quantize activations\n",
        "        output = self.quantize_activations_groupwise(output)\n",
        "\n",
        "        # Return output\n",
        "        return output"
      ],
      "metadata": {
        "id": "vHNwL1Xe4ujw"
      },
      "execution_count": 36,
      "outputs": []
    },
    {
      "cell_type": "code",
      "execution_count": 42,
      "metadata": {
        "id": "WJWEXU5rt8iF"
      },
      "outputs": [],
      "source": [
        "class SimpleNN(nn.Module):\n",
        "    def __init__(self):\n",
        "        super(SimpleNN, self).__init__()\n",
        "        self.fc1 = nn.Linear(28*28, 512)\n",
        "        self.fc2 = nn.Linear(512, 10)\n",
        "\n",
        "    def forward(self, x):\n",
        "        x = x.view(-1, 28*28)\n",
        "        x = F.relu(self.fc1(x))\n",
        "        x = self.fc2(x)\n",
        "        return F.log_softmax(x, dim=1)"
      ]
    },
    {
      "cell_type": "code",
      "source": [
        "import os\n",
        "from torchvision import datasets, transforms\n",
        "from torch.utils.data import DataLoader, Subset\n",
        "\n",
        "# Load the dataset\n",
        "dataset = datasets.MNIST(os.getcwd(), download=True, transform=transforms.ToTensor())\n",
        "\n",
        "# Split dataset into training and testing\n",
        "train_size = int(0.8 * len(dataset))\n",
        "test_size = len(dataset) - train_size\n",
        "train_dataset, test_dataset = torch.utils.data.random_split(dataset, [train_size, test_size])\n",
        "\n",
        "# Create DataLoader for training data\n",
        "train_loader = DataLoader(train_dataset, batch_size=64, shuffle=True)\n",
        "\n",
        "# Optionally, create DataLoader for test data\n",
        "test_loader = DataLoader(test_dataset, batch_size=64, shuffle=False)"
      ],
      "metadata": {
        "id": "xtkCOkTP2EwL"
      },
      "execution_count": 43,
      "outputs": []
    },
    {
      "cell_type": "code",
      "source": [
        "import torch\n",
        "\n",
        "# Assuming you have a DataLoader for your training data: train_loader\n",
        "model = SimpleNN()\n",
        "optimizer = torch.optim.Adam(model.parameters(), lr=1e-3)\n",
        "criterion = nn.NLLLoss()\n",
        "num_epochs=1\n",
        "model.train() # Set the model to training mode\n",
        "for epoch in range(num_epochs):\n",
        "    for batch_idx, (data, target) in enumerate(train_loader):\n",
        "        optimizer.zero_grad() # Zero the gradients\n",
        "        output = model(data) # Forward pass\n",
        "        loss = criterion(output, target) # Compute the loss\n",
        "        loss.backward() # Backward pass\n",
        "        optimizer.step() # Update parameters\n"
      ],
      "metadata": {
        "id": "6lCd5U1R2Rb8"
      },
      "execution_count": 44,
      "outputs": []
    },
    {
      "cell_type": "code",
      "source": [
        "def predict(model, data_loader):\n",
        "    model.eval() # Set the model to evaluation mode\n",
        "    true_labels = []\n",
        "    predictions = []\n",
        "\n",
        "    with torch.no_grad():\n",
        "        for data, labels in test_loader:\n",
        "            output = model(data.view(data.size(0), -1))\n",
        "            _, preds = torch.max(output, 1)\n",
        "            true_labels.extend(labels.numpy())\n",
        "            predictions.extend(preds.numpy())\n",
        "\n",
        "    return true_labels, predictions\n",
        "\n",
        "# Assuming you have a DataLoader for your test data: test_loader\n",
        "true_labels, predictions  = predict(model, test_loader)\n"
      ],
      "metadata": {
        "id": "WxBvSk582jLg"
      },
      "execution_count": 45,
      "outputs": []
    },
    {
      "cell_type": "code",
      "source": [
        "from sklearn.metrics import accuracy_score, precision_score, recall_score, f1_score\n",
        "\n",
        "def calculate_performance_metrics(true_labels, predictions, average='macro'):\n",
        "    accuracy = accuracy_score(true_labels, predictions)\n",
        "    precision = precision_score(true_labels, predictions, average=average)\n",
        "    recall = recall_score(true_labels, predictions, average=average)\n",
        "    f1 = f1_score(true_labels, predictions, average=average)\n",
        "\n",
        "    print(f'Accuracy: {accuracy:.4f}')\n",
        "    print(f'Precision: {precision:.4f}')\n",
        "    print(f'Recall: {recall:.4f}')\n",
        "    print(f'F1 Score: {f1:.4f}')\n",
        "\n",
        "calculate_performance_metrics(true_labels, predictions )"
      ],
      "metadata": {
        "colab": {
          "base_uri": "https://localhost:8080/"
        },
        "id": "mJfaKj3X7rXu",
        "outputId": "a184dc11-b392-4904-9e5d-97fee5bfb8c4"
      },
      "execution_count": 46,
      "outputs": [
        {
          "output_type": "stream",
          "name": "stdout",
          "text": [
            "Accuracy: 0.9553\n",
            "Precision: 0.9554\n",
            "Recall: 0.9548\n",
            "F1 Score: 0.9549\n"
          ]
        }
      ]
    },
    {
      "cell_type": "code",
      "source": [
        "## With BitLinear Layer\n",
        "\n",
        "class SimpleBitNN(nn.Module):\n",
        "    def __init__(self):\n",
        "        super(SimpleBitNN, self).__init__()\n",
        "        self.fc1 = nn.Linear(28*28, 512)\n",
        "        self.fc2 = BitLinear(512, 10)\n",
        "\n",
        "    def forward(self, x):\n",
        "        x = x.view(-1, 28*28)\n",
        "        x = F.relu(self.fc1(x))\n",
        "        x = self.fc2(x)\n",
        "        return F.log_softmax(x, dim=1)"
      ],
      "metadata": {
        "id": "qyYf5iho8uEK"
      },
      "execution_count": 51,
      "outputs": []
    },
    {
      "cell_type": "code",
      "source": [
        "model = SimpleBitNN()\n",
        "optimizer = torch.optim.Adam(model.parameters(), lr=1e-3)\n",
        "criterion = nn.NLLLoss()\n",
        "num_epochs=1\n",
        "model.train() # Set the model to training mode\n",
        "for epoch in range(num_epochs):\n",
        "    for batch_idx, (data, target) in enumerate(train_loader):\n",
        "        optimizer.zero_grad() # Zero the gradients\n",
        "        output = model(data) # Forward pass\n",
        "        loss = criterion(output, target) # Compute the loss\n",
        "        loss.backward() # Backward pass\n",
        "        optimizer.step() # Update parameters\n"
      ],
      "metadata": {
        "id": "LT4YnGet-WUF"
      },
      "execution_count": 52,
      "outputs": []
    },
    {
      "cell_type": "code",
      "source": [
        "true_labels, predictions  = predict(model, test_loader)"
      ],
      "metadata": {
        "id": "YPXJmgSb-htF"
      },
      "execution_count": 53,
      "outputs": []
    },
    {
      "cell_type": "code",
      "source": [
        "calculate_performance_metrics(true_labels, predictions )"
      ],
      "metadata": {
        "id": "0IfngC5Z-y6A",
        "outputId": "a42386f5-328c-4e3b-d049-8a16b92a7f83",
        "colab": {
          "base_uri": "https://localhost:8080/"
        }
      },
      "execution_count": 54,
      "outputs": [
        {
          "output_type": "stream",
          "name": "stdout",
          "text": [
            "Accuracy: 0.9148\n",
            "Precision: 0.9272\n",
            "Recall: 0.9148\n",
            "F1 Score: 0.9147\n"
          ]
        }
      ]
    },
    {
      "cell_type": "code",
      "source": [],
      "metadata": {
        "id": "wR4J8Nl9-0uc"
      },
      "execution_count": null,
      "outputs": []
    }
  ]
}