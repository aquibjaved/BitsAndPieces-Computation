{
  "nbformat": 4,
  "nbformat_minor": 0,
  "metadata": {
    "colab": {
      "provenance": [],
      "authorship_tag": "ABX9TyMY5R565qbDdwEcVjQ70tlP",
      "include_colab_link": true
    },
    "kernelspec": {
      "name": "python3",
      "display_name": "Python 3"
    },
    "language_info": {
      "name": "python"
    }
  },
  "cells": [
    {
      "cell_type": "markdown",
      "metadata": {
        "id": "view-in-github",
        "colab_type": "text"
      },
      "source": [
        "<a href=\"https://colab.research.google.com/github/aquibjaved/Bits_and_Pieces_DL/blob/main/understanding_s4_model.ipynb\" target=\"_parent\"><img src=\"https://colab.research.google.com/assets/colab-badge.svg\" alt=\"Open In Colab\"/></a>"
      ]
    },
    {
      "cell_type": "code",
      "execution_count": 7,
      "metadata": {
        "id": "5Ir11XU2aRmr"
      },
      "outputs": [],
      "source": [
        "## S4 models are used for long sequences,The goal of these kind of models are Efficient modeling for long sequences.\n",
        "## Applications: Really long sequence matching like, DNA matching, Chat application for example you can talk years.\n",
        "## Following the tutorial: https://srush.github.io/annotated-s4/#:~:text=The%20Structured%20State%20Space%20for,tens%20of%20thousands%20of%20steps.\n",
        "## Most of the code is written in jax, we'll try to understand and re-write in python.\n",
        "\n",
        "\n",
        "\n",
        "# What are state space models, in simple terms a model which remembers the state which is useful to it. So, mathematically they say, in simple terms\n",
        "# It maps the 1D signal to N Dimensional latent space before projecting to 1D signal.\n",
        "# Transforming a one-dimensional input signal into a multi-dimensional latent state before converting it back to a one-dimensional output.\n",
        "# Imagine you have a simple melody (the input signal) that you play on a piano. This melody is then arranged for an orchestra (the N-dimensional latent state),\n",
        "# where each instrument adds complexity and richness to the original melody. Finally, the orchestra's performance is recorded with a single microphone,\n",
        "# producing a new, enriched version of the melody (the output signal). This process enriches the original input by exploring its possibilities in a higher-dimensional\n",
        "# space before condensing it back into a form that's similar to the original input but more complex and nuanced"
      ]
    },
    {
      "cell_type": "code",
      "source": [
        "import numpy as np"
      ],
      "metadata": {
        "id": "1sG6rQAMakta"
      },
      "execution_count": 6,
      "outputs": []
    },
    {
      "cell_type": "code",
      "source": [
        "\"\"\"\n",
        "SSM Block where u(t) is the signal @ time t, x(t) is the N Dimensional latest space\n",
        "x′(t) = Ax(t) + Bu(t)\n",
        "y(t) = Cx(t) + Du(t)\n",
        "\n",
        "\n",
        "Our goal is to simply use the SSM as a black-box representation in a deep sequence\n",
        "model, where are parameters learned by gradient descent.\n",
        "\"\"\"\n",
        "def random_SSM(N):\n",
        "    A = np.random.uniform(low=0.0, high=1.0, size=(N, N))\n",
        "    B = np.random.uniform(low=0.0, high=1.0, size=(N, 1))\n",
        "    C = np.random.uniform(low=0.0, high=1.0, size=(1, N))\n",
        "    return A, B, C\n"
      ],
      "metadata": {
        "id": "cTdsOwCObznc"
      },
      "execution_count": 8,
      "outputs": []
    },
    {
      "cell_type": "code",
      "source": [
        "random_SSM(N=5)"
      ],
      "metadata": {
        "colab": {
          "base_uri": "https://localhost:8080/"
        },
        "id": "AoAFu38cdhtF",
        "outputId": "84eea817-a8ad-421f-f94f-9045a9bbf56d"
      },
      "execution_count": 9,
      "outputs": [
        {
          "output_type": "execute_result",
          "data": {
            "text/plain": [
              "(array([[0.05301059, 0.34368207, 0.76692829, 0.25081378, 0.13667601],\n",
              "        [0.90848259, 0.90015137, 0.95680001, 0.72836906, 0.73062383],\n",
              "        [0.31095065, 0.43983436, 0.56548702, 0.84067153, 0.62415758],\n",
              "        [0.22697586, 0.54753701, 0.10032978, 0.73676666, 0.12468651],\n",
              "        [0.58219704, 0.64283194, 0.60756392, 0.60586405, 0.29696921]]),\n",
              " array([[0.17013911],\n",
              "        [0.152374  ],\n",
              "        [0.98210037],\n",
              "        [0.63522387],\n",
              "        [0.07065036]]),\n",
              " array([[0.30956843, 0.71549923, 0.79330042, 0.40261376, 0.58121063]]))"
            ]
          },
          "metadata": {},
          "execution_count": 9
        }
      ]
    },
    {
      "cell_type": "code",
      "source": [],
      "metadata": {
        "id": "RVGUTA39dmLI"
      },
      "execution_count": null,
      "outputs": []
    }
  ]
}