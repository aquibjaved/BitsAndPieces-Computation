{
  "nbformat": 4,
  "nbformat_minor": 0,
  "metadata": {
    "colab": {
      "provenance": [],
      "authorship_tag": "ABX9TyMQCv+oAsg7RGrVPvZgPAJN",
      "include_colab_link": true
    },
    "kernelspec": {
      "name": "python3",
      "display_name": "Python 3"
    },
    "language_info": {
      "name": "python"
    }
  },
  "cells": [
    {
      "cell_type": "markdown",
      "metadata": {
        "id": "view-in-github",
        "colab_type": "text"
      },
      "source": [
        "<a href=\"https://colab.research.google.com/github/aquibjaved/Bits_and_Pieces_DL/blob/main/understanding_s4_model.ipynb\" target=\"_parent\"><img src=\"https://colab.research.google.com/assets/colab-badge.svg\" alt=\"Open In Colab\"/></a>"
      ]
    },
    {
      "cell_type": "code",
      "execution_count": 7,
      "metadata": {
        "id": "5Ir11XU2aRmr"
      },
      "outputs": [],
      "source": [
        "## S4 models are used for long sequences,The goal of these kind of models are Efficient modeling for long sequences.\n",
        "## Applications: Really long sequence matching like, DNA matching, Chat application for example you can talk years.\n",
        "## Following the tutorial: https://srush.github.io/annotated-s4/#:~:text=The%20Structured%20State%20Space%20for,tens%20of%20thousands%20of%20steps.\n",
        "## Most of the code is written in jax, we'll try to understand and re-write in python.\n",
        "\n",
        "\n",
        "\n",
        "# What are state space models, in simple terms a model which remembers the state which is useful to it. So, mathematically they say, in simple terms\n",
        "# It maps the 1D signal to N Dimensional latent space before projecting to 1D signal.\n",
        "# Transforming a one-dimensional input signal into a multi-dimensional latent state before converting it back to a one-dimensional output.\n",
        "# Imagine you have a simple melody (the input signal) that you play on a piano. This melody is then arranged for an orchestra (the N-dimensional latent state),\n",
        "# where each instrument adds complexity and richness to the original melody. Finally, the orchestra's performance is recorded with a single microphone,\n",
        "# producing a new, enriched version of the melody (the output signal). This process enriches the original input by exploring its possibilities in a higher-dimensional\n",
        "# space before condensing it back into a form that's similar to the original input but more complex and nuanced"
      ]
    },
    {
      "cell_type": "code",
      "source": [
        "import numpy as np"
      ],
      "metadata": {
        "id": "1sG6rQAMakta"
      },
      "execution_count": 6,
      "outputs": []
    },
    {
      "cell_type": "code",
      "source": [
        "\"\"\"\n",
        "SSM Block where u(t) is the signal @ time t, x(t) is the N Dimensional latest space\n",
        "\n",
        "x′(t) = Ax(t) + Bu(t)\n",
        "y(t)  = Cx(t) + Du(t)\n",
        "\n",
        "A,B,C,D are the matrix (learnable parameters)\n",
        "\n",
        "Our goal is to simply use the SSM as a black-box representation in a deep sequence\n",
        "model, where are parameters learned by gradient descent.\n",
        "\n",
        "\"\"\"\n",
        "def random_SSM(N):\n",
        "    A = np.random.uniform(low=0.0, high=1.0, size=(N, N))\n",
        "    B = np.random.uniform(low=0.0, high=1.0, size=(N, 1))\n",
        "    C = np.random.uniform(low=0.0, high=1.0, size=(1, N))\n",
        "    return A, B, C\n"
      ],
      "metadata": {
        "id": "cTdsOwCObznc"
      },
      "execution_count": 10,
      "outputs": []
    },
    {
      "cell_type": "code",
      "source": [
        "random_SSM(N=5)"
      ],
      "metadata": {
        "colab": {
          "base_uri": "https://localhost:8080/"
        },
        "id": "AoAFu38cdhtF",
        "outputId": "84eea817-a8ad-421f-f94f-9045a9bbf56d"
      },
      "execution_count": 9,
      "outputs": [
        {
          "output_type": "execute_result",
          "data": {
            "text/plain": [
              "(array([[0.05301059, 0.34368207, 0.76692829, 0.25081378, 0.13667601],\n",
              "        [0.90848259, 0.90015137, 0.95680001, 0.72836906, 0.73062383],\n",
              "        [0.31095065, 0.43983436, 0.56548702, 0.84067153, 0.62415758],\n",
              "        [0.22697586, 0.54753701, 0.10032978, 0.73676666, 0.12468651],\n",
              "        [0.58219704, 0.64283194, 0.60756392, 0.60586405, 0.29696921]]),\n",
              " array([[0.17013911],\n",
              "        [0.152374  ],\n",
              "        [0.98210037],\n",
              "        [0.63522387],\n",
              "        [0.07065036]]),\n",
              " array([[0.30956843, 0.71549923, 0.79330042, 0.40261376, 0.58121063]]))"
            ]
          },
          "metadata": {},
          "execution_count": 9
        }
      ]
    },
    {
      "cell_type": "markdown",
      "source": [
        "# Discrete-time SSM: The Recurrent Representation\n",
        "\n",
        "---\n",
        "##### The statement refers to adapting a State-Space Model (SSM), which is originally designed for continuous inputs, to work with discrete input sequences. This adaptation requires discretizing the model, which means breaking down the continuous time into discrete intervals or steps. The step size you choose will determine the resolution of your input, essentially how finely you are sampling the continuous signal to create your discrete sequence.\n",
        "\n",
        "**Intuitive Example**\n",
        "Imagine you are filming a sunset to create a time-lapse video. The continuous event is the sunset, which occurs smoothly and continuously over time. However, your camera can't capture every single moment of the sunset; instead, it takes a picture at regular intervals—say, one photo every minute. Here, the \"step size\" is one minute. The series of photos you get represents the discretized version of the sunset. Each photo is a discrete sample that approximates the continuous process of the sunset at that moment.\n",
        "\n",
        "**Another Example**: **Temperature Monitoring**\n",
        "Consider you're tracking the temperature in your garden over a day to understand how it changes. The temperature outside changes continuously, smoothly transitioning from the cool of the early morning to the warmth of midday and back again as the sun sets.\n",
        "\n",
        "**Continuous Function**: If you could measure and record the temperature every infinitesimal moment, you'd have a continuous function of temperature over time. This would give you a smooth curve showing exactly how temperature changes at every moment of the day.\n",
        "Discretized by a Step Size: Since continuous monitoring like this is impractical, you decide to record the temperature once every hour. This hourly recording is your \"step size,\" turning your continuous temperature data into a discrete sequence. Each measurement is a snapshot or a sample that approximates the underlying continuous temperature changes throughout the day.\n",
        "In both examples, the discrete samples (whether photos of the sunset or hourly temperature readings) provide an approximation of the continuous process. The finer the step size (more frequent photos or temperature readings), the closer your discrete sequence will resemble the continuous reality, at the cost of requiring more samples. This principle is fundamental when adapting continuous models or signals to digital or computer-based systems, which inherently operate in discrete time steps."
      ],
      "metadata": {
        "id": "cbivALXEfphb"
      }
    },
    {
      "cell_type": "code",
      "source": [
        "# So, To use discretization what we do here,\n",
        "# To be applied on a discrete input sequence instead of continuous function u(t),\n",
        "# the SSM must be discretized by a step size that represents the resolution of the\n",
        "# input. Conceptually, the inputs can be viewed as sampling an implicit underlying\n",
        "# continuous signal , where.\n",
        "\n",
        "# To discretize the continuous-time SSM, we use the bilinear, which converts the\n",
        "#  state matrix into an approximation. The discrete SSM is:\n",
        "\n",
        "from numpy.linalg import inv\n",
        "\n",
        "def discretize(A, B, C, step):\n",
        "    I = np.eye(A.shape[0])\n",
        "    # Computing the matrix (I - (step / 2.0) * A)^-1\n",
        "    BL = inv(I - (step / 2.0) * A)\n",
        "    # Discretized A matrix\n",
        "    Ab = BL @ (I + (step / 2.0) * A)\n",
        "    # Discretized B matrix, corrected the multiplication (*) to @ for matrix multiplication\n",
        "    Bb = BL @ (B * step)\n",
        "    # C remains unchanged\n",
        "    return Ab, Bb, C\n",
        "\n"
      ],
      "metadata": {
        "id": "twKjln_Kfqay"
      },
      "execution_count": 11,
      "outputs": []
    },
    {
      "cell_type": "code",
      "source": [
        "import numpy as np\n",
        "from numpy.linalg import inv\n",
        "import matplotlib.pyplot as plt\n",
        "\n",
        "# Define the discretize function\n",
        "def discretize(A, B, C, step):\n",
        "    I = np.eye(A.shape[0])\n",
        "    BL = inv(I - (step / 2.0) * A)\n",
        "    Ab = BL @ (I + (step / 2.0) * A)\n",
        "    Bb = BL @ (B * step)\n",
        "    return Ab, Bb, C\n",
        "\n",
        "# Define continuous A, B, C matrices for a simple system\n",
        "A = np.array([[0, 1], [-1, -1]])\n",
        "B = np.array([[0], [1]])\n",
        "C = np.array([[1, 0]])\n",
        "\n",
        "# Discretize with a step size of 0.1\n",
        "step_size = 0.1\n",
        "Ab, Bb, Cb = discretize(A, B, C, step_size)\n",
        "\n",
        "# Define the initial state vector x0\n",
        "x0 = np.array([1, 0])\n",
        "\n",
        "# Compute the transformation of x0 by continuous A and discrete Ab\n",
        "x_transformed_A = A @ x0\n",
        "x_transformed_Ab = Ab @ x0\n",
        "\n",
        "# Visualization of vector transformations\n",
        "plt.figure(figsize=(8, 6))\n",
        "\n",
        "# Plot the initial vector\n",
        "plt.quiver(0, 0, x0[0], x0[1], angles='xy', scale_units='xy', scale=1, color='blue', label='Initial Vector x0')\n",
        "\n",
        "# Plot the transformed vector by A\n",
        "plt.quiver(0, 0, x_transformed_A[0], x_transformed_A[1], angles='xy', scale_units='xy', scale=1, color='green', label='Transformed by A')\n",
        "\n",
        "# Plot the transformed vector by Ab\n",
        "plt.quiver(0, 0, x_transformed_Ab[0], x_transformed_Ab[1], angles='xy', scale_units='xy', scale=1, color='red', label='Transformed by Ab')\n",
        "\n",
        "plt.xlim(-2, 2)\n",
        "plt.ylim(-2, 2)\n",
        "plt.axhline(y=0, color='k')\n",
        "plt.axvline(x=0, color='k')\n",
        "plt.xlabel('X')\n",
        "plt.ylabel('Y')\n",
        "plt.grid(True)\n",
        "plt.legend()\n",
        "plt.title('Vector Transformation in Continuous and Discrete Systems')\n",
        "plt.show()\n"
      ],
      "metadata": {
        "colab": {
          "base_uri": "https://localhost:8080/",
          "height": 564
        },
        "id": "MwCdM3Zai4OD",
        "outputId": "c50027de-0fbe-45fa-eaaa-abdcca41588a"
      },
      "execution_count": 36,
      "outputs": [
        {
          "output_type": "display_data",
          "data": {
            "text/plain": [
              "<Figure size 800x600 with 1 Axes>"
            ],
            "image/png": "[encoded data removed]"
          },
          "metadata": {}
        }
      ]
    },
    {
      "cell_type": "code",
      "source": [],
      "metadata": {
        "id": "Yd7Cax5Gi8P1"
      },
      "execution_count": null,
      "outputs": []
    }
  ]
}